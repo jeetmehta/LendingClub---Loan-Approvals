{
 "cells": [
  {
   "cell_type": "markdown",
   "metadata": {},
   "source": [
    "# LendUp Data Challenge - Loan Approvals\n",
    "\n",
    "The goal of this data challenge is to utilize the given dataset, sample applicant data from the LendingClub portfolio, and utilize that data to create a model that can assess whether LendingClub should issue a loan to the applicant. The dataset includes a wide variety of information on the applicant, some of which is personal and other information that is more situational/operational in nature.\n",
    "\n",
    "Let's go through a typical data science process (Clean -> Explore -> Analyse -> Model -> Evaluate) with this dataset!"
   ]
  },
  {
   "cell_type": "markdown",
   "metadata": {},
   "source": [
    "## Import Data + First Look\n",
    "\n",
    "Let's first import any modules we need + the actual data, and take a look at all the different features that are present in the dataset:"
   ]
  },
  {
   "cell_type": "code",
   "execution_count": 246,
   "metadata": {},
   "outputs": [],
   "source": [
    "# Import any necessary modules\n",
    "%matplotlib inline\n",
    "import numpy as np\n",
    "import pandas as pd\n",
    "import matplotlib.pyplot as plt"
   ]
  },
  {
   "cell_type": "code",
   "execution_count": 247,
   "metadata": {},
   "outputs": [
    {
     "data": {
      "text/html": [
       "<div>\n",
       "<table border=\"1\" class=\"dataframe\">\n",
       "  <thead>\n",
       "    <tr style=\"text-align: right;\">\n",
       "      <th></th>\n",
       "      <th></th>\n",
       "      <th></th>\n",
       "      <th></th>\n",
       "      <th></th>\n",
       "      <th></th>\n",
       "      <th></th>\n",
       "      <th></th>\n",
       "      <th></th>\n",
       "      <th></th>\n",
       "      <th></th>\n",
       "      <th></th>\n",
       "      <th></th>\n",
       "      <th></th>\n",
       "      <th></th>\n",
       "      <th></th>\n",
       "      <th></th>\n",
       "      <th></th>\n",
       "      <th></th>\n",
       "      <th></th>\n",
       "      <th></th>\n",
       "      <th>Data derived from LendingClub Prospectus (https://www.lendingclub.com/info/prospectus.action)</th>\n",
       "    </tr>\n",
       "  </thead>\n",
       "  <tbody>\n",
       "    <tr>\n",
       "      <th>id</th>\n",
       "      <th>member_id</th>\n",
       "      <th>loan_amnt</th>\n",
       "      <th>term</th>\n",
       "      <th>int_rate</th>\n",
       "      <th>emp_length</th>\n",
       "      <th>home_ownership</th>\n",
       "      <th>annual_inc</th>\n",
       "      <th>loan_status</th>\n",
       "      <th>desc</th>\n",
       "      <th>purpose</th>\n",
       "      <th>percent_bc_gt_75</th>\n",
       "      <th>bc_util</th>\n",
       "      <th>dti</th>\n",
       "      <th>inq_last_6mths</th>\n",
       "      <th>mths_since_recent_inq</th>\n",
       "      <th>revol_util</th>\n",
       "      <th>total_bc_limit</th>\n",
       "      <th>total_pymnt</th>\n",
       "      <th>mths_since_last_major_derog</th>\n",
       "      <th>tot_hi_cred_lim</th>\n",
       "      <td>tot_cur_bal</td>\n",
       "    </tr>\n",
       "    <tr>\n",
       "      <th>10129403</th>\n",
       "      <th>11981032.0</th>\n",
       "      <th>7550</th>\n",
       "      <th>36 months</th>\n",
       "      <th>16.24%</th>\n",
       "      <th>3 years</th>\n",
       "      <th>RENT</th>\n",
       "      <th>28000.0</th>\n",
       "      <th>Current</th>\n",
       "      <th>NaN</th>\n",
       "      <th>debt_consolidation</th>\n",
       "      <th>100.0</th>\n",
       "      <th>96.0</th>\n",
       "      <th>8.4</th>\n",
       "      <th>0.0</th>\n",
       "      <th>17.0</th>\n",
       "      <th>72%</th>\n",
       "      <th>4000.0</th>\n",
       "      <th>1864.38</th>\n",
       "      <th>NaN</th>\n",
       "      <th>3828.95380081</th>\n",
       "      <td>5759.0</td>\n",
       "    </tr>\n",
       "    <tr>\n",
       "      <th>10149342</th>\n",
       "      <th>12000897.0</th>\n",
       "      <th>27050</th>\n",
       "      <th>36 months</th>\n",
       "      <th>10.99%</th>\n",
       "      <th>10+ years</th>\n",
       "      <th>OWN</th>\n",
       "      <th>55000.0</th>\n",
       "      <th>Current</th>\n",
       "      <th>Borrower added on 12/31/13 &gt; Combining high interest credit cards to lower interest rate.&lt;br&gt;</th>\n",
       "      <th>debt_consolidation</th>\n",
       "      <th>25.0</th>\n",
       "      <th>53.9</th>\n",
       "      <th>22.87</th>\n",
       "      <th>0.0</th>\n",
       "      <th>8.0</th>\n",
       "      <th>61.2%</th>\n",
       "      <th>35700.0</th>\n",
       "      <th>6198.22</th>\n",
       "      <th>NaN</th>\n",
       "      <th>34359.9407269</th>\n",
       "      <td>114834.0</td>\n",
       "    </tr>\n",
       "    <tr>\n",
       "      <th>10129454</th>\n",
       "      <th>11981072.0</th>\n",
       "      <th>12000</th>\n",
       "      <th>36 months</th>\n",
       "      <th>10.99%</th>\n",
       "      <th>4 years</th>\n",
       "      <th>RENT</th>\n",
       "      <th>60000.0</th>\n",
       "      <th>Current</th>\n",
       "      <th>Borrower added on 12/31/13 &gt; I would like to use this money to payoff existing credit card debt and use the remaining about to purchase a used car that is fuel efficient.&lt;br&gt;</th>\n",
       "      <th>debt_consolidation</th>\n",
       "      <th>0.0</th>\n",
       "      <th>15.9</th>\n",
       "      <th>4.62</th>\n",
       "      <th>1.0</th>\n",
       "      <th>3.0</th>\n",
       "      <th>24%</th>\n",
       "      <th>18100.0</th>\n",
       "      <th>2748.84</th>\n",
       "      <th>NaN</th>\n",
       "      <th>16416.6177583</th>\n",
       "      <td>7137.0</td>\n",
       "    </tr>\n",
       "    <tr>\n",
       "      <th>10149577</th>\n",
       "      <th>12001118.0</th>\n",
       "      <th>28000</th>\n",
       "      <th>36 months</th>\n",
       "      <th>7.62%</th>\n",
       "      <th>5 years</th>\n",
       "      <th>MORTGAGE</th>\n",
       "      <th>325000.0</th>\n",
       "      <th>Fully Paid</th>\n",
       "      <th>NaN</th>\n",
       "      <th>debt_consolidation</th>\n",
       "      <th>16.7</th>\n",
       "      <th>67.1</th>\n",
       "      <th>18.55</th>\n",
       "      <th>1.0</th>\n",
       "      <th>3.0</th>\n",
       "      <th>54.6%</th>\n",
       "      <th>42200.0</th>\n",
       "      <th>29150.98</th>\n",
       "      <th>NaN</th>\n",
       "      <th>38014.1497567</th>\n",
       "      <td>799592.0</td>\n",
       "    </tr>\n",
       "  </tbody>\n",
       "</table>\n",
       "</div>"
      ],
      "text/plain": [
       "                                                                                                                                                                                                                                                                                                                               Data derived from LendingClub Prospectus (https://www.lendingclub.com/info/prospectus.action)\n",
       "id       member_id  loan_amnt term       int_rate emp_length home_ownership annual_inc loan_status desc                                               purpose            percent_bc_gt_75 bc_util dti   inq_last_6mths mths_since_recent_inq revol_util total_bc_limit total_pymnt mths_since_last_major_derog tot_hi_cred_lim                                        tot_cur_bal                                           \n",
       "10129403 11981032.0 7550       36 months  16.24%  3 years    RENT           28000.0    Current     NaN                                                debt_consolidation 100.0            96.0    8.4   0.0            17.0                  72%        4000.0         1864.38     NaN                         3828.95380081                                               5759.0                                           \n",
       "10149342 12000897.0 27050      36 months  10.99%  10+ years  OWN            55000.0    Current       Borrower added on 12/31/13 > Combining high i... debt_consolidation 25.0             53.9    22.87 0.0            8.0                   61.2%      35700.0        6198.22     NaN                         34359.9407269                                             114834.0                                           \n",
       "10129454 11981072.0 12000      36 months  10.99%  4 years    RENT           60000.0    Current       Borrower added on 12/31/13 > I would like to ... debt_consolidation 0.0              15.9    4.62  1.0            3.0                   24%        18100.0        2748.84     NaN                         16416.6177583                                               7137.0                                           \n",
       "10149577 12001118.0 28000      36 months   7.62%  5 years    MORTGAGE       325000.0   Fully Paid  NaN                                                debt_consolidation 16.7             67.1    18.55 1.0            3.0                   54.6%      42200.0        29150.98    NaN                         38014.1497567                                             799592.0                                           "
      ]
     },
     "execution_count": 247,
     "metadata": {},
     "output_type": "execute_result"
    }
   ],
   "source": [
    "# Import data + Read\n",
    "data = pd.read_csv(\"lending_club_data.csv\", low_memory = False)\n",
    "data.head(5)"
   ]
  },
  {
   "cell_type": "code",
   "execution_count": 248,
   "metadata": {},
   "outputs": [
    {
     "data": {
      "text/html": [
       "<div>\n",
       "<table border=\"1\" class=\"dataframe\">\n",
       "  <thead>\n",
       "    <tr style=\"text-align: right;\">\n",
       "      <th></th>\n",
       "      <th>Data derived from LendingClub Prospectus (https://www.lendingclub.com/info/prospectus.action)</th>\n",
       "    </tr>\n",
       "  </thead>\n",
       "  <tbody>\n",
       "    <tr>\n",
       "      <th>count</th>\n",
       "      <td>160383</td>\n",
       "    </tr>\n",
       "    <tr>\n",
       "      <th>unique</th>\n",
       "      <td>118423</td>\n",
       "    </tr>\n",
       "    <tr>\n",
       "      <th>top</th>\n",
       "      <td>0.0</td>\n",
       "    </tr>\n",
       "    <tr>\n",
       "      <th>freq</th>\n",
       "      <td>32</td>\n",
       "    </tr>\n",
       "  </tbody>\n",
       "</table>\n",
       "</div>"
      ],
      "text/plain": [
       "       Data derived from LendingClub Prospectus (https://www.lendingclub.com/info/prospectus.action)\n",
       "count                                              160383                                           \n",
       "unique                                             118423                                           \n",
       "top                                                   0.0                                           \n",
       "freq                                                   32                                           "
      ]
     },
     "execution_count": 248,
     "metadata": {},
     "output_type": "execute_result"
    }
   ],
   "source": [
    "data.describe()"
   ]
  },
  {
   "cell_type": "markdown",
   "metadata": {},
   "source": [
    "Immediately, we can notice that the dataframe is actually stored completely stored under one column (as shown above). This discrepency needs to be resolved so we can properly read the data coming in:"
   ]
  },
  {
   "cell_type": "code",
   "execution_count": 249,
   "metadata": {},
   "outputs": [
    {
     "data": {
      "text/plain": [
       "Index([u'id', u'member_id', u'loan_amnt', u'term', u'int_rate', u'emp_length',\n",
       "       u'home_ownership', u'annual_inc', u'loan_status', u'desc', u'purpose',\n",
       "       u'percent_bc_gt_75', u'bc_util', u'dti', u'inq_last_6mths',\n",
       "       u'mths_since_recent_inq', u'revol_util', u'total_bc_limit',\n",
       "       u'total_pymnt', u'mths_since_last_major_derog', u'tot_hi_cred_lim',\n",
       "       u'tot_cur_bal'],\n",
       "      dtype='object')"
      ]
     },
     "execution_count": 249,
     "metadata": {},
     "output_type": "execute_result"
    }
   ],
   "source": [
    "# Fix dataframe issue - set header parameter\n",
    "applicants = pd.read_csv(\"lending_club_data.csv\", low_memory = True, header = 1)\n",
    "applicants.columns"
   ]
  },
  {
   "cell_type": "code",
   "execution_count": 250,
   "metadata": {},
   "outputs": [
    {
     "data": {
      "text/html": [
       "<div>\n",
       "<table border=\"1\" class=\"dataframe\">\n",
       "  <thead>\n",
       "    <tr style=\"text-align: right;\">\n",
       "      <th></th>\n",
       "      <th>id</th>\n",
       "      <th>member_id</th>\n",
       "      <th>loan_amnt</th>\n",
       "      <th>term</th>\n",
       "      <th>int_rate</th>\n",
       "      <th>emp_length</th>\n",
       "      <th>home_ownership</th>\n",
       "      <th>annual_inc</th>\n",
       "      <th>loan_status</th>\n",
       "      <th>desc</th>\n",
       "      <th>...</th>\n",
       "      <th>bc_util</th>\n",
       "      <th>dti</th>\n",
       "      <th>inq_last_6mths</th>\n",
       "      <th>mths_since_recent_inq</th>\n",
       "      <th>revol_util</th>\n",
       "      <th>total_bc_limit</th>\n",
       "      <th>total_pymnt</th>\n",
       "      <th>mths_since_last_major_derog</th>\n",
       "      <th>tot_hi_cred_lim</th>\n",
       "      <th>tot_cur_bal</th>\n",
       "    </tr>\n",
       "  </thead>\n",
       "  <tbody>\n",
       "    <tr>\n",
       "      <th>0</th>\n",
       "      <td>10129403</td>\n",
       "      <td>11981032.0</td>\n",
       "      <td>7550</td>\n",
       "      <td>36 months</td>\n",
       "      <td>16.24%</td>\n",
       "      <td>3 years</td>\n",
       "      <td>RENT</td>\n",
       "      <td>28000.0</td>\n",
       "      <td>Current</td>\n",
       "      <td>NaN</td>\n",
       "      <td>...</td>\n",
       "      <td>96.0</td>\n",
       "      <td>8.40</td>\n",
       "      <td>0.0</td>\n",
       "      <td>17.0</td>\n",
       "      <td>72%</td>\n",
       "      <td>4000.0</td>\n",
       "      <td>1864.38</td>\n",
       "      <td>NaN</td>\n",
       "      <td>3828.953801</td>\n",
       "      <td>5759.0</td>\n",
       "    </tr>\n",
       "    <tr>\n",
       "      <th>1</th>\n",
       "      <td>10149342</td>\n",
       "      <td>12000897.0</td>\n",
       "      <td>27050</td>\n",
       "      <td>36 months</td>\n",
       "      <td>10.99%</td>\n",
       "      <td>10+ years</td>\n",
       "      <td>OWN</td>\n",
       "      <td>55000.0</td>\n",
       "      <td>Current</td>\n",
       "      <td>Borrower added on 12/31/13 &gt; Combining high ...</td>\n",
       "      <td>...</td>\n",
       "      <td>53.9</td>\n",
       "      <td>22.87</td>\n",
       "      <td>0.0</td>\n",
       "      <td>8.0</td>\n",
       "      <td>61.2%</td>\n",
       "      <td>35700.0</td>\n",
       "      <td>6198.22</td>\n",
       "      <td>NaN</td>\n",
       "      <td>34359.940727</td>\n",
       "      <td>114834.0</td>\n",
       "    </tr>\n",
       "    <tr>\n",
       "      <th>2</th>\n",
       "      <td>10129454</td>\n",
       "      <td>11981072.0</td>\n",
       "      <td>12000</td>\n",
       "      <td>36 months</td>\n",
       "      <td>10.99%</td>\n",
       "      <td>4 years</td>\n",
       "      <td>RENT</td>\n",
       "      <td>60000.0</td>\n",
       "      <td>Current</td>\n",
       "      <td>Borrower added on 12/31/13 &gt; I would like to...</td>\n",
       "      <td>...</td>\n",
       "      <td>15.9</td>\n",
       "      <td>4.62</td>\n",
       "      <td>1.0</td>\n",
       "      <td>3.0</td>\n",
       "      <td>24%</td>\n",
       "      <td>18100.0</td>\n",
       "      <td>2748.84</td>\n",
       "      <td>NaN</td>\n",
       "      <td>16416.617758</td>\n",
       "      <td>7137.0</td>\n",
       "    </tr>\n",
       "    <tr>\n",
       "      <th>3</th>\n",
       "      <td>10149577</td>\n",
       "      <td>12001118.0</td>\n",
       "      <td>28000</td>\n",
       "      <td>36 months</td>\n",
       "      <td>7.62%</td>\n",
       "      <td>5 years</td>\n",
       "      <td>MORTGAGE</td>\n",
       "      <td>325000.0</td>\n",
       "      <td>Fully Paid</td>\n",
       "      <td>NaN</td>\n",
       "      <td>...</td>\n",
       "      <td>67.1</td>\n",
       "      <td>18.55</td>\n",
       "      <td>1.0</td>\n",
       "      <td>3.0</td>\n",
       "      <td>54.6%</td>\n",
       "      <td>42200.0</td>\n",
       "      <td>29150.98</td>\n",
       "      <td>NaN</td>\n",
       "      <td>38014.149757</td>\n",
       "      <td>799592.0</td>\n",
       "    </tr>\n",
       "    <tr>\n",
       "      <th>4</th>\n",
       "      <td>10139658</td>\n",
       "      <td>11991209.0</td>\n",
       "      <td>12000</td>\n",
       "      <td>36 months</td>\n",
       "      <td>13.53%</td>\n",
       "      <td>10+ years</td>\n",
       "      <td>RENT</td>\n",
       "      <td>40000.0</td>\n",
       "      <td>Current</td>\n",
       "      <td>NaN</td>\n",
       "      <td>...</td>\n",
       "      <td>79.6</td>\n",
       "      <td>16.94</td>\n",
       "      <td>0.0</td>\n",
       "      <td>17.0</td>\n",
       "      <td>68.8%</td>\n",
       "      <td>7000.0</td>\n",
       "      <td>2851.80</td>\n",
       "      <td>53.0</td>\n",
       "      <td>6471.462236</td>\n",
       "      <td>13605.0</td>\n",
       "    </tr>\n",
       "  </tbody>\n",
       "</table>\n",
       "<p>5 rows × 22 columns</p>\n",
       "</div>"
      ],
      "text/plain": [
       "         id   member_id  loan_amnt        term int_rate emp_length  \\\n",
       "0  10129403  11981032.0       7550   36 months   16.24%    3 years   \n",
       "1  10149342  12000897.0      27050   36 months   10.99%  10+ years   \n",
       "2  10129454  11981072.0      12000   36 months   10.99%    4 years   \n",
       "3  10149577  12001118.0      28000   36 months    7.62%    5 years   \n",
       "4  10139658  11991209.0      12000   36 months   13.53%  10+ years   \n",
       "\n",
       "  home_ownership  annual_inc loan_status  \\\n",
       "0           RENT     28000.0     Current   \n",
       "1            OWN     55000.0     Current   \n",
       "2           RENT     60000.0     Current   \n",
       "3       MORTGAGE    325000.0  Fully Paid   \n",
       "4           RENT     40000.0     Current   \n",
       "\n",
       "                                                desc     ...      bc_util  \\\n",
       "0                                                NaN     ...         96.0   \n",
       "1    Borrower added on 12/31/13 > Combining high ...     ...         53.9   \n",
       "2    Borrower added on 12/31/13 > I would like to...     ...         15.9   \n",
       "3                                                NaN     ...         67.1   \n",
       "4                                                NaN     ...         79.6   \n",
       "\n",
       "     dti  inq_last_6mths  mths_since_recent_inq  revol_util  total_bc_limit  \\\n",
       "0   8.40             0.0                   17.0         72%          4000.0   \n",
       "1  22.87             0.0                    8.0       61.2%         35700.0   \n",
       "2   4.62             1.0                    3.0         24%         18100.0   \n",
       "3  18.55             1.0                    3.0       54.6%         42200.0   \n",
       "4  16.94             0.0                   17.0       68.8%          7000.0   \n",
       "\n",
       "  total_pymnt  mths_since_last_major_derog  tot_hi_cred_lim  tot_cur_bal  \n",
       "0     1864.38                          NaN      3828.953801       5759.0  \n",
       "1     6198.22                          NaN     34359.940727     114834.0  \n",
       "2     2748.84                          NaN     16416.617758       7137.0  \n",
       "3    29150.98                          NaN     38014.149757     799592.0  \n",
       "4     2851.80                         53.0      6471.462236      13605.0  \n",
       "\n",
       "[5 rows x 22 columns]"
      ]
     },
     "execution_count": 250,
     "metadata": {},
     "output_type": "execute_result"
    }
   ],
   "source": [
    "# Check out the values\n",
    "applicants.head(5)"
   ]
  },
  {
   "cell_type": "code",
   "execution_count": 251,
   "metadata": {},
   "outputs": [
    {
     "data": {
      "text/html": [
       "<div>\n",
       "<table border=\"1\" class=\"dataframe\">\n",
       "  <thead>\n",
       "    <tr style=\"text-align: right;\">\n",
       "      <th></th>\n",
       "      <th>id</th>\n",
       "      <th>member_id</th>\n",
       "      <th>loan_amnt</th>\n",
       "      <th>annual_inc</th>\n",
       "      <th>percent_bc_gt_75</th>\n",
       "      <th>bc_util</th>\n",
       "      <th>dti</th>\n",
       "      <th>inq_last_6mths</th>\n",
       "      <th>mths_since_recent_inq</th>\n",
       "      <th>total_bc_limit</th>\n",
       "      <th>total_pymnt</th>\n",
       "      <th>mths_since_last_major_derog</th>\n",
       "      <th>tot_hi_cred_lim</th>\n",
       "      <th>tot_cur_bal</th>\n",
       "    </tr>\n",
       "  </thead>\n",
       "  <tbody>\n",
       "    <tr>\n",
       "      <th>count</th>\n",
       "      <td>1.977870e+05</td>\n",
       "      <td>1.881230e+05</td>\n",
       "      <td>197787.000000</td>\n",
       "      <td>1.881230e+05</td>\n",
       "      <td>179096.000000</td>\n",
       "      <td>179012.000000</td>\n",
       "      <td>188123.000000</td>\n",
       "      <td>188123.000000</td>\n",
       "      <td>160263.000000</td>\n",
       "      <td>180628.000000</td>\n",
       "      <td>188123.000000</td>\n",
       "      <td>32497.000000</td>\n",
       "      <td>180628.000000</td>\n",
       "      <td>1.603820e+05</td>\n",
       "    </tr>\n",
       "    <tr>\n",
       "      <th>mean</th>\n",
       "      <td>5.090397e+06</td>\n",
       "      <td>5.910758e+06</td>\n",
       "      <td>14070.907213</td>\n",
       "      <td>7.223871e+04</td>\n",
       "      <td>53.557030</td>\n",
       "      <td>66.829415</td>\n",
       "      <td>17.058663</td>\n",
       "      <td>0.803581</td>\n",
       "      <td>6.991770</td>\n",
       "      <td>20240.250448</td>\n",
       "      <td>8038.539610</td>\n",
       "      <td>41.792473</td>\n",
       "      <td>20239.458973</td>\n",
       "      <td>1.373305e+05</td>\n",
       "    </tr>\n",
       "    <tr>\n",
       "      <th>std</th>\n",
       "      <td>2.800545e+06</td>\n",
       "      <td>3.343605e+06</td>\n",
       "      <td>8069.585694</td>\n",
       "      <td>5.182946e+04</td>\n",
       "      <td>34.148464</td>\n",
       "      <td>26.110808</td>\n",
       "      <td>7.596977</td>\n",
       "      <td>1.032841</td>\n",
       "      <td>5.880568</td>\n",
       "      <td>18885.232505</td>\n",
       "      <td>6524.967826</td>\n",
       "      <td>20.997645</td>\n",
       "      <td>18947.098163</td>\n",
       "      <td>1.507587e+05</td>\n",
       "    </tr>\n",
       "    <tr>\n",
       "      <th>min</th>\n",
       "      <td>5.852400e+04</td>\n",
       "      <td>1.495120e+05</td>\n",
       "      <td>1000.000000</td>\n",
       "      <td>4.800000e+03</td>\n",
       "      <td>0.000000</td>\n",
       "      <td>0.000000</td>\n",
       "      <td>0.000000</td>\n",
       "      <td>0.000000</td>\n",
       "      <td>0.000000</td>\n",
       "      <td>0.000000</td>\n",
       "      <td>0.000000</td>\n",
       "      <td>0.000000</td>\n",
       "      <td>0.000000</td>\n",
       "      <td>0.000000e+00</td>\n",
       "    </tr>\n",
       "    <tr>\n",
       "      <th>25%</th>\n",
       "      <td>2.295346e+06</td>\n",
       "      <td>2.169516e+06</td>\n",
       "      <td>8000.000000</td>\n",
       "      <td>4.500000e+04</td>\n",
       "      <td>25.000000</td>\n",
       "      <td>49.500000</td>\n",
       "      <td>11.340000</td>\n",
       "      <td>0.000000</td>\n",
       "      <td>2.000000</td>\n",
       "      <td>7800.000000</td>\n",
       "      <td>3624.630000</td>\n",
       "      <td>25.000000</td>\n",
       "      <td>7834.304802</td>\n",
       "      <td>2.747125e+04</td>\n",
       "    </tr>\n",
       "    <tr>\n",
       "      <th>50%</th>\n",
       "      <td>5.445986e+06</td>\n",
       "      <td>6.047542e+06</td>\n",
       "      <td>12000.000000</td>\n",
       "      <td>6.200000e+04</td>\n",
       "      <td>50.000000</td>\n",
       "      <td>72.200000</td>\n",
       "      <td>16.780000</td>\n",
       "      <td>0.000000</td>\n",
       "      <td>6.000000</td>\n",
       "      <td>14700.000000</td>\n",
       "      <td>6166.050000</td>\n",
       "      <td>41.000000</td>\n",
       "      <td>14635.958701</td>\n",
       "      <td>8.076400e+04</td>\n",
       "    </tr>\n",
       "    <tr>\n",
       "      <th>75%</th>\n",
       "      <td>7.371872e+06</td>\n",
       "      <td>8.721086e+06</td>\n",
       "      <td>19600.000000</td>\n",
       "      <td>8.700000e+04</td>\n",
       "      <td>80.000000</td>\n",
       "      <td>89.000000</td>\n",
       "      <td>22.580000</td>\n",
       "      <td>1.000000</td>\n",
       "      <td>11.000000</td>\n",
       "      <td>26500.000000</td>\n",
       "      <td>10323.805000</td>\n",
       "      <td>58.000000</td>\n",
       "      <td>26395.960437</td>\n",
       "      <td>2.081852e+05</td>\n",
       "    </tr>\n",
       "    <tr>\n",
       "      <th>max</th>\n",
       "      <td>1.023483e+07</td>\n",
       "      <td>1.209697e+07</td>\n",
       "      <td>35000.000000</td>\n",
       "      <td>7.141778e+06</td>\n",
       "      <td>100.000000</td>\n",
       "      <td>339.600000</td>\n",
       "      <td>34.990000</td>\n",
       "      <td>8.000000</td>\n",
       "      <td>24.000000</td>\n",
       "      <td>522210.000000</td>\n",
       "      <td>50914.591249</td>\n",
       "      <td>165.000000</td>\n",
       "      <td>520643.298178</td>\n",
       "      <td>8.000078e+06</td>\n",
       "    </tr>\n",
       "  </tbody>\n",
       "</table>\n",
       "</div>"
      ],
      "text/plain": [
       "                 id     member_id      loan_amnt    annual_inc  \\\n",
       "count  1.977870e+05  1.881230e+05  197787.000000  1.881230e+05   \n",
       "mean   5.090397e+06  5.910758e+06   14070.907213  7.223871e+04   \n",
       "std    2.800545e+06  3.343605e+06    8069.585694  5.182946e+04   \n",
       "min    5.852400e+04  1.495120e+05    1000.000000  4.800000e+03   \n",
       "25%    2.295346e+06  2.169516e+06    8000.000000  4.500000e+04   \n",
       "50%    5.445986e+06  6.047542e+06   12000.000000  6.200000e+04   \n",
       "75%    7.371872e+06  8.721086e+06   19600.000000  8.700000e+04   \n",
       "max    1.023483e+07  1.209697e+07   35000.000000  7.141778e+06   \n",
       "\n",
       "       percent_bc_gt_75        bc_util            dti  inq_last_6mths  \\\n",
       "count     179096.000000  179012.000000  188123.000000   188123.000000   \n",
       "mean          53.557030      66.829415      17.058663        0.803581   \n",
       "std           34.148464      26.110808       7.596977        1.032841   \n",
       "min            0.000000       0.000000       0.000000        0.000000   \n",
       "25%           25.000000      49.500000      11.340000        0.000000   \n",
       "50%           50.000000      72.200000      16.780000        0.000000   \n",
       "75%           80.000000      89.000000      22.580000        1.000000   \n",
       "max          100.000000     339.600000      34.990000        8.000000   \n",
       "\n",
       "       mths_since_recent_inq  total_bc_limit    total_pymnt  \\\n",
       "count          160263.000000   180628.000000  188123.000000   \n",
       "mean                6.991770    20240.250448    8038.539610   \n",
       "std                 5.880568    18885.232505    6524.967826   \n",
       "min                 0.000000        0.000000       0.000000   \n",
       "25%                 2.000000     7800.000000    3624.630000   \n",
       "50%                 6.000000    14700.000000    6166.050000   \n",
       "75%                11.000000    26500.000000   10323.805000   \n",
       "max                24.000000   522210.000000   50914.591249   \n",
       "\n",
       "       mths_since_last_major_derog  tot_hi_cred_lim   tot_cur_bal  \n",
       "count                 32497.000000    180628.000000  1.603820e+05  \n",
       "mean                     41.792473     20239.458973  1.373305e+05  \n",
       "std                      20.997645     18947.098163  1.507587e+05  \n",
       "min                       0.000000         0.000000  0.000000e+00  \n",
       "25%                      25.000000      7834.304802  2.747125e+04  \n",
       "50%                      41.000000     14635.958701  8.076400e+04  \n",
       "75%                      58.000000     26395.960437  2.081852e+05  \n",
       "max                     165.000000    520643.298178  8.000078e+06  "
      ]
     },
     "execution_count": 251,
     "metadata": {},
     "output_type": "execute_result"
    }
   ],
   "source": [
    "# First look at some basic numerical statistics\n",
    "applicants.describe()"
   ]
  },
  {
   "cell_type": "markdown",
   "metadata": {},
   "source": [
    "Having successfully read the applicant information into a DataFrame, we can take a look at some basic statistics above, and notice a few things immediately!\n",
    "\n",
    "**Problem Type**\n",
    "\n",
    "Noting that *Loan Status* is a given column in the dataset, and the goal is to predict/assess whether a loan should be issued or not (classification problem), thus the following study is on a **Supervised Learning Classification Problem**. The type of the problem informs the various models we can use, ranging from Logistic Regression all the way to Neural Networks! We will spend time on which model to use (and why!) later in the challenge! \n",
    "\n",
    "**Missing Values**\n",
    "\n",
    "Based on the ids the total count of values/entries seems to be 197787, whereas almost all other features are missing values (the range of missing values varies quite a bit, some features are missing afew whereas others are missing a lot of values -> mths_since_last_major_derog only has 32497 values!). This will have to be dealt with during the cleaning process. The number of missing values can be seen below:"
   ]
  },
  {
   "cell_type": "code",
   "execution_count": 252,
   "metadata": {},
   "outputs": [
    {
     "data": {
      "text/plain": [
       "id                                  0\n",
       "member_id                        9664\n",
       "loan_amnt                           0\n",
       "term                             9664\n",
       "int_rate                         9664\n",
       "emp_length                       9664\n",
       "home_ownership                   9664\n",
       "annual_inc                       9664\n",
       "loan_status                      9664\n",
       "desc                           116326\n",
       "purpose                          9664\n",
       "percent_bc_gt_75                18691\n",
       "bc_util                         18775\n",
       "dti                              9664\n",
       "inq_last_6mths                   9664\n",
       "mths_since_recent_inq           37524\n",
       "revol_util                       9789\n",
       "total_bc_limit                  17159\n",
       "total_pymnt                      9664\n",
       "mths_since_last_major_derog    165290\n",
       "tot_hi_cred_lim                 17159\n",
       "tot_cur_bal                     37405\n",
       "dtype: int64"
      ]
     },
     "execution_count": 252,
     "metadata": {},
     "output_type": "execute_result"
    }
   ],
   "source": [
    "# Missing values\n",
    "applicants.apply(lambda x: sum(x.isnull()), axis=0)"
   ]
  },
  {
   "cell_type": "markdown",
   "metadata": {},
   "source": [
    "**Total Features**\n",
    "\n",
    "There are a total of 22 columns in the dataset, each adding a different dimension to the applicant knowledge base. Note that this includes the ids, as well as the target variable (Loan Status). From the remaining columns, as we clean/process the data, we will learn which features to keep/modify and which ones to get rid of!\n",
    "\n",
    "**Balanced Dataset**\n",
    "\n",
    "Looking at the means/averages for each feature, and it's respective 50% value / median, we can gauge the amount of skew that's present in the dataset. Judging from the relatively small difference in values, it implies that the dataset is fairly balanced, which is great!\n",
    "\n",
    "Having made a few initial observations, we're now ready to start cleaning the data!"
   ]
  },
  {
   "cell_type": "markdown",
   "metadata": {},
   "source": [
    "## Data Cleaning/Munging\n",
    "\n",
    "Often the most time-consuming part of the process, data cleaning is also likely the most important. Models can only be as good as their input, so it's vital that the data is cleaned in a way that relevant information retains statistical significant. Let's start with the target/output variable (*LoanStatus*), and move our way through the remaining feature vectors."
   ]
  },
  {
   "cell_type": "markdown",
   "metadata": {},
   "source": [
    "### Target Variable\n",
    "\n",
    "Taking a look at the target variable, which is *Loan_Status*:"
   ]
  },
  {
   "cell_type": "code",
   "execution_count": 253,
   "metadata": {},
   "outputs": [
    {
     "data": {
      "text/plain": [
       "Current               140116\n",
       "Fully Paid             33309\n",
       "Charged Off             9178\n",
       "Late (31-120 days)      3077\n",
       "In Grace Period         1570\n",
       "Late (16-30 days)        780\n",
       "Default                   93\n",
       "Name: loan_status, dtype: int64"
      ]
     },
     "execution_count": 253,
     "metadata": {},
     "output_type": "execute_result"
    }
   ],
   "source": [
    "loanStatus = applicants[\"loan_status\"]\n",
    "loanStatus.value_counts()"
   ]
  },
  {
   "cell_type": "code",
   "execution_count": 254,
   "metadata": {},
   "outputs": [
    {
     "data": {
      "text/plain": [
       "count      188123\n",
       "unique          7\n",
       "top       Current\n",
       "freq       140116\n",
       "Name: loan_status, dtype: object"
      ]
     },
     "execution_count": 254,
     "metadata": {},
     "output_type": "execute_result"
    }
   ],
   "source": [
    "loanStatus.describe()"
   ]
  },
  {
   "cell_type": "markdown",
   "metadata": {},
   "source": [
    "As seen above, the clear issue with this category is that it's missing certain entries (9664 values to be precise). There are a variety of ways to deal with missing values, numerous different *imputations* that we can perform to either fill in, or remove the missing values altogether.\n",
    "\n",
    "Keeping the distribution of values in mind (140116 entries correspond to the Current category - this is > 70% of the total values), and the number of missing values (9664 - approx. 4% missing), it's a safe assumption to make that these missing values fall under the Current category. Thus, we will impute/fill in the values assuming they belong to the mode.\n",
    "\n",
    "Note that there's several ways this could have been done (looking at other features and observing the correlations between them and the target variable), however in cases where there is a clear majority and a relatively small number of missing values, this method of imputation is perfect."
   ]
  },
  {
   "cell_type": "code",
   "execution_count": 255,
   "metadata": {},
   "outputs": [
    {
     "data": {
      "text/plain": [
       "count      197787\n",
       "unique          7\n",
       "top       Current\n",
       "freq       149780\n",
       "Name: loan_status, dtype: object"
      ]
     },
     "execution_count": 255,
     "metadata": {},
     "output_type": "execute_result"
    }
   ],
   "source": [
    "# Fill in missing values\n",
    "loanStatus.fillna(\"Current\", inplace = True)\n",
    "loanStatus.describe()"
   ]
  },
  {
   "cell_type": "markdown",
   "metadata": {},
   "source": [
    "In order to be able to use this as a target variable in our model, it's necessary to convert this categorical variable into a numerical variable. This can be done via a simple mapping:\n",
    "\n",
    "0 - Default\n",
    "\n",
    "1 - Late (16 - 30 days)\n",
    "\n",
    "2 - In Grace Period \n",
    "\n",
    "3 - Late (31 - 120 days)\n",
    "\n",
    "4 - Charged Off\n",
    "\n",
    "5 - Fully Paid\n",
    "\n",
    "6 - Current\n",
    "\n",
    "Applying this mapping:"
   ]
  },
  {
   "cell_type": "code",
   "execution_count": 256,
   "metadata": {},
   "outputs": [
    {
     "data": {
      "text/plain": [
       "6    149780\n",
       "5     33309\n",
       "4      9178\n",
       "3      3077\n",
       "2      1570\n",
       "1       780\n",
       "0        93\n",
       "Name: loan_status, dtype: int64"
      ]
     },
     "execution_count": 256,
     "metadata": {},
     "output_type": "execute_result"
    }
   ],
   "source": [
    "# Suppress SettingWithCopyWarning (occurs when you set a value on a slice of a DataFrame as done below)\n",
    "pd.options.mode.chained_assignment = None\n",
    "\n",
    "# Convert categorical to numerical feature\n",
    "loanStatus[loanStatus == \"Default\"] = 0\n",
    "loanStatus[loanStatus == \"Late (16-30 days)\"] = 1\n",
    "loanStatus[loanStatus == \"In Grace Period\"] = 2\n",
    "loanStatus[loanStatus == \"Late (31-120 days)\"] = 3\n",
    "loanStatus[loanStatus == \"Charged Off\"] = 4\n",
    "loanStatus[loanStatus == \"Fully Paid\"] = 5\n",
    "loanStatus[loanStatus == \"Current\"] = 6\n",
    "\n",
    "loanStatus.value_counts()"
   ]
  },
  {
   "cell_type": "markdown",
   "metadata": {},
   "source": [
    "## Feature Variables\n",
    "\n",
    "Having cleaned the target variable, we can now move on and clean the feature vectors! Let's start from the *id*, and move across the remaining features in order.\n",
    "\n",
    "### ID"
   ]
  },
  {
   "cell_type": "code",
   "execution_count": 257,
   "metadata": {},
   "outputs": [
    {
     "data": {
      "text/plain": [
       "count    1.977870e+05\n",
       "mean     5.090397e+06\n",
       "std      2.800545e+06\n",
       "min      5.852400e+04\n",
       "25%      2.295346e+06\n",
       "50%      5.445986e+06\n",
       "75%      7.371872e+06\n",
       "max      1.023483e+07\n",
       "Name: id, dtype: float64"
      ]
     },
     "execution_count": 257,
     "metadata": {},
     "output_type": "execute_result"
    }
   ],
   "source": [
    "ids = applicants[\"id\"]\n",
    "ids.describe()"
   ]
  },
  {
   "cell_type": "markdown",
   "metadata": {},
   "source": [
    "There are no missing values here, and the feature is already numerical! However, realizing that the goal is to classify whether we should approve the applicant's loan, it seems unlikely that the id (which based on the definition, is just a \"*unique LendingClub assigned ID for the loan listing*) has *any* correlation to the final prediction. Thus, we can **remove this feature altogether**\n",
    "\n",
    "It's a good idea to remove any unnecessary feature from the data, so that we can avoid **overfitting our model**, and having it memorize the training data (rather than being able to generalize well to real world conditions)."
   ]
  },
  {
   "cell_type": "code",
   "execution_count": 258,
   "metadata": {},
   "outputs": [
    {
     "data": {
      "text/html": [
       "<div>\n",
       "<table border=\"1\" class=\"dataframe\">\n",
       "  <thead>\n",
       "    <tr style=\"text-align: right;\">\n",
       "      <th></th>\n",
       "      <th>member_id</th>\n",
       "      <th>loan_amnt</th>\n",
       "      <th>term</th>\n",
       "      <th>int_rate</th>\n",
       "      <th>emp_length</th>\n",
       "      <th>home_ownership</th>\n",
       "      <th>annual_inc</th>\n",
       "      <th>loan_status</th>\n",
       "      <th>desc</th>\n",
       "      <th>purpose</th>\n",
       "      <th>...</th>\n",
       "      <th>bc_util</th>\n",
       "      <th>dti</th>\n",
       "      <th>inq_last_6mths</th>\n",
       "      <th>mths_since_recent_inq</th>\n",
       "      <th>revol_util</th>\n",
       "      <th>total_bc_limit</th>\n",
       "      <th>total_pymnt</th>\n",
       "      <th>mths_since_last_major_derog</th>\n",
       "      <th>tot_hi_cred_lim</th>\n",
       "      <th>tot_cur_bal</th>\n",
       "    </tr>\n",
       "  </thead>\n",
       "  <tbody>\n",
       "    <tr>\n",
       "      <th>0</th>\n",
       "      <td>11981032.0</td>\n",
       "      <td>7550</td>\n",
       "      <td>36 months</td>\n",
       "      <td>16.24%</td>\n",
       "      <td>3 years</td>\n",
       "      <td>RENT</td>\n",
       "      <td>28000.0</td>\n",
       "      <td>6</td>\n",
       "      <td>NaN</td>\n",
       "      <td>debt_consolidation</td>\n",
       "      <td>...</td>\n",
       "      <td>96.0</td>\n",
       "      <td>8.40</td>\n",
       "      <td>0.0</td>\n",
       "      <td>17.0</td>\n",
       "      <td>72%</td>\n",
       "      <td>4000.0</td>\n",
       "      <td>1864.38</td>\n",
       "      <td>NaN</td>\n",
       "      <td>3828.953801</td>\n",
       "      <td>5759.0</td>\n",
       "    </tr>\n",
       "    <tr>\n",
       "      <th>1</th>\n",
       "      <td>12000897.0</td>\n",
       "      <td>27050</td>\n",
       "      <td>36 months</td>\n",
       "      <td>10.99%</td>\n",
       "      <td>10+ years</td>\n",
       "      <td>OWN</td>\n",
       "      <td>55000.0</td>\n",
       "      <td>6</td>\n",
       "      <td>Borrower added on 12/31/13 &gt; Combining high ...</td>\n",
       "      <td>debt_consolidation</td>\n",
       "      <td>...</td>\n",
       "      <td>53.9</td>\n",
       "      <td>22.87</td>\n",
       "      <td>0.0</td>\n",
       "      <td>8.0</td>\n",
       "      <td>61.2%</td>\n",
       "      <td>35700.0</td>\n",
       "      <td>6198.22</td>\n",
       "      <td>NaN</td>\n",
       "      <td>34359.940727</td>\n",
       "      <td>114834.0</td>\n",
       "    </tr>\n",
       "    <tr>\n",
       "      <th>2</th>\n",
       "      <td>11981072.0</td>\n",
       "      <td>12000</td>\n",
       "      <td>36 months</td>\n",
       "      <td>10.99%</td>\n",
       "      <td>4 years</td>\n",
       "      <td>RENT</td>\n",
       "      <td>60000.0</td>\n",
       "      <td>6</td>\n",
       "      <td>Borrower added on 12/31/13 &gt; I would like to...</td>\n",
       "      <td>debt_consolidation</td>\n",
       "      <td>...</td>\n",
       "      <td>15.9</td>\n",
       "      <td>4.62</td>\n",
       "      <td>1.0</td>\n",
       "      <td>3.0</td>\n",
       "      <td>24%</td>\n",
       "      <td>18100.0</td>\n",
       "      <td>2748.84</td>\n",
       "      <td>NaN</td>\n",
       "      <td>16416.617758</td>\n",
       "      <td>7137.0</td>\n",
       "    </tr>\n",
       "  </tbody>\n",
       "</table>\n",
       "<p>3 rows × 21 columns</p>\n",
       "</div>"
      ],
      "text/plain": [
       "    member_id  loan_amnt        term int_rate emp_length home_ownership  \\\n",
       "0  11981032.0       7550   36 months   16.24%    3 years           RENT   \n",
       "1  12000897.0      27050   36 months   10.99%  10+ years            OWN   \n",
       "2  11981072.0      12000   36 months   10.99%    4 years           RENT   \n",
       "\n",
       "   annual_inc loan_status                                               desc  \\\n",
       "0     28000.0           6                                                NaN   \n",
       "1     55000.0           6    Borrower added on 12/31/13 > Combining high ...   \n",
       "2     60000.0           6    Borrower added on 12/31/13 > I would like to...   \n",
       "\n",
       "              purpose     ...       bc_util    dti  inq_last_6mths  \\\n",
       "0  debt_consolidation     ...          96.0   8.40             0.0   \n",
       "1  debt_consolidation     ...          53.9  22.87             0.0   \n",
       "2  debt_consolidation     ...          15.9   4.62             1.0   \n",
       "\n",
       "   mths_since_recent_inq  revol_util total_bc_limit  total_pymnt  \\\n",
       "0                   17.0         72%         4000.0      1864.38   \n",
       "1                    8.0       61.2%        35700.0      6198.22   \n",
       "2                    3.0         24%        18100.0      2748.84   \n",
       "\n",
       "   mths_since_last_major_derog  tot_hi_cred_lim  tot_cur_bal  \n",
       "0                          NaN      3828.953801       5759.0  \n",
       "1                          NaN     34359.940727     114834.0  \n",
       "2                          NaN     16416.617758       7137.0  \n",
       "\n",
       "[3 rows x 21 columns]"
      ]
     },
     "execution_count": 258,
     "metadata": {},
     "output_type": "execute_result"
    }
   ],
   "source": [
    "# Remove id\n",
    "applicants.drop(\"id\", axis = 1, inplace = True)\n",
    "applicants.head(3)"
   ]
  },
  {
   "cell_type": "markdown",
   "metadata": {},
   "source": [
    "### Member ID\n"
   ]
  },
  {
   "cell_type": "code",
   "execution_count": 259,
   "metadata": {},
   "outputs": [
    {
     "data": {
      "text/plain": [
       "188123"
      ]
     },
     "execution_count": 259,
     "metadata": {},
     "output_type": "execute_result"
    }
   ],
   "source": [
    "memberID = applicants[\"member_id\"]\n",
    "len(memberID.value_counts())"
   ]
  },
  {
   "cell_type": "code",
   "execution_count": 260,
   "metadata": {},
   "outputs": [
    {
     "data": {
      "text/plain": [
       "count    1.881230e+05\n",
       "mean     5.910758e+06\n",
       "std      3.343605e+06\n",
       "min      1.495120e+05\n",
       "25%      2.169516e+06\n",
       "50%      6.047542e+06\n",
       "75%      8.721086e+06\n",
       "max      1.209697e+07\n",
       "Name: member_id, dtype: float64"
      ]
     },
     "execution_count": 260,
     "metadata": {},
     "output_type": "execute_result"
    }
   ],
   "source": [
    "memberID.describe()"
   ]
  },
  {
   "cell_type": "markdown",
   "metadata": {},
   "source": [
    "Similar to the initial id column, member_id is defined to be *A unique LendingClub assigned id for the borrower member*. Thus, the difference between this column and the previous id is that the previous column corresponded to the specific loan, whereas this id corresponds to the borrowing member (a borrower could potentially request multiple loans in the future).\n",
    "\n",
    "Judging from the above statistics, it seems like every single entry is unique (implying no repeat members/customers). Since there are missing values in this feature, there would be some method necessary to fill/generate the missing ids. Imputing repeat indexes would be difficult since the ids are not sequential, and we don't have any information regarding repeat applicants.\n",
    "\n",
    "Based on the above information, and the fact that even the member_id largely doesn't correlate with the target classification, we can also **remove this feature**!"
   ]
  },
  {
   "cell_type": "code",
   "execution_count": 261,
   "metadata": {},
   "outputs": [
    {
     "data": {
      "text/html": [
       "<div>\n",
       "<table border=\"1\" class=\"dataframe\">\n",
       "  <thead>\n",
       "    <tr style=\"text-align: right;\">\n",
       "      <th></th>\n",
       "      <th>loan_amnt</th>\n",
       "      <th>term</th>\n",
       "      <th>int_rate</th>\n",
       "      <th>emp_length</th>\n",
       "      <th>home_ownership</th>\n",
       "      <th>annual_inc</th>\n",
       "      <th>loan_status</th>\n",
       "      <th>desc</th>\n",
       "      <th>purpose</th>\n",
       "      <th>percent_bc_gt_75</th>\n",
       "      <th>bc_util</th>\n",
       "      <th>dti</th>\n",
       "      <th>inq_last_6mths</th>\n",
       "      <th>mths_since_recent_inq</th>\n",
       "      <th>revol_util</th>\n",
       "      <th>total_bc_limit</th>\n",
       "      <th>total_pymnt</th>\n",
       "      <th>mths_since_last_major_derog</th>\n",
       "      <th>tot_hi_cred_lim</th>\n",
       "      <th>tot_cur_bal</th>\n",
       "    </tr>\n",
       "  </thead>\n",
       "  <tbody>\n",
       "    <tr>\n",
       "      <th>0</th>\n",
       "      <td>7550</td>\n",
       "      <td>36 months</td>\n",
       "      <td>16.24%</td>\n",
       "      <td>3 years</td>\n",
       "      <td>RENT</td>\n",
       "      <td>28000.0</td>\n",
       "      <td>6</td>\n",
       "      <td>NaN</td>\n",
       "      <td>debt_consolidation</td>\n",
       "      <td>100.0</td>\n",
       "      <td>96.0</td>\n",
       "      <td>8.40</td>\n",
       "      <td>0.0</td>\n",
       "      <td>17.0</td>\n",
       "      <td>72%</td>\n",
       "      <td>4000.0</td>\n",
       "      <td>1864.38</td>\n",
       "      <td>NaN</td>\n",
       "      <td>3828.953801</td>\n",
       "      <td>5759.0</td>\n",
       "    </tr>\n",
       "    <tr>\n",
       "      <th>1</th>\n",
       "      <td>27050</td>\n",
       "      <td>36 months</td>\n",
       "      <td>10.99%</td>\n",
       "      <td>10+ years</td>\n",
       "      <td>OWN</td>\n",
       "      <td>55000.0</td>\n",
       "      <td>6</td>\n",
       "      <td>Borrower added on 12/31/13 &gt; Combining high ...</td>\n",
       "      <td>debt_consolidation</td>\n",
       "      <td>25.0</td>\n",
       "      <td>53.9</td>\n",
       "      <td>22.87</td>\n",
       "      <td>0.0</td>\n",
       "      <td>8.0</td>\n",
       "      <td>61.2%</td>\n",
       "      <td>35700.0</td>\n",
       "      <td>6198.22</td>\n",
       "      <td>NaN</td>\n",
       "      <td>34359.940727</td>\n",
       "      <td>114834.0</td>\n",
       "    </tr>\n",
       "    <tr>\n",
       "      <th>2</th>\n",
       "      <td>12000</td>\n",
       "      <td>36 months</td>\n",
       "      <td>10.99%</td>\n",
       "      <td>4 years</td>\n",
       "      <td>RENT</td>\n",
       "      <td>60000.0</td>\n",
       "      <td>6</td>\n",
       "      <td>Borrower added on 12/31/13 &gt; I would like to...</td>\n",
       "      <td>debt_consolidation</td>\n",
       "      <td>0.0</td>\n",
       "      <td>15.9</td>\n",
       "      <td>4.62</td>\n",
       "      <td>1.0</td>\n",
       "      <td>3.0</td>\n",
       "      <td>24%</td>\n",
       "      <td>18100.0</td>\n",
       "      <td>2748.84</td>\n",
       "      <td>NaN</td>\n",
       "      <td>16416.617758</td>\n",
       "      <td>7137.0</td>\n",
       "    </tr>\n",
       "  </tbody>\n",
       "</table>\n",
       "</div>"
      ],
      "text/plain": [
       "   loan_amnt        term int_rate emp_length home_ownership  annual_inc  \\\n",
       "0       7550   36 months   16.24%    3 years           RENT     28000.0   \n",
       "1      27050   36 months   10.99%  10+ years            OWN     55000.0   \n",
       "2      12000   36 months   10.99%    4 years           RENT     60000.0   \n",
       "\n",
       "  loan_status                                               desc  \\\n",
       "0           6                                                NaN   \n",
       "1           6    Borrower added on 12/31/13 > Combining high ...   \n",
       "2           6    Borrower added on 12/31/13 > I would like to...   \n",
       "\n",
       "              purpose  percent_bc_gt_75  bc_util    dti  inq_last_6mths  \\\n",
       "0  debt_consolidation             100.0     96.0   8.40             0.0   \n",
       "1  debt_consolidation              25.0     53.9  22.87             0.0   \n",
       "2  debt_consolidation               0.0     15.9   4.62             1.0   \n",
       "\n",
       "   mths_since_recent_inq revol_util  total_bc_limit  total_pymnt  \\\n",
       "0                   17.0        72%          4000.0      1864.38   \n",
       "1                    8.0      61.2%         35700.0      6198.22   \n",
       "2                    3.0        24%         18100.0      2748.84   \n",
       "\n",
       "   mths_since_last_major_derog  tot_hi_cred_lim  tot_cur_bal  \n",
       "0                          NaN      3828.953801       5759.0  \n",
       "1                          NaN     34359.940727     114834.0  \n",
       "2                          NaN     16416.617758       7137.0  "
      ]
     },
     "execution_count": 261,
     "metadata": {},
     "output_type": "execute_result"
    }
   ],
   "source": [
    "# Remove member ID\n",
    "applicants.drop(\"member_id\", axis = 1, inplace = True)\n",
    "applicants.head(3)"
   ]
  },
  {
   "cell_type": "markdown",
   "metadata": {},
   "source": [
    "### Loan Amount"
   ]
  },
  {
   "cell_type": "code",
   "execution_count": 262,
   "metadata": {},
   "outputs": [
    {
     "data": {
      "text/plain": [
       "10000    14383\n",
       "12000    10908\n",
       "15000    10698\n",
       "20000     9177\n",
       "8000      6647\n",
       "35000     5921\n",
       "6000      5912\n",
       "16000     5435\n",
       "5000      5166\n",
       "18000     5039\n",
       "24000     4310\n",
       "25000     3894\n",
       "30000     3249\n",
       "7000      3045\n",
       "14000     2924\n",
       "9000      2886\n",
       "21000     2777\n",
       "28000     2587\n",
       "4000      2557\n",
       "3000      2274\n",
       "7200      1763\n",
       "9600      1756\n",
       "13000     1519\n",
       "11000     1405\n",
       "17000     1296\n",
       "22000     1229\n",
       "2000      1181\n",
       "11500     1135\n",
       "14400     1122\n",
       "7500      1111\n",
       "         ...  \n",
       "27375        1\n",
       "34275        1\n",
       "1375         1\n",
       "32150        1\n",
       "27625        1\n",
       "27925        1\n",
       "28825        1\n",
       "28775        1\n",
       "34325        1\n",
       "34700        1\n",
       "31975        1\n",
       "24100        1\n",
       "30275        1\n",
       "32775        1\n",
       "34750        1\n",
       "31425        1\n",
       "33725        1\n",
       "32675        1\n",
       "29350        1\n",
       "26725        1\n",
       "32375        1\n",
       "31325        1\n",
       "34825        1\n",
       "33475        1\n",
       "33850        1\n",
       "33800        1\n",
       "29675        1\n",
       "1425         1\n",
       "33350        1\n",
       "34575        1\n",
       "Name: loan_amnt, dtype: int64"
      ]
     },
     "execution_count": 262,
     "metadata": {},
     "output_type": "execute_result"
    }
   ],
   "source": [
    "loanAmount = applicants[\"loan_amnt\"]\n",
    "loanAmount.value_counts()"
   ]
  },
  {
   "cell_type": "code",
   "execution_count": 263,
   "metadata": {},
   "outputs": [
    {
     "data": {
      "text/plain": [
       "count    197787.000000\n",
       "mean      14070.907213\n",
       "std        8069.585694\n",
       "min        1000.000000\n",
       "25%        8000.000000\n",
       "50%       12000.000000\n",
       "75%       19600.000000\n",
       "max       35000.000000\n",
       "Name: loan_amnt, dtype: float64"
      ]
     },
     "execution_count": 263,
     "metadata": {},
     "output_type": "execute_result"
    }
   ],
   "source": [
    "loanAmount.describe()"
   ]
  },
  {
   "cell_type": "markdown",
   "metadata": {},
   "source": [
    "This feature seems to be pretty clean, having the full set of entries + a numerical set of values! Some interesting obvservations can be made however:\n",
    "\n",
    "**Common Loan Amounts**\n",
    "\n",
    "There are certain amounts that seem to be very frequently requested, and they're generally well rounded, larger numbers (i.e. 10000, 12000, 15000 etc.). This makes intuitive sense, since generally people tend to estimate a given financial need to a specific, rounded target and then request the final amount. \n",
    "\n",
    "It's interesting to note however that 10000 seems to be the most common amount, 14000 is the average/mean amount requested, and 35000 is the maximum amount! This gives us an idea of the type of loans requested (and the resulting demographic of applicants + their needs), as well as the range of loans that LendingClub willingly approves!"
   ]
  },
  {
   "cell_type": "markdown",
   "metadata": {},
   "source": [
    "### Term"
   ]
  },
  {
   "cell_type": "code",
   "execution_count": 264,
   "metadata": {},
   "outputs": [
    {
     "data": {
      "text/plain": [
       " 36 months    143850\n",
       " 60 months     44273\n",
       "Name: term, dtype: int64"
      ]
     },
     "execution_count": 264,
     "metadata": {},
     "output_type": "execute_result"
    }
   ],
   "source": [
    "term = applicants[\"term\"]\n",
    "term.value_counts()"
   ]
  },
  {
   "cell_type": "code",
   "execution_count": 265,
   "metadata": {},
   "outputs": [
    {
     "data": {
      "text/plain": [
       "count         188123\n",
       "unique             2\n",
       "top        36 months\n",
       "freq          143850\n",
       "Name: term, dtype: object"
      ]
     },
     "execution_count": 265,
     "metadata": {},
     "output_type": "execute_result"
    }
   ],
   "source": [
    "term.describe()"
   ]
  },
  {
   "cell_type": "markdown",
   "metadata": {},
   "source": [
    "Similar to the target variable, the term feature contains two things necessary to cleanup:\n",
    "\n",
    "**Missing Values**\n",
    "\n",
    "With an overwhelming majority in term (36 months is over 72% of total entries), and a small number of missing values (9664 values again!), it's a safe assumption to assign the missing values to a term of \"36 months\".\n",
    "\n",
    "**Categorical Variable**\n",
    "\n",
    "Given that the variable is categorical, it needs to be converted to a numerical output in order to be useful in our model. Since there's only two possible categories, this can be done with a simple Boolean mapping:\n",
    "\n",
    "0 - 36 months\n",
    "\n",
    "1 - 60 months\n",
    "\n",
    "Let's perform the above two steps:"
   ]
  },
  {
   "cell_type": "code",
   "execution_count": 266,
   "metadata": {},
   "outputs": [
    {
     "data": {
      "text/plain": [
       "count         197787\n",
       "unique             2\n",
       "top        36 months\n",
       "freq          153514\n",
       "Name: term, dtype: object"
      ]
     },
     "execution_count": 266,
     "metadata": {},
     "output_type": "execute_result"
    }
   ],
   "source": [
    "# Fill in missing values\n",
    "term.fillna(\" 36 months\", inplace = True)\n",
    "term.describe()"
   ]
  },
  {
   "cell_type": "code",
   "execution_count": 267,
   "metadata": {},
   "outputs": [
    {
     "data": {
      "text/plain": [
       " 36 months    153514\n",
       " 60 months     44273\n",
       "Name: term, dtype: int64"
      ]
     },
     "execution_count": 267,
     "metadata": {},
     "output_type": "execute_result"
    }
   ],
   "source": [
    "term.value_counts()"
   ]
  },
  {
   "cell_type": "code",
   "execution_count": 268,
   "metadata": {},
   "outputs": [
    {
     "data": {
      "text/plain": [
       "0    153514\n",
       "1     44273\n",
       "Name: term, dtype: int64"
      ]
     },
     "execution_count": 268,
     "metadata": {},
     "output_type": "execute_result"
    }
   ],
   "source": [
    "# Convert to numerical values\n",
    "term[term == \" 36 months\"] = 0\n",
    "term[term == \" 60 months\"] = 1\n",
    "term.value_counts()"
   ]
  },
  {
   "cell_type": "markdown",
   "metadata": {},
   "source": [
    "### Interest Rate\n"
   ]
  },
  {
   "cell_type": "code",
   "execution_count": 269,
   "metadata": {},
   "outputs": [
    {
     "data": {
      "text/plain": [
       " 12.12%    9408\n",
       " 13.11%    8258\n",
       "  8.90%    7639\n",
       " 14.33%    7142\n",
       "  7.90%    6612\n",
       " 11.14%    6428\n",
       " 15.31%    5345\n",
       " 16.29%    5029\n",
       "  7.62%    4716\n",
       " 15.80%    4616\n",
       " 17.27%    4454\n",
       " 10.16%    4318\n",
       "  6.03%    4252\n",
       " 14.09%    4248\n",
       "  6.62%    3805\n",
       " 17.77%    3482\n",
       " 11.99%    3380\n",
       " 10.99%    3184\n",
       " 13.67%    2814\n",
       " 18.49%    2777\n",
       " 15.61%    2765\n",
       " 12.99%    2756\n",
       " 12.35%    2547\n",
       " 11.55%    2459\n",
       " 19.05%    2362\n",
       " 10.64%    2315\n",
       " 18.75%    2279\n",
       " 14.30%    2126\n",
       " 16.20%    2085\n",
       "  9.71%    2084\n",
       "           ... \n",
       " 22.45%     110\n",
       " 15.27%     107\n",
       " 15.96%     104\n",
       " 17.58%      97\n",
       " 22.78%      84\n",
       " 23.13%      73\n",
       " 18.64%      71\n",
       " 25.99%      63\n",
       " 19.03%      53\n",
       " 19.91%      53\n",
       " 26.06%      52\n",
       " 23.33%      47\n",
       " 19.42%      47\n",
       " 20.30%      46\n",
       " 23.26%      46\n",
       " 24.20%      35\n",
       " 20.89%      31\n",
       " 21.28%      31\n",
       "  6.00%      25\n",
       " 24.33%      21\n",
       " 21.67%      19\n",
       " 22.74%      12\n",
       " 22.35%      11\n",
       " 22.06%      11\n",
       " 24.52%       6\n",
       " 24.76%       6\n",
       " 24.11%       5\n",
       " 23.91%       3\n",
       " 23.52%       2\n",
       " 14.28%       1\n",
       "Name: int_rate, dtype: int64"
      ]
     },
     "execution_count": 269,
     "metadata": {},
     "output_type": "execute_result"
    }
   ],
   "source": [
    "intRate = applicants[\"int_rate\"]\n",
    "intRate.value_counts()"
   ]
  },
  {
   "cell_type": "code",
   "execution_count": 270,
   "metadata": {},
   "outputs": [
    {
     "data": {
      "text/plain": [
       "count      188123\n",
       "unique        145\n",
       "top        12.12%\n",
       "freq         9408\n",
       "Name: int_rate, dtype: object"
      ]
     },
     "execution_count": 270,
     "metadata": {},
     "output_type": "execute_result"
    }
   ],
   "source": [
    "intRate.describe()"
   ]
  },
  {
   "cell_type": "markdown",
   "metadata": {},
   "source": [
    "As seen above, there are 9664 missing values, however there is no clear majority in terms of common interest rate issued. Thus, we cannot simply impute the missing values with the most frequently occuring interest rate. A more intelligent method needs to be utilized!\n",
    "\n",
    "Also, it's important to notice that the presence of the percentage in the column implies that it's of string type. We need to make sure that the values are numeric! Let's do this first, and then we can potentially utilize things like a median/mean."
   ]
  },
  {
   "cell_type": "code",
   "execution_count": 271,
   "metadata": {},
   "outputs": [],
   "source": [
    "# Convert to numerical values\n",
    "intRate[intRate.str.contains(\"%\").fillna(False)] = intRate.str.replace(\"%\", \"\")\n",
    "intRate[intRate.str.contains(\" \").fillna(False)] = intRate.str.replace(\" \", \"\")\n",
    "intRate = intRate.astype(float)"
   ]
  },
  {
   "cell_type": "code",
   "execution_count": 272,
   "metadata": {},
   "outputs": [
    {
     "data": {
      "text/plain": [
       "count    188123.000000\n",
       "mean         14.279068\n",
       "std           4.436916\n",
       "min           6.000000\n",
       "25%          11.140000\n",
       "50%          14.090000\n",
       "75%          17.270000\n",
       "max          26.060000\n",
       "Name: int_rate, dtype: float64"
      ]
     },
     "execution_count": 272,
     "metadata": {},
     "output_type": "execute_result"
    }
   ],
   "source": [
    "intRate.describe()"
   ]
  },
  {
   "cell_type": "markdown",
   "metadata": {},
   "source": [
    "Having performed the conversion, we can now observe basic feature statistics and make a decision on how to impute the missing values.\n",
    "\n",
    "Remember, the goal with the imputation is to **minimize the disturbance to the data distribution**. The given set of interest rates is distributed in a specific distribution, and depending on how we add the missing values, the resulting distribution will be scaled/shifted/transposed version of the original. The goal is to preserve the underlying information in the data, and thus minimize the impact that imputed values have (which is why previously, when there's a majority present, we just use that!)\n",
    "\n",
    "In this case, since there is no underlying majority, we can use other statistics. Notice that both the mean and median are essentially the same (approx. 14%), implying that the feature is **well-balanced (no skew)**. Using this, we can chose to replace the missing values with the mean of the distribution, thereby minimizing impact (if you imagine a normal distribution, the spike at the mean will just move slightly up!).\n",
    "\n",
    "Let's do this:"
   ]
  },
  {
   "cell_type": "code",
   "execution_count": 273,
   "metadata": {},
   "outputs": [
    {
     "data": {
      "text/plain": [
       "count    197787.000000\n",
       "mean         14.279068\n",
       "std           4.327163\n",
       "min           6.000000\n",
       "25%          11.140000\n",
       "50%          14.279068\n",
       "75%          17.270000\n",
       "max          26.060000\n",
       "Name: int_rate, dtype: float64"
      ]
     },
     "execution_count": 273,
     "metadata": {},
     "output_type": "execute_result"
    }
   ],
   "source": [
    "# Fill in missing values with mean\n",
    "intRate.fillna(intRate.mean(), inplace = True)\n",
    "intRate.describe()"
   ]
  },
  {
   "cell_type": "markdown",
   "metadata": {},
   "source": [
    "### Employment Length"
   ]
  },
  {
   "cell_type": "code",
   "execution_count": 274,
   "metadata": {},
   "outputs": [
    {
     "data": {
      "text/plain": [
       "10+ years    61175\n",
       "2 years      16143\n",
       "5 years      14265\n",
       "3 years      13965\n",
       "< 1 year     13222\n",
       "6 years      11916\n",
       "1 year       11434\n",
       "7 years      11207\n",
       "4 years      10846\n",
       "8 years       8950\n",
       "n/a           7877\n",
       "9 years       7123\n",
       "Name: emp_length, dtype: int64"
      ]
     },
     "execution_count": 274,
     "metadata": {},
     "output_type": "execute_result"
    }
   ],
   "source": [
    "empLength = applicants[\"emp_length\"]\n",
    "empLength.value_counts()"
   ]
  },
  {
   "cell_type": "code",
   "execution_count": 275,
   "metadata": {},
   "outputs": [
    {
     "data": {
      "text/plain": [
       "count        188123\n",
       "unique           12\n",
       "top       10+ years\n",
       "freq          61175\n",
       "Name: emp_length, dtype: object"
      ]
     },
     "execution_count": 275,
     "metadata": {},
     "output_type": "execute_result"
    }
   ],
   "source": [
    "empLength.describe()"
   ]
  },
  {
   "cell_type": "code",
   "execution_count": 276,
   "metadata": {},
   "outputs": [
    {
     "data": {
      "text/plain": [
       "9664"
      ]
     },
     "execution_count": 276,
     "metadata": {},
     "output_type": "execute_result"
    }
   ],
   "source": [
    "len(empLength[empLength.isnull()])"
   ]
  },
  {
   "cell_type": "markdown",
   "metadata": {},
   "source": [
    "The employment length feature, characterizing the applicant's length of employment, is similar to some of the previous features in the sense that it contains **9664 missing values**, and is **categorical in nature**. \n",
    "\n",
    "**Missing Values**\n",
    "Notice that the number of missing values (9664) is almost at par to the frequency of common employment lengths (approximately 11/12000). The majority class, 10+ years, comprises of almost 30% of the total values. However, this is not as overwhelming as previous features, and thus, simply filling in the missing values with the majority class is **not the best course of option**.\n",
    "\n",
    "In an attempt to minimize the impact on the existing distribution, we can notice that the frequency of the majority class is roughly 6x the frequency of all the other classes. Utilizing this to our advantage, we can fill in missing values in a similar fashion into each category.\n",
    "\n",
    "This means that if we fill each category with 650 values, the majority class will have 9664 - (650 * 9) = 3814 values added to it (where 650 x 6 = 3900, which is approx. 3814)!"
   ]
  },
  {
   "cell_type": "code",
   "execution_count": 277,
   "metadata": {},
   "outputs": [
    {
     "data": {
      "text/plain": [
       "10+ years    64339\n",
       "2 years      16793\n",
       "5 years      14915\n",
       "3 years      14615\n",
       "< 1 year     13872\n",
       "6 years      12566\n",
       "7 years      11857\n",
       "4 years      11496\n",
       "1 year       11434\n",
       "8 years       9600\n",
       "n/a           8527\n",
       "9 years       7773\n",
       "Name: emp_length, dtype: int64"
      ]
     },
     "execution_count": 277,
     "metadata": {},
     "output_type": "execute_result"
    }
   ],
   "source": [
    "# Fill in missing values\n",
    "empLength.fillna(\"n/a\", limit = 650, inplace = True)\n",
    "empLength.fillna(\"< 1 year\", limit = 650, inplace = True)\n",
    "empLength.fillna(\"2 years\", limit = 650, inplace = True)\n",
    "empLength.fillna(\"3 years\", limit = 650, inplace = True)\n",
    "empLength.fillna(\"4 years\", limit = 650, inplace = True)\n",
    "empLength.fillna(\"5 years\", limit = 650, inplace = True)\n",
    "empLength.fillna(\"6 years\", limit = 650, inplace = True)\n",
    "empLength.fillna(\"7 years\", limit = 650, inplace = True)\n",
    "empLength.fillna(\"8 years\", limit = 650, inplace = True)\n",
    "empLength.fillna(\"9 years\", limit = 650, inplace = True)\n",
    "empLength.fillna(\"10+ years\", inplace = True) # remaining values\n",
    "\n",
    "empLength.value_counts()"
   ]
  },
  {
   "cell_type": "code",
   "execution_count": 278,
   "metadata": {},
   "outputs": [
    {
     "data": {
      "text/plain": [
       "count        197787\n",
       "unique           12\n",
       "top       10+ years\n",
       "freq          64339\n",
       "Name: emp_length, dtype: object"
      ]
     },
     "execution_count": 278,
     "metadata": {},
     "output_type": "execute_result"
    }
   ],
   "source": [
    "empLength.describe()"
   ]
  },
  {
   "cell_type": "markdown",
   "metadata": {},
   "source": [
    "Clearly from above, the distribution of values has roughly stayed the same! This method of imputation was successful!\n",
    "\n",
    "We now need to convert this categorical feature to a numerical one, with the following simple mapping:\n",
    "\n",
    "0 - n/a\n",
    "\n",
    "1 - < 1 year\n",
    "\n",
    "2 - 1 year\n",
    "\n",
    "3 - 2 years\n",
    "\n",
    "4 - 3 years\n",
    "\n",
    "5 - 4 years\n",
    "\n",
    "6 - 5 years\n",
    "\n",
    "7 - 6 years\n",
    "\n",
    "8 - 7 years\n",
    "\n",
    "9 - 8 years\n",
    "\n",
    "10 - 9 years\n",
    "\n",
    "11 - 10+ years\n",
    "\n",
    "Let's implement this:"
   ]
  },
  {
   "cell_type": "code",
   "execution_count": 279,
   "metadata": {},
   "outputs": [
    {
     "data": {
      "text/plain": [
       "11    64339\n",
       "3     16793\n",
       "6     14915\n",
       "4     14615\n",
       "1     13872\n",
       "7     12566\n",
       "8     11857\n",
       "5     11496\n",
       "2     11434\n",
       "9      9600\n",
       "0      8527\n",
       "10     7773\n",
       "Name: emp_length, dtype: int64"
      ]
     },
     "execution_count": 279,
     "metadata": {},
     "output_type": "execute_result"
    }
   ],
   "source": [
    "# Convert to numerical values\n",
    "empLength[empLength == \"n/a\"] = 0\n",
    "empLength[empLength == \"< 1 year\"] = 1\n",
    "empLength[empLength == \"1 year\"] = 2\n",
    "empLength[empLength == \"2 years\"] = 3\n",
    "empLength[empLength == \"3 years\"] = 4\n",
    "empLength[empLength == \"4 years\"] = 5\n",
    "empLength[empLength == \"5 years\"] = 6\n",
    "empLength[empLength == \"6 years\"] = 7\n",
    "empLength[empLength == \"7 years\"] = 8\n",
    "empLength[empLength == \"8 years\"] = 9\n",
    "empLength[empLength == \"9 years\"] = 10\n",
    "empLength[empLength == \"10+ years\"] = 11\n",
    "\n",
    "empLength.value_counts()"
   ]
  },
  {
   "cell_type": "markdown",
   "metadata": {},
   "source": [
    "### Home Ownership"
   ]
  },
  {
   "cell_type": "code",
   "execution_count": 280,
   "metadata": {},
   "outputs": [
    {
     "data": {
      "text/plain": [
       "MORTGAGE    96979\n",
       "RENT        75609\n",
       "OWN         15447\n",
       "OTHER          46\n",
       "NONE           42\n",
       "Name: home_ownership, dtype: int64"
      ]
     },
     "execution_count": 280,
     "metadata": {},
     "output_type": "execute_result"
    }
   ],
   "source": [
    "home = applicants[\"home_ownership\"]\n",
    "home.value_counts()"
   ]
  },
  {
   "cell_type": "code",
   "execution_count": 281,
   "metadata": {},
   "outputs": [
    {
     "data": {
      "text/plain": [
       "count       188123\n",
       "unique           5\n",
       "top       MORTGAGE\n",
       "freq         96979\n",
       "Name: home_ownership, dtype: object"
      ]
     },
     "execution_count": 281,
     "metadata": {},
     "output_type": "execute_result"
    }
   ],
   "source": [
    "home.describe()"
   ]
  },
  {
   "cell_type": "markdown",
   "metadata": {},
   "source": [
    "Similar to previous cases, we can fill in the missing values using the most common classes and then convert the feature to numerical values (as opposed to it's current, categorical nature).\n",
    "\n",
    "Since there's three predominant classes (out of which MORTGAGE and RENT are roughly 5/6 times the frequency of OWN), we can fill the missing values according to the same distribution! This means:\n",
    "\n",
    "OWN - 750 values\n",
    "\n",
    "RENT - 3750 values (5x OWN)\n",
    "\n",
    "MORTGAGE - 4500 values (6x OWN)\n",
    "\n",
    "Total = 9000 (approx equal to 9664, remaining values will go to MORTGAGE)"
   ]
  },
  {
   "cell_type": "code",
   "execution_count": 282,
   "metadata": {},
   "outputs": [
    {
     "data": {
      "text/plain": [
       "MORTGAGE    102143\n",
       "RENT         79359\n",
       "OWN          16197\n",
       "OTHER           46\n",
       "NONE            42\n",
       "Name: home_ownership, dtype: int64"
      ]
     },
     "execution_count": 282,
     "metadata": {},
     "output_type": "execute_result"
    }
   ],
   "source": [
    "# Fill in missing values\n",
    "home.fillna(\"OWN\", limit = 750, inplace = True)\n",
    "home.fillna(\"RENT\", limit = 3750, inplace = True)\n",
    "home.fillna(\"MORTGAGE\", inplace = True)\n",
    "\n",
    "home.value_counts()"
   ]
  },
  {
   "cell_type": "markdown",
   "metadata": {},
   "source": [
    "Maintaining the original distribution, we can now convert the categorical values to numerical ones! This will be done via a simple mapping:\n",
    "\n",
    "0 - NONE\n",
    "\n",
    "1 - OTHER\n",
    "\n",
    "2 - OWN\n",
    "\n",
    "3 - RENT\n",
    "\n",
    "4 - MORTGAGE"
   ]
  },
  {
   "cell_type": "code",
   "execution_count": 283,
   "metadata": {},
   "outputs": [
    {
     "data": {
      "text/plain": [
       "4    102143\n",
       "3     79359\n",
       "2     16197\n",
       "1        46\n",
       "0        42\n",
       "Name: home_ownership, dtype: int64"
      ]
     },
     "execution_count": 283,
     "metadata": {},
     "output_type": "execute_result"
    }
   ],
   "source": [
    "# Convert to numerical\n",
    "home[home == \"NONE\"] = 0\n",
    "home[home == \"OTHER\"] = 1\n",
    "home[home == \"OWN\"] = 2\n",
    "home[home == \"RENT\"] = 3\n",
    "home[home == \"MORTGAGE\"] = 4\n",
    "\n",
    "home.value_counts()"
   ]
  },
  {
   "cell_type": "code",
   "execution_count": 284,
   "metadata": {},
   "outputs": [
    {
     "data": {
      "text/plain": [
       "count     197787\n",
       "unique         5\n",
       "top            4\n",
       "freq      102143\n",
       "Name: home_ownership, dtype: int64"
      ]
     },
     "execution_count": 284,
     "metadata": {},
     "output_type": "execute_result"
    }
   ],
   "source": [
    "home.describe()"
   ]
  },
  {
   "cell_type": "markdown",
   "metadata": {},
   "source": [
    "### Annual Income"
   ]
  },
  {
   "cell_type": "code",
   "execution_count": 285,
   "metadata": {},
   "outputs": [
    {
     "data": {
      "text/plain": [
       "60000.00     7205\n",
       "50000.00     6740\n",
       "65000.00     5393\n",
       "40000.00     5338\n",
       "70000.00     5127\n",
       "45000.00     5069\n",
       "80000.00     4869\n",
       "75000.00     4690\n",
       "55000.00     4635\n",
       "90000.00     3573\n",
       "100000.00    3483\n",
       "85000.00     3344\n",
       "35000.00     3255\n",
       "30000.00     2987\n",
       "52000.00     2670\n",
       "42000.00     2602\n",
       "120000.00    2529\n",
       "48000.00     2421\n",
       "110000.00    2228\n",
       "72000.00     2035\n",
       "95000.00     1913\n",
       "36000.00     1718\n",
       "38000.00     1684\n",
       "62000.00     1646\n",
       "32000.00     1523\n",
       "54000.00     1455\n",
       "150000.00    1453\n",
       "58000.00     1444\n",
       "56000.00     1435\n",
       "25000.00     1426\n",
       "             ... \n",
       "85366.00        1\n",
       "34567.32        1\n",
       "42711.00        1\n",
       "85426.00        1\n",
       "49580.00        1\n",
       "77685.00        1\n",
       "104700.00       1\n",
       "51422.27        1\n",
       "59132.00        1\n",
       "118260.00       1\n",
       "17604.00        1\n",
       "77682.00        1\n",
       "42743.75        1\n",
       "85486.00        1\n",
       "45676.80        1\n",
       "118250.00       1\n",
       "59120.00        1\n",
       "32966.00        1\n",
       "85468.00        1\n",
       "85465.00        1\n",
       "42732.00        1\n",
       "42731.00        1\n",
       "85461.50        1\n",
       "23158.00        1\n",
       "59112.00        1\n",
       "34874.98        1\n",
       "85451.00        1\n",
       "85446.00        1\n",
       "102905.04       1\n",
       "98304.00        1\n",
       "Name: annual_inc, dtype: int64"
      ]
     },
     "execution_count": 285,
     "metadata": {},
     "output_type": "execute_result"
    }
   ],
   "source": [
    "income = applicants[\"annual_inc\"]\n",
    "income.value_counts()"
   ]
  },
  {
   "cell_type": "code",
   "execution_count": 286,
   "metadata": {},
   "outputs": [
    {
     "data": {
      "text/plain": [
       "count    1.881230e+05\n",
       "mean     7.223871e+04\n",
       "std      5.182946e+04\n",
       "min      4.800000e+03\n",
       "25%      4.500000e+04\n",
       "50%      6.200000e+04\n",
       "75%      8.700000e+04\n",
       "max      7.141778e+06\n",
       "Name: annual_inc, dtype: float64"
      ]
     },
     "execution_count": 286,
     "metadata": {},
     "output_type": "execute_result"
    }
   ],
   "source": [
    "income.describe()"
   ]
  },
  {
   "cell_type": "markdown",
   "metadata": {},
   "source": [
    "Similar to the interest rate feature, although there are a few common/recurring income categories (i.e. 60000, 50000 etc.), there is no overwhelming majority that we can use to fill missing values. Noticing that the mean and median are relatively similar, we can use them to fill in the missing values!\n",
    "\n",
    "Since the median is closer to the most frequent income, we'll use the median to fill in the missing values (this will pull the mean back, and reduce the little skew that exists!)"
   ]
  },
  {
   "cell_type": "code",
   "execution_count": 287,
   "metadata": {},
   "outputs": [
    {
     "data": {
      "text/plain": [
       "count    1.977870e+05\n",
       "mean     7.173844e+04\n",
       "std      5.059556e+04\n",
       "min      4.800000e+03\n",
       "25%      4.550000e+04\n",
       "50%      6.200000e+04\n",
       "75%      8.500000e+04\n",
       "max      7.141778e+06\n",
       "Name: annual_inc, dtype: float64"
      ]
     },
     "execution_count": 287,
     "metadata": {},
     "output_type": "execute_result"
    }
   ],
   "source": [
    "# Fill in missing values using median\n",
    "income.fillna(income.median(), inplace = True)\n",
    "income.describe()"
   ]
  },
  {
   "cell_type": "markdown",
   "metadata": {},
   "source": [
    "### Description"
   ]
  },
  {
   "cell_type": "code",
   "execution_count": 288,
   "metadata": {},
   "outputs": [
    {
     "data": {
      "text/plain": [
       "  Borrower added on 01/14/13 > Debt consolidation<br>                                                                                                                                                                                                                                                                                                                                                                                                                                                                                                                                                                                                                                                                                                                                                                                                                                                                                                                                                                                                                                                                                                 6\n",
       "  Borrower added on 07/25/13 > Debt consolidation<br>                                                                                                                                                                                                                                                                                                                                                                                                                                                                                                                                                                                                                                                                                                                                                                                                                                                                                                                                                                                                                                                                                                 6\n",
       "  Borrower added on 10/23/13 > Debt consolidation<br>                                                                                                                                                                                                                                                                                                                                                                                                                                                                                                                                                                                                                                                                                                                                                                                                                                                                                                                                                                                                                                                                                                 5\n",
       "  Borrower added on 12/10/13 > Debt consolidation<br>                                                                                                                                                                                                                                                                                                                                                                                                                                                                                                                                                                                                                                                                                                                                                                                                                                                                                                                                                                                                                                                                                                 5\n",
       "  Borrower added on 11/27/12 > Debt consolidation<br>                                                                                                                                                                                                                                                                                                                                                                                                                                                                                                                                                                                                                                                                                                                                                                                                                                                                                                                                                                                                                                                                                                 5\n",
       "  Borrower added on 10/01/12 > Debt consolidation<br>                                                                                                                                                                                                                                                                                                                                                                                                                                                                                                                                                                                                                                                                                                                                                                                                                                                                                                                                                                                                                                                                                                 5\n",
       "  Borrower added on 09/05/13 > Debt consolidation<br>                                                                                                                                                                                                                                                                                                                                                                                                                                                                                                                                                                                                                                                                                                                                                                                                                                                                                                                                                                                                                                                                                                 5\n",
       "  Borrower added on 01/12/13 > Debt Consolidation<br>                                                                                                                                                                                                                                                                                                                                                                                                                                                                                                                                                                                                                                                                                                                                                                                                                                                                                                                                                                                                                                                                                                 5\n",
       "  Borrower added on 12/13/13 > Debt consolidation<br>                                                                                                                                                                                                                                                                                                                                                                                                                                                                                                                                                                                                                                                                                                                                                                                                                                                                                                                                                                                                                                                                                                 5\n",
       "  Borrower added on 09/30/13 > Debt Consolidation<br>                                                                                                                                                                                                                                                                                                                                                                                                                                                                                                                                                                                                                                                                                                                                                                                                                                                                                                                                                                                                                                                                                                 5\n",
       "  Borrower added on 12/19/13 > Debt consolidation<br>                                                                                                                                                                                                                                                                                                                                                                                                                                                                                                                                                                                                                                                                                                                                                                                                                                                                                                                                                                                                                                                                                                 5\n",
       "  Borrower added on 12/30/13 > Debt consolidation<br>                                                                                                                                                                                                                                                                                                                                                                                                                                                                                                                                                                                                                                                                                                                                                                                                                                                                                                                                                                                                                                                                                                 5\n",
       "  Borrower added on 02/27/13 > Debt consolidation<br>                                                                                                                                                                                                                                                                                                                                                                                                                                                                                                                                                                                                                                                                                                                                                                                                                                                                                                                                                                                                                                                                                                 5\n",
       "  Borrower added on 11/14/13 > Debt consolidation<br>                                                                                                                                                                                                                                                                                                                                                                                                                                                                                                                                                                                                                                                                                                                                                                                                                                                                                                                                                                                                                                                                                                 5\n",
       "  Borrower added on 08/19/13 > Debt consolidation.<br>                                                                                                                                                                                                                                                                                                                                                                                                                                                                                                                                                                                                                                                                                                                                                                                                                                                                                                                                                                                                                                                                                                5\n",
       "  Borrower added on 09/19/13 > Debt consolidation<br>                                                                                                                                                                                                                                                                                                                                                                                                                                                                                                                                                                                                                                                                                                                                                                                                                                                                                                                                                                                                                                                                                                 5\n",
       "  Borrower added on 09/04/13 > debt consolidation<br>                                                                                                                                                                                                                                                                                                                                                                                                                                                                                                                                                                                                                                                                                                                                                                                                                                                                                                                                                                                                                                                                                                 5\n",
       "  Borrower added on 12/02/13 > Debt consolidation<br>                                                                                                                                                                                                                                                                                                                                                                                                                                                                                                                                                                                                                                                                                                                                                                                                                                                                                                                                                                                                                                                                                                 5\n",
       "  Borrower added on 08/06/13 > debt consolidation<br>                                                                                                                                                                                                                                                                                                                                                                                                                                                                                                                                                                                                                                                                                                                                                                                                                                                                                                                                                                                                                                                                                                 5\n",
       "  Borrower added on 09/04/13 > Debt consolidation<br>                                                                                                                                                                                                                                                                                                                                                                                                                                                                                                                                                                                                                                                                                                                                                                                                                                                                                                                                                                                                                                                                                                 5\n",
       "  Borrower added on 09/23/13 > Debt consolidation<br>                                                                                                                                                                                                                                                                                                                                                                                                                                                                                                                                                                                                                                                                                                                                                                                                                                                                                                                                                                                                                                                                                                 4\n",
       "  Borrower added on 11/05/13 > Debt Consolidation<br>                                                                                                                                                                                                                                                                                                                                                                                                                                                                                                                                                                                                                                                                                                                                                                                                                                                                                                                                                                                                                                                                                                 4\n",
       "  Borrower added on 12/16/13 > Debt consolidation<br>                                                                                                                                                                                                                                                                                                                                                                                                                                                                                                                                                                                                                                                                                                                                                                                                                                                                                                                                                                                                                                                                                                 4\n",
       "  Borrower added on 03/28/13 > Debt consolidation<br>                                                                                                                                                                                                                                                                                                                                                                                                                                                                                                                                                                                                                                                                                                                                                                                                                                                                                                                                                                                                                                                                                                 4\n",
       "  Borrower added on 11/19/13 > Debt consolidation<br>                                                                                                                                                                                                                                                                                                                                                                                                                                                                                                                                                                                                                                                                                                                                                                                                                                                                                                                                                                                                                                                                                                 4\n",
       "  Borrower added on 03/03/13 > Debt consolidation<br>                                                                                                                                                                                                                                                                                                                                                                                                                                                                                                                                                                                                                                                                                                                                                                                                                                                                                                                                                                                                                                                                                                 4\n",
       "  Borrower added on 12/09/13 > debt consolidation<br>                                                                                                                                                                                                                                                                                                                                                                                                                                                                                                                                                                                                                                                                                                                                                                                                                                                                                                                                                                                                                                                                                                 4\n",
       "  Borrower added on 04/22/13 > Debt consolidation<br>                                                                                                                                                                                                                                                                                                                                                                                                                                                                                                                                                                                                                                                                                                                                                                                                                                                                                                                                                                                                                                                                                                 4\n",
       "  Borrower added on 09/16/13 > Debt Consolidation<br>                                                                                                                                                                                                                                                                                                                                                                                                                                                                                                                                                                                                                                                                                                                                                                                                                                                                                                                                                                                                                                                                                                 4\n",
       "  Borrower added on 11/19/13 > pay off credit cards<br>                                                                                                                                                                                                                                                                                                                                                                                                                                                                                                                                                                                                                                                                                                                                                                                                                                                                                                                                                                                                                                                                                               4\n",
       "                                                                                                                                                                                                                                                                                                                                                                                                                                                                                                                                                                                                                                                                                                                                                                                                                                                                                                                                                                                                                                                                                                                                                     ..\n",
       "  Borrower added on 08/01/12 > I worked on a contract basis all last year.  I made a couple attempts to refinance my car loan to create a little wiggle room in the budget.  Couldn't get anyone to agree.  This loan will pay off my current car loan, giving me almost $100 extra each month.  Thank you for your consideration.<br>                                                                                                                                                                                                                                                                                                                                                                                                                                                                                                                                                                                                                                                                                                                                                                                                                1\n",
       "  Borrower added on 12/12/13 > This is to consolidate my credit cards and pay for some medical bills.<br><br> Borrower added on 12/12/13 > This loan is for credit card refinance and for a small medical bill.<br>                                                                                                                                                                                                                                                                                                                                                                                                                                                                                                                                                                                                                                                                                                                                                                                                                                                                                                                                   1\n",
       "  Borrower added on 12/28/12 > to pay off car &amp; 3 creit cards<br>                                                                                                                                                                                                                                                                                                                                                                                                                                                                                                                                                                                                                                                                                                                                                                                                                                                                                                                                                                                                                                                                                 1\n",
       "  Borrower added on 05/15/13 > This loan is to consolidate credit card debt to allow me to better plan the future of my family. I am a hard worker who made some errors in my early twenties and am looking to consolidate.<br>                                                                                                                                                                                                                                                                                                                                                                                                                                                                                                                                                                                                                                                                                                                                                                                                                                                                                                                       1\n",
       "  Borrower added on 10/22/13 > This loan will act as a consolidation of several credit cards and hospital bills and property taxes into a more manageable single payment with an end in sight. This will help my planning of future budget a d spending.<br>                                                                                                                                                                                                                                                                                                                                                                                                                                                                                                                                                                                                                                                                                                                                                                                                                                                                                          1\n",
       "  Borrower added on 04/14/13 > To pay off my credit cards<br>                                                                                                                                                                                                                                                                                                                                                                                                                                                                                                                                                                                                                                                                                                                                                                                                                                                                                                                                                                                                                                                                                         1\n",
       "  Borrower added on 07/26/12 > pay off sum credit cards,and take a trip maybe<br>                                                                                                                                                                                                                                                                                                                                                                                                                                                                                                                                                                                                                                                                                                                                                                                                                                                                                                                                                                                                                                                                     1\n",
       "  Borrower added on 06/06/12 > This loan is to consolidate debt and have one monthly payment, instead of several.<br>                                                                                                                                                                                                                                                                                                                                                                                                                                                                                                                                                                                                                                                                                                                                                                                                                                                                                                                                                                                                                                 1\n",
       "  Borrower added on 03/19/12 > I will not have any issue making my payments for this loan. I am taking this loan out so i can have only one payment instead of two things that im paying for right now. It just makes it easier to have everything in one place (Debt Consolidation).<br>                                                                                                                                                                                                                                                                                                                                                                                                                                                                                                                                                                                                                                                                                                                                                                                                                                                             1\n",
       "  Borrower added on 03/27/13 > I am determined to get debt free. I have created a financial plan in order to reach my goal.<br>                                                                                                                                                                                                                                                                                                                                                                                                                                                                                                                                                                                                                                                                                                                                                                                                                                                                                                                                                                                                                       1\n",
       "  Borrower added on 05/11/13 > Want to re-do the kitchen and bathroom in my house.<br>                                                                                                                                                                                                                                                                                                                                                                                                                                                                                                                                                                                                                                                                                                                                                                                                                                                                                                                                                                                                                                                                1\n",
       "  Borrower added on 07/03/13 > To reduce my credit card debt, and to pave the way towards being a good steward of future financial freedom.<br>                                                                                                                                                                                                                                                                                                                                                                                                                                                                                                                                                                                                                                                                                                                                                                                                                                                                                                                                                                                                       1\n",
       "  Borrower added on 09/11/13 > the requested loan is to consolidate my debts into one and make one payment instead of multiple payments<br>                                                                                                                                                                                                                                                                                                                                                                                                                                                                                                                                                                                                                                                                                                                                                                                                                                                                                                                                                                                                           1\n",
       "  Borrower added on 12/03/12 > I need to consolidate credit cards. I am anxious to quit paying 28%.<br>                                                                                                                                                                                                                                                                                                                                                                                                                                                                                                                                                                                                                                                                                                                                                                                                                                                                                                                                                                                                                                               1\n",
       "  Borrower added on 06/29/12 > This loan will be used for a hot tub for myself. I will be using it for theripedic reasons.<br>                                                                                                                                                                                                                                                                                                                                                                                                                                                                                                                                                                                                                                                                                                                                                                                                                                                                                                                                                                                                                        1\n",
       "  Borrower added on 01/29/13 > This loan is used entirely to pay off my credit cards.  I always pay more than the minimum, but they seem to be going do very slowly.  The minimum payment here is much less than that of the cards combined.  I have a stable job and hope to pay this loan off in less than the three years!  Thanks!<br><br>  Borrower added on 01/30/13 > This loan is used entirely to pay off my credit cards. I always pay more than the minimum, but they seem to be going down very slowly. The minimum payment here is much less than that of the cards combined. I have a stable job and hope to pay this loan off in less than the three years! Thanks!<br><br>  Borrower added on 02/02/13 > Just a quick note of thanks to everyone who is willing to invest in my loan.   I appreciate it.  Knowing that this is coming from ordinary folks like me who can choose to invest their money elsewhere makes me all the more appreciative.  Thanks to each of you!<br><br> Borrower added on 02/03/13 > I didn't have enough space to finish the answer to the investor's question.  Please reask so I can complete.<br>    1\n",
       "  Borrower added on 01/06/12 > Pay off my credit card bills that I acquired while studying abroad. <br>                                                                                                                                                                                                                                                                                                                                                                                                                                                                                                                                                                                                                                                                                                                                                                                                                                                                                                                                                                                                                                               1\n",
       "  Borrower added on 07/09/12 > The loan that I m getting from your company will help consolidating and pay off all of my credit cards. By doing that I can save almost $500 a month and this loan will be pay off in three year!<br>                                                                                                                                                                                                                                                                                                                                                                                                                                                                                                                                                                                                                                                                                                                                                                                                                                                                                                                  1\n",
       "  Borrower added on 03/07/13 > Dept consolidation<br>                                                                                                                                                                                                                                                                                                                                                                                                                                                                                                                                                                                                                                                                                                                                                                                                                                                                                                                                                                                                                                                                                                 1\n",
       "  Borrower added on 09/19/12 > need to to do some backyard improvement and put jacuzzi<br>                                                                                                                                                                                                                                                                                                                                                                                                                                                                                                                                                                                                                                                                                                                                                                                                                                                                                                                                                                                                                                                            1\n",
       "  Borrower added on 06/03/13 > IT'S FOR A USED CAR LOAN.<br>                                                                                                                                                                                                                                                                                                                                                                                                                                                                                                                                                                                                                                                                                                                                                                                                                                                                                                                                                                                                                                                                                          1\n",
       "  Borrower added on 12/21/11 > HOME IMPROVEMENTS<br>                                                                                                                                                                                                                                                                                                                                                                                                                                                                                                                                                                                                                                                                                                                                                                                                                                                                                                                                                                                                                                                                                                  1\n",
       "  Borrower added on 05/28/13 > To pay off credit cards<br>                                                                                                                                                                                                                                                                                                                                                                                                                                                                                                                                                                                                                                                                                                                                                                                                                                                                                                                                                                                                                                                                                            1\n",
       "  Borrower added on 11/19/13 > to pay off several little loans and a high intrest loan to one low rate payment<br>                                                                                                                                                                                                                                                                                                                                                                                                                                                                                                                                                                                                                                                                                                                                                                                                                                                                                                                                                                                                                                    1\n",
       "  Borrower added on 12/07/12 > After the loss of my mother, i was left with unforeseen grief and expenses.  I'm looking to get things back on track<br><br>  Borrower added on 12/11/12 > I'm looking to consolidate the expenses and ways i grieved after the loss of my mother at a very young age.<br>                                                                                                                                                                                                                                                                                                                                                                                                                                                                                                                                                                                                                                                                                                                                                                                                                                             1\n",
       "  Borrower added on 06/12/12 > Credit card debt payoff.<br>                                                                                                                                                                                                                                                                                                                                                                                                                                                                                                                                                                                                                                                                                                                                                                                                                                                                                                                                                                                                                                                                                           1\n",
       "  Borrower added on 03/20/12 > I want to consolidate my credit cards into one loan.  Making one large payment each month to one company will allow me to pay off my debt quicker and in the long run I will end up paying less in interest.<br><br> Borrower added on 03/20/12 > I want to consolidate all my credit cards into one loan where I will be able to make one large monthly payment.  This will allow me to pay off my debt quicker. I pay all my bills on time and I also pay more than the minimum when able. <br>I hold a stable full-time job with a well known contractor.<br>                                                                                                                                                                                                                                                                                                                                                                                                                                                                                                                                                       1\n",
       "  Borrower added on 01/16/13 > My loan is for debt consolidation. I want to pay off small accounts with a higher interest rate.<br>                                                                                                                                                                                                                                                                                                                                                                                                                                                                                                                                                                                                                                                                                                                                                                                                                                                                                                                                                                                                                   1\n",
       "  Borrower added on 01/08/13 > Loan to pay off two high interest credit cards.<br>                                                                                                                                                                                                                                                                                                                                                                                                                                                                                                                                                                                                                                                                                                                                                                                                                                                                                                                                                                                                                                                                    1\n",
       "  Borrower added on 09/27/12 > My husband and I just moved.  Once we moved in we realized that we needed new appliances and new flooring.  There were some other minor repairs we had to make and we want to have the inside painted as well.  We want to pay off credit cards and cover home improvement and moving costs.   Thank you!<br>                                                                                                                                                                                                                                                                                                                                                                                                                                                                                                                                                                                                                                                                                                                                                                                                          1\n",
       "Name: desc, dtype: int64"
      ]
     },
     "execution_count": 288,
     "metadata": {},
     "output_type": "execute_result"
    }
   ],
   "source": [
    "desc = applicants[\"desc\"]\n",
    "desc.value_counts()"
   ]
  },
  {
   "cell_type": "code",
   "execution_count": 290,
   "metadata": {},
   "outputs": [
    {
     "data": {
      "text/plain": [
       "count                                                 81461\n",
       "unique                                                80643\n",
       "top         Borrower added on 01/14/13 > Debt consolidat...\n",
       "freq                                                      6\n",
       "Name: desc, dtype: object"
      ]
     },
     "execution_count": 290,
     "metadata": {},
     "output_type": "execute_result"
    }
   ],
   "source": [
    "desc.describe()"
   ]
  },
  {
   "cell_type": "markdown",
   "metadata": {},
   "source": [
    "The description is defined to be a *loan description provided by the borrower*. Since it is a **text based description**, that informs the *purpose* of the loan, and essentially can take on an **infinite range of possible values**, and has a **large number of missing values** (over 116000 values are missing!), we can chose to **remove this feature from the dataset**.\n",
    "\n",
    "Although the description would be useful, the feature's correlation to the final classification is minimal in comparison to the issues that exist with it, as seen above."
   ]
  },
  {
   "cell_type": "code",
   "execution_count": 291,
   "metadata": {},
   "outputs": [
    {
     "data": {
      "text/html": [
       "<div>\n",
       "<table border=\"1\" class=\"dataframe\">\n",
       "  <thead>\n",
       "    <tr style=\"text-align: right;\">\n",
       "      <th></th>\n",
       "      <th>loan_amnt</th>\n",
       "      <th>term</th>\n",
       "      <th>int_rate</th>\n",
       "      <th>emp_length</th>\n",
       "      <th>home_ownership</th>\n",
       "      <th>annual_inc</th>\n",
       "      <th>loan_status</th>\n",
       "      <th>purpose</th>\n",
       "      <th>percent_bc_gt_75</th>\n",
       "      <th>bc_util</th>\n",
       "      <th>dti</th>\n",
       "      <th>inq_last_6mths</th>\n",
       "      <th>mths_since_recent_inq</th>\n",
       "      <th>revol_util</th>\n",
       "      <th>total_bc_limit</th>\n",
       "      <th>total_pymnt</th>\n",
       "      <th>mths_since_last_major_derog</th>\n",
       "      <th>tot_hi_cred_lim</th>\n",
       "      <th>tot_cur_bal</th>\n",
       "    </tr>\n",
       "  </thead>\n",
       "  <tbody>\n",
       "    <tr>\n",
       "      <th>0</th>\n",
       "      <td>7550</td>\n",
       "      <td>0</td>\n",
       "      <td>16.24</td>\n",
       "      <td>4</td>\n",
       "      <td>3</td>\n",
       "      <td>28000.0</td>\n",
       "      <td>6</td>\n",
       "      <td>debt_consolidation</td>\n",
       "      <td>100.0</td>\n",
       "      <td>96.0</td>\n",
       "      <td>8.40</td>\n",
       "      <td>0.0</td>\n",
       "      <td>17.0</td>\n",
       "      <td>72%</td>\n",
       "      <td>4000.0</td>\n",
       "      <td>1864.38</td>\n",
       "      <td>NaN</td>\n",
       "      <td>3828.953801</td>\n",
       "      <td>5759.0</td>\n",
       "    </tr>\n",
       "    <tr>\n",
       "      <th>1</th>\n",
       "      <td>27050</td>\n",
       "      <td>0</td>\n",
       "      <td>10.99</td>\n",
       "      <td>11</td>\n",
       "      <td>2</td>\n",
       "      <td>55000.0</td>\n",
       "      <td>6</td>\n",
       "      <td>debt_consolidation</td>\n",
       "      <td>25.0</td>\n",
       "      <td>53.9</td>\n",
       "      <td>22.87</td>\n",
       "      <td>0.0</td>\n",
       "      <td>8.0</td>\n",
       "      <td>61.2%</td>\n",
       "      <td>35700.0</td>\n",
       "      <td>6198.22</td>\n",
       "      <td>NaN</td>\n",
       "      <td>34359.940727</td>\n",
       "      <td>114834.0</td>\n",
       "    </tr>\n",
       "    <tr>\n",
       "      <th>2</th>\n",
       "      <td>12000</td>\n",
       "      <td>0</td>\n",
       "      <td>10.99</td>\n",
       "      <td>5</td>\n",
       "      <td>3</td>\n",
       "      <td>60000.0</td>\n",
       "      <td>6</td>\n",
       "      <td>debt_consolidation</td>\n",
       "      <td>0.0</td>\n",
       "      <td>15.9</td>\n",
       "      <td>4.62</td>\n",
       "      <td>1.0</td>\n",
       "      <td>3.0</td>\n",
       "      <td>24%</td>\n",
       "      <td>18100.0</td>\n",
       "      <td>2748.84</td>\n",
       "      <td>NaN</td>\n",
       "      <td>16416.617758</td>\n",
       "      <td>7137.0</td>\n",
       "    </tr>\n",
       "  </tbody>\n",
       "</table>\n",
       "</div>"
      ],
      "text/plain": [
       "   loan_amnt term int_rate emp_length home_ownership  annual_inc loan_status  \\\n",
       "0       7550    0    16.24          4              3     28000.0           6   \n",
       "1      27050    0    10.99         11              2     55000.0           6   \n",
       "2      12000    0    10.99          5              3     60000.0           6   \n",
       "\n",
       "              purpose  percent_bc_gt_75  bc_util    dti  inq_last_6mths  \\\n",
       "0  debt_consolidation             100.0     96.0   8.40             0.0   \n",
       "1  debt_consolidation              25.0     53.9  22.87             0.0   \n",
       "2  debt_consolidation               0.0     15.9   4.62             1.0   \n",
       "\n",
       "   mths_since_recent_inq revol_util  total_bc_limit  total_pymnt  \\\n",
       "0                   17.0        72%          4000.0      1864.38   \n",
       "1                    8.0      61.2%         35700.0      6198.22   \n",
       "2                    3.0        24%         18100.0      2748.84   \n",
       "\n",
       "   mths_since_last_major_derog  tot_hi_cred_lim  tot_cur_bal  \n",
       "0                          NaN      3828.953801       5759.0  \n",
       "1                          NaN     34359.940727     114834.0  \n",
       "2                          NaN     16416.617758       7137.0  "
      ]
     },
     "execution_count": 291,
     "metadata": {},
     "output_type": "execute_result"
    }
   ],
   "source": [
    "applicants.drop(\"desc\", axis = 1, inplace = True)\n",
    "applicants.head(3)"
   ]
  },
  {
   "cell_type": "markdown",
   "metadata": {},
   "source": [
    "### Purpose\n"
   ]
  },
  {
   "cell_type": "code",
   "execution_count": 292,
   "metadata": {},
   "outputs": [
    {
     "data": {
      "text/plain": [
       "debt_consolidation    111436\n",
       "credit_card            43143\n",
       "home_improvement       10293\n",
       "other                   8891\n",
       "major_purchase          3655\n",
       "small_business          2744\n",
       "car                     1950\n",
       "medical                 1518\n",
       "wedding                 1330\n",
       "house                   1093\n",
       "moving                  1038\n",
       "vacation                 910\n",
       "renewable_energy         122\n",
       "Name: purpose, dtype: int64"
      ]
     },
     "execution_count": 292,
     "metadata": {},
     "output_type": "execute_result"
    }
   ],
   "source": [
    "purpose = applicants[\"purpose\"]\n",
    "purpose.value_counts()"
   ]
  },
  {
   "cell_type": "code",
   "execution_count": 293,
   "metadata": {},
   "outputs": [
    {
     "data": {
      "text/plain": [
       "count                 188123\n",
       "unique                    13\n",
       "top       debt_consolidation\n",
       "freq                  111436\n",
       "Name: purpose, dtype: object"
      ]
     },
     "execution_count": 293,
     "metadata": {},
     "output_type": "execute_result"
    }
   ],
   "source": [
    "purpose.describe()"
   ]
  },
  {
   "cell_type": "markdown",
   "metadata": {},
   "source": [
    "With a clear majority in terms of loan purpose (debt consolidation consists of over 55% of values), and a small number of missing values (9664), we can easily impute the values with the mode category.\n",
    "\n",
    "Noticing that the values are categorical, we can then convert them to numerical features using a simple mapping shown below:\n",
    "\n",
    "0 - renewable_energy\n",
    "1 - vacation\n",
    "2 - moving\n",
    "3 - house\n",
    "4 - wedding\n",
    "5 - medical\n",
    "6 - car\n",
    "7 - small_business\n",
    "8 - major_purchase\n",
    "9 - other\n",
    "10 - home_improvement\n",
    "11 - credit_card\n",
    "12 - debt_consolidation\n",
    "\n",
    "This is definitely a large number of categories (can lead/make the eventual model more prone to overfitting), so we can further group them into larger buckets (i.e. Other, Personal Purchases, Health, Energy, Business etc.) if necessary! We'll come back to this after having cleaned up the remaining data."
   ]
  },
  {
   "cell_type": "code",
   "execution_count": 294,
   "metadata": {},
   "outputs": [
    {
     "data": {
      "text/plain": [
       "count                 197787\n",
       "unique                    13\n",
       "top       debt_consolidation\n",
       "freq                  121100\n",
       "Name: purpose, dtype: object"
      ]
     },
     "execution_count": 294,
     "metadata": {},
     "output_type": "execute_result"
    }
   ],
   "source": [
    "# Fill in missing values\n",
    "purpose.fillna(\"debt_consolidation\", inplace = True)\n",
    "purpose.describe()"
   ]
  },
  {
   "cell_type": "code",
   "execution_count": null,
   "metadata": {},
   "outputs": [],
   "source": [
    "# Conver to numerical"
   ]
  }
 ],
 "metadata": {
  "kernelspec": {
   "display_name": "Python 2",
   "language": "python",
   "name": "python2"
  },
  "language_info": {
   "codemirror_mode": {
    "name": "ipython",
    "version": 2
   },
   "file_extension": ".py",
   "mimetype": "text/x-python",
   "name": "python",
   "nbconvert_exporter": "python",
   "pygments_lexer": "ipython2",
   "version": "2.7.13"
  }
 },
 "nbformat": 4,
 "nbformat_minor": 2
}
