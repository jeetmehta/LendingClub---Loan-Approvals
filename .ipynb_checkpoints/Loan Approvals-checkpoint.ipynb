{
 "cells": [
  {
   "cell_type": "markdown",
   "metadata": {},
   "source": [
    "# LendUp Data Challenge - Loan Approvals\n",
    "\n",
    "The goal of this data challenge is to utilize the given dataset, sample applicant data from the LendingClub portfolio, and utilize that data to create a model that can assess whether LendingClub should issue a loan to the applicant. The dataset includes a wide variety of information on the applicant, some of which is personal and other information that is more situational/operational in nature.\n",
    "\n",
    "Let's go through a typical data science process (Clean -> Explore -> Analyse -> Model -> Evaluate) with this dataset!"
   ]
  },
  {
   "cell_type": "markdown",
   "metadata": {},
   "source": [
    "## Import Data + First Look\n",
    "\n",
    "Let's first import any modules we need + the actual data, and take a look at all the different features that are present in the dataset:"
   ]
  },
  {
   "cell_type": "code",
   "execution_count": 521,
   "metadata": {},
   "outputs": [],
   "source": [
    "# Import any necessary modules\n",
    "%matplotlib inline\n",
    "import numpy as np\n",
    "import pandas as pd\n",
    "import matplotlib.pyplot as plt"
   ]
  },
  {
   "cell_type": "code",
   "execution_count": 522,
   "metadata": {},
   "outputs": [
    {
     "data": {
      "text/html": [
       "<div>\n",
       "<table border=\"1\" class=\"dataframe\">\n",
       "  <thead>\n",
       "    <tr style=\"text-align: right;\">\n",
       "      <th></th>\n",
       "      <th></th>\n",
       "      <th></th>\n",
       "      <th></th>\n",
       "      <th></th>\n",
       "      <th></th>\n",
       "      <th></th>\n",
       "      <th></th>\n",
       "      <th></th>\n",
       "      <th></th>\n",
       "      <th></th>\n",
       "      <th></th>\n",
       "      <th></th>\n",
       "      <th></th>\n",
       "      <th></th>\n",
       "      <th></th>\n",
       "      <th></th>\n",
       "      <th></th>\n",
       "      <th></th>\n",
       "      <th></th>\n",
       "      <th></th>\n",
       "      <th>Data derived from LendingClub Prospectus (https://www.lendingclub.com/info/prospectus.action)</th>\n",
       "    </tr>\n",
       "  </thead>\n",
       "  <tbody>\n",
       "    <tr>\n",
       "      <th>id</th>\n",
       "      <th>member_id</th>\n",
       "      <th>loan_amnt</th>\n",
       "      <th>term</th>\n",
       "      <th>int_rate</th>\n",
       "      <th>emp_length</th>\n",
       "      <th>home_ownership</th>\n",
       "      <th>annual_inc</th>\n",
       "      <th>loan_status</th>\n",
       "      <th>desc</th>\n",
       "      <th>purpose</th>\n",
       "      <th>percent_bc_gt_75</th>\n",
       "      <th>bc_util</th>\n",
       "      <th>dti</th>\n",
       "      <th>inq_last_6mths</th>\n",
       "      <th>mths_since_recent_inq</th>\n",
       "      <th>revol_util</th>\n",
       "      <th>total_bc_limit</th>\n",
       "      <th>total_pymnt</th>\n",
       "      <th>mths_since_last_major_derog</th>\n",
       "      <th>tot_hi_cred_lim</th>\n",
       "      <td>tot_cur_bal</td>\n",
       "    </tr>\n",
       "    <tr>\n",
       "      <th>10129403</th>\n",
       "      <th>11981032.0</th>\n",
       "      <th>7550</th>\n",
       "      <th>36 months</th>\n",
       "      <th>16.24%</th>\n",
       "      <th>3 years</th>\n",
       "      <th>RENT</th>\n",
       "      <th>28000.0</th>\n",
       "      <th>Current</th>\n",
       "      <th>NaN</th>\n",
       "      <th>debt_consolidation</th>\n",
       "      <th>100.0</th>\n",
       "      <th>96.0</th>\n",
       "      <th>8.4</th>\n",
       "      <th>0.0</th>\n",
       "      <th>17.0</th>\n",
       "      <th>72%</th>\n",
       "      <th>4000.0</th>\n",
       "      <th>1864.38</th>\n",
       "      <th>NaN</th>\n",
       "      <th>3828.95380081</th>\n",
       "      <td>5759.0</td>\n",
       "    </tr>\n",
       "    <tr>\n",
       "      <th>10149342</th>\n",
       "      <th>12000897.0</th>\n",
       "      <th>27050</th>\n",
       "      <th>36 months</th>\n",
       "      <th>10.99%</th>\n",
       "      <th>10+ years</th>\n",
       "      <th>OWN</th>\n",
       "      <th>55000.0</th>\n",
       "      <th>Current</th>\n",
       "      <th>Borrower added on 12/31/13 &gt; Combining high interest credit cards to lower interest rate.&lt;br&gt;</th>\n",
       "      <th>debt_consolidation</th>\n",
       "      <th>25.0</th>\n",
       "      <th>53.9</th>\n",
       "      <th>22.87</th>\n",
       "      <th>0.0</th>\n",
       "      <th>8.0</th>\n",
       "      <th>61.2%</th>\n",
       "      <th>35700.0</th>\n",
       "      <th>6198.22</th>\n",
       "      <th>NaN</th>\n",
       "      <th>34359.9407269</th>\n",
       "      <td>114834.0</td>\n",
       "    </tr>\n",
       "    <tr>\n",
       "      <th>10129454</th>\n",
       "      <th>11981072.0</th>\n",
       "      <th>12000</th>\n",
       "      <th>36 months</th>\n",
       "      <th>10.99%</th>\n",
       "      <th>4 years</th>\n",
       "      <th>RENT</th>\n",
       "      <th>60000.0</th>\n",
       "      <th>Current</th>\n",
       "      <th>Borrower added on 12/31/13 &gt; I would like to use this money to payoff existing credit card debt and use the remaining about to purchase a used car that is fuel efficient.&lt;br&gt;</th>\n",
       "      <th>debt_consolidation</th>\n",
       "      <th>0.0</th>\n",
       "      <th>15.9</th>\n",
       "      <th>4.62</th>\n",
       "      <th>1.0</th>\n",
       "      <th>3.0</th>\n",
       "      <th>24%</th>\n",
       "      <th>18100.0</th>\n",
       "      <th>2748.84</th>\n",
       "      <th>NaN</th>\n",
       "      <th>16416.6177583</th>\n",
       "      <td>7137.0</td>\n",
       "    </tr>\n",
       "    <tr>\n",
       "      <th>10149577</th>\n",
       "      <th>12001118.0</th>\n",
       "      <th>28000</th>\n",
       "      <th>36 months</th>\n",
       "      <th>7.62%</th>\n",
       "      <th>5 years</th>\n",
       "      <th>MORTGAGE</th>\n",
       "      <th>325000.0</th>\n",
       "      <th>Fully Paid</th>\n",
       "      <th>NaN</th>\n",
       "      <th>debt_consolidation</th>\n",
       "      <th>16.7</th>\n",
       "      <th>67.1</th>\n",
       "      <th>18.55</th>\n",
       "      <th>1.0</th>\n",
       "      <th>3.0</th>\n",
       "      <th>54.6%</th>\n",
       "      <th>42200.0</th>\n",
       "      <th>29150.98</th>\n",
       "      <th>NaN</th>\n",
       "      <th>38014.1497567</th>\n",
       "      <td>799592.0</td>\n",
       "    </tr>\n",
       "  </tbody>\n",
       "</table>\n",
       "</div>"
      ],
      "text/plain": [
       "                                                                                                                                                                                                                                                                                                                               Data derived from LendingClub Prospectus (https://www.lendingclub.com/info/prospectus.action)\n",
       "id       member_id  loan_amnt term       int_rate emp_length home_ownership annual_inc loan_status desc                                               purpose            percent_bc_gt_75 bc_util dti   inq_last_6mths mths_since_recent_inq revol_util total_bc_limit total_pymnt mths_since_last_major_derog tot_hi_cred_lim                                        tot_cur_bal                                           \n",
       "10129403 11981032.0 7550       36 months  16.24%  3 years    RENT           28000.0    Current     NaN                                                debt_consolidation 100.0            96.0    8.4   0.0            17.0                  72%        4000.0         1864.38     NaN                         3828.95380081                                               5759.0                                           \n",
       "10149342 12000897.0 27050      36 months  10.99%  10+ years  OWN            55000.0    Current       Borrower added on 12/31/13 > Combining high i... debt_consolidation 25.0             53.9    22.87 0.0            8.0                   61.2%      35700.0        6198.22     NaN                         34359.9407269                                             114834.0                                           \n",
       "10129454 11981072.0 12000      36 months  10.99%  4 years    RENT           60000.0    Current       Borrower added on 12/31/13 > I would like to ... debt_consolidation 0.0              15.9    4.62  1.0            3.0                   24%        18100.0        2748.84     NaN                         16416.6177583                                               7137.0                                           \n",
       "10149577 12001118.0 28000      36 months   7.62%  5 years    MORTGAGE       325000.0   Fully Paid  NaN                                                debt_consolidation 16.7             67.1    18.55 1.0            3.0                   54.6%      42200.0        29150.98    NaN                         38014.1497567                                             799592.0                                           "
      ]
     },
     "execution_count": 522,
     "metadata": {},
     "output_type": "execute_result"
    }
   ],
   "source": [
    "# Import data + Read\n",
    "data = pd.read_csv(\"lending_club_data.csv\", low_memory = False)\n",
    "data.head(5)"
   ]
  },
  {
   "cell_type": "code",
   "execution_count": 523,
   "metadata": {},
   "outputs": [
    {
     "data": {
      "text/html": [
       "<div>\n",
       "<table border=\"1\" class=\"dataframe\">\n",
       "  <thead>\n",
       "    <tr style=\"text-align: right;\">\n",
       "      <th></th>\n",
       "      <th>Data derived from LendingClub Prospectus (https://www.lendingclub.com/info/prospectus.action)</th>\n",
       "    </tr>\n",
       "  </thead>\n",
       "  <tbody>\n",
       "    <tr>\n",
       "      <th>count</th>\n",
       "      <td>160383</td>\n",
       "    </tr>\n",
       "    <tr>\n",
       "      <th>unique</th>\n",
       "      <td>118423</td>\n",
       "    </tr>\n",
       "    <tr>\n",
       "      <th>top</th>\n",
       "      <td>0.0</td>\n",
       "    </tr>\n",
       "    <tr>\n",
       "      <th>freq</th>\n",
       "      <td>32</td>\n",
       "    </tr>\n",
       "  </tbody>\n",
       "</table>\n",
       "</div>"
      ],
      "text/plain": [
       "       Data derived from LendingClub Prospectus (https://www.lendingclub.com/info/prospectus.action)\n",
       "count                                              160383                                           \n",
       "unique                                             118423                                           \n",
       "top                                                   0.0                                           \n",
       "freq                                                   32                                           "
      ]
     },
     "execution_count": 523,
     "metadata": {},
     "output_type": "execute_result"
    }
   ],
   "source": [
    "data.describe()"
   ]
  },
  {
   "cell_type": "markdown",
   "metadata": {},
   "source": [
    "Immediately, we can notice that the dataframe is actually stored completely stored under one column (as shown above). This discrepency needs to be resolved so we can properly read the data coming in:"
   ]
  },
  {
   "cell_type": "code",
   "execution_count": 524,
   "metadata": {},
   "outputs": [
    {
     "data": {
      "text/plain": [
       "Index([u'id', u'member_id', u'loan_amnt', u'term', u'int_rate', u'emp_length',\n",
       "       u'home_ownership', u'annual_inc', u'loan_status', u'desc', u'purpose',\n",
       "       u'percent_bc_gt_75', u'bc_util', u'dti', u'inq_last_6mths',\n",
       "       u'mths_since_recent_inq', u'revol_util', u'total_bc_limit',\n",
       "       u'total_pymnt', u'mths_since_last_major_derog', u'tot_hi_cred_lim',\n",
       "       u'tot_cur_bal'],\n",
       "      dtype='object')"
      ]
     },
     "execution_count": 524,
     "metadata": {},
     "output_type": "execute_result"
    }
   ],
   "source": [
    "# Fix dataframe issue - set header parameter\n",
    "applicants = pd.read_csv(\"lending_club_data.csv\", low_memory = True, header = 1)\n",
    "applicants.columns"
   ]
  },
  {
   "cell_type": "code",
   "execution_count": 525,
   "metadata": {},
   "outputs": [
    {
     "data": {
      "text/html": [
       "<div>\n",
       "<table border=\"1\" class=\"dataframe\">\n",
       "  <thead>\n",
       "    <tr style=\"text-align: right;\">\n",
       "      <th></th>\n",
       "      <th>id</th>\n",
       "      <th>member_id</th>\n",
       "      <th>loan_amnt</th>\n",
       "      <th>term</th>\n",
       "      <th>int_rate</th>\n",
       "      <th>emp_length</th>\n",
       "      <th>home_ownership</th>\n",
       "      <th>annual_inc</th>\n",
       "      <th>loan_status</th>\n",
       "      <th>desc</th>\n",
       "      <th>...</th>\n",
       "      <th>bc_util</th>\n",
       "      <th>dti</th>\n",
       "      <th>inq_last_6mths</th>\n",
       "      <th>mths_since_recent_inq</th>\n",
       "      <th>revol_util</th>\n",
       "      <th>total_bc_limit</th>\n",
       "      <th>total_pymnt</th>\n",
       "      <th>mths_since_last_major_derog</th>\n",
       "      <th>tot_hi_cred_lim</th>\n",
       "      <th>tot_cur_bal</th>\n",
       "    </tr>\n",
       "  </thead>\n",
       "  <tbody>\n",
       "    <tr>\n",
       "      <th>0</th>\n",
       "      <td>10129403</td>\n",
       "      <td>11981032.0</td>\n",
       "      <td>7550</td>\n",
       "      <td>36 months</td>\n",
       "      <td>16.24%</td>\n",
       "      <td>3 years</td>\n",
       "      <td>RENT</td>\n",
       "      <td>28000.0</td>\n",
       "      <td>Current</td>\n",
       "      <td>NaN</td>\n",
       "      <td>...</td>\n",
       "      <td>96.0</td>\n",
       "      <td>8.40</td>\n",
       "      <td>0.0</td>\n",
       "      <td>17.0</td>\n",
       "      <td>72%</td>\n",
       "      <td>4000.0</td>\n",
       "      <td>1864.38</td>\n",
       "      <td>NaN</td>\n",
       "      <td>3828.953801</td>\n",
       "      <td>5759.0</td>\n",
       "    </tr>\n",
       "    <tr>\n",
       "      <th>1</th>\n",
       "      <td>10149342</td>\n",
       "      <td>12000897.0</td>\n",
       "      <td>27050</td>\n",
       "      <td>36 months</td>\n",
       "      <td>10.99%</td>\n",
       "      <td>10+ years</td>\n",
       "      <td>OWN</td>\n",
       "      <td>55000.0</td>\n",
       "      <td>Current</td>\n",
       "      <td>Borrower added on 12/31/13 &gt; Combining high ...</td>\n",
       "      <td>...</td>\n",
       "      <td>53.9</td>\n",
       "      <td>22.87</td>\n",
       "      <td>0.0</td>\n",
       "      <td>8.0</td>\n",
       "      <td>61.2%</td>\n",
       "      <td>35700.0</td>\n",
       "      <td>6198.22</td>\n",
       "      <td>NaN</td>\n",
       "      <td>34359.940727</td>\n",
       "      <td>114834.0</td>\n",
       "    </tr>\n",
       "    <tr>\n",
       "      <th>2</th>\n",
       "      <td>10129454</td>\n",
       "      <td>11981072.0</td>\n",
       "      <td>12000</td>\n",
       "      <td>36 months</td>\n",
       "      <td>10.99%</td>\n",
       "      <td>4 years</td>\n",
       "      <td>RENT</td>\n",
       "      <td>60000.0</td>\n",
       "      <td>Current</td>\n",
       "      <td>Borrower added on 12/31/13 &gt; I would like to...</td>\n",
       "      <td>...</td>\n",
       "      <td>15.9</td>\n",
       "      <td>4.62</td>\n",
       "      <td>1.0</td>\n",
       "      <td>3.0</td>\n",
       "      <td>24%</td>\n",
       "      <td>18100.0</td>\n",
       "      <td>2748.84</td>\n",
       "      <td>NaN</td>\n",
       "      <td>16416.617758</td>\n",
       "      <td>7137.0</td>\n",
       "    </tr>\n",
       "    <tr>\n",
       "      <th>3</th>\n",
       "      <td>10149577</td>\n",
       "      <td>12001118.0</td>\n",
       "      <td>28000</td>\n",
       "      <td>36 months</td>\n",
       "      <td>7.62%</td>\n",
       "      <td>5 years</td>\n",
       "      <td>MORTGAGE</td>\n",
       "      <td>325000.0</td>\n",
       "      <td>Fully Paid</td>\n",
       "      <td>NaN</td>\n",
       "      <td>...</td>\n",
       "      <td>67.1</td>\n",
       "      <td>18.55</td>\n",
       "      <td>1.0</td>\n",
       "      <td>3.0</td>\n",
       "      <td>54.6%</td>\n",
       "      <td>42200.0</td>\n",
       "      <td>29150.98</td>\n",
       "      <td>NaN</td>\n",
       "      <td>38014.149757</td>\n",
       "      <td>799592.0</td>\n",
       "    </tr>\n",
       "    <tr>\n",
       "      <th>4</th>\n",
       "      <td>10139658</td>\n",
       "      <td>11991209.0</td>\n",
       "      <td>12000</td>\n",
       "      <td>36 months</td>\n",
       "      <td>13.53%</td>\n",
       "      <td>10+ years</td>\n",
       "      <td>RENT</td>\n",
       "      <td>40000.0</td>\n",
       "      <td>Current</td>\n",
       "      <td>NaN</td>\n",
       "      <td>...</td>\n",
       "      <td>79.6</td>\n",
       "      <td>16.94</td>\n",
       "      <td>0.0</td>\n",
       "      <td>17.0</td>\n",
       "      <td>68.8%</td>\n",
       "      <td>7000.0</td>\n",
       "      <td>2851.80</td>\n",
       "      <td>53.0</td>\n",
       "      <td>6471.462236</td>\n",
       "      <td>13605.0</td>\n",
       "    </tr>\n",
       "  </tbody>\n",
       "</table>\n",
       "<p>5 rows × 22 columns</p>\n",
       "</div>"
      ],
      "text/plain": [
       "         id   member_id  loan_amnt        term int_rate emp_length  \\\n",
       "0  10129403  11981032.0       7550   36 months   16.24%    3 years   \n",
       "1  10149342  12000897.0      27050   36 months   10.99%  10+ years   \n",
       "2  10129454  11981072.0      12000   36 months   10.99%    4 years   \n",
       "3  10149577  12001118.0      28000   36 months    7.62%    5 years   \n",
       "4  10139658  11991209.0      12000   36 months   13.53%  10+ years   \n",
       "\n",
       "  home_ownership  annual_inc loan_status  \\\n",
       "0           RENT     28000.0     Current   \n",
       "1            OWN     55000.0     Current   \n",
       "2           RENT     60000.0     Current   \n",
       "3       MORTGAGE    325000.0  Fully Paid   \n",
       "4           RENT     40000.0     Current   \n",
       "\n",
       "                                                desc     ...      bc_util  \\\n",
       "0                                                NaN     ...         96.0   \n",
       "1    Borrower added on 12/31/13 > Combining high ...     ...         53.9   \n",
       "2    Borrower added on 12/31/13 > I would like to...     ...         15.9   \n",
       "3                                                NaN     ...         67.1   \n",
       "4                                                NaN     ...         79.6   \n",
       "\n",
       "     dti  inq_last_6mths  mths_since_recent_inq  revol_util  total_bc_limit  \\\n",
       "0   8.40             0.0                   17.0         72%          4000.0   \n",
       "1  22.87             0.0                    8.0       61.2%         35700.0   \n",
       "2   4.62             1.0                    3.0         24%         18100.0   \n",
       "3  18.55             1.0                    3.0       54.6%         42200.0   \n",
       "4  16.94             0.0                   17.0       68.8%          7000.0   \n",
       "\n",
       "  total_pymnt  mths_since_last_major_derog  tot_hi_cred_lim  tot_cur_bal  \n",
       "0     1864.38                          NaN      3828.953801       5759.0  \n",
       "1     6198.22                          NaN     34359.940727     114834.0  \n",
       "2     2748.84                          NaN     16416.617758       7137.0  \n",
       "3    29150.98                          NaN     38014.149757     799592.0  \n",
       "4     2851.80                         53.0      6471.462236      13605.0  \n",
       "\n",
       "[5 rows x 22 columns]"
      ]
     },
     "execution_count": 525,
     "metadata": {},
     "output_type": "execute_result"
    }
   ],
   "source": [
    "# Check out the values\n",
    "applicants.head(5)"
   ]
  },
  {
   "cell_type": "code",
   "execution_count": 526,
   "metadata": {},
   "outputs": [
    {
     "data": {
      "text/html": [
       "<div>\n",
       "<table border=\"1\" class=\"dataframe\">\n",
       "  <thead>\n",
       "    <tr style=\"text-align: right;\">\n",
       "      <th></th>\n",
       "      <th>id</th>\n",
       "      <th>member_id</th>\n",
       "      <th>loan_amnt</th>\n",
       "      <th>annual_inc</th>\n",
       "      <th>percent_bc_gt_75</th>\n",
       "      <th>bc_util</th>\n",
       "      <th>dti</th>\n",
       "      <th>inq_last_6mths</th>\n",
       "      <th>mths_since_recent_inq</th>\n",
       "      <th>total_bc_limit</th>\n",
       "      <th>total_pymnt</th>\n",
       "      <th>mths_since_last_major_derog</th>\n",
       "      <th>tot_hi_cred_lim</th>\n",
       "      <th>tot_cur_bal</th>\n",
       "    </tr>\n",
       "  </thead>\n",
       "  <tbody>\n",
       "    <tr>\n",
       "      <th>count</th>\n",
       "      <td>1.977870e+05</td>\n",
       "      <td>1.881230e+05</td>\n",
       "      <td>197787.000000</td>\n",
       "      <td>1.881230e+05</td>\n",
       "      <td>179096.000000</td>\n",
       "      <td>179012.000000</td>\n",
       "      <td>188123.000000</td>\n",
       "      <td>188123.000000</td>\n",
       "      <td>160263.000000</td>\n",
       "      <td>180628.000000</td>\n",
       "      <td>188123.000000</td>\n",
       "      <td>32497.000000</td>\n",
       "      <td>180628.000000</td>\n",
       "      <td>1.603820e+05</td>\n",
       "    </tr>\n",
       "    <tr>\n",
       "      <th>mean</th>\n",
       "      <td>5.090397e+06</td>\n",
       "      <td>5.910758e+06</td>\n",
       "      <td>14070.907213</td>\n",
       "      <td>7.223871e+04</td>\n",
       "      <td>53.557030</td>\n",
       "      <td>66.829415</td>\n",
       "      <td>17.058663</td>\n",
       "      <td>0.803581</td>\n",
       "      <td>6.991770</td>\n",
       "      <td>20240.250448</td>\n",
       "      <td>8038.539610</td>\n",
       "      <td>41.792473</td>\n",
       "      <td>20239.458973</td>\n",
       "      <td>1.373305e+05</td>\n",
       "    </tr>\n",
       "    <tr>\n",
       "      <th>std</th>\n",
       "      <td>2.800545e+06</td>\n",
       "      <td>3.343605e+06</td>\n",
       "      <td>8069.585694</td>\n",
       "      <td>5.182946e+04</td>\n",
       "      <td>34.148464</td>\n",
       "      <td>26.110808</td>\n",
       "      <td>7.596977</td>\n",
       "      <td>1.032841</td>\n",
       "      <td>5.880568</td>\n",
       "      <td>18885.232505</td>\n",
       "      <td>6524.967826</td>\n",
       "      <td>20.997645</td>\n",
       "      <td>18947.098163</td>\n",
       "      <td>1.507587e+05</td>\n",
       "    </tr>\n",
       "    <tr>\n",
       "      <th>min</th>\n",
       "      <td>5.852400e+04</td>\n",
       "      <td>1.495120e+05</td>\n",
       "      <td>1000.000000</td>\n",
       "      <td>4.800000e+03</td>\n",
       "      <td>0.000000</td>\n",
       "      <td>0.000000</td>\n",
       "      <td>0.000000</td>\n",
       "      <td>0.000000</td>\n",
       "      <td>0.000000</td>\n",
       "      <td>0.000000</td>\n",
       "      <td>0.000000</td>\n",
       "      <td>0.000000</td>\n",
       "      <td>0.000000</td>\n",
       "      <td>0.000000e+00</td>\n",
       "    </tr>\n",
       "    <tr>\n",
       "      <th>25%</th>\n",
       "      <td>2.295346e+06</td>\n",
       "      <td>2.169516e+06</td>\n",
       "      <td>8000.000000</td>\n",
       "      <td>4.500000e+04</td>\n",
       "      <td>25.000000</td>\n",
       "      <td>49.500000</td>\n",
       "      <td>11.340000</td>\n",
       "      <td>0.000000</td>\n",
       "      <td>2.000000</td>\n",
       "      <td>7800.000000</td>\n",
       "      <td>3624.630000</td>\n",
       "      <td>25.000000</td>\n",
       "      <td>7834.304802</td>\n",
       "      <td>2.747125e+04</td>\n",
       "    </tr>\n",
       "    <tr>\n",
       "      <th>50%</th>\n",
       "      <td>5.445986e+06</td>\n",
       "      <td>6.047542e+06</td>\n",
       "      <td>12000.000000</td>\n",
       "      <td>6.200000e+04</td>\n",
       "      <td>50.000000</td>\n",
       "      <td>72.200000</td>\n",
       "      <td>16.780000</td>\n",
       "      <td>0.000000</td>\n",
       "      <td>6.000000</td>\n",
       "      <td>14700.000000</td>\n",
       "      <td>6166.050000</td>\n",
       "      <td>41.000000</td>\n",
       "      <td>14635.958701</td>\n",
       "      <td>8.076400e+04</td>\n",
       "    </tr>\n",
       "    <tr>\n",
       "      <th>75%</th>\n",
       "      <td>7.371872e+06</td>\n",
       "      <td>8.721086e+06</td>\n",
       "      <td>19600.000000</td>\n",
       "      <td>8.700000e+04</td>\n",
       "      <td>80.000000</td>\n",
       "      <td>89.000000</td>\n",
       "      <td>22.580000</td>\n",
       "      <td>1.000000</td>\n",
       "      <td>11.000000</td>\n",
       "      <td>26500.000000</td>\n",
       "      <td>10323.805000</td>\n",
       "      <td>58.000000</td>\n",
       "      <td>26395.960437</td>\n",
       "      <td>2.081852e+05</td>\n",
       "    </tr>\n",
       "    <tr>\n",
       "      <th>max</th>\n",
       "      <td>1.023483e+07</td>\n",
       "      <td>1.209697e+07</td>\n",
       "      <td>35000.000000</td>\n",
       "      <td>7.141778e+06</td>\n",
       "      <td>100.000000</td>\n",
       "      <td>339.600000</td>\n",
       "      <td>34.990000</td>\n",
       "      <td>8.000000</td>\n",
       "      <td>24.000000</td>\n",
       "      <td>522210.000000</td>\n",
       "      <td>50914.591249</td>\n",
       "      <td>165.000000</td>\n",
       "      <td>520643.298178</td>\n",
       "      <td>8.000078e+06</td>\n",
       "    </tr>\n",
       "  </tbody>\n",
       "</table>\n",
       "</div>"
      ],
      "text/plain": [
       "                 id     member_id      loan_amnt    annual_inc  \\\n",
       "count  1.977870e+05  1.881230e+05  197787.000000  1.881230e+05   \n",
       "mean   5.090397e+06  5.910758e+06   14070.907213  7.223871e+04   \n",
       "std    2.800545e+06  3.343605e+06    8069.585694  5.182946e+04   \n",
       "min    5.852400e+04  1.495120e+05    1000.000000  4.800000e+03   \n",
       "25%    2.295346e+06  2.169516e+06    8000.000000  4.500000e+04   \n",
       "50%    5.445986e+06  6.047542e+06   12000.000000  6.200000e+04   \n",
       "75%    7.371872e+06  8.721086e+06   19600.000000  8.700000e+04   \n",
       "max    1.023483e+07  1.209697e+07   35000.000000  7.141778e+06   \n",
       "\n",
       "       percent_bc_gt_75        bc_util            dti  inq_last_6mths  \\\n",
       "count     179096.000000  179012.000000  188123.000000   188123.000000   \n",
       "mean          53.557030      66.829415      17.058663        0.803581   \n",
       "std           34.148464      26.110808       7.596977        1.032841   \n",
       "min            0.000000       0.000000       0.000000        0.000000   \n",
       "25%           25.000000      49.500000      11.340000        0.000000   \n",
       "50%           50.000000      72.200000      16.780000        0.000000   \n",
       "75%           80.000000      89.000000      22.580000        1.000000   \n",
       "max          100.000000     339.600000      34.990000        8.000000   \n",
       "\n",
       "       mths_since_recent_inq  total_bc_limit    total_pymnt  \\\n",
       "count          160263.000000   180628.000000  188123.000000   \n",
       "mean                6.991770    20240.250448    8038.539610   \n",
       "std                 5.880568    18885.232505    6524.967826   \n",
       "min                 0.000000        0.000000       0.000000   \n",
       "25%                 2.000000     7800.000000    3624.630000   \n",
       "50%                 6.000000    14700.000000    6166.050000   \n",
       "75%                11.000000    26500.000000   10323.805000   \n",
       "max                24.000000   522210.000000   50914.591249   \n",
       "\n",
       "       mths_since_last_major_derog  tot_hi_cred_lim   tot_cur_bal  \n",
       "count                 32497.000000    180628.000000  1.603820e+05  \n",
       "mean                     41.792473     20239.458973  1.373305e+05  \n",
       "std                      20.997645     18947.098163  1.507587e+05  \n",
       "min                       0.000000         0.000000  0.000000e+00  \n",
       "25%                      25.000000      7834.304802  2.747125e+04  \n",
       "50%                      41.000000     14635.958701  8.076400e+04  \n",
       "75%                      58.000000     26395.960437  2.081852e+05  \n",
       "max                     165.000000    520643.298178  8.000078e+06  "
      ]
     },
     "execution_count": 526,
     "metadata": {},
     "output_type": "execute_result"
    }
   ],
   "source": [
    "# First look at some basic numerical statistics\n",
    "applicants.describe()"
   ]
  },
  {
   "cell_type": "markdown",
   "metadata": {},
   "source": [
    "Having successfully read the applicant information into a DataFrame, we can take a look at some basic statistics above, and notice a few things immediately!\n",
    "\n",
    "**Problem Type**\n",
    "\n",
    "Noting that *Loan Status* is a given column in the dataset, and the goal is to predict/assess whether a loan should be issued or not (classification problem), thus the following study is on a **Supervised Learning Classification Problem**. The type of the problem informs the various models we can use, ranging from Logistic Regression all the way to Neural Networks! We will spend time on which model to use (and why!) later in the challenge! \n",
    "\n",
    "**Missing Values**\n",
    "\n",
    "Based on the ids the total count of values/entries seems to be 197787, whereas almost all other features are missing values (the range of missing values varies quite a bit, some features are missing afew whereas others are missing a lot of values -> mths_since_last_major_derog only has 32497 values!). This will have to be dealt with during the cleaning process. The number of missing values can be seen below:"
   ]
  },
  {
   "cell_type": "code",
   "execution_count": 527,
   "metadata": {},
   "outputs": [
    {
     "data": {
      "text/plain": [
       "id                                  0\n",
       "member_id                        9664\n",
       "loan_amnt                           0\n",
       "term                             9664\n",
       "int_rate                         9664\n",
       "emp_length                       9664\n",
       "home_ownership                   9664\n",
       "annual_inc                       9664\n",
       "loan_status                      9664\n",
       "desc                           116326\n",
       "purpose                          9664\n",
       "percent_bc_gt_75                18691\n",
       "bc_util                         18775\n",
       "dti                              9664\n",
       "inq_last_6mths                   9664\n",
       "mths_since_recent_inq           37524\n",
       "revol_util                       9789\n",
       "total_bc_limit                  17159\n",
       "total_pymnt                      9664\n",
       "mths_since_last_major_derog    165290\n",
       "tot_hi_cred_lim                 17159\n",
       "tot_cur_bal                     37405\n",
       "dtype: int64"
      ]
     },
     "execution_count": 527,
     "metadata": {},
     "output_type": "execute_result"
    }
   ],
   "source": [
    "# Missing values\n",
    "applicants.apply(lambda x: sum(x.isnull()), axis=0)"
   ]
  },
  {
   "cell_type": "markdown",
   "metadata": {},
   "source": [
    "**Total Features**\n",
    "\n",
    "There are a total of 22 columns in the dataset, each adding a different dimension to the applicant knowledge base. Note that this includes the ids, as well as the target variable (Loan Status). From the remaining columns, as we clean/process the data, we will learn which features to keep/modify and which ones to get rid of!\n",
    "\n",
    "**Balanced Dataset**\n",
    "\n",
    "Looking at the means/averages for each feature, and it's respective 50% value / median, we can gauge the amount of skew that's present in the dataset. Judging from the relatively small difference in values, it implies that the dataset is fairly balanced, which is great!\n",
    "\n",
    "Having made a few initial observations, we're now ready to start cleaning the data!"
   ]
  },
  {
   "cell_type": "markdown",
   "metadata": {},
   "source": [
    "## Data Cleaning/Munging\n",
    "\n",
    "Often the most time-consuming part of the process, data cleaning is also likely the most important. Models can only be as good as their input, so it's vital that the data is cleaned in a way that relevant information retains statistical significant. Let's start with the target/output variable (*LoanStatus*), and move our way through the remaining feature vectors."
   ]
  },
  {
   "cell_type": "markdown",
   "metadata": {},
   "source": [
    "### Target Variable\n",
    "\n",
    "Taking a look at the target variable, which is *Loan_Status*:"
   ]
  },
  {
   "cell_type": "code",
   "execution_count": 528,
   "metadata": {},
   "outputs": [
    {
     "data": {
      "text/plain": [
       "Current               140116\n",
       "Fully Paid             33309\n",
       "Charged Off             9178\n",
       "Late (31-120 days)      3077\n",
       "In Grace Period         1570\n",
       "Late (16-30 days)        780\n",
       "Default                   93\n",
       "Name: loan_status, dtype: int64"
      ]
     },
     "execution_count": 528,
     "metadata": {},
     "output_type": "execute_result"
    }
   ],
   "source": [
    "loanStatus = applicants[\"loan_status\"]\n",
    "loanStatus.value_counts()"
   ]
  },
  {
   "cell_type": "code",
   "execution_count": 529,
   "metadata": {},
   "outputs": [
    {
     "data": {
      "text/plain": [
       "count      188123\n",
       "unique          7\n",
       "top       Current\n",
       "freq       140116\n",
       "Name: loan_status, dtype: object"
      ]
     },
     "execution_count": 529,
     "metadata": {},
     "output_type": "execute_result"
    }
   ],
   "source": [
    "loanStatus.describe()"
   ]
  },
  {
   "cell_type": "markdown",
   "metadata": {},
   "source": [
    "As seen above, the clear issue with this category is that it's missing certain entries (9664 values to be precise). There are a variety of ways to deal with missing values, numerous different *imputations* that we can perform to either fill in, or remove the missing values altogether.\n",
    "\n",
    "Keeping the distribution of values in mind (140116 entries correspond to the Current category - this is > 70% of the total values), and the number of missing values (9664 - approx. 4% missing), it's a safe assumption to make that these missing values fall under the Current category. Thus, we will impute/fill in the values assuming they belong to the mode.\n",
    "\n",
    "Note that there's several ways this could have been done (looking at other features and observing the correlations between them and the target variable), however in cases where there is a clear majority and a relatively small number of missing values, this method of imputation is perfect."
   ]
  },
  {
   "cell_type": "code",
   "execution_count": 530,
   "metadata": {},
   "outputs": [
    {
     "data": {
      "text/plain": [
       "count      197787\n",
       "unique          7\n",
       "top       Current\n",
       "freq       149780\n",
       "Name: loan_status, dtype: object"
      ]
     },
     "execution_count": 530,
     "metadata": {},
     "output_type": "execute_result"
    }
   ],
   "source": [
    "# Fill in missing values\n",
    "loanStatus.fillna(\"Current\", inplace = True)\n",
    "loanStatus.describe()"
   ]
  },
  {
   "cell_type": "markdown",
   "metadata": {},
   "source": [
    "In order to be able to use this as a target variable in our model, it's necessary to convert this categorical variable into a numerical variable. This can be done via a simple mapping:\n",
    "\n",
    "0 - Default\n",
    "\n",
    "1 - Late (16 - 30 days)\n",
    "\n",
    "2 - In Grace Period \n",
    "\n",
    "3 - Late (31 - 120 days)\n",
    "\n",
    "4 - Charged Off\n",
    "\n",
    "5 - Fully Paid\n",
    "\n",
    "6 - Current\n",
    "\n",
    "Applying this mapping:"
   ]
  },
  {
   "cell_type": "code",
   "execution_count": 531,
   "metadata": {},
   "outputs": [
    {
     "data": {
      "text/plain": [
       "6    149780\n",
       "5     33309\n",
       "4      9178\n",
       "3      3077\n",
       "2      1570\n",
       "1       780\n",
       "0        93\n",
       "Name: loan_status, dtype: int64"
      ]
     },
     "execution_count": 531,
     "metadata": {},
     "output_type": "execute_result"
    }
   ],
   "source": [
    "# Suppress SettingWithCopyWarning (occurs when you set a value on a slice of a DataFrame as done below)\n",
    "pd.options.mode.chained_assignment = None\n",
    "\n",
    "# Convert categorical to numerical feature\n",
    "loanStatus[loanStatus == \"Default\"] = 0\n",
    "loanStatus[loanStatus == \"Late (16-30 days)\"] = 1\n",
    "loanStatus[loanStatus == \"In Grace Period\"] = 2\n",
    "loanStatus[loanStatus == \"Late (31-120 days)\"] = 3\n",
    "loanStatus[loanStatus == \"Charged Off\"] = 4\n",
    "loanStatus[loanStatus == \"Fully Paid\"] = 5\n",
    "loanStatus[loanStatus == \"Current\"] = 6\n",
    "\n",
    "loanStatus.value_counts()"
   ]
  },
  {
   "cell_type": "markdown",
   "metadata": {},
   "source": [
    "## Feature Variables\n",
    "\n",
    "Having cleaned the target variable, we can now move on and clean the feature vectors! Let's start from the *id*, and move across the remaining features in order.\n",
    "\n",
    "### ID"
   ]
  },
  {
   "cell_type": "code",
   "execution_count": 532,
   "metadata": {},
   "outputs": [
    {
     "data": {
      "text/plain": [
       "count    1.977870e+05\n",
       "mean     5.090397e+06\n",
       "std      2.800545e+06\n",
       "min      5.852400e+04\n",
       "25%      2.295346e+06\n",
       "50%      5.445986e+06\n",
       "75%      7.371872e+06\n",
       "max      1.023483e+07\n",
       "Name: id, dtype: float64"
      ]
     },
     "execution_count": 532,
     "metadata": {},
     "output_type": "execute_result"
    }
   ],
   "source": [
    "ids = applicants[\"id\"]\n",
    "ids.describe()"
   ]
  },
  {
   "cell_type": "markdown",
   "metadata": {},
   "source": [
    "There are no missing values here, and the feature is already numerical! However, realizing that the goal is to classify whether we should approve the applicant's loan, it seems unlikely that the id (which based on the definition, is just a \"*unique LendingClub assigned ID for the loan listing*) has *any* correlation to the final prediction. Thus, we can **remove this feature altogether**\n",
    "\n",
    "It's a good idea to remove any unnecessary feature from the data, so that we can avoid **overfitting our model**, and having it memorize the training data (rather than being able to generalize well to real world conditions)."
   ]
  },
  {
   "cell_type": "code",
   "execution_count": 533,
   "metadata": {},
   "outputs": [
    {
     "data": {
      "text/html": [
       "<div>\n",
       "<table border=\"1\" class=\"dataframe\">\n",
       "  <thead>\n",
       "    <tr style=\"text-align: right;\">\n",
       "      <th></th>\n",
       "      <th>member_id</th>\n",
       "      <th>loan_amnt</th>\n",
       "      <th>term</th>\n",
       "      <th>int_rate</th>\n",
       "      <th>emp_length</th>\n",
       "      <th>home_ownership</th>\n",
       "      <th>annual_inc</th>\n",
       "      <th>loan_status</th>\n",
       "      <th>desc</th>\n",
       "      <th>purpose</th>\n",
       "      <th>...</th>\n",
       "      <th>bc_util</th>\n",
       "      <th>dti</th>\n",
       "      <th>inq_last_6mths</th>\n",
       "      <th>mths_since_recent_inq</th>\n",
       "      <th>revol_util</th>\n",
       "      <th>total_bc_limit</th>\n",
       "      <th>total_pymnt</th>\n",
       "      <th>mths_since_last_major_derog</th>\n",
       "      <th>tot_hi_cred_lim</th>\n",
       "      <th>tot_cur_bal</th>\n",
       "    </tr>\n",
       "  </thead>\n",
       "  <tbody>\n",
       "    <tr>\n",
       "      <th>0</th>\n",
       "      <td>11981032.0</td>\n",
       "      <td>7550</td>\n",
       "      <td>36 months</td>\n",
       "      <td>16.24%</td>\n",
       "      <td>3 years</td>\n",
       "      <td>RENT</td>\n",
       "      <td>28000.0</td>\n",
       "      <td>6</td>\n",
       "      <td>NaN</td>\n",
       "      <td>debt_consolidation</td>\n",
       "      <td>...</td>\n",
       "      <td>96.0</td>\n",
       "      <td>8.40</td>\n",
       "      <td>0.0</td>\n",
       "      <td>17.0</td>\n",
       "      <td>72%</td>\n",
       "      <td>4000.0</td>\n",
       "      <td>1864.38</td>\n",
       "      <td>NaN</td>\n",
       "      <td>3828.953801</td>\n",
       "      <td>5759.0</td>\n",
       "    </tr>\n",
       "    <tr>\n",
       "      <th>1</th>\n",
       "      <td>12000897.0</td>\n",
       "      <td>27050</td>\n",
       "      <td>36 months</td>\n",
       "      <td>10.99%</td>\n",
       "      <td>10+ years</td>\n",
       "      <td>OWN</td>\n",
       "      <td>55000.0</td>\n",
       "      <td>6</td>\n",
       "      <td>Borrower added on 12/31/13 &gt; Combining high ...</td>\n",
       "      <td>debt_consolidation</td>\n",
       "      <td>...</td>\n",
       "      <td>53.9</td>\n",
       "      <td>22.87</td>\n",
       "      <td>0.0</td>\n",
       "      <td>8.0</td>\n",
       "      <td>61.2%</td>\n",
       "      <td>35700.0</td>\n",
       "      <td>6198.22</td>\n",
       "      <td>NaN</td>\n",
       "      <td>34359.940727</td>\n",
       "      <td>114834.0</td>\n",
       "    </tr>\n",
       "    <tr>\n",
       "      <th>2</th>\n",
       "      <td>11981072.0</td>\n",
       "      <td>12000</td>\n",
       "      <td>36 months</td>\n",
       "      <td>10.99%</td>\n",
       "      <td>4 years</td>\n",
       "      <td>RENT</td>\n",
       "      <td>60000.0</td>\n",
       "      <td>6</td>\n",
       "      <td>Borrower added on 12/31/13 &gt; I would like to...</td>\n",
       "      <td>debt_consolidation</td>\n",
       "      <td>...</td>\n",
       "      <td>15.9</td>\n",
       "      <td>4.62</td>\n",
       "      <td>1.0</td>\n",
       "      <td>3.0</td>\n",
       "      <td>24%</td>\n",
       "      <td>18100.0</td>\n",
       "      <td>2748.84</td>\n",
       "      <td>NaN</td>\n",
       "      <td>16416.617758</td>\n",
       "      <td>7137.0</td>\n",
       "    </tr>\n",
       "  </tbody>\n",
       "</table>\n",
       "<p>3 rows × 21 columns</p>\n",
       "</div>"
      ],
      "text/plain": [
       "    member_id  loan_amnt        term int_rate emp_length home_ownership  \\\n",
       "0  11981032.0       7550   36 months   16.24%    3 years           RENT   \n",
       "1  12000897.0      27050   36 months   10.99%  10+ years            OWN   \n",
       "2  11981072.0      12000   36 months   10.99%    4 years           RENT   \n",
       "\n",
       "   annual_inc loan_status                                               desc  \\\n",
       "0     28000.0           6                                                NaN   \n",
       "1     55000.0           6    Borrower added on 12/31/13 > Combining high ...   \n",
       "2     60000.0           6    Borrower added on 12/31/13 > I would like to...   \n",
       "\n",
       "              purpose     ...       bc_util    dti  inq_last_6mths  \\\n",
       "0  debt_consolidation     ...          96.0   8.40             0.0   \n",
       "1  debt_consolidation     ...          53.9  22.87             0.0   \n",
       "2  debt_consolidation     ...          15.9   4.62             1.0   \n",
       "\n",
       "   mths_since_recent_inq  revol_util total_bc_limit  total_pymnt  \\\n",
       "0                   17.0         72%         4000.0      1864.38   \n",
       "1                    8.0       61.2%        35700.0      6198.22   \n",
       "2                    3.0         24%        18100.0      2748.84   \n",
       "\n",
       "   mths_since_last_major_derog  tot_hi_cred_lim  tot_cur_bal  \n",
       "0                          NaN      3828.953801       5759.0  \n",
       "1                          NaN     34359.940727     114834.0  \n",
       "2                          NaN     16416.617758       7137.0  \n",
       "\n",
       "[3 rows x 21 columns]"
      ]
     },
     "execution_count": 533,
     "metadata": {},
     "output_type": "execute_result"
    }
   ],
   "source": [
    "# Remove id\n",
    "applicants.drop(\"id\", axis = 1, inplace = True)\n",
    "applicants.head(3)"
   ]
  },
  {
   "cell_type": "markdown",
   "metadata": {},
   "source": [
    "### Member ID\n"
   ]
  },
  {
   "cell_type": "code",
   "execution_count": 534,
   "metadata": {},
   "outputs": [
    {
     "data": {
      "text/plain": [
       "188123"
      ]
     },
     "execution_count": 534,
     "metadata": {},
     "output_type": "execute_result"
    }
   ],
   "source": [
    "memberID = applicants[\"member_id\"]\n",
    "len(memberID.value_counts())"
   ]
  },
  {
   "cell_type": "code",
   "execution_count": 535,
   "metadata": {},
   "outputs": [
    {
     "data": {
      "text/plain": [
       "count    1.881230e+05\n",
       "mean     5.910758e+06\n",
       "std      3.343605e+06\n",
       "min      1.495120e+05\n",
       "25%      2.169516e+06\n",
       "50%      6.047542e+06\n",
       "75%      8.721086e+06\n",
       "max      1.209697e+07\n",
       "Name: member_id, dtype: float64"
      ]
     },
     "execution_count": 535,
     "metadata": {},
     "output_type": "execute_result"
    }
   ],
   "source": [
    "memberID.describe()"
   ]
  },
  {
   "cell_type": "markdown",
   "metadata": {},
   "source": [
    "Similar to the initial id column, member_id is defined to be *A unique LendingClub assigned id for the borrower member*. Thus, the difference between this column and the previous id is that the previous column corresponded to the specific loan, whereas this id corresponds to the borrowing member (a borrower could potentially request multiple loans in the future).\n",
    "\n",
    "Judging from the above statistics, it seems like every single entry is unique (implying no repeat members/customers). Since there are missing values in this feature, there would be some method necessary to fill/generate the missing ids. Imputing repeat indexes would be difficult since the ids are not sequential, and we don't have any information regarding repeat applicants.\n",
    "\n",
    "Based on the above information, and the fact that even the member_id largely doesn't correlate with the target classification, we can also **remove this feature**!"
   ]
  },
  {
   "cell_type": "code",
   "execution_count": 536,
   "metadata": {},
   "outputs": [
    {
     "data": {
      "text/html": [
       "<div>\n",
       "<table border=\"1\" class=\"dataframe\">\n",
       "  <thead>\n",
       "    <tr style=\"text-align: right;\">\n",
       "      <th></th>\n",
       "      <th>loan_amnt</th>\n",
       "      <th>term</th>\n",
       "      <th>int_rate</th>\n",
       "      <th>emp_length</th>\n",
       "      <th>home_ownership</th>\n",
       "      <th>annual_inc</th>\n",
       "      <th>loan_status</th>\n",
       "      <th>desc</th>\n",
       "      <th>purpose</th>\n",
       "      <th>percent_bc_gt_75</th>\n",
       "      <th>bc_util</th>\n",
       "      <th>dti</th>\n",
       "      <th>inq_last_6mths</th>\n",
       "      <th>mths_since_recent_inq</th>\n",
       "      <th>revol_util</th>\n",
       "      <th>total_bc_limit</th>\n",
       "      <th>total_pymnt</th>\n",
       "      <th>mths_since_last_major_derog</th>\n",
       "      <th>tot_hi_cred_lim</th>\n",
       "      <th>tot_cur_bal</th>\n",
       "    </tr>\n",
       "  </thead>\n",
       "  <tbody>\n",
       "    <tr>\n",
       "      <th>0</th>\n",
       "      <td>7550</td>\n",
       "      <td>36 months</td>\n",
       "      <td>16.24%</td>\n",
       "      <td>3 years</td>\n",
       "      <td>RENT</td>\n",
       "      <td>28000.0</td>\n",
       "      <td>6</td>\n",
       "      <td>NaN</td>\n",
       "      <td>debt_consolidation</td>\n",
       "      <td>100.0</td>\n",
       "      <td>96.0</td>\n",
       "      <td>8.40</td>\n",
       "      <td>0.0</td>\n",
       "      <td>17.0</td>\n",
       "      <td>72%</td>\n",
       "      <td>4000.0</td>\n",
       "      <td>1864.38</td>\n",
       "      <td>NaN</td>\n",
       "      <td>3828.953801</td>\n",
       "      <td>5759.0</td>\n",
       "    </tr>\n",
       "    <tr>\n",
       "      <th>1</th>\n",
       "      <td>27050</td>\n",
       "      <td>36 months</td>\n",
       "      <td>10.99%</td>\n",
       "      <td>10+ years</td>\n",
       "      <td>OWN</td>\n",
       "      <td>55000.0</td>\n",
       "      <td>6</td>\n",
       "      <td>Borrower added on 12/31/13 &gt; Combining high ...</td>\n",
       "      <td>debt_consolidation</td>\n",
       "      <td>25.0</td>\n",
       "      <td>53.9</td>\n",
       "      <td>22.87</td>\n",
       "      <td>0.0</td>\n",
       "      <td>8.0</td>\n",
       "      <td>61.2%</td>\n",
       "      <td>35700.0</td>\n",
       "      <td>6198.22</td>\n",
       "      <td>NaN</td>\n",
       "      <td>34359.940727</td>\n",
       "      <td>114834.0</td>\n",
       "    </tr>\n",
       "    <tr>\n",
       "      <th>2</th>\n",
       "      <td>12000</td>\n",
       "      <td>36 months</td>\n",
       "      <td>10.99%</td>\n",
       "      <td>4 years</td>\n",
       "      <td>RENT</td>\n",
       "      <td>60000.0</td>\n",
       "      <td>6</td>\n",
       "      <td>Borrower added on 12/31/13 &gt; I would like to...</td>\n",
       "      <td>debt_consolidation</td>\n",
       "      <td>0.0</td>\n",
       "      <td>15.9</td>\n",
       "      <td>4.62</td>\n",
       "      <td>1.0</td>\n",
       "      <td>3.0</td>\n",
       "      <td>24%</td>\n",
       "      <td>18100.0</td>\n",
       "      <td>2748.84</td>\n",
       "      <td>NaN</td>\n",
       "      <td>16416.617758</td>\n",
       "      <td>7137.0</td>\n",
       "    </tr>\n",
       "  </tbody>\n",
       "</table>\n",
       "</div>"
      ],
      "text/plain": [
       "   loan_amnt        term int_rate emp_length home_ownership  annual_inc  \\\n",
       "0       7550   36 months   16.24%    3 years           RENT     28000.0   \n",
       "1      27050   36 months   10.99%  10+ years            OWN     55000.0   \n",
       "2      12000   36 months   10.99%    4 years           RENT     60000.0   \n",
       "\n",
       "  loan_status                                               desc  \\\n",
       "0           6                                                NaN   \n",
       "1           6    Borrower added on 12/31/13 > Combining high ...   \n",
       "2           6    Borrower added on 12/31/13 > I would like to...   \n",
       "\n",
       "              purpose  percent_bc_gt_75  bc_util    dti  inq_last_6mths  \\\n",
       "0  debt_consolidation             100.0     96.0   8.40             0.0   \n",
       "1  debt_consolidation              25.0     53.9  22.87             0.0   \n",
       "2  debt_consolidation               0.0     15.9   4.62             1.0   \n",
       "\n",
       "   mths_since_recent_inq revol_util  total_bc_limit  total_pymnt  \\\n",
       "0                   17.0        72%          4000.0      1864.38   \n",
       "1                    8.0      61.2%         35700.0      6198.22   \n",
       "2                    3.0        24%         18100.0      2748.84   \n",
       "\n",
       "   mths_since_last_major_derog  tot_hi_cred_lim  tot_cur_bal  \n",
       "0                          NaN      3828.953801       5759.0  \n",
       "1                          NaN     34359.940727     114834.0  \n",
       "2                          NaN     16416.617758       7137.0  "
      ]
     },
     "execution_count": 536,
     "metadata": {},
     "output_type": "execute_result"
    }
   ],
   "source": [
    "# Remove member ID\n",
    "applicants.drop(\"member_id\", axis = 1, inplace = True)\n",
    "applicants.head(3)"
   ]
  },
  {
   "cell_type": "markdown",
   "metadata": {},
   "source": [
    "### Loan Amount"
   ]
  },
  {
   "cell_type": "code",
   "execution_count": 537,
   "metadata": {},
   "outputs": [
    {
     "data": {
      "text/plain": [
       "10000    14383\n",
       "12000    10908\n",
       "15000    10698\n",
       "20000     9177\n",
       "8000      6647\n",
       "35000     5921\n",
       "6000      5912\n",
       "16000     5435\n",
       "5000      5166\n",
       "18000     5039\n",
       "24000     4310\n",
       "25000     3894\n",
       "30000     3249\n",
       "7000      3045\n",
       "14000     2924\n",
       "9000      2886\n",
       "21000     2777\n",
       "28000     2587\n",
       "4000      2557\n",
       "3000      2274\n",
       "7200      1763\n",
       "9600      1756\n",
       "13000     1519\n",
       "11000     1405\n",
       "17000     1296\n",
       "22000     1229\n",
       "2000      1181\n",
       "11500     1135\n",
       "14400     1122\n",
       "7500      1111\n",
       "         ...  \n",
       "27375        1\n",
       "34275        1\n",
       "1375         1\n",
       "32150        1\n",
       "27625        1\n",
       "27925        1\n",
       "28825        1\n",
       "28775        1\n",
       "34325        1\n",
       "34700        1\n",
       "31975        1\n",
       "24100        1\n",
       "30275        1\n",
       "32775        1\n",
       "34750        1\n",
       "31425        1\n",
       "33725        1\n",
       "32675        1\n",
       "29350        1\n",
       "26725        1\n",
       "32375        1\n",
       "31325        1\n",
       "34825        1\n",
       "33475        1\n",
       "33850        1\n",
       "33800        1\n",
       "29675        1\n",
       "1425         1\n",
       "33350        1\n",
       "34575        1\n",
       "Name: loan_amnt, dtype: int64"
      ]
     },
     "execution_count": 537,
     "metadata": {},
     "output_type": "execute_result"
    }
   ],
   "source": [
    "loanAmount = applicants[\"loan_amnt\"]\n",
    "loanAmount.value_counts()"
   ]
  },
  {
   "cell_type": "code",
   "execution_count": 538,
   "metadata": {},
   "outputs": [
    {
     "data": {
      "text/plain": [
       "count    197787.000000\n",
       "mean      14070.907213\n",
       "std        8069.585694\n",
       "min        1000.000000\n",
       "25%        8000.000000\n",
       "50%       12000.000000\n",
       "75%       19600.000000\n",
       "max       35000.000000\n",
       "Name: loan_amnt, dtype: float64"
      ]
     },
     "execution_count": 538,
     "metadata": {},
     "output_type": "execute_result"
    }
   ],
   "source": [
    "loanAmount.describe()"
   ]
  },
  {
   "cell_type": "markdown",
   "metadata": {},
   "source": [
    "This feature seems to be pretty clean, having the full set of entries + a numerical set of values! Some interesting obvservations can be made however:\n",
    "\n",
    "**Common Loan Amounts**\n",
    "\n",
    "There are certain amounts that seem to be very frequently requested, and they're generally well rounded, larger numbers (i.e. 10000, 12000, 15000 etc.). This makes intuitive sense, since generally people tend to estimate a given financial need to a specific, rounded target and then request the final amount. \n",
    "\n",
    "It's interesting to note however that 10000 seems to be the most common amount, 14000 is the average/mean amount requested, and 35000 is the maximum amount! This gives us an idea of the type of loans requested (and the resulting demographic of applicants + their needs), as well as the range of loans that LendingClub willingly approves!"
   ]
  },
  {
   "cell_type": "markdown",
   "metadata": {},
   "source": [
    "### Term"
   ]
  },
  {
   "cell_type": "code",
   "execution_count": 539,
   "metadata": {},
   "outputs": [
    {
     "data": {
      "text/plain": [
       " 36 months    143850\n",
       " 60 months     44273\n",
       "Name: term, dtype: int64"
      ]
     },
     "execution_count": 539,
     "metadata": {},
     "output_type": "execute_result"
    }
   ],
   "source": [
    "term = applicants[\"term\"]\n",
    "term.value_counts()"
   ]
  },
  {
   "cell_type": "code",
   "execution_count": 540,
   "metadata": {},
   "outputs": [
    {
     "data": {
      "text/plain": [
       "count         188123\n",
       "unique             2\n",
       "top        36 months\n",
       "freq          143850\n",
       "Name: term, dtype: object"
      ]
     },
     "execution_count": 540,
     "metadata": {},
     "output_type": "execute_result"
    }
   ],
   "source": [
    "term.describe()"
   ]
  },
  {
   "cell_type": "markdown",
   "metadata": {},
   "source": [
    "Similar to the target variable, the term feature contains two things necessary to cleanup:\n",
    "\n",
    "**Missing Values**\n",
    "\n",
    "With an overwhelming majority in term (36 months is over 72% of total entries), and a small number of missing values (9664 values again!), it's a safe assumption to assign the missing values to a term of \"36 months\".\n",
    "\n",
    "**Categorical Variable**\n",
    "\n",
    "Given that the variable is categorical, it needs to be converted to a numerical output in order to be useful in our model. Since there's only two possible categories, this can be done with a simple Boolean mapping:\n",
    "\n",
    "0 - 36 months\n",
    "\n",
    "1 - 60 months\n",
    "\n",
    "Let's perform the above two steps:"
   ]
  },
  {
   "cell_type": "code",
   "execution_count": 541,
   "metadata": {},
   "outputs": [
    {
     "data": {
      "text/plain": [
       "count         197787\n",
       "unique             2\n",
       "top        36 months\n",
       "freq          153514\n",
       "Name: term, dtype: object"
      ]
     },
     "execution_count": 541,
     "metadata": {},
     "output_type": "execute_result"
    }
   ],
   "source": [
    "# Fill in missing values\n",
    "term.fillna(\" 36 months\", inplace = True)\n",
    "term.describe()"
   ]
  },
  {
   "cell_type": "code",
   "execution_count": 542,
   "metadata": {},
   "outputs": [
    {
     "data": {
      "text/plain": [
       " 36 months    153514\n",
       " 60 months     44273\n",
       "Name: term, dtype: int64"
      ]
     },
     "execution_count": 542,
     "metadata": {},
     "output_type": "execute_result"
    }
   ],
   "source": [
    "term.value_counts()"
   ]
  },
  {
   "cell_type": "code",
   "execution_count": 543,
   "metadata": {},
   "outputs": [
    {
     "data": {
      "text/plain": [
       "0    153514\n",
       "1     44273\n",
       "Name: term, dtype: int64"
      ]
     },
     "execution_count": 543,
     "metadata": {},
     "output_type": "execute_result"
    }
   ],
   "source": [
    "# Convert to numerical values\n",
    "term[term == \" 36 months\"] = 0\n",
    "term[term == \" 60 months\"] = 1\n",
    "term.value_counts()"
   ]
  },
  {
   "cell_type": "markdown",
   "metadata": {},
   "source": [
    "### Interest Rate\n"
   ]
  },
  {
   "cell_type": "code",
   "execution_count": 544,
   "metadata": {},
   "outputs": [
    {
     "data": {
      "text/plain": [
       " 12.12%    9408\n",
       " 13.11%    8258\n",
       "  8.90%    7639\n",
       " 14.33%    7142\n",
       "  7.90%    6612\n",
       " 11.14%    6428\n",
       " 15.31%    5345\n",
       " 16.29%    5029\n",
       "  7.62%    4716\n",
       " 15.80%    4616\n",
       " 17.27%    4454\n",
       " 10.16%    4318\n",
       "  6.03%    4252\n",
       " 14.09%    4248\n",
       "  6.62%    3805\n",
       " 17.77%    3482\n",
       " 11.99%    3380\n",
       " 10.99%    3184\n",
       " 13.67%    2814\n",
       " 18.49%    2777\n",
       " 15.61%    2765\n",
       " 12.99%    2756\n",
       " 12.35%    2547\n",
       " 11.55%    2459\n",
       " 19.05%    2362\n",
       " 10.64%    2315\n",
       " 18.75%    2279\n",
       " 14.30%    2126\n",
       " 16.20%    2085\n",
       "  9.71%    2084\n",
       "           ... \n",
       " 22.45%     110\n",
       " 15.27%     107\n",
       " 15.96%     104\n",
       " 17.58%      97\n",
       " 22.78%      84\n",
       " 23.13%      73\n",
       " 18.64%      71\n",
       " 25.99%      63\n",
       " 19.03%      53\n",
       " 19.91%      53\n",
       " 26.06%      52\n",
       " 23.33%      47\n",
       " 19.42%      47\n",
       " 20.30%      46\n",
       " 23.26%      46\n",
       " 24.20%      35\n",
       " 20.89%      31\n",
       " 21.28%      31\n",
       "  6.00%      25\n",
       " 24.33%      21\n",
       " 21.67%      19\n",
       " 22.74%      12\n",
       " 22.35%      11\n",
       " 22.06%      11\n",
       " 24.52%       6\n",
       " 24.76%       6\n",
       " 24.11%       5\n",
       " 23.91%       3\n",
       " 23.52%       2\n",
       " 14.28%       1\n",
       "Name: int_rate, dtype: int64"
      ]
     },
     "execution_count": 544,
     "metadata": {},
     "output_type": "execute_result"
    }
   ],
   "source": [
    "intRate = applicants[\"int_rate\"]\n",
    "intRate.value_counts()"
   ]
  },
  {
   "cell_type": "code",
   "execution_count": 545,
   "metadata": {},
   "outputs": [
    {
     "data": {
      "text/plain": [
       "count      188123\n",
       "unique        145\n",
       "top        12.12%\n",
       "freq         9408\n",
       "Name: int_rate, dtype: object"
      ]
     },
     "execution_count": 545,
     "metadata": {},
     "output_type": "execute_result"
    }
   ],
   "source": [
    "intRate.describe()"
   ]
  },
  {
   "cell_type": "markdown",
   "metadata": {},
   "source": [
    "As seen above, there are 9664 missing values, however there is no clear majority in terms of common interest rate issued. Thus, we cannot simply impute the missing values with the most frequently occuring interest rate. A more intelligent method needs to be utilized!\n",
    "\n",
    "Also, it's important to notice that the presence of the percentage in the column implies that it's of string type. We need to make sure that the values are numeric! Let's do this first, and then we can potentially utilize things like a median/mean."
   ]
  },
  {
   "cell_type": "code",
   "execution_count": 546,
   "metadata": {},
   "outputs": [],
   "source": [
    "# Convert to numerical values\n",
    "intRate[intRate.str.contains(\"%\").fillna(False)] = intRate.str.replace(\"%\", \"\")\n",
    "intRate[intRate.str.contains(\" \").fillna(False)] = intRate.str.replace(\" \", \"\")\n",
    "intRate = intRate.astype(float)"
   ]
  },
  {
   "cell_type": "code",
   "execution_count": 547,
   "metadata": {},
   "outputs": [
    {
     "data": {
      "text/plain": [
       "count    188123.000000\n",
       "mean         14.279068\n",
       "std           4.436916\n",
       "min           6.000000\n",
       "25%          11.140000\n",
       "50%          14.090000\n",
       "75%          17.270000\n",
       "max          26.060000\n",
       "Name: int_rate, dtype: float64"
      ]
     },
     "execution_count": 547,
     "metadata": {},
     "output_type": "execute_result"
    }
   ],
   "source": [
    "intRate.describe()"
   ]
  },
  {
   "cell_type": "markdown",
   "metadata": {},
   "source": [
    "Having performed the conversion, we can now observe basic feature statistics and make a decision on how to impute the missing values.\n",
    "\n",
    "Remember, the goal with the imputation is to **minimize the disturbance to the data distribution**. The given set of interest rates is distributed in a specific distribution, and depending on how we add the missing values, the resulting distribution will be scaled/shifted/transposed version of the original. The goal is to preserve the underlying information in the data, and thus minimize the impact that imputed values have (which is why previously, when there's a majority present, we just use that!)\n",
    "\n",
    "In this case, since there is no underlying majority, we can use other statistics. Notice that both the mean and median are essentially the same (approx. 14%), implying that the feature is **well-balanced (no skew)**. Using this, we can chose to replace the missing values with the mean of the distribution, thereby minimizing impact (if you imagine a normal distribution, the spike at the mean will just move slightly up!).\n",
    "\n",
    "Let's do this:"
   ]
  },
  {
   "cell_type": "code",
   "execution_count": 548,
   "metadata": {},
   "outputs": [
    {
     "data": {
      "text/plain": [
       "count    197787.000000\n",
       "mean         14.279068\n",
       "std           4.327163\n",
       "min           6.000000\n",
       "25%          11.140000\n",
       "50%          14.279068\n",
       "75%          17.270000\n",
       "max          26.060000\n",
       "Name: int_rate, dtype: float64"
      ]
     },
     "execution_count": 548,
     "metadata": {},
     "output_type": "execute_result"
    }
   ],
   "source": [
    "# Fill in missing values with mean\n",
    "intRate.fillna(intRate.mean(), inplace = True)\n",
    "intRate.describe()"
   ]
  },
  {
   "cell_type": "markdown",
   "metadata": {},
   "source": [
    "### Employment Length"
   ]
  },
  {
   "cell_type": "code",
   "execution_count": 549,
   "metadata": {},
   "outputs": [
    {
     "data": {
      "text/plain": [
       "10+ years    61175\n",
       "2 years      16143\n",
       "5 years      14265\n",
       "3 years      13965\n",
       "< 1 year     13222\n",
       "6 years      11916\n",
       "1 year       11434\n",
       "7 years      11207\n",
       "4 years      10846\n",
       "8 years       8950\n",
       "n/a           7877\n",
       "9 years       7123\n",
       "Name: emp_length, dtype: int64"
      ]
     },
     "execution_count": 549,
     "metadata": {},
     "output_type": "execute_result"
    }
   ],
   "source": [
    "empLength = applicants[\"emp_length\"]\n",
    "empLength.value_counts()"
   ]
  },
  {
   "cell_type": "code",
   "execution_count": 550,
   "metadata": {},
   "outputs": [
    {
     "data": {
      "text/plain": [
       "count        188123\n",
       "unique           12\n",
       "top       10+ years\n",
       "freq          61175\n",
       "Name: emp_length, dtype: object"
      ]
     },
     "execution_count": 550,
     "metadata": {},
     "output_type": "execute_result"
    }
   ],
   "source": [
    "empLength.describe()"
   ]
  },
  {
   "cell_type": "code",
   "execution_count": 551,
   "metadata": {},
   "outputs": [
    {
     "data": {
      "text/plain": [
       "9664"
      ]
     },
     "execution_count": 551,
     "metadata": {},
     "output_type": "execute_result"
    }
   ],
   "source": [
    "len(empLength[empLength.isnull()])"
   ]
  },
  {
   "cell_type": "markdown",
   "metadata": {},
   "source": [
    "The employment length feature, characterizing the applicant's length of employment, is similar to some of the previous features in the sense that it contains **9664 missing values**, and is **categorical in nature**. \n",
    "\n",
    "**Missing Values**\n",
    "Notice that the number of missing values (9664) is almost at par to the frequency of common employment lengths (approximately 11/12000). The majority class, 10+ years, comprises of almost 30% of the total values. However, this is not as overwhelming as previous features, and thus, simply filling in the missing values with the majority class is **not the best course of option**.\n",
    "\n",
    "In an attempt to minimize the impact on the existing distribution, we can notice that the frequency of the majority class is roughly 6x the frequency of all the other classes. Utilizing this to our advantage, we can fill in missing values in a similar fashion into each category.\n",
    "\n",
    "This means that if we fill each category with 650 values, the majority class will have 9664 - (650 * 9) = 3814 values added to it (where 650 x 6 = 3900, which is approx. 3814)!"
   ]
  },
  {
   "cell_type": "code",
   "execution_count": 552,
   "metadata": {},
   "outputs": [
    {
     "data": {
      "text/plain": [
       "10+ years    64339\n",
       "2 years      16793\n",
       "5 years      14915\n",
       "3 years      14615\n",
       "< 1 year     13872\n",
       "6 years      12566\n",
       "7 years      11857\n",
       "4 years      11496\n",
       "1 year       11434\n",
       "8 years       9600\n",
       "n/a           8527\n",
       "9 years       7773\n",
       "Name: emp_length, dtype: int64"
      ]
     },
     "execution_count": 552,
     "metadata": {},
     "output_type": "execute_result"
    }
   ],
   "source": [
    "# Fill in missing values\n",
    "empLength.fillna(\"n/a\", limit = 650, inplace = True)\n",
    "empLength.fillna(\"< 1 year\", limit = 650, inplace = True)\n",
    "empLength.fillna(\"2 years\", limit = 650, inplace = True)\n",
    "empLength.fillna(\"3 years\", limit = 650, inplace = True)\n",
    "empLength.fillna(\"4 years\", limit = 650, inplace = True)\n",
    "empLength.fillna(\"5 years\", limit = 650, inplace = True)\n",
    "empLength.fillna(\"6 years\", limit = 650, inplace = True)\n",
    "empLength.fillna(\"7 years\", limit = 650, inplace = True)\n",
    "empLength.fillna(\"8 years\", limit = 650, inplace = True)\n",
    "empLength.fillna(\"9 years\", limit = 650, inplace = True)\n",
    "empLength.fillna(\"10+ years\", inplace = True) # remaining values\n",
    "\n",
    "empLength.value_counts()"
   ]
  },
  {
   "cell_type": "code",
   "execution_count": 553,
   "metadata": {},
   "outputs": [
    {
     "data": {
      "text/plain": [
       "count        197787\n",
       "unique           12\n",
       "top       10+ years\n",
       "freq          64339\n",
       "Name: emp_length, dtype: object"
      ]
     },
     "execution_count": 553,
     "metadata": {},
     "output_type": "execute_result"
    }
   ],
   "source": [
    "empLength.describe()"
   ]
  },
  {
   "cell_type": "markdown",
   "metadata": {},
   "source": [
    "Clearly from above, the distribution of values has roughly stayed the same! This method of imputation was successful!\n",
    "\n",
    "We now need to convert this categorical feature to a numerical one, with the following simple mapping:\n",
    "\n",
    "0 - n/a\n",
    "\n",
    "1 - < 1 year\n",
    "\n",
    "2 - 1 year\n",
    "\n",
    "3 - 2 years\n",
    "\n",
    "4 - 3 years\n",
    "\n",
    "5 - 4 years\n",
    "\n",
    "6 - 5 years\n",
    "\n",
    "7 - 6 years\n",
    "\n",
    "8 - 7 years\n",
    "\n",
    "9 - 8 years\n",
    "\n",
    "10 - 9 years\n",
    "\n",
    "11 - 10+ years\n",
    "\n",
    "Let's implement this:"
   ]
  },
  {
   "cell_type": "code",
   "execution_count": 554,
   "metadata": {},
   "outputs": [
    {
     "data": {
      "text/plain": [
       "11    64339\n",
       "3     16793\n",
       "6     14915\n",
       "4     14615\n",
       "1     13872\n",
       "7     12566\n",
       "8     11857\n",
       "5     11496\n",
       "2     11434\n",
       "9      9600\n",
       "0      8527\n",
       "10     7773\n",
       "Name: emp_length, dtype: int64"
      ]
     },
     "execution_count": 554,
     "metadata": {},
     "output_type": "execute_result"
    }
   ],
   "source": [
    "# Convert to numerical values\n",
    "empLength[empLength == \"n/a\"] = 0\n",
    "empLength[empLength == \"< 1 year\"] = 1\n",
    "empLength[empLength == \"1 year\"] = 2\n",
    "empLength[empLength == \"2 years\"] = 3\n",
    "empLength[empLength == \"3 years\"] = 4\n",
    "empLength[empLength == \"4 years\"] = 5\n",
    "empLength[empLength == \"5 years\"] = 6\n",
    "empLength[empLength == \"6 years\"] = 7\n",
    "empLength[empLength == \"7 years\"] = 8\n",
    "empLength[empLength == \"8 years\"] = 9\n",
    "empLength[empLength == \"9 years\"] = 10\n",
    "empLength[empLength == \"10+ years\"] = 11\n",
    "\n",
    "empLength.value_counts()"
   ]
  },
  {
   "cell_type": "markdown",
   "metadata": {},
   "source": [
    "### Home Ownership"
   ]
  },
  {
   "cell_type": "code",
   "execution_count": 555,
   "metadata": {},
   "outputs": [
    {
     "data": {
      "text/plain": [
       "MORTGAGE    96979\n",
       "RENT        75609\n",
       "OWN         15447\n",
       "OTHER          46\n",
       "NONE           42\n",
       "Name: home_ownership, dtype: int64"
      ]
     },
     "execution_count": 555,
     "metadata": {},
     "output_type": "execute_result"
    }
   ],
   "source": [
    "home = applicants[\"home_ownership\"]\n",
    "home.value_counts()"
   ]
  },
  {
   "cell_type": "code",
   "execution_count": 556,
   "metadata": {},
   "outputs": [
    {
     "data": {
      "text/plain": [
       "count       188123\n",
       "unique           5\n",
       "top       MORTGAGE\n",
       "freq         96979\n",
       "Name: home_ownership, dtype: object"
      ]
     },
     "execution_count": 556,
     "metadata": {},
     "output_type": "execute_result"
    }
   ],
   "source": [
    "home.describe()"
   ]
  },
  {
   "cell_type": "markdown",
   "metadata": {},
   "source": [
    "Similar to previous cases, we can fill in the missing values using the most common classes and then convert the feature to numerical values (as opposed to it's current, categorical nature).\n",
    "\n",
    "Since there's three predominant classes (out of which MORTGAGE and RENT are roughly 5/6 times the frequency of OWN), we can fill the missing values according to the same distribution! This means:\n",
    "\n",
    "OWN - 750 values\n",
    "\n",
    "RENT - 3750 values (5x OWN)\n",
    "\n",
    "MORTGAGE - 4500 values (6x OWN)\n",
    "\n",
    "Total = 9000 (approx equal to 9664, remaining values will go to MORTGAGE)"
   ]
  },
  {
   "cell_type": "code",
   "execution_count": 557,
   "metadata": {},
   "outputs": [
    {
     "data": {
      "text/plain": [
       "MORTGAGE    102143\n",
       "RENT         79359\n",
       "OWN          16197\n",
       "OTHER           46\n",
       "NONE            42\n",
       "Name: home_ownership, dtype: int64"
      ]
     },
     "execution_count": 557,
     "metadata": {},
     "output_type": "execute_result"
    }
   ],
   "source": [
    "# Fill in missing values\n",
    "home.fillna(\"OWN\", limit = 750, inplace = True)\n",
    "home.fillna(\"RENT\", limit = 3750, inplace = True)\n",
    "home.fillna(\"MORTGAGE\", inplace = True)\n",
    "\n",
    "home.value_counts()"
   ]
  },
  {
   "cell_type": "markdown",
   "metadata": {},
   "source": [
    "Maintaining the original distribution, we can now convert the categorical values to numerical ones! This will be done via a simple mapping:\n",
    "\n",
    "0 - NONE\n",
    "\n",
    "1 - OTHER\n",
    "\n",
    "2 - OWN\n",
    "\n",
    "3 - RENT\n",
    "\n",
    "4 - MORTGAGE"
   ]
  },
  {
   "cell_type": "code",
   "execution_count": 558,
   "metadata": {},
   "outputs": [
    {
     "data": {
      "text/plain": [
       "4    102143\n",
       "3     79359\n",
       "2     16197\n",
       "1        46\n",
       "0        42\n",
       "Name: home_ownership, dtype: int64"
      ]
     },
     "execution_count": 558,
     "metadata": {},
     "output_type": "execute_result"
    }
   ],
   "source": [
    "# Convert to numerical\n",
    "home[home == \"NONE\"] = 0\n",
    "home[home == \"OTHER\"] = 1\n",
    "home[home == \"OWN\"] = 2\n",
    "home[home == \"RENT\"] = 3\n",
    "home[home == \"MORTGAGE\"] = 4\n",
    "\n",
    "home.value_counts()"
   ]
  },
  {
   "cell_type": "code",
   "execution_count": 559,
   "metadata": {},
   "outputs": [
    {
     "data": {
      "text/plain": [
       "count     197787\n",
       "unique         5\n",
       "top            4\n",
       "freq      102143\n",
       "Name: home_ownership, dtype: int64"
      ]
     },
     "execution_count": 559,
     "metadata": {},
     "output_type": "execute_result"
    }
   ],
   "source": [
    "home.describe()"
   ]
  },
  {
   "cell_type": "markdown",
   "metadata": {},
   "source": [
    "### Annual Income"
   ]
  },
  {
   "cell_type": "code",
   "execution_count": 560,
   "metadata": {},
   "outputs": [
    {
     "data": {
      "text/plain": [
       "60000.00     7205\n",
       "50000.00     6740\n",
       "65000.00     5393\n",
       "40000.00     5338\n",
       "70000.00     5127\n",
       "45000.00     5069\n",
       "80000.00     4869\n",
       "75000.00     4690\n",
       "55000.00     4635\n",
       "90000.00     3573\n",
       "100000.00    3483\n",
       "85000.00     3344\n",
       "35000.00     3255\n",
       "30000.00     2987\n",
       "52000.00     2670\n",
       "42000.00     2602\n",
       "120000.00    2529\n",
       "48000.00     2421\n",
       "110000.00    2228\n",
       "72000.00     2035\n",
       "95000.00     1913\n",
       "36000.00     1718\n",
       "38000.00     1684\n",
       "62000.00     1646\n",
       "32000.00     1523\n",
       "54000.00     1455\n",
       "150000.00    1453\n",
       "58000.00     1444\n",
       "56000.00     1435\n",
       "25000.00     1426\n",
       "             ... \n",
       "85366.00        1\n",
       "34567.32        1\n",
       "42711.00        1\n",
       "85426.00        1\n",
       "49580.00        1\n",
       "77685.00        1\n",
       "104700.00       1\n",
       "51422.27        1\n",
       "59132.00        1\n",
       "118260.00       1\n",
       "17604.00        1\n",
       "77682.00        1\n",
       "42743.75        1\n",
       "85486.00        1\n",
       "45676.80        1\n",
       "118250.00       1\n",
       "59120.00        1\n",
       "32966.00        1\n",
       "85468.00        1\n",
       "85465.00        1\n",
       "42732.00        1\n",
       "42731.00        1\n",
       "85461.50        1\n",
       "23158.00        1\n",
       "59112.00        1\n",
       "34874.98        1\n",
       "85451.00        1\n",
       "85446.00        1\n",
       "102905.04       1\n",
       "98304.00        1\n",
       "Name: annual_inc, dtype: int64"
      ]
     },
     "execution_count": 560,
     "metadata": {},
     "output_type": "execute_result"
    }
   ],
   "source": [
    "income = applicants[\"annual_inc\"]\n",
    "income.value_counts()"
   ]
  },
  {
   "cell_type": "code",
   "execution_count": 561,
   "metadata": {},
   "outputs": [
    {
     "data": {
      "text/plain": [
       "count    1.881230e+05\n",
       "mean     7.223871e+04\n",
       "std      5.182946e+04\n",
       "min      4.800000e+03\n",
       "25%      4.500000e+04\n",
       "50%      6.200000e+04\n",
       "75%      8.700000e+04\n",
       "max      7.141778e+06\n",
       "Name: annual_inc, dtype: float64"
      ]
     },
     "execution_count": 561,
     "metadata": {},
     "output_type": "execute_result"
    }
   ],
   "source": [
    "income.describe()"
   ]
  },
  {
   "cell_type": "markdown",
   "metadata": {},
   "source": [
    "Similar to the interest rate feature, although there are a few common/recurring income categories (i.e. 60000, 50000 etc.), there is no overwhelming majority that we can use to fill missing values. Noticing that the mean and median are relatively similar, we can use them to fill in the missing values!\n",
    "\n",
    "Since the median is closer to the most frequent income, we'll use the median to fill in the missing values (this will pull the mean back, and reduce the little skew that exists!)"
   ]
  },
  {
   "cell_type": "code",
   "execution_count": 562,
   "metadata": {},
   "outputs": [
    {
     "data": {
      "text/plain": [
       "count    1.977870e+05\n",
       "mean     7.173844e+04\n",
       "std      5.059556e+04\n",
       "min      4.800000e+03\n",
       "25%      4.550000e+04\n",
       "50%      6.200000e+04\n",
       "75%      8.500000e+04\n",
       "max      7.141778e+06\n",
       "Name: annual_inc, dtype: float64"
      ]
     },
     "execution_count": 562,
     "metadata": {},
     "output_type": "execute_result"
    }
   ],
   "source": [
    "# Fill in missing values using median\n",
    "income.fillna(income.median(), inplace = True)\n",
    "income.describe()"
   ]
  },
  {
   "cell_type": "markdown",
   "metadata": {},
   "source": [
    "### Description"
   ]
  },
  {
   "cell_type": "code",
   "execution_count": 563,
   "metadata": {},
   "outputs": [
    {
     "data": {
      "text/plain": [
       "  Borrower added on 01/14/13 > Debt consolidation<br>                                                                                                                                                                                                                                                                                                                                                                                                                                                                                                                                                                                                                                                                                                                                                                                                                                                                                                                                                                                                                                                                                                 6\n",
       "  Borrower added on 07/25/13 > Debt consolidation<br>                                                                                                                                                                                                                                                                                                                                                                                                                                                                                                                                                                                                                                                                                                                                                                                                                                                                                                                                                                                                                                                                                                 6\n",
       "  Borrower added on 10/23/13 > Debt consolidation<br>                                                                                                                                                                                                                                                                                                                                                                                                                                                                                                                                                                                                                                                                                                                                                                                                                                                                                                                                                                                                                                                                                                 5\n",
       "  Borrower added on 12/10/13 > Debt consolidation<br>                                                                                                                                                                                                                                                                                                                                                                                                                                                                                                                                                                                                                                                                                                                                                                                                                                                                                                                                                                                                                                                                                                 5\n",
       "  Borrower added on 11/27/12 > Debt consolidation<br>                                                                                                                                                                                                                                                                                                                                                                                                                                                                                                                                                                                                                                                                                                                                                                                                                                                                                                                                                                                                                                                                                                 5\n",
       "  Borrower added on 10/01/12 > Debt consolidation<br>                                                                                                                                                                                                                                                                                                                                                                                                                                                                                                                                                                                                                                                                                                                                                                                                                                                                                                                                                                                                                                                                                                 5\n",
       "  Borrower added on 09/05/13 > Debt consolidation<br>                                                                                                                                                                                                                                                                                                                                                                                                                                                                                                                                                                                                                                                                                                                                                                                                                                                                                                                                                                                                                                                                                                 5\n",
       "  Borrower added on 01/12/13 > Debt Consolidation<br>                                                                                                                                                                                                                                                                                                                                                                                                                                                                                                                                                                                                                                                                                                                                                                                                                                                                                                                                                                                                                                                                                                 5\n",
       "  Borrower added on 12/13/13 > Debt consolidation<br>                                                                                                                                                                                                                                                                                                                                                                                                                                                                                                                                                                                                                                                                                                                                                                                                                                                                                                                                                                                                                                                                                                 5\n",
       "  Borrower added on 09/30/13 > Debt Consolidation<br>                                                                                                                                                                                                                                                                                                                                                                                                                                                                                                                                                                                                                                                                                                                                                                                                                                                                                                                                                                                                                                                                                                 5\n",
       "  Borrower added on 12/19/13 > Debt consolidation<br>                                                                                                                                                                                                                                                                                                                                                                                                                                                                                                                                                                                                                                                                                                                                                                                                                                                                                                                                                                                                                                                                                                 5\n",
       "  Borrower added on 12/30/13 > Debt consolidation<br>                                                                                                                                                                                                                                                                                                                                                                                                                                                                                                                                                                                                                                                                                                                                                                                                                                                                                                                                                                                                                                                                                                 5\n",
       "  Borrower added on 02/27/13 > Debt consolidation<br>                                                                                                                                                                                                                                                                                                                                                                                                                                                                                                                                                                                                                                                                                                                                                                                                                                                                                                                                                                                                                                                                                                 5\n",
       "  Borrower added on 11/14/13 > Debt consolidation<br>                                                                                                                                                                                                                                                                                                                                                                                                                                                                                                                                                                                                                                                                                                                                                                                                                                                                                                                                                                                                                                                                                                 5\n",
       "  Borrower added on 08/19/13 > Debt consolidation.<br>                                                                                                                                                                                                                                                                                                                                                                                                                                                                                                                                                                                                                                                                                                                                                                                                                                                                                                                                                                                                                                                                                                5\n",
       "  Borrower added on 09/19/13 > Debt consolidation<br>                                                                                                                                                                                                                                                                                                                                                                                                                                                                                                                                                                                                                                                                                                                                                                                                                                                                                                                                                                                                                                                                                                 5\n",
       "  Borrower added on 09/04/13 > debt consolidation<br>                                                                                                                                                                                                                                                                                                                                                                                                                                                                                                                                                                                                                                                                                                                                                                                                                                                                                                                                                                                                                                                                                                 5\n",
       "  Borrower added on 12/02/13 > Debt consolidation<br>                                                                                                                                                                                                                                                                                                                                                                                                                                                                                                                                                                                                                                                                                                                                                                                                                                                                                                                                                                                                                                                                                                 5\n",
       "  Borrower added on 08/06/13 > debt consolidation<br>                                                                                                                                                                                                                                                                                                                                                                                                                                                                                                                                                                                                                                                                                                                                                                                                                                                                                                                                                                                                                                                                                                 5\n",
       "  Borrower added on 09/04/13 > Debt consolidation<br>                                                                                                                                                                                                                                                                                                                                                                                                                                                                                                                                                                                                                                                                                                                                                                                                                                                                                                                                                                                                                                                                                                 5\n",
       "  Borrower added on 09/23/13 > Debt consolidation<br>                                                                                                                                                                                                                                                                                                                                                                                                                                                                                                                                                                                                                                                                                                                                                                                                                                                                                                                                                                                                                                                                                                 4\n",
       "  Borrower added on 11/05/13 > Debt Consolidation<br>                                                                                                                                                                                                                                                                                                                                                                                                                                                                                                                                                                                                                                                                                                                                                                                                                                                                                                                                                                                                                                                                                                 4\n",
       "  Borrower added on 12/16/13 > Debt consolidation<br>                                                                                                                                                                                                                                                                                                                                                                                                                                                                                                                                                                                                                                                                                                                                                                                                                                                                                                                                                                                                                                                                                                 4\n",
       "  Borrower added on 03/28/13 > Debt consolidation<br>                                                                                                                                                                                                                                                                                                                                                                                                                                                                                                                                                                                                                                                                                                                                                                                                                                                                                                                                                                                                                                                                                                 4\n",
       "  Borrower added on 11/19/13 > Debt consolidation<br>                                                                                                                                                                                                                                                                                                                                                                                                                                                                                                                                                                                                                                                                                                                                                                                                                                                                                                                                                                                                                                                                                                 4\n",
       "  Borrower added on 03/03/13 > Debt consolidation<br>                                                                                                                                                                                                                                                                                                                                                                                                                                                                                                                                                                                                                                                                                                                                                                                                                                                                                                                                                                                                                                                                                                 4\n",
       "  Borrower added on 12/09/13 > debt consolidation<br>                                                                                                                                                                                                                                                                                                                                                                                                                                                                                                                                                                                                                                                                                                                                                                                                                                                                                                                                                                                                                                                                                                 4\n",
       "  Borrower added on 04/22/13 > Debt consolidation<br>                                                                                                                                                                                                                                                                                                                                                                                                                                                                                                                                                                                                                                                                                                                                                                                                                                                                                                                                                                                                                                                                                                 4\n",
       "  Borrower added on 09/16/13 > Debt Consolidation<br>                                                                                                                                                                                                                                                                                                                                                                                                                                                                                                                                                                                                                                                                                                                                                                                                                                                                                                                                                                                                                                                                                                 4\n",
       "  Borrower added on 11/19/13 > pay off credit cards<br>                                                                                                                                                                                                                                                                                                                                                                                                                                                                                                                                                                                                                                                                                                                                                                                                                                                                                                                                                                                                                                                                                               4\n",
       "                                                                                                                                                                                                                                                                                                                                                                                                                                                                                                                                                                                                                                                                                                                                                                                                                                                                                                                                                                                                                                                                                                                                                     ..\n",
       "  Borrower added on 08/01/12 > I worked on a contract basis all last year.  I made a couple attempts to refinance my car loan to create a little wiggle room in the budget.  Couldn't get anyone to agree.  This loan will pay off my current car loan, giving me almost $100 extra each month.  Thank you for your consideration.<br>                                                                                                                                                                                                                                                                                                                                                                                                                                                                                                                                                                                                                                                                                                                                                                                                                1\n",
       "  Borrower added on 12/12/13 > This is to consolidate my credit cards and pay for some medical bills.<br><br> Borrower added on 12/12/13 > This loan is for credit card refinance and for a small medical bill.<br>                                                                                                                                                                                                                                                                                                                                                                                                                                                                                                                                                                                                                                                                                                                                                                                                                                                                                                                                   1\n",
       "  Borrower added on 12/28/12 > to pay off car &amp; 3 creit cards<br>                                                                                                                                                                                                                                                                                                                                                                                                                                                                                                                                                                                                                                                                                                                                                                                                                                                                                                                                                                                                                                                                                 1\n",
       "  Borrower added on 05/15/13 > This loan is to consolidate credit card debt to allow me to better plan the future of my family. I am a hard worker who made some errors in my early twenties and am looking to consolidate.<br>                                                                                                                                                                                                                                                                                                                                                                                                                                                                                                                                                                                                                                                                                                                                                                                                                                                                                                                       1\n",
       "  Borrower added on 10/22/13 > This loan will act as a consolidation of several credit cards and hospital bills and property taxes into a more manageable single payment with an end in sight. This will help my planning of future budget a d spending.<br>                                                                                                                                                                                                                                                                                                                                                                                                                                                                                                                                                                                                                                                                                                                                                                                                                                                                                          1\n",
       "  Borrower added on 04/14/13 > To pay off my credit cards<br>                                                                                                                                                                                                                                                                                                                                                                                                                                                                                                                                                                                                                                                                                                                                                                                                                                                                                                                                                                                                                                                                                         1\n",
       "  Borrower added on 07/26/12 > pay off sum credit cards,and take a trip maybe<br>                                                                                                                                                                                                                                                                                                                                                                                                                                                                                                                                                                                                                                                                                                                                                                                                                                                                                                                                                                                                                                                                     1\n",
       "  Borrower added on 06/06/12 > This loan is to consolidate debt and have one monthly payment, instead of several.<br>                                                                                                                                                                                                                                                                                                                                                                                                                                                                                                                                                                                                                                                                                                                                                                                                                                                                                                                                                                                                                                 1\n",
       "  Borrower added on 03/19/12 > I will not have any issue making my payments for this loan. I am taking this loan out so i can have only one payment instead of two things that im paying for right now. It just makes it easier to have everything in one place (Debt Consolidation).<br>                                                                                                                                                                                                                                                                                                                                                                                                                                                                                                                                                                                                                                                                                                                                                                                                                                                             1\n",
       "  Borrower added on 03/27/13 > I am determined to get debt free. I have created a financial plan in order to reach my goal.<br>                                                                                                                                                                                                                                                                                                                                                                                                                                                                                                                                                                                                                                                                                                                                                                                                                                                                                                                                                                                                                       1\n",
       "  Borrower added on 05/11/13 > Want to re-do the kitchen and bathroom in my house.<br>                                                                                                                                                                                                                                                                                                                                                                                                                                                                                                                                                                                                                                                                                                                                                                                                                                                                                                                                                                                                                                                                1\n",
       "  Borrower added on 07/03/13 > To reduce my credit card debt, and to pave the way towards being a good steward of future financial freedom.<br>                                                                                                                                                                                                                                                                                                                                                                                                                                                                                                                                                                                                                                                                                                                                                                                                                                                                                                                                                                                                       1\n",
       "  Borrower added on 09/11/13 > the requested loan is to consolidate my debts into one and make one payment instead of multiple payments<br>                                                                                                                                                                                                                                                                                                                                                                                                                                                                                                                                                                                                                                                                                                                                                                                                                                                                                                                                                                                                           1\n",
       "  Borrower added on 12/03/12 > I need to consolidate credit cards. I am anxious to quit paying 28%.<br>                                                                                                                                                                                                                                                                                                                                                                                                                                                                                                                                                                                                                                                                                                                                                                                                                                                                                                                                                                                                                                               1\n",
       "  Borrower added on 06/29/12 > This loan will be used for a hot tub for myself. I will be using it for theripedic reasons.<br>                                                                                                                                                                                                                                                                                                                                                                                                                                                                                                                                                                                                                                                                                                                                                                                                                                                                                                                                                                                                                        1\n",
       "  Borrower added on 01/29/13 > This loan is used entirely to pay off my credit cards.  I always pay more than the minimum, but they seem to be going do very slowly.  The minimum payment here is much less than that of the cards combined.  I have a stable job and hope to pay this loan off in less than the three years!  Thanks!<br><br>  Borrower added on 01/30/13 > This loan is used entirely to pay off my credit cards. I always pay more than the minimum, but they seem to be going down very slowly. The minimum payment here is much less than that of the cards combined. I have a stable job and hope to pay this loan off in less than the three years! Thanks!<br><br>  Borrower added on 02/02/13 > Just a quick note of thanks to everyone who is willing to invest in my loan.   I appreciate it.  Knowing that this is coming from ordinary folks like me who can choose to invest their money elsewhere makes me all the more appreciative.  Thanks to each of you!<br><br> Borrower added on 02/03/13 > I didn't have enough space to finish the answer to the investor's question.  Please reask so I can complete.<br>    1\n",
       "  Borrower added on 01/06/12 > Pay off my credit card bills that I acquired while studying abroad. <br>                                                                                                                                                                                                                                                                                                                                                                                                                                                                                                                                                                                                                                                                                                                                                                                                                                                                                                                                                                                                                                               1\n",
       "  Borrower added on 07/09/12 > The loan that I m getting from your company will help consolidating and pay off all of my credit cards. By doing that I can save almost $500 a month and this loan will be pay off in three year!<br>                                                                                                                                                                                                                                                                                                                                                                                                                                                                                                                                                                                                                                                                                                                                                                                                                                                                                                                  1\n",
       "  Borrower added on 03/07/13 > Dept consolidation<br>                                                                                                                                                                                                                                                                                                                                                                                                                                                                                                                                                                                                                                                                                                                                                                                                                                                                                                                                                                                                                                                                                                 1\n",
       "  Borrower added on 09/19/12 > need to to do some backyard improvement and put jacuzzi<br>                                                                                                                                                                                                                                                                                                                                                                                                                                                                                                                                                                                                                                                                                                                                                                                                                                                                                                                                                                                                                                                            1\n",
       "  Borrower added on 06/03/13 > IT'S FOR A USED CAR LOAN.<br>                                                                                                                                                                                                                                                                                                                                                                                                                                                                                                                                                                                                                                                                                                                                                                                                                                                                                                                                                                                                                                                                                          1\n",
       "  Borrower added on 12/21/11 > HOME IMPROVEMENTS<br>                                                                                                                                                                                                                                                                                                                                                                                                                                                                                                                                                                                                                                                                                                                                                                                                                                                                                                                                                                                                                                                                                                  1\n",
       "  Borrower added on 05/28/13 > To pay off credit cards<br>                                                                                                                                                                                                                                                                                                                                                                                                                                                                                                                                                                                                                                                                                                                                                                                                                                                                                                                                                                                                                                                                                            1\n",
       "  Borrower added on 11/19/13 > to pay off several little loans and a high intrest loan to one low rate payment<br>                                                                                                                                                                                                                                                                                                                                                                                                                                                                                                                                                                                                                                                                                                                                                                                                                                                                                                                                                                                                                                    1\n",
       "  Borrower added on 12/07/12 > After the loss of my mother, i was left with unforeseen grief and expenses.  I'm looking to get things back on track<br><br>  Borrower added on 12/11/12 > I'm looking to consolidate the expenses and ways i grieved after the loss of my mother at a very young age.<br>                                                                                                                                                                                                                                                                                                                                                                                                                                                                                                                                                                                                                                                                                                                                                                                                                                             1\n",
       "  Borrower added on 06/12/12 > Credit card debt payoff.<br>                                                                                                                                                                                                                                                                                                                                                                                                                                                                                                                                                                                                                                                                                                                                                                                                                                                                                                                                                                                                                                                                                           1\n",
       "  Borrower added on 03/20/12 > I want to consolidate my credit cards into one loan.  Making one large payment each month to one company will allow me to pay off my debt quicker and in the long run I will end up paying less in interest.<br><br> Borrower added on 03/20/12 > I want to consolidate all my credit cards into one loan where I will be able to make one large monthly payment.  This will allow me to pay off my debt quicker. I pay all my bills on time and I also pay more than the minimum when able. <br>I hold a stable full-time job with a well known contractor.<br>                                                                                                                                                                                                                                                                                                                                                                                                                                                                                                                                                       1\n",
       "  Borrower added on 01/16/13 > My loan is for debt consolidation. I want to pay off small accounts with a higher interest rate.<br>                                                                                                                                                                                                                                                                                                                                                                                                                                                                                                                                                                                                                                                                                                                                                                                                                                                                                                                                                                                                                   1\n",
       "  Borrower added on 01/08/13 > Loan to pay off two high interest credit cards.<br>                                                                                                                                                                                                                                                                                                                                                                                                                                                                                                                                                                                                                                                                                                                                                                                                                                                                                                                                                                                                                                                                    1\n",
       "  Borrower added on 09/27/12 > My husband and I just moved.  Once we moved in we realized that we needed new appliances and new flooring.  There were some other minor repairs we had to make and we want to have the inside painted as well.  We want to pay off credit cards and cover home improvement and moving costs.   Thank you!<br>                                                                                                                                                                                                                                                                                                                                                                                                                                                                                                                                                                                                                                                                                                                                                                                                          1\n",
       "Name: desc, dtype: int64"
      ]
     },
     "execution_count": 563,
     "metadata": {},
     "output_type": "execute_result"
    }
   ],
   "source": [
    "desc = applicants[\"desc\"]\n",
    "desc.value_counts()"
   ]
  },
  {
   "cell_type": "code",
   "execution_count": 564,
   "metadata": {},
   "outputs": [
    {
     "data": {
      "text/plain": [
       "count                                                 81461\n",
       "unique                                                80643\n",
       "top         Borrower added on 01/14/13 > Debt consolidat...\n",
       "freq                                                      6\n",
       "Name: desc, dtype: object"
      ]
     },
     "execution_count": 564,
     "metadata": {},
     "output_type": "execute_result"
    }
   ],
   "source": [
    "desc.describe()"
   ]
  },
  {
   "cell_type": "markdown",
   "metadata": {},
   "source": [
    "The description is defined to be a *loan description provided by the borrower*. Since it is a **text based description**, that informs the *purpose* of the loan, and essentially can take on an **infinite range of possible values**, and has a **large number of missing values** (over 116000 values are missing!), we can chose to **remove this feature from the dataset**.\n",
    "\n",
    "Although the description would be useful, the feature's correlation to the final classification is minimal in comparison to the issues that exist with it, as seen above."
   ]
  },
  {
   "cell_type": "code",
   "execution_count": 565,
   "metadata": {},
   "outputs": [
    {
     "data": {
      "text/html": [
       "<div>\n",
       "<table border=\"1\" class=\"dataframe\">\n",
       "  <thead>\n",
       "    <tr style=\"text-align: right;\">\n",
       "      <th></th>\n",
       "      <th>loan_amnt</th>\n",
       "      <th>term</th>\n",
       "      <th>int_rate</th>\n",
       "      <th>emp_length</th>\n",
       "      <th>home_ownership</th>\n",
       "      <th>annual_inc</th>\n",
       "      <th>loan_status</th>\n",
       "      <th>purpose</th>\n",
       "      <th>percent_bc_gt_75</th>\n",
       "      <th>bc_util</th>\n",
       "      <th>dti</th>\n",
       "      <th>inq_last_6mths</th>\n",
       "      <th>mths_since_recent_inq</th>\n",
       "      <th>revol_util</th>\n",
       "      <th>total_bc_limit</th>\n",
       "      <th>total_pymnt</th>\n",
       "      <th>mths_since_last_major_derog</th>\n",
       "      <th>tot_hi_cred_lim</th>\n",
       "      <th>tot_cur_bal</th>\n",
       "    </tr>\n",
       "  </thead>\n",
       "  <tbody>\n",
       "    <tr>\n",
       "      <th>0</th>\n",
       "      <td>7550</td>\n",
       "      <td>0</td>\n",
       "      <td>16.24</td>\n",
       "      <td>4</td>\n",
       "      <td>3</td>\n",
       "      <td>28000.0</td>\n",
       "      <td>6</td>\n",
       "      <td>debt_consolidation</td>\n",
       "      <td>100.0</td>\n",
       "      <td>96.0</td>\n",
       "      <td>8.40</td>\n",
       "      <td>0.0</td>\n",
       "      <td>17.0</td>\n",
       "      <td>72%</td>\n",
       "      <td>4000.0</td>\n",
       "      <td>1864.38</td>\n",
       "      <td>NaN</td>\n",
       "      <td>3828.953801</td>\n",
       "      <td>5759.0</td>\n",
       "    </tr>\n",
       "    <tr>\n",
       "      <th>1</th>\n",
       "      <td>27050</td>\n",
       "      <td>0</td>\n",
       "      <td>10.99</td>\n",
       "      <td>11</td>\n",
       "      <td>2</td>\n",
       "      <td>55000.0</td>\n",
       "      <td>6</td>\n",
       "      <td>debt_consolidation</td>\n",
       "      <td>25.0</td>\n",
       "      <td>53.9</td>\n",
       "      <td>22.87</td>\n",
       "      <td>0.0</td>\n",
       "      <td>8.0</td>\n",
       "      <td>61.2%</td>\n",
       "      <td>35700.0</td>\n",
       "      <td>6198.22</td>\n",
       "      <td>NaN</td>\n",
       "      <td>34359.940727</td>\n",
       "      <td>114834.0</td>\n",
       "    </tr>\n",
       "    <tr>\n",
       "      <th>2</th>\n",
       "      <td>12000</td>\n",
       "      <td>0</td>\n",
       "      <td>10.99</td>\n",
       "      <td>5</td>\n",
       "      <td>3</td>\n",
       "      <td>60000.0</td>\n",
       "      <td>6</td>\n",
       "      <td>debt_consolidation</td>\n",
       "      <td>0.0</td>\n",
       "      <td>15.9</td>\n",
       "      <td>4.62</td>\n",
       "      <td>1.0</td>\n",
       "      <td>3.0</td>\n",
       "      <td>24%</td>\n",
       "      <td>18100.0</td>\n",
       "      <td>2748.84</td>\n",
       "      <td>NaN</td>\n",
       "      <td>16416.617758</td>\n",
       "      <td>7137.0</td>\n",
       "    </tr>\n",
       "  </tbody>\n",
       "</table>\n",
       "</div>"
      ],
      "text/plain": [
       "   loan_amnt term int_rate emp_length home_ownership  annual_inc loan_status  \\\n",
       "0       7550    0    16.24          4              3     28000.0           6   \n",
       "1      27050    0    10.99         11              2     55000.0           6   \n",
       "2      12000    0    10.99          5              3     60000.0           6   \n",
       "\n",
       "              purpose  percent_bc_gt_75  bc_util    dti  inq_last_6mths  \\\n",
       "0  debt_consolidation             100.0     96.0   8.40             0.0   \n",
       "1  debt_consolidation              25.0     53.9  22.87             0.0   \n",
       "2  debt_consolidation               0.0     15.9   4.62             1.0   \n",
       "\n",
       "   mths_since_recent_inq revol_util  total_bc_limit  total_pymnt  \\\n",
       "0                   17.0        72%          4000.0      1864.38   \n",
       "1                    8.0      61.2%         35700.0      6198.22   \n",
       "2                    3.0        24%         18100.0      2748.84   \n",
       "\n",
       "   mths_since_last_major_derog  tot_hi_cred_lim  tot_cur_bal  \n",
       "0                          NaN      3828.953801       5759.0  \n",
       "1                          NaN     34359.940727     114834.0  \n",
       "2                          NaN     16416.617758       7137.0  "
      ]
     },
     "execution_count": 565,
     "metadata": {},
     "output_type": "execute_result"
    }
   ],
   "source": [
    "applicants.drop(\"desc\", axis = 1, inplace = True)\n",
    "applicants.head(3)"
   ]
  },
  {
   "cell_type": "markdown",
   "metadata": {},
   "source": [
    "### Purpose\n"
   ]
  },
  {
   "cell_type": "code",
   "execution_count": 566,
   "metadata": {},
   "outputs": [
    {
     "data": {
      "text/plain": [
       "debt_consolidation    111436\n",
       "credit_card            43143\n",
       "home_improvement       10293\n",
       "other                   8891\n",
       "major_purchase          3655\n",
       "small_business          2744\n",
       "car                     1950\n",
       "medical                 1518\n",
       "wedding                 1330\n",
       "house                   1093\n",
       "moving                  1038\n",
       "vacation                 910\n",
       "renewable_energy         122\n",
       "Name: purpose, dtype: int64"
      ]
     },
     "execution_count": 566,
     "metadata": {},
     "output_type": "execute_result"
    }
   ],
   "source": [
    "purpose = applicants[\"purpose\"]\n",
    "purpose.value_counts()"
   ]
  },
  {
   "cell_type": "code",
   "execution_count": 567,
   "metadata": {},
   "outputs": [
    {
     "data": {
      "text/plain": [
       "count                 188123\n",
       "unique                    13\n",
       "top       debt_consolidation\n",
       "freq                  111436\n",
       "Name: purpose, dtype: object"
      ]
     },
     "execution_count": 567,
     "metadata": {},
     "output_type": "execute_result"
    }
   ],
   "source": [
    "purpose.describe()"
   ]
  },
  {
   "cell_type": "markdown",
   "metadata": {},
   "source": [
    "With a clear majority in terms of loan purpose (debt consolidation consists of over 55% of values), and a small number of missing values (9664), we can easily impute the values with the mode category.\n",
    "\n",
    "Noticing that the values are categorical, we can then convert them to numerical features using a simple mapping shown below:\n",
    "\n",
    "0 - renewable_energy\n",
    "\n",
    "1 - vacation\n",
    "\n",
    "2 - moving\n",
    "\n",
    "3 - house\n",
    "\n",
    "4 - wedding\n",
    "\n",
    "5 - medical\n",
    "\n",
    "6 - car\n",
    "\n",
    "7 - small_business\n",
    "\n",
    "8 - major_purchase\n",
    "\n",
    "9 - other\n",
    "\n",
    "10 - home_improvement\n",
    "\n",
    "11 - credit_card\n",
    "\n",
    "12 - debt_consolidation\n",
    "\n",
    "This is definitely a large number of categories (can lead/make the eventual model more prone to overfitting), so we can further group them into larger buckets (i.e. Other, Personal Purchases, Health, Energy, Business etc.) if necessary! We'll come back to this after having cleaned up the remaining data."
   ]
  },
  {
   "cell_type": "code",
   "execution_count": 568,
   "metadata": {},
   "outputs": [
    {
     "data": {
      "text/plain": [
       "count                 197787\n",
       "unique                    13\n",
       "top       debt_consolidation\n",
       "freq                  121100\n",
       "Name: purpose, dtype: object"
      ]
     },
     "execution_count": 568,
     "metadata": {},
     "output_type": "execute_result"
    }
   ],
   "source": [
    "# Fill in missing values\n",
    "purpose.fillna(\"debt_consolidation\", inplace = True)\n",
    "purpose.describe()"
   ]
  },
  {
   "cell_type": "code",
   "execution_count": 569,
   "metadata": {},
   "outputs": [
    {
     "data": {
      "text/plain": [
       "12    121100\n",
       "11     43143\n",
       "10     10293\n",
       "9       8891\n",
       "8       3655\n",
       "7       2744\n",
       "6       1950\n",
       "5       1518\n",
       "4       1330\n",
       "3       1093\n",
       "2       1038\n",
       "1        910\n",
       "0        122\n",
       "Name: purpose, dtype: int64"
      ]
     },
     "execution_count": 569,
     "metadata": {},
     "output_type": "execute_result"
    }
   ],
   "source": [
    "# Conver to numerical\n",
    "purpose[purpose == \"renewable_energy\"] = 0\n",
    "purpose[purpose == \"vacation\"] = 1\n",
    "purpose[purpose == \"moving\"] = 2\n",
    "purpose[purpose == \"house\"] = 3\n",
    "purpose[purpose == \"wedding\"] = 4\n",
    "purpose[purpose == \"medical\"] = 5\n",
    "purpose[purpose == \"car\"] = 6\n",
    "purpose[purpose == \"small_business\"] = 7\n",
    "purpose[purpose == \"major_purchase\"] = 8\n",
    "purpose[purpose == \"other\"] = 9\n",
    "purpose[purpose == \"home_improvement\"] = 10\n",
    "purpose[purpose == \"credit_card\"] = 11\n",
    "purpose[purpose == \"debt_consolidation\"] = 12\n",
    "\n",
    "purpose.value_counts()"
   ]
  },
  {
   "cell_type": "markdown",
   "metadata": {},
   "source": [
    "### Percentage of Bank Card Accounts > 75% of Limit\n",
    "\n",
    "Definition - Percentage of all bankcard accounts > 75% of limit."
   ]
  },
  {
   "cell_type": "code",
   "execution_count": 570,
   "metadata": {},
   "outputs": [
    {
     "data": {
      "text/plain": [
       "100.00    37990\n",
       "0.00      26604\n",
       "50.00     21927\n",
       "66.70     15297\n",
       "33.30     12077\n",
       "75.00      9931\n",
       "25.00      7301\n",
       "60.00      5846\n",
       "80.00      5690\n",
       "40.00      5535\n",
       "20.00      4538\n",
       "83.30      2986\n",
       "16.70      2802\n",
       "42.90      1893\n",
       "28.60      1827\n",
       "57.10      1769\n",
       "14.30      1738\n",
       "71.40      1648\n",
       "85.70      1473\n",
       "12.50      1022\n",
       "37.50       968\n",
       "62.50       895\n",
       "87.50       652\n",
       "11.10       618\n",
       "22.20       573\n",
       "44.40       510\n",
       "55.60       470\n",
       "77.80       368\n",
       "10.00       365\n",
       "88.90       357\n",
       "          ...  \n",
       "86.70         2\n",
       "27.80         2\n",
       "84.20         1\n",
       "36.80         1\n",
       "0.63          1\n",
       "26.10         1\n",
       "47.40         1\n",
       "73.70         1\n",
       "15.00         1\n",
       "82.40         1\n",
       "35.00         1\n",
       "28.10         1\n",
       "94.40         1\n",
       "4.30          1\n",
       "0.82          1\n",
       "76.20         1\n",
       "22.70         1\n",
       "8.70          1\n",
       "41.20         1\n",
       "0.29          1\n",
       "76.50         1\n",
       "35.30         1\n",
       "19.00         1\n",
       "23.80         1\n",
       "52.60         1\n",
       "90.50         1\n",
       "58.80         1\n",
       "4.20          1\n",
       "4.50          1\n",
       "31.60         1\n",
       "Name: percent_bc_gt_75, dtype: int64"
      ]
     },
     "execution_count": 570,
     "metadata": {},
     "output_type": "execute_result"
    }
   ],
   "source": [
    "percentGreaterThanLimit = applicants[\"percent_bc_gt_75\"]\n",
    "percentGreaterThanLimit.value_counts()"
   ]
  },
  {
   "cell_type": "code",
   "execution_count": 571,
   "metadata": {},
   "outputs": [
    {
     "data": {
      "text/plain": [
       "count    179096.000000\n",
       "mean         53.557030\n",
       "std          34.148464\n",
       "min           0.000000\n",
       "25%          25.000000\n",
       "50%          50.000000\n",
       "75%          80.000000\n",
       "max         100.000000\n",
       "Name: percent_bc_gt_75, dtype: float64"
      ]
     },
     "execution_count": 571,
     "metadata": {},
     "output_type": "execute_result"
    }
   ],
   "source": [
    "percentGreaterThanLimit.describe()"
   ]
  },
  {
   "cell_type": "markdown",
   "metadata": {},
   "source": [
    "Since there's a continuous distribution of re-occuring values (no clear majority), and the mean/median are relatively close to each other (minimal skew), we can impute the missing values using the mean! Let's do this:"
   ]
  },
  {
   "cell_type": "code",
   "execution_count": 572,
   "metadata": {},
   "outputs": [
    {
     "data": {
      "text/plain": [
       "count    197787.000000\n",
       "mean         53.557030\n",
       "std          32.494894\n",
       "min           0.000000\n",
       "25%          33.300000\n",
       "50%          53.557030\n",
       "75%          80.000000\n",
       "max         100.000000\n",
       "Name: percent_bc_gt_75, dtype: float64"
      ]
     },
     "execution_count": 572,
     "metadata": {},
     "output_type": "execute_result"
    }
   ],
   "source": [
    "# Fill in missing values\n",
    "percentGreaterThanLimit.fillna(percentGreaterThanLimit.mean(), inplace = True)\n",
    "percentGreaterThanLimit.describe()"
   ]
  },
  {
   "cell_type": "markdown",
   "metadata": {},
   "source": [
    "### Current Balance Ratio\n",
    "\n",
    "Definition - Ratio of total current balance to high credit/credit limit for all bankcard accounts."
   ]
  },
  {
   "cell_type": "code",
   "execution_count": 573,
   "metadata": {},
   "outputs": [
    {
     "data": {
      "text/plain": [
       "0.0      1473\n",
       "98.2      482\n",
       "97.4      476\n",
       "97.5      456\n",
       "97.9      455\n",
       "98.6      449\n",
       "96.5      446\n",
       "98.0      446\n",
       "97.3      445\n",
       "98.3      441\n",
       "97.0      438\n",
       "97.2      437\n",
       "97.8      436\n",
       "98.4      434\n",
       "96.7      434\n",
       "95.8      434\n",
       "98.7      434\n",
       "96.3      433\n",
       "97.7      433\n",
       "96.8      432\n",
       "95.0      431\n",
       "96.1      425\n",
       "95.9      425\n",
       "96.9      422\n",
       "97.6      420\n",
       "95.6      420\n",
       "98.8      419\n",
       "96.6      416\n",
       "95.4      416\n",
       "98.1      414\n",
       "         ... \n",
       "126.8       1\n",
       "119.7       1\n",
       "173.2       1\n",
       "124.6       1\n",
       "129.6       1\n",
       "113.1       1\n",
       "117.6       1\n",
       "118.9       1\n",
       "182.5       1\n",
       "115.3       1\n",
       "126.5       1\n",
       "132.5       1\n",
       "120.3       1\n",
       "116.0       1\n",
       "339.6       1\n",
       "165.7       1\n",
       "108.9       1\n",
       "117.5       1\n",
       "120.5       1\n",
       "110.4       1\n",
       "111.6       1\n",
       "120.7       1\n",
       "120.8       1\n",
       "122.5       1\n",
       "125.0       1\n",
       "118.0       1\n",
       "117.2       1\n",
       "126.1       1\n",
       "130.1       1\n",
       "127.3       1\n",
       "Name: bc_util, dtype: int64"
      ]
     },
     "execution_count": 573,
     "metadata": {},
     "output_type": "execute_result"
    }
   ],
   "source": [
    "ratioBal = applicants[\"bc_util\"]\n",
    "ratioBal.value_counts()"
   ]
  },
  {
   "cell_type": "code",
   "execution_count": 574,
   "metadata": {},
   "outputs": [
    {
     "data": {
      "text/plain": [
       "count    179012.000000\n",
       "mean         66.829415\n",
       "std          26.110808\n",
       "min           0.000000\n",
       "25%          49.500000\n",
       "50%          72.200000\n",
       "75%          89.000000\n",
       "max         339.600000\n",
       "Name: bc_util, dtype: float64"
      ]
     },
     "execution_count": 574,
     "metadata": {},
     "output_type": "execute_result"
    }
   ],
   "source": [
    "ratioBal.describe()"
   ]
  },
  {
   "cell_type": "markdown",
   "metadata": {},
   "source": [
    "Applying the same philosophy as above, we can impute the missing values in the following manner:"
   ]
  },
  {
   "cell_type": "code",
   "execution_count": 575,
   "metadata": {},
   "outputs": [
    {
     "data": {
      "text/plain": [
       "count    197787.000000\n",
       "mean         66.829415\n",
       "std          24.840618\n",
       "min           0.000000\n",
       "25%          52.400000\n",
       "50%          68.100000\n",
       "75%          87.400000\n",
       "max         339.600000\n",
       "Name: bc_util, dtype: float64"
      ]
     },
     "execution_count": 575,
     "metadata": {},
     "output_type": "execute_result"
    }
   ],
   "source": [
    "# Fill in missing values\n",
    "ratioBal.fillna(ratioBal.mean(), inplace = True)\n",
    "ratioBal.describe()"
   ]
  },
  {
   "cell_type": "markdown",
   "metadata": {},
   "source": [
    "### Debt Obligation Ratio\n",
    "\n",
    "Definition - A ratio calculated using the borrower's total monthly debt payments on the total debt obligations, excluding mortgage and the requested LC loan, divided by the borrower's self-reported monthly income."
   ]
  },
  {
   "cell_type": "code",
   "execution_count": 576,
   "metadata": {},
   "outputs": [
    {
     "data": {
      "text/plain": [
       "14.40    202\n",
       "19.20    151\n",
       "16.80    147\n",
       "18.00    146\n",
       "20.40    143\n",
       "15.60    142\n",
       "12.00    141\n",
       "13.20    136\n",
       "21.60    133\n",
       "12.72    132\n",
       "22.80    129\n",
       "9.60     124\n",
       "13.44    123\n",
       "16.32    123\n",
       "10.80    121\n",
       "15.12    120\n",
       "13.40    119\n",
       "16.20    118\n",
       "24.00    118\n",
       "19.68    114\n",
       "14.50    114\n",
       "13.92    113\n",
       "14.64    112\n",
       "12.48    112\n",
       "16.30    111\n",
       "17.76    111\n",
       "18.60    111\n",
       "11.52    110\n",
       "16.56    110\n",
       "20.81    110\n",
       "        ... \n",
       "0.59       5\n",
       "0.73       5\n",
       "0.79       5\n",
       "0.98       5\n",
       "0.17       4\n",
       "1.19       4\n",
       "0.47       4\n",
       "0.28       4\n",
       "0.01       4\n",
       "0.07       3\n",
       "0.11       3\n",
       "0.14       3\n",
       "0.76       3\n",
       "0.06       3\n",
       "0.35       3\n",
       "0.39       3\n",
       "0.41       3\n",
       "0.08       3\n",
       "0.02       3\n",
       "0.21       2\n",
       "0.18       2\n",
       "0.34       2\n",
       "0.15       2\n",
       "0.12       2\n",
       "0.09       2\n",
       "0.19       2\n",
       "0.23       1\n",
       "0.04       1\n",
       "0.05       1\n",
       "0.03       1\n",
       "Name: dti, dtype: int64"
      ]
     },
     "execution_count": 576,
     "metadata": {},
     "output_type": "execute_result"
    }
   ],
   "source": [
    "debtObgRatio = applicants[\"dti\"]\n",
    "debtObgRatio.value_counts()"
   ]
  },
  {
   "cell_type": "code",
   "execution_count": 577,
   "metadata": {},
   "outputs": [
    {
     "data": {
      "text/plain": [
       "count    188123.000000\n",
       "mean         17.058663\n",
       "std           7.596977\n",
       "min           0.000000\n",
       "25%          11.340000\n",
       "50%          16.780000\n",
       "75%          22.580000\n",
       "max          34.990000\n",
       "Name: dti, dtype: float64"
      ]
     },
     "execution_count": 577,
     "metadata": {},
     "output_type": "execute_result"
    }
   ],
   "source": [
    "debtObgRatio.describe()"
   ]
  },
  {
   "cell_type": "markdown",
   "metadata": {},
   "source": [
    "Repeating the process of how we deal with purely numerical features that are missing values:"
   ]
  },
  {
   "cell_type": "code",
   "execution_count": 578,
   "metadata": {},
   "outputs": [
    {
     "data": {
      "text/plain": [
       "count    197787.000000\n",
       "mean         17.058663\n",
       "std           7.409055\n",
       "min           0.000000\n",
       "25%          11.650000\n",
       "50%          17.058663\n",
       "75%          22.230000\n",
       "max          34.990000\n",
       "Name: dti, dtype: float64"
      ]
     },
     "execution_count": 578,
     "metadata": {},
     "output_type": "execute_result"
    }
   ],
   "source": [
    "debtObgRatio.fillna(debtObgRatio.mean(), inplace = True)\n",
    "debtObgRatio.describe()"
   ]
  },
  {
   "cell_type": "markdown",
   "metadata": {},
   "source": [
    "### Inquiries in Past 6 Months"
   ]
  },
  {
   "cell_type": "code",
   "execution_count": 579,
   "metadata": {},
   "outputs": [
    {
     "data": {
      "text/plain": [
       "0.0    95835\n",
       "1.0    53064\n",
       "2.0    24563\n",
       "3.0    11187\n",
       "4.0     2341\n",
       "5.0      768\n",
       "6.0      345\n",
       "7.0       13\n",
       "8.0        7\n",
       "Name: inq_last_6mths, dtype: int64"
      ]
     },
     "execution_count": 579,
     "metadata": {},
     "output_type": "execute_result"
    }
   ],
   "source": [
    "inq6Months = applicants[\"inq_last_6mths\"]\n",
    "inq6Months.value_counts()"
   ]
  },
  {
   "cell_type": "code",
   "execution_count": 580,
   "metadata": {},
   "outputs": [
    {
     "data": {
      "text/plain": [
       "count    188123.000000\n",
       "mean          0.803581\n",
       "std           1.032841\n",
       "min           0.000000\n",
       "25%           0.000000\n",
       "50%           0.000000\n",
       "75%           1.000000\n",
       "max           8.000000\n",
       "Name: inq_last_6mths, dtype: float64"
      ]
     },
     "execution_count": 580,
     "metadata": {},
     "output_type": "execute_result"
    }
   ],
   "source": [
    "inq6Months.describe()"
   ]
  },
  {
   "cell_type": "markdown",
   "metadata": {},
   "source": [
    "Having a fixed set of categories, we can replace the missing values by following the distribution in data. Notice that 0, 1, 2 and 3 tend to be the most common answers, with each one almost twice as present/frequent as the previous category. We can impute the 9664 missing values using a similar distribution:\n",
    "\n",
    "0 - 500 missing values\n",
    "\n",
    "1 - 1000 missing values\n",
    "\n",
    "2 - 2000 missing values\n",
    "\n",
    "3 - 6164 remaining values"
   ]
  },
  {
   "cell_type": "code",
   "execution_count": 581,
   "metadata": {},
   "outputs": [
    {
     "data": {
      "text/plain": [
       "0.0    96335\n",
       "1.0    54064\n",
       "2.0    26563\n",
       "3.0    17351\n",
       "4.0     2341\n",
       "5.0      768\n",
       "6.0      345\n",
       "7.0       13\n",
       "8.0        7\n",
       "Name: inq_last_6mths, dtype: int64"
      ]
     },
     "execution_count": 581,
     "metadata": {},
     "output_type": "execute_result"
    }
   ],
   "source": [
    "# Fill in missing values\n",
    "inq6Months.fillna(0, limit = 500, inplace = True)\n",
    "inq6Months.fillna(1, limit = 1000, inplace = True)\n",
    "inq6Months.fillna(2, limit = 2000, inplace = True)\n",
    "inq6Months.fillna(3, inplace = True)\n",
    "\n",
    "inq6Months.value_counts()"
   ]
  },
  {
   "cell_type": "code",
   "execution_count": 582,
   "metadata": {},
   "outputs": [
    {
     "data": {
      "text/plain": [
       "count    197787.000000\n",
       "mean          0.883091\n",
       "std           1.083958\n",
       "min           0.000000\n",
       "25%           0.000000\n",
       "50%           1.000000\n",
       "75%           1.000000\n",
       "max           8.000000\n",
       "Name: inq_last_6mths, dtype: float64"
      ]
     },
     "execution_count": 582,
     "metadata": {},
     "output_type": "execute_result"
    }
   ],
   "source": [
    "inq6Months.describe()"
   ]
  },
  {
   "cell_type": "markdown",
   "metadata": {},
   "source": [
    "### Months Since Most Recent Inquiry"
   ]
  },
  {
   "cell_type": "code",
   "execution_count": 583,
   "metadata": {},
   "outputs": [
    {
     "data": {
      "text/plain": [
       "1.0     17309\n",
       "0.0     14134\n",
       "2.0     13879\n",
       "3.0     12274\n",
       "4.0     11219\n",
       "5.0     10328\n",
       "6.0      9318\n",
       "7.0      9228\n",
       "8.0      8239\n",
       "9.0      7545\n",
       "10.0     6476\n",
       "11.0     5847\n",
       "12.0     5337\n",
       "13.0     4603\n",
       "14.0     4110\n",
       "15.0     3373\n",
       "16.0     2891\n",
       "17.0     2599\n",
       "18.0     2300\n",
       "19.0     2086\n",
       "20.0     1824\n",
       "21.0     1676\n",
       "22.0     1512\n",
       "23.0     1456\n",
       "24.0      700\n",
       "Name: mths_since_recent_inq, dtype: int64"
      ]
     },
     "execution_count": 583,
     "metadata": {},
     "output_type": "execute_result"
    }
   ],
   "source": [
    "mostRecInq = applicants[\"mths_since_recent_inq\"]\n",
    "mostRecInq.value_counts()"
   ]
  },
  {
   "cell_type": "code",
   "execution_count": 584,
   "metadata": {},
   "outputs": [
    {
     "data": {
      "text/plain": [
       "count    160263.000000\n",
       "mean          6.991770\n",
       "std           5.880568\n",
       "min           0.000000\n",
       "25%           2.000000\n",
       "50%           6.000000\n",
       "75%          11.000000\n",
       "max          24.000000\n",
       "Name: mths_since_recent_inq, dtype: float64"
      ]
     },
     "execution_count": 584,
     "metadata": {},
     "output_type": "execute_result"
    }
   ],
   "source": [
    "mostRecInq.describe()"
   ]
  },
  {
   "cell_type": "markdown",
   "metadata": {},
   "source": [
    "There are roughly 37,524 missing values in this category, which is sizeably more than previous features. These can be filled out in a similar way to what's been done before, by following the existing distribution in the data. Notice that the first 6 categories dominate in terms of frequency. We can fill out the missing values using the same distirbution:\n",
    "\n",
    "5 - 4000 missing values\n",
    "\n",
    "4 - 5000 missing values\n",
    "\n",
    "3 - 6000 missing values\n",
    "\n",
    "2 - 7000 missing values\n",
    "\n",
    "0 - 7000 missing values\n",
    "\n",
    "1 - remaining 8524 missing values\n",
    "\n",
    "Let's do this:"
   ]
  },
  {
   "cell_type": "code",
   "execution_count": 585,
   "metadata": {},
   "outputs": [
    {
     "data": {
      "text/plain": [
       "1.0     25833\n",
       "0.0     21134\n",
       "2.0     20879\n",
       "3.0     18274\n",
       "4.0     16219\n",
       "5.0     14328\n",
       "6.0      9318\n",
       "7.0      9228\n",
       "8.0      8239\n",
       "9.0      7545\n",
       "10.0     6476\n",
       "11.0     5847\n",
       "12.0     5337\n",
       "13.0     4603\n",
       "14.0     4110\n",
       "15.0     3373\n",
       "16.0     2891\n",
       "17.0     2599\n",
       "18.0     2300\n",
       "19.0     2086\n",
       "20.0     1824\n",
       "21.0     1676\n",
       "22.0     1512\n",
       "23.0     1456\n",
       "24.0      700\n",
       "Name: mths_since_recent_inq, dtype: int64"
      ]
     },
     "execution_count": 585,
     "metadata": {},
     "output_type": "execute_result"
    }
   ],
   "source": [
    "# Fill in missing values\n",
    "mostRecInq.fillna(5, limit = 4000, inplace = True)\n",
    "mostRecInq.fillna(4, limit = 5000, inplace = True)\n",
    "mostRecInq.fillna(3, limit = 6000, inplace = True)\n",
    "mostRecInq.fillna(2, limit = 7000, inplace = True)\n",
    "mostRecInq.fillna(0, limit = 7000, inplace = True)\n",
    "mostRecInq.fillna(1, inplace = True)\n",
    "\n",
    "mostRecInq.value_counts()"
   ]
  },
  {
   "cell_type": "code",
   "execution_count": 586,
   "metadata": {},
   "outputs": [
    {
     "data": {
      "text/plain": [
       "count    197787.000000\n",
       "mean          6.072421\n",
       "std           5.667828\n",
       "min           0.000000\n",
       "25%           2.000000\n",
       "50%           4.000000\n",
       "75%           9.000000\n",
       "max          24.000000\n",
       "Name: mths_since_recent_inq, dtype: float64"
      ]
     },
     "execution_count": 586,
     "metadata": {},
     "output_type": "execute_result"
    }
   ],
   "source": [
    "mostRecInq.describe()"
   ]
  },
  {
   "cell_type": "markdown",
   "metadata": {},
   "source": [
    "### Revolving Line Utilization Rate\n",
    "\n",
    "Definition - The amount of credit the borrower is using relative to all available revolving credit."
   ]
  },
  {
   "cell_type": "code",
   "execution_count": 587,
   "metadata": {},
   "outputs": [
    {
     "data": {
      "text/plain": [
       "0%        624\n",
       "61.5%     342\n",
       "64.6%     340\n",
       "66.5%     337\n",
       "67.4%     334\n",
       "61.6%     332\n",
       "65.2%     332\n",
       "70.8%     332\n",
       "61.3%     330\n",
       "71.8%     326\n",
       "67.9%     326\n",
       "62.6%     325\n",
       "68.5%     322\n",
       "68.7%     321\n",
       "64.5%     321\n",
       "60%       321\n",
       "58.3%     320\n",
       "66.7%     319\n",
       "71.6%     319\n",
       "58.6%     319\n",
       "67.5%     318\n",
       "65%       316\n",
       "70.1%     315\n",
       "72%       315\n",
       "55.8%     315\n",
       "61.2%     314\n",
       "67.1%     314\n",
       "59.3%     313\n",
       "63%       313\n",
       "65.3%     312\n",
       "         ... \n",
       "109.1%      2\n",
       "102.2%      2\n",
       "103.9%      2\n",
       "104.1%      2\n",
       "109.9%      2\n",
       "127.6%      1\n",
       "107.7%      1\n",
       "112.9%      1\n",
       "128.1%      1\n",
       "115.3%      1\n",
       "140.4%      1\n",
       "107.6%      1\n",
       "107.2%      1\n",
       "106.3%      1\n",
       "109.3%      1\n",
       "107%        1\n",
       "122.5%      1\n",
       "102.4%      1\n",
       "106.1%      1\n",
       "102.7%      1\n",
       "105.3%      1\n",
       "105.1%      1\n",
       "119.2%      1\n",
       "106%        1\n",
       "105.8%      1\n",
       "113.9%      1\n",
       "104.9%      1\n",
       "103.4%      1\n",
       "106.9%      1\n",
       "104.3%      1\n",
       "Name: revol_util, dtype: int64"
      ]
     },
     "execution_count": 587,
     "metadata": {},
     "output_type": "execute_result"
    }
   ],
   "source": [
    "revolUtil = applicants[\"revol_util\"]\n",
    "revolUtil.value_counts()"
   ]
  },
  {
   "cell_type": "code",
   "execution_count": 588,
   "metadata": {},
   "outputs": [
    {
     "data": {
      "text/plain": [
       "count     187998\n",
       "unique      1068\n",
       "top           0%\n",
       "freq         624\n",
       "Name: revol_util, dtype: object"
      ]
     },
     "execution_count": 588,
     "metadata": {},
     "output_type": "execute_result"
    }
   ],
   "source": [
    "revolUtil.describe()"
   ]
  },
  {
   "cell_type": "markdown",
   "metadata": {},
   "source": [
    "Applying the same set of steps that we did during the Interest Rate feature, we first need to remove the percentage symbols, and ensure the feature is numerical. Then, utilize the mean (since there's no defining, common utilization rate) and fill in the missing values."
   ]
  },
  {
   "cell_type": "code",
   "execution_count": 589,
   "metadata": {},
   "outputs": [],
   "source": [
    "# Convert to numerical values\n",
    "revolUtil[revolUtil.str.contains(\"%\").fillna(False)] = revolUtil.str.replace(\"%\", \"\")\n",
    "revolUtil[revolUtil.str.contains(\" \").fillna(False)] = revolUtil.str.replace(\" \", \"\")\n",
    "revolUtil = revolUtil.astype(float)"
   ]
  },
  {
   "cell_type": "code",
   "execution_count": 590,
   "metadata": {},
   "outputs": [
    {
     "data": {
      "text/plain": [
       "count    187998.000000\n",
       "mean         58.386538\n",
       "std          23.009050\n",
       "min           0.000000\n",
       "25%          42.500000\n",
       "50%          60.500000\n",
       "75%          76.600000\n",
       "max         140.400000\n",
       "Name: revol_util, dtype: float64"
      ]
     },
     "execution_count": 590,
     "metadata": {},
     "output_type": "execute_result"
    }
   ],
   "source": [
    "revolUtil.describe()"
   ]
  },
  {
   "cell_type": "code",
   "execution_count": 591,
   "metadata": {},
   "outputs": [
    {
     "data": {
      "text/plain": [
       "count    197787.000000\n",
       "mean         58.386538\n",
       "std          22.432433\n",
       "min           0.000000\n",
       "25%          43.600000\n",
       "50%          58.800000\n",
       "75%          75.700000\n",
       "max         140.400000\n",
       "Name: revol_util, dtype: float64"
      ]
     },
     "execution_count": 591,
     "metadata": {},
     "output_type": "execute_result"
    }
   ],
   "source": [
    "# Fill in missing values with mean\n",
    "revolUtil.fillna(revolUtil.mean(), inplace = True)\n",
    "revolUtil.describe()"
   ]
  },
  {
   "cell_type": "code",
   "execution_count": 592,
   "metadata": {},
   "outputs": [
    {
     "data": {
      "text/html": [
       "<div>\n",
       "<table border=\"1\" class=\"dataframe\">\n",
       "  <thead>\n",
       "    <tr style=\"text-align: right;\">\n",
       "      <th></th>\n",
       "      <th>loan_amnt</th>\n",
       "      <th>term</th>\n",
       "      <th>int_rate</th>\n",
       "      <th>emp_length</th>\n",
       "      <th>home_ownership</th>\n",
       "      <th>annual_inc</th>\n",
       "      <th>loan_status</th>\n",
       "      <th>purpose</th>\n",
       "      <th>percent_bc_gt_75</th>\n",
       "      <th>bc_util</th>\n",
       "      <th>dti</th>\n",
       "      <th>inq_last_6mths</th>\n",
       "      <th>mths_since_recent_inq</th>\n",
       "      <th>revol_util</th>\n",
       "      <th>total_bc_limit</th>\n",
       "      <th>total_pymnt</th>\n",
       "      <th>mths_since_last_major_derog</th>\n",
       "      <th>tot_hi_cred_lim</th>\n",
       "      <th>tot_cur_bal</th>\n",
       "    </tr>\n",
       "  </thead>\n",
       "  <tbody>\n",
       "    <tr>\n",
       "      <th>0</th>\n",
       "      <td>7550</td>\n",
       "      <td>0</td>\n",
       "      <td>16.24</td>\n",
       "      <td>4</td>\n",
       "      <td>3</td>\n",
       "      <td>28000.0</td>\n",
       "      <td>6</td>\n",
       "      <td>12</td>\n",
       "      <td>100.0</td>\n",
       "      <td>96.0</td>\n",
       "      <td>8.40</td>\n",
       "      <td>0.0</td>\n",
       "      <td>17.0</td>\n",
       "      <td>72</td>\n",
       "      <td>4000.0</td>\n",
       "      <td>1864.38</td>\n",
       "      <td>NaN</td>\n",
       "      <td>3828.953801</td>\n",
       "      <td>5759.0</td>\n",
       "    </tr>\n",
       "    <tr>\n",
       "      <th>1</th>\n",
       "      <td>27050</td>\n",
       "      <td>0</td>\n",
       "      <td>10.99</td>\n",
       "      <td>11</td>\n",
       "      <td>2</td>\n",
       "      <td>55000.0</td>\n",
       "      <td>6</td>\n",
       "      <td>12</td>\n",
       "      <td>25.0</td>\n",
       "      <td>53.9</td>\n",
       "      <td>22.87</td>\n",
       "      <td>0.0</td>\n",
       "      <td>8.0</td>\n",
       "      <td>61.2</td>\n",
       "      <td>35700.0</td>\n",
       "      <td>6198.22</td>\n",
       "      <td>NaN</td>\n",
       "      <td>34359.940727</td>\n",
       "      <td>114834.0</td>\n",
       "    </tr>\n",
       "    <tr>\n",
       "      <th>2</th>\n",
       "      <td>12000</td>\n",
       "      <td>0</td>\n",
       "      <td>10.99</td>\n",
       "      <td>5</td>\n",
       "      <td>3</td>\n",
       "      <td>60000.0</td>\n",
       "      <td>6</td>\n",
       "      <td>12</td>\n",
       "      <td>0.0</td>\n",
       "      <td>15.9</td>\n",
       "      <td>4.62</td>\n",
       "      <td>1.0</td>\n",
       "      <td>3.0</td>\n",
       "      <td>24</td>\n",
       "      <td>18100.0</td>\n",
       "      <td>2748.84</td>\n",
       "      <td>NaN</td>\n",
       "      <td>16416.617758</td>\n",
       "      <td>7137.0</td>\n",
       "    </tr>\n",
       "  </tbody>\n",
       "</table>\n",
       "</div>"
      ],
      "text/plain": [
       "   loan_amnt term int_rate emp_length home_ownership  annual_inc loan_status  \\\n",
       "0       7550    0    16.24          4              3     28000.0           6   \n",
       "1      27050    0    10.99         11              2     55000.0           6   \n",
       "2      12000    0    10.99          5              3     60000.0           6   \n",
       "\n",
       "  purpose  percent_bc_gt_75  bc_util    dti  inq_last_6mths  \\\n",
       "0      12             100.0     96.0   8.40             0.0   \n",
       "1      12              25.0     53.9  22.87             0.0   \n",
       "2      12               0.0     15.9   4.62             1.0   \n",
       "\n",
       "   mths_since_recent_inq revol_util  total_bc_limit  total_pymnt  \\\n",
       "0                   17.0         72          4000.0      1864.38   \n",
       "1                    8.0       61.2         35700.0      6198.22   \n",
       "2                    3.0         24         18100.0      2748.84   \n",
       "\n",
       "   mths_since_last_major_derog  tot_hi_cred_lim  tot_cur_bal  \n",
       "0                          NaN      3828.953801       5759.0  \n",
       "1                          NaN     34359.940727     114834.0  \n",
       "2                          NaN     16416.617758       7137.0  "
      ]
     },
     "execution_count": 592,
     "metadata": {},
     "output_type": "execute_result"
    }
   ],
   "source": [
    "# Check how many features left\n",
    "applicants.head(3)"
   ]
  },
  {
   "cell_type": "markdown",
   "metadata": {},
   "source": [
    "### Total Bank Card Credit Limit"
   ]
  },
  {
   "cell_type": "code",
   "execution_count": 593,
   "metadata": {},
   "outputs": [
    {
     "data": {
      "text/plain": [
       "0.0         1532\n",
       "5000.0      1355\n",
       "6000.0      1226\n",
       "7000.0      1197\n",
       "4000.0      1145\n",
       "7500.0      1132\n",
       "8000.0      1113\n",
       "6500.0      1082\n",
       "5500.0      1067\n",
       "10000.0     1050\n",
       "9000.0      1042\n",
       "3000.0      1031\n",
       "4500.0      1030\n",
       "8500.0      1001\n",
       "9500.0       915\n",
       "3500.0       913\n",
       "10500.0      907\n",
       "11000.0      896\n",
       "12500.0      832\n",
       "13000.0      822\n",
       "12000.0      819\n",
       "11500.0      816\n",
       "7800.0       814\n",
       "2000.0       808\n",
       "2500.0       803\n",
       "5800.0       790\n",
       "14000.0      789\n",
       "8300.0       788\n",
       "6800.0       779\n",
       "7300.0       776\n",
       "            ... \n",
       "85406.0        1\n",
       "21351.0        1\n",
       "40260.0        1\n",
       "29160.0        1\n",
       "42698.0        1\n",
       "1925.0         1\n",
       "59079.0        1\n",
       "29539.0        1\n",
       "32642.0        1\n",
       "14769.0        1\n",
       "85419.0        1\n",
       "59097.0        1\n",
       "21373.0        1\n",
       "119000.0       1\n",
       "85490.0        1\n",
       "42743.0        1\n",
       "42739.0        1\n",
       "20858.0        1\n",
       "21369.0        1\n",
       "42737.0        1\n",
       "77680.0        1\n",
       "21366.0        1\n",
       "42729.0        1\n",
       "42728.0        1\n",
       "21362.0        1\n",
       "42722.0        1\n",
       "21360.0        1\n",
       "10716.0        1\n",
       "59101.0        1\n",
       "40522.0        1\n",
       "Name: total_bc_limit, dtype: int64"
      ]
     },
     "execution_count": 593,
     "metadata": {},
     "output_type": "execute_result"
    }
   ],
   "source": [
    "bankCredLimit = applicants[\"total_bc_limit\"]\n",
    "bankCredLimit.value_counts()"
   ]
  },
  {
   "cell_type": "code",
   "execution_count": 594,
   "metadata": {},
   "outputs": [
    {
     "data": {
      "text/plain": [
       "count    180628.000000\n",
       "mean      20240.250448\n",
       "std       18885.232505\n",
       "min           0.000000\n",
       "25%        7800.000000\n",
       "50%       14700.000000\n",
       "75%       26500.000000\n",
       "max      522210.000000\n",
       "Name: total_bc_limit, dtype: float64"
      ]
     },
     "execution_count": 594,
     "metadata": {},
     "output_type": "execute_result"
    }
   ],
   "source": [
    "bankCredLimit.describe()"
   ]
  },
  {
   "cell_type": "markdown",
   "metadata": {},
   "source": [
    "With a similar continuous range of values, let's fill in the missing values with the average credit limit. Note that this can be done in many ways, including looking at other features (i.e utilization and income), and creating a resulting **pivot table** to determine limit values. Since the percentage of values missing is relatively small however, the current method should suffice!"
   ]
  },
  {
   "cell_type": "code",
   "execution_count": 595,
   "metadata": {},
   "outputs": [
    {
     "data": {
      "text/plain": [
       "count    197787.000000\n",
       "mean      20240.250448\n",
       "std       18047.452055\n",
       "min           0.000000\n",
       "25%        8400.000000\n",
       "50%       16300.000000\n",
       "75%       24900.000000\n",
       "max      522210.000000\n",
       "Name: total_bc_limit, dtype: float64"
      ]
     },
     "execution_count": 595,
     "metadata": {},
     "output_type": "execute_result"
    }
   ],
   "source": [
    "# Fill in missing values\n",
    "bankCredLimit.fillna(bankCredLimit.mean(), inplace = True)\n",
    "bankCredLimit.describe()"
   ]
  },
  {
   "cell_type": "markdown",
   "metadata": {},
   "source": [
    "### Total Payment\n",
    "\n",
    "Definition - Payments received to date for total amount funded"
   ]
  },
  {
   "cell_type": "code",
   "execution_count": 596,
   "metadata": {},
   "outputs": [
    {
     "data": {
      "text/plain": [
       "0.000000        45\n",
       "2656.800000     45\n",
       "2988.900000     36\n",
       "2540.320000     33\n",
       "3985.200000     32\n",
       "3032.100000     31\n",
       "3321.000000     27\n",
       "5080.560000     26\n",
       "2618.720000     26\n",
       "5313.600000     25\n",
       "7620.800000     25\n",
       "2857.860000     25\n",
       "3739.440000     24\n",
       "5006.480000     24\n",
       "2503.280000     23\n",
       "3320.720000     23\n",
       "2988.720000     23\n",
       "2569.040000     23\n",
       "3061.620000     23\n",
       "2548.000000     22\n",
       "3853.520000     22\n",
       "2890.170000     22\n",
       "4572.480000     21\n",
       "4335.210000     21\n",
       "3429.360000     21\n",
       "2797.200000     21\n",
       "3586.680000     21\n",
       "5892.120000     21\n",
       "4483.350000     21\n",
       "3908.280000     20\n",
       "                ..\n",
       "2360.340000      1\n",
       "19671.420000     1\n",
       "10405.740000     1\n",
       "2580.600000      1\n",
       "8675.120000      1\n",
       "6401.710000      1\n",
       "6986.020000      1\n",
       "21947.055889     1\n",
       "5806.870000      1\n",
       "7671.410000      1\n",
       "12713.400000     1\n",
       "2536.110000      1\n",
       "6382.440000      1\n",
       "5071.530000      1\n",
       "3036.550000      1\n",
       "16241.230566     1\n",
       "5418.250000      1\n",
       "2265.180000      1\n",
       "2017.634667      1\n",
       "6259.660000      1\n",
       "4250.400000      1\n",
       "4354.460000      1\n",
       "11449.440000     1\n",
       "2635.660000      1\n",
       "3507.870000      1\n",
       "1033.260000      1\n",
       "4220.450000      1\n",
       "4627.080000      1\n",
       "5277.330000      1\n",
       "3044.020000      1\n",
       "Name: total_pymnt, dtype: int64"
      ]
     },
     "execution_count": 596,
     "metadata": {},
     "output_type": "execute_result"
    }
   ],
   "source": [
    "totalPayment = applicants[\"total_pymnt\"]\n",
    "totalPayment.value_counts()"
   ]
  },
  {
   "cell_type": "code",
   "execution_count": 597,
   "metadata": {},
   "outputs": [
    {
     "data": {
      "text/plain": [
       "count    188123.000000\n",
       "mean       8038.539610\n",
       "std        6524.967826\n",
       "min           0.000000\n",
       "25%        3624.630000\n",
       "50%        6166.050000\n",
       "75%       10323.805000\n",
       "max       50914.591249\n",
       "Name: total_pymnt, dtype: float64"
      ]
     },
     "execution_count": 597,
     "metadata": {},
     "output_type": "execute_result"
    }
   ],
   "source": [
    "totalPayment.describe()"
   ]
  },
  {
   "cell_type": "code",
   "execution_count": 598,
   "metadata": {},
   "outputs": [
    {
     "data": {
      "text/plain": [
       "count    197787.000000\n",
       "mean       8038.539610\n",
       "std        6363.563680\n",
       "min           0.000000\n",
       "25%        3741.760000\n",
       "50%        6484.680000\n",
       "75%       10026.360000\n",
       "max       50914.591249\n",
       "Name: total_pymnt, dtype: float64"
      ]
     },
     "execution_count": 598,
     "metadata": {},
     "output_type": "execute_result"
    }
   ],
   "source": [
    "# Fill in missing values with mean\n",
    "totalPayment.fillna(totalPayment.mean(), inplace = True)\n",
    "totalPayment.describe()"
   ]
  },
  {
   "cell_type": "markdown",
   "metadata": {},
   "source": [
    "### Months Since Last Major 90-Day or Worse Rating"
   ]
  },
  {
   "cell_type": "code",
   "execution_count": 599,
   "metadata": {},
   "outputs": [
    {
     "data": {
      "text/plain": [
       "38.0     569\n",
       "40.0     561\n",
       "42.0     558\n",
       "43.0     557\n",
       "41.0     556\n",
       "34.0     556\n",
       "35.0     553\n",
       "45.0     552\n",
       "37.0     549\n",
       "46.0     548\n",
       "29.0     535\n",
       "32.0     531\n",
       "36.0     530\n",
       "31.0     529\n",
       "27.0     517\n",
       "33.0     515\n",
       "44.0     513\n",
       "28.0     511\n",
       "39.0     500\n",
       "26.0     493\n",
       "47.0     493\n",
       "30.0     486\n",
       "48.0     481\n",
       "25.0     474\n",
       "20.0     470\n",
       "18.0     458\n",
       "15.0     458\n",
       "24.0     458\n",
       "17.0     453\n",
       "21.0     447\n",
       "        ... \n",
       "119.0      2\n",
       "115.0      2\n",
       "101.0      2\n",
       "110.0      2\n",
       "148.0      2\n",
       "99.0       2\n",
       "122.0      2\n",
       "97.0       1\n",
       "124.0      1\n",
       "134.0      1\n",
       "129.0      1\n",
       "149.0      1\n",
       "131.0      1\n",
       "126.0      1\n",
       "127.0      1\n",
       "146.0      1\n",
       "139.0      1\n",
       "130.0      1\n",
       "123.0      1\n",
       "156.0      1\n",
       "135.0      1\n",
       "104.0      1\n",
       "138.0      1\n",
       "114.0      1\n",
       "143.0      1\n",
       "120.0      1\n",
       "165.0      1\n",
       "118.0      1\n",
       "141.0      1\n",
       "113.0      1\n",
       "Name: mths_since_last_major_derog, dtype: int64"
      ]
     },
     "execution_count": 599,
     "metadata": {},
     "output_type": "execute_result"
    }
   ],
   "source": [
    "lastMajorWorstRating = applicants[\"mths_since_last_major_derog\"]\n",
    "lastMajorWorstRating.value_counts()"
   ]
  },
  {
   "cell_type": "code",
   "execution_count": 600,
   "metadata": {},
   "outputs": [
    {
     "data": {
      "text/plain": [
       "count    32497.000000\n",
       "mean        41.792473\n",
       "std         20.997645\n",
       "min          0.000000\n",
       "25%         25.000000\n",
       "50%         41.000000\n",
       "75%         58.000000\n",
       "max        165.000000\n",
       "Name: mths_since_last_major_derog, dtype: float64"
      ]
     },
     "execution_count": 600,
     "metadata": {},
     "output_type": "execute_result"
    }
   ],
   "source": [
    "lastMajorWorstRating.describe()"
   ]
  },
  {
   "cell_type": "markdown",
   "metadata": {},
   "source": [
    "**Huge number of missing values**\n",
    "\n",
    "There are over 150,000 missing values in this dataset. Before attributing/assuming it's random noise, let's think about what this feature represents.\n",
    "\n",
    "The data in this column refers the the **number of months since the applican't *last* 90-day or worse rating**. The question that can immediately be raised is:\n",
    "\n",
    "**What if the applicant has never had such a 90-day or worse rating?**\n",
    "\n",
    "My **assumption** is that the NaN (null values) in the dataset represent those applicants, people who've *never* received this type of rating. Using a value of 0 here wouldn't work, since a distance of 0 months implies that they had a rating applied to them *this month.*\n",
    "\n",
    "We can validate this assumption (to some extent) by looking at whether applicant's with these missing values had their loans apporved or not! If they have approved loans, it's fair to assume that they've likely never had a 90-day or worse rating given to them!"
   ]
  },
  {
   "cell_type": "code",
   "execution_count": 601,
   "metadata": {},
   "outputs": [
    {
     "data": {
      "text/plain": [
       "6    124552\n",
       "5     28296\n",
       "4      7989\n",
       "3      2507\n",
       "2      1265\n",
       "1       613\n",
       "0        68\n",
       "Name: loan_status, dtype: int64"
      ]
     },
     "execution_count": 601,
     "metadata": {},
     "output_type": "execute_result"
    }
   ],
   "source": [
    "# Validate assumption by looking at the Loan Status\n",
    "applicants[\"loan_status\"][lastMajorWorstRating[lastMajorWorstRating.isnull()].index].value_counts()"
   ]
  },
  {
   "cell_type": "markdown",
   "metadata": {},
   "source": [
    "Looking at the above breakdown, there's clearly a huge majority of people (corresponding to the missing values) who either have current loans (6), or have completely paid them off (5). Thus, our assumption is valid!\n",
    "\n",
    "Since having a missing value here is essentially a *good* thing for the applicant (means they've never received a poor rating), we need to ensure that this data isn't simply lost, as it may be significant during the modelling phase. Let's replace the missing values with -1 (since it isn't possible to have a rational negative number of months)!"
   ]
  },
  {
   "cell_type": "code",
   "execution_count": 602,
   "metadata": {},
   "outputs": [
    {
     "data": {
      "text/plain": [
       "-1.0      165290\n",
       " 38.0        569\n",
       " 40.0        561\n",
       " 42.0        558\n",
       " 43.0        557\n",
       " 34.0        556\n",
       " 41.0        556\n",
       " 35.0        553\n",
       " 45.0        552\n",
       " 37.0        549\n",
       " 46.0        548\n",
       " 29.0        535\n",
       " 32.0        531\n",
       " 36.0        530\n",
       " 31.0        529\n",
       " 27.0        517\n",
       " 33.0        515\n",
       " 44.0        513\n",
       " 28.0        511\n",
       " 39.0        500\n",
       " 47.0        493\n",
       " 26.0        493\n",
       " 30.0        486\n",
       " 48.0        481\n",
       " 25.0        474\n",
       " 20.0        470\n",
       " 24.0        458\n",
       " 18.0        458\n",
       " 15.0        458\n",
       " 17.0        453\n",
       "           ...  \n",
       " 111.0         2\n",
       " 119.0         2\n",
       " 112.0         2\n",
       " 99.0          2\n",
       " 148.0         2\n",
       " 101.0         2\n",
       " 122.0         2\n",
       " 134.0         1\n",
       " 143.0         1\n",
       " 139.0         1\n",
       " 138.0         1\n",
       " 127.0         1\n",
       " 129.0         1\n",
       " 149.0         1\n",
       " 104.0         1\n",
       " 123.0         1\n",
       " 131.0         1\n",
       " 118.0         1\n",
       " 146.0         1\n",
       " 124.0         1\n",
       " 120.0         1\n",
       " 130.0         1\n",
       " 113.0         1\n",
       " 165.0         1\n",
       " 126.0         1\n",
       " 135.0         1\n",
       " 141.0         1\n",
       " 114.0         1\n",
       " 156.0         1\n",
       " 97.0          1\n",
       "Name: mths_since_last_major_derog, dtype: int64"
      ]
     },
     "execution_count": 602,
     "metadata": {},
     "output_type": "execute_result"
    }
   ],
   "source": [
    "# Fill in missing values with -1 (assuming that it means they've never received a 90-day or worse rating)\n",
    "lastMajorWorstRating.fillna(-1, inplace = True)\n",
    "lastMajorWorstRating.value_counts()"
   ]
  },
  {
   "cell_type": "code",
   "execution_count": 603,
   "metadata": {},
   "outputs": [
    {
     "data": {
      "text/plain": [
       "count    197787.000000\n",
       "mean          6.030932\n",
       "std          17.996604\n",
       "min          -1.000000\n",
       "25%          -1.000000\n",
       "50%          -1.000000\n",
       "75%          -1.000000\n",
       "max         165.000000\n",
       "Name: mths_since_last_major_derog, dtype: float64"
      ]
     },
     "execution_count": 603,
     "metadata": {},
     "output_type": "execute_result"
    }
   ],
   "source": [
    "lastMajorWorstRating.describe()"
   ]
  },
  {
   "cell_type": "markdown",
   "metadata": {},
   "source": [
    "### Total High Credit Limit"
   ]
  },
  {
   "cell_type": "code",
   "execution_count": 604,
   "metadata": {},
   "outputs": [
    {
     "data": {
      "text/plain": [
       "0.000000        1532\n",
       "23464.873072       1\n",
       "9543.478261        1\n",
       "32489.165453       1\n",
       "12633.216149       1\n",
       "13523.701868       1\n",
       "11255.540638       1\n",
       "21750.887919       1\n",
       "23268.411744       1\n",
       "8547.359136        1\n",
       "7146.418940        1\n",
       "12163.289538       1\n",
       "11646.372675       1\n",
       "2232.929891        1\n",
       "21466.685785       1\n",
       "4137.405053        1\n",
       "22745.135194       1\n",
       "17430.794298       1\n",
       "6333.248005        1\n",
       "16255.114569       1\n",
       "5026.803177        1\n",
       "37610.791859       1\n",
       "21649.869286       1\n",
       "28755.620909       1\n",
       "64054.656070       1\n",
       "20894.940046       1\n",
       "6556.984181        1\n",
       "3485.816577        1\n",
       "7850.586835        1\n",
       "7206.619277        1\n",
       "                ... \n",
       "16482.489173       1\n",
       "18433.074510       1\n",
       "52729.800548       1\n",
       "15418.574132       1\n",
       "25198.866262       1\n",
       "6559.057417        1\n",
       "11247.219734       1\n",
       "61177.185676       1\n",
       "21466.507022       1\n",
       "9164.467273        1\n",
       "11898.828631       1\n",
       "29883.944443       1\n",
       "17318.275338       1\n",
       "3183.846555        1\n",
       "40193.721537       1\n",
       "30042.828125       1\n",
       "18735.412007       1\n",
       "5790.856113        1\n",
       "35235.515704       1\n",
       "15771.395193       1\n",
       "62169.643660       1\n",
       "1346.114169        1\n",
       "36057.922807       1\n",
       "4664.038613        1\n",
       "2737.277740        1\n",
       "13565.761207       1\n",
       "20369.906991       1\n",
       "11846.185006       1\n",
       "25608.430297       1\n",
       "5783.035737        1\n",
       "Name: tot_hi_cred_lim, dtype: int64"
      ]
     },
     "execution_count": 604,
     "metadata": {},
     "output_type": "execute_result"
    }
   ],
   "source": [
    "totCredLimit = applicants[\"tot_hi_cred_lim\"]\n",
    "totCredLimit.value_counts()"
   ]
  },
  {
   "cell_type": "code",
   "execution_count": 605,
   "metadata": {},
   "outputs": [
    {
     "data": {
      "text/plain": [
       "count    180628.000000\n",
       "mean      20239.458973\n",
       "std       18947.098163\n",
       "min           0.000000\n",
       "25%        7834.304802\n",
       "50%       14635.958701\n",
       "75%       26395.960437\n",
       "max      520643.298178\n",
       "Name: tot_hi_cred_lim, dtype: float64"
      ]
     },
     "execution_count": 605,
     "metadata": {},
     "output_type": "execute_result"
    }
   ],
   "source": [
    "totCredLimit.describe()"
   ]
  },
  {
   "cell_type": "markdown",
   "metadata": {},
   "source": [
    "Even though a particular category stands out (0 - occurs 1532 times), this is **not a majority** relative to the total number of entries. Since the remaining credit limits vary so much, we can use the mean to fill the missing values!"
   ]
  },
  {
   "cell_type": "code",
   "execution_count": 606,
   "metadata": {},
   "outputs": [
    {
     "data": {
      "text/plain": [
       "count    197787.000000\n",
       "mean      20239.458973\n",
       "std       18106.573248\n",
       "min           0.000000\n",
       "25%        8377.459703\n",
       "50%       16290.323570\n",
       "75%       24868.156809\n",
       "max      520643.298178\n",
       "Name: tot_hi_cred_lim, dtype: float64"
      ]
     },
     "execution_count": 606,
     "metadata": {},
     "output_type": "execute_result"
    }
   ],
   "source": [
    "# Fill in missing values\n",
    "totCredLimit.fillna(totCredLimit.mean(), inplace = True)\n",
    "totCredLimit.describe()"
   ]
  },
  {
   "cell_type": "markdown",
   "metadata": {},
   "source": [
    "### Total Current Balance\n"
   ]
  },
  {
   "cell_type": "code",
   "execution_count": 607,
   "metadata": {},
   "outputs": [
    {
     "data": {
      "text/plain": [
       "0.0         32\n",
       "19998.0      9\n",
       "22396.0      9\n",
       "18311.0      8\n",
       "23421.0      8\n",
       "26302.0      8\n",
       "28674.0      8\n",
       "27316.0      8\n",
       "23277.0      8\n",
       "23254.0      8\n",
       "30652.0      8\n",
       "17848.0      7\n",
       "13335.0      7\n",
       "20341.0      7\n",
       "8988.0       7\n",
       "23607.0      7\n",
       "8434.0       7\n",
       "16006.0      7\n",
       "20109.0      7\n",
       "15493.0      7\n",
       "27887.0      7\n",
       "16473.0      7\n",
       "18214.0      7\n",
       "5187.0       7\n",
       "4693.0       7\n",
       "21820.0      7\n",
       "12325.0      7\n",
       "27672.0      7\n",
       "16728.0      7\n",
       "36716.0      7\n",
       "            ..\n",
       "236058.0     1\n",
       "128296.0     1\n",
       "236059.0     1\n",
       "281648.0     1\n",
       "85262.0      1\n",
       "341025.0     1\n",
       "13512.0      1\n",
       "472095.0     1\n",
       "258834.0     1\n",
       "85247.0      1\n",
       "450085.0     1\n",
       "90140.0      1\n",
       "118016.0     1\n",
       "113906.0     1\n",
       "307200.0     1\n",
       "118017.0     1\n",
       "170499.0     1\n",
       "45647.0      1\n",
       "22230.0      1\n",
       "236046.0     1\n",
       "25679.0      1\n",
       "472079.0     1\n",
       "170504.0     1\n",
       "341010.0     1\n",
       "341012.0     1\n",
       "522386.0     1\n",
       "42627.0      1\n",
       "170509.0     1\n",
       "142632.0     1\n",
       "12076.0      1\n",
       "Name: tot_cur_bal, dtype: int64"
      ]
     },
     "execution_count": 607,
     "metadata": {},
     "output_type": "execute_result"
    }
   ],
   "source": [
    "totCurrBalance = applicants[\"tot_cur_bal\"]\n",
    "totCurrBalance.value_counts()"
   ]
  },
  {
   "cell_type": "code",
   "execution_count": 608,
   "metadata": {},
   "outputs": [
    {
     "data": {
      "text/plain": [
       "count    1.603820e+05\n",
       "mean     1.373305e+05\n",
       "std      1.507587e+05\n",
       "min      0.000000e+00\n",
       "25%      2.747125e+04\n",
       "50%      8.076400e+04\n",
       "75%      2.081852e+05\n",
       "max      8.000078e+06\n",
       "Name: tot_cur_bal, dtype: float64"
      ]
     },
     "execution_count": 608,
     "metadata": {},
     "output_type": "execute_result"
    }
   ],
   "source": [
    "totCurrBalance.describe()"
   ]
  },
  {
   "cell_type": "markdown",
   "metadata": {},
   "source": [
    "**Lot of Skew**\n",
    "\n",
    "Looking at the difference between the mean and the median in this case, it seems like the data is heavily skewed. Let's take a look at the boxplot, it's possible that there's **outliers pulling the data**."
   ]
  },
  {
   "cell_type": "code",
   "execution_count": 609,
   "metadata": {},
   "outputs": [
    {
     "data": {
      "text/plain": [
       "<matplotlib.axes._subplots.AxesSubplot at 0x1bb6ae0d0>"
      ]
     },
     "execution_count": 609,
     "metadata": {},
     "output_type": "execute_result"
    },
    {
     "data": {
      "image/png": "[encoded data removed]",
      "text/plain": [
       "<matplotlib.figure.Figure at 0x1b94e5650>"
      ]
     },
     "metadata": {},
     "output_type": "display_data"
    }
   ],
   "source": [
    "# Boxplot\n",
    "applicants.boxplot(column=\"tot_cur_bal\")"
   ]
  },
  {
   "cell_type": "markdown",
   "metadata": {},
   "source": [
    "**Inference**\n",
    "\n",
    "As result of that one outlier, the mean is being pulled quite a bit (it's an *order of magnitude greater* than the median). Thus, in this case, the **median is a better value to fill the missing data with!**"
   ]
  },
  {
   "cell_type": "code",
   "execution_count": 610,
   "metadata": {},
   "outputs": [
    {
     "data": {
      "text/plain": [
       "count    1.977870e+05\n",
       "mean     1.266328e+05\n",
       "std      1.375520e+05\n",
       "min      0.000000e+00\n",
       "25%      3.377400e+04\n",
       "50%      8.076400e+04\n",
       "75%      1.780020e+05\n",
       "max      8.000078e+06\n",
       "Name: tot_cur_bal, dtype: float64"
      ]
     },
     "execution_count": 610,
     "metadata": {},
     "output_type": "execute_result"
    }
   ],
   "source": [
    "# Fill in missing values using the median\n",
    "totCurrBalance.fillna(totCurrBalance.median(), inplace = True)\n",
    "totCurrBalance.describe()"
   ]
  },
  {
   "cell_type": "code",
   "execution_count": 611,
   "metadata": {},
   "outputs": [
    {
     "data": {
      "text/html": [
       "<div>\n",
       "<table border=\"1\" class=\"dataframe\">\n",
       "  <thead>\n",
       "    <tr style=\"text-align: right;\">\n",
       "      <th></th>\n",
       "      <th>loan_amnt</th>\n",
       "      <th>term</th>\n",
       "      <th>int_rate</th>\n",
       "      <th>emp_length</th>\n",
       "      <th>home_ownership</th>\n",
       "      <th>annual_inc</th>\n",
       "      <th>loan_status</th>\n",
       "      <th>purpose</th>\n",
       "      <th>percent_bc_gt_75</th>\n",
       "      <th>bc_util</th>\n",
       "      <th>dti</th>\n",
       "      <th>inq_last_6mths</th>\n",
       "      <th>mths_since_recent_inq</th>\n",
       "      <th>revol_util</th>\n",
       "      <th>total_bc_limit</th>\n",
       "      <th>total_pymnt</th>\n",
       "      <th>mths_since_last_major_derog</th>\n",
       "      <th>tot_hi_cred_lim</th>\n",
       "      <th>tot_cur_bal</th>\n",
       "    </tr>\n",
       "  </thead>\n",
       "  <tbody>\n",
       "    <tr>\n",
       "      <th>0</th>\n",
       "      <td>7550</td>\n",
       "      <td>0</td>\n",
       "      <td>16.24</td>\n",
       "      <td>4</td>\n",
       "      <td>3</td>\n",
       "      <td>28000.0</td>\n",
       "      <td>6</td>\n",
       "      <td>12</td>\n",
       "      <td>100.0</td>\n",
       "      <td>96.0</td>\n",
       "      <td>8.40</td>\n",
       "      <td>0.0</td>\n",
       "      <td>17.0</td>\n",
       "      <td>72</td>\n",
       "      <td>4000.0</td>\n",
       "      <td>1864.38</td>\n",
       "      <td>-1.0</td>\n",
       "      <td>3828.953801</td>\n",
       "      <td>5759.0</td>\n",
       "    </tr>\n",
       "    <tr>\n",
       "      <th>1</th>\n",
       "      <td>27050</td>\n",
       "      <td>0</td>\n",
       "      <td>10.99</td>\n",
       "      <td>11</td>\n",
       "      <td>2</td>\n",
       "      <td>55000.0</td>\n",
       "      <td>6</td>\n",
       "      <td>12</td>\n",
       "      <td>25.0</td>\n",
       "      <td>53.9</td>\n",
       "      <td>22.87</td>\n",
       "      <td>0.0</td>\n",
       "      <td>8.0</td>\n",
       "      <td>61.2</td>\n",
       "      <td>35700.0</td>\n",
       "      <td>6198.22</td>\n",
       "      <td>-1.0</td>\n",
       "      <td>34359.940727</td>\n",
       "      <td>114834.0</td>\n",
       "    </tr>\n",
       "    <tr>\n",
       "      <th>2</th>\n",
       "      <td>12000</td>\n",
       "      <td>0</td>\n",
       "      <td>10.99</td>\n",
       "      <td>5</td>\n",
       "      <td>3</td>\n",
       "      <td>60000.0</td>\n",
       "      <td>6</td>\n",
       "      <td>12</td>\n",
       "      <td>0.0</td>\n",
       "      <td>15.9</td>\n",
       "      <td>4.62</td>\n",
       "      <td>1.0</td>\n",
       "      <td>3.0</td>\n",
       "      <td>24</td>\n",
       "      <td>18100.0</td>\n",
       "      <td>2748.84</td>\n",
       "      <td>-1.0</td>\n",
       "      <td>16416.617758</td>\n",
       "      <td>7137.0</td>\n",
       "    </tr>\n",
       "  </tbody>\n",
       "</table>\n",
       "</div>"
      ],
      "text/plain": [
       "   loan_amnt term int_rate emp_length home_ownership  annual_inc loan_status  \\\n",
       "0       7550    0    16.24          4              3     28000.0           6   \n",
       "1      27050    0    10.99         11              2     55000.0           6   \n",
       "2      12000    0    10.99          5              3     60000.0           6   \n",
       "\n",
       "  purpose  percent_bc_gt_75  bc_util    dti  inq_last_6mths  \\\n",
       "0      12             100.0     96.0   8.40             0.0   \n",
       "1      12              25.0     53.9  22.87             0.0   \n",
       "2      12               0.0     15.9   4.62             1.0   \n",
       "\n",
       "   mths_since_recent_inq revol_util  total_bc_limit  total_pymnt  \\\n",
       "0                   17.0         72          4000.0      1864.38   \n",
       "1                    8.0       61.2         35700.0      6198.22   \n",
       "2                    3.0         24         18100.0      2748.84   \n",
       "\n",
       "   mths_since_last_major_derog  tot_hi_cred_lim  tot_cur_bal  \n",
       "0                         -1.0      3828.953801       5759.0  \n",
       "1                         -1.0     34359.940727     114834.0  \n",
       "2                         -1.0     16416.617758       7137.0  "
      ]
     },
     "execution_count": 611,
     "metadata": {},
     "output_type": "execute_result"
    }
   ],
   "source": [
    "applicants.head(3)"
   ]
  },
  {
   "cell_type": "code",
   "execution_count": 612,
   "metadata": {},
   "outputs": [
    {
     "data": {
      "text/html": [
       "<div>\n",
       "<table border=\"1\" class=\"dataframe\">\n",
       "  <thead>\n",
       "    <tr style=\"text-align: right;\">\n",
       "      <th></th>\n",
       "      <th>loan_amnt</th>\n",
       "      <th>annual_inc</th>\n",
       "      <th>percent_bc_gt_75</th>\n",
       "      <th>bc_util</th>\n",
       "      <th>dti</th>\n",
       "      <th>inq_last_6mths</th>\n",
       "      <th>mths_since_recent_inq</th>\n",
       "      <th>total_bc_limit</th>\n",
       "      <th>total_pymnt</th>\n",
       "      <th>mths_since_last_major_derog</th>\n",
       "      <th>tot_hi_cred_lim</th>\n",
       "      <th>tot_cur_bal</th>\n",
       "    </tr>\n",
       "  </thead>\n",
       "  <tbody>\n",
       "    <tr>\n",
       "      <th>count</th>\n",
       "      <td>197787.000000</td>\n",
       "      <td>1.977870e+05</td>\n",
       "      <td>197787.000000</td>\n",
       "      <td>197787.000000</td>\n",
       "      <td>197787.000000</td>\n",
       "      <td>197787.000000</td>\n",
       "      <td>197787.000000</td>\n",
       "      <td>197787.000000</td>\n",
       "      <td>197787.000000</td>\n",
       "      <td>197787.000000</td>\n",
       "      <td>197787.000000</td>\n",
       "      <td>1.977870e+05</td>\n",
       "    </tr>\n",
       "    <tr>\n",
       "      <th>mean</th>\n",
       "      <td>14070.907213</td>\n",
       "      <td>7.173844e+04</td>\n",
       "      <td>53.557030</td>\n",
       "      <td>66.829415</td>\n",
       "      <td>17.058663</td>\n",
       "      <td>0.883091</td>\n",
       "      <td>6.072421</td>\n",
       "      <td>20240.250448</td>\n",
       "      <td>8038.539610</td>\n",
       "      <td>6.030932</td>\n",
       "      <td>20239.458973</td>\n",
       "      <td>1.266328e+05</td>\n",
       "    </tr>\n",
       "    <tr>\n",
       "      <th>std</th>\n",
       "      <td>8069.585694</td>\n",
       "      <td>5.059556e+04</td>\n",
       "      <td>32.494894</td>\n",
       "      <td>24.840618</td>\n",
       "      <td>7.409055</td>\n",
       "      <td>1.083958</td>\n",
       "      <td>5.667828</td>\n",
       "      <td>18047.452055</td>\n",
       "      <td>6363.563680</td>\n",
       "      <td>17.996604</td>\n",
       "      <td>18106.573248</td>\n",
       "      <td>1.375520e+05</td>\n",
       "    </tr>\n",
       "    <tr>\n",
       "      <th>min</th>\n",
       "      <td>1000.000000</td>\n",
       "      <td>4.800000e+03</td>\n",
       "      <td>0.000000</td>\n",
       "      <td>0.000000</td>\n",
       "      <td>0.000000</td>\n",
       "      <td>0.000000</td>\n",
       "      <td>0.000000</td>\n",
       "      <td>0.000000</td>\n",
       "      <td>0.000000</td>\n",
       "      <td>-1.000000</td>\n",
       "      <td>0.000000</td>\n",
       "      <td>0.000000e+00</td>\n",
       "    </tr>\n",
       "    <tr>\n",
       "      <th>25%</th>\n",
       "      <td>8000.000000</td>\n",
       "      <td>4.550000e+04</td>\n",
       "      <td>33.300000</td>\n",
       "      <td>52.400000</td>\n",
       "      <td>11.650000</td>\n",
       "      <td>0.000000</td>\n",
       "      <td>2.000000</td>\n",
       "      <td>8400.000000</td>\n",
       "      <td>3741.760000</td>\n",
       "      <td>-1.000000</td>\n",
       "      <td>8377.459703</td>\n",
       "      <td>3.377400e+04</td>\n",
       "    </tr>\n",
       "    <tr>\n",
       "      <th>50%</th>\n",
       "      <td>12000.000000</td>\n",
       "      <td>6.200000e+04</td>\n",
       "      <td>53.557030</td>\n",
       "      <td>68.100000</td>\n",
       "      <td>17.058663</td>\n",
       "      <td>1.000000</td>\n",
       "      <td>4.000000</td>\n",
       "      <td>16300.000000</td>\n",
       "      <td>6484.680000</td>\n",
       "      <td>-1.000000</td>\n",
       "      <td>16290.323570</td>\n",
       "      <td>8.076400e+04</td>\n",
       "    </tr>\n",
       "    <tr>\n",
       "      <th>75%</th>\n",
       "      <td>19600.000000</td>\n",
       "      <td>8.500000e+04</td>\n",
       "      <td>80.000000</td>\n",
       "      <td>87.400000</td>\n",
       "      <td>22.230000</td>\n",
       "      <td>1.000000</td>\n",
       "      <td>9.000000</td>\n",
       "      <td>24900.000000</td>\n",
       "      <td>10026.360000</td>\n",
       "      <td>-1.000000</td>\n",
       "      <td>24868.156809</td>\n",
       "      <td>1.780020e+05</td>\n",
       "    </tr>\n",
       "    <tr>\n",
       "      <th>max</th>\n",
       "      <td>35000.000000</td>\n",
       "      <td>7.141778e+06</td>\n",
       "      <td>100.000000</td>\n",
       "      <td>339.600000</td>\n",
       "      <td>34.990000</td>\n",
       "      <td>8.000000</td>\n",
       "      <td>24.000000</td>\n",
       "      <td>522210.000000</td>\n",
       "      <td>50914.591249</td>\n",
       "      <td>165.000000</td>\n",
       "      <td>520643.298178</td>\n",
       "      <td>8.000078e+06</td>\n",
       "    </tr>\n",
       "  </tbody>\n",
       "</table>\n",
       "</div>"
      ],
      "text/plain": [
       "           loan_amnt    annual_inc  percent_bc_gt_75        bc_util  \\\n",
       "count  197787.000000  1.977870e+05     197787.000000  197787.000000   \n",
       "mean    14070.907213  7.173844e+04         53.557030      66.829415   \n",
       "std      8069.585694  5.059556e+04         32.494894      24.840618   \n",
       "min      1000.000000  4.800000e+03          0.000000       0.000000   \n",
       "25%      8000.000000  4.550000e+04         33.300000      52.400000   \n",
       "50%     12000.000000  6.200000e+04         53.557030      68.100000   \n",
       "75%     19600.000000  8.500000e+04         80.000000      87.400000   \n",
       "max     35000.000000  7.141778e+06        100.000000     339.600000   \n",
       "\n",
       "                 dti  inq_last_6mths  mths_since_recent_inq  total_bc_limit  \\\n",
       "count  197787.000000   197787.000000          197787.000000   197787.000000   \n",
       "mean       17.058663        0.883091               6.072421    20240.250448   \n",
       "std         7.409055        1.083958               5.667828    18047.452055   \n",
       "min         0.000000        0.000000               0.000000        0.000000   \n",
       "25%        11.650000        0.000000               2.000000     8400.000000   \n",
       "50%        17.058663        1.000000               4.000000    16300.000000   \n",
       "75%        22.230000        1.000000               9.000000    24900.000000   \n",
       "max        34.990000        8.000000              24.000000   522210.000000   \n",
       "\n",
       "         total_pymnt  mths_since_last_major_derog  tot_hi_cred_lim  \\\n",
       "count  197787.000000                197787.000000    197787.000000   \n",
       "mean     8038.539610                     6.030932     20239.458973   \n",
       "std      6363.563680                    17.996604     18106.573248   \n",
       "min         0.000000                    -1.000000         0.000000   \n",
       "25%      3741.760000                    -1.000000      8377.459703   \n",
       "50%      6484.680000                    -1.000000     16290.323570   \n",
       "75%     10026.360000                    -1.000000     24868.156809   \n",
       "max     50914.591249                   165.000000    520643.298178   \n",
       "\n",
       "        tot_cur_bal  \n",
       "count  1.977870e+05  \n",
       "mean   1.266328e+05  \n",
       "std    1.375520e+05  \n",
       "min    0.000000e+00  \n",
       "25%    3.377400e+04  \n",
       "50%    8.076400e+04  \n",
       "75%    1.780020e+05  \n",
       "max    8.000078e+06  "
      ]
     },
     "execution_count": 612,
     "metadata": {},
     "output_type": "execute_result"
    }
   ],
   "source": [
    "applicants.describe()"
   ]
  },
  {
   "cell_type": "code",
   "execution_count": 613,
   "metadata": {},
   "outputs": [
    {
     "data": {
      "text/plain": [
       "loan_amnt                        int64\n",
       "term                            object\n",
       "int_rate                        object\n",
       "emp_length                      object\n",
       "home_ownership                  object\n",
       "annual_inc                     float64\n",
       "loan_status                     object\n",
       "purpose                         object\n",
       "percent_bc_gt_75               float64\n",
       "bc_util                        float64\n",
       "dti                            float64\n",
       "inq_last_6mths                 float64\n",
       "mths_since_recent_inq          float64\n",
       "revol_util                      object\n",
       "total_bc_limit                 float64\n",
       "total_pymnt                    float64\n",
       "mths_since_last_major_derog    float64\n",
       "tot_hi_cred_lim                float64\n",
       "tot_cur_bal                    float64\n",
       "dtype: object"
      ]
     },
     "execution_count": 613,
     "metadata": {},
     "output_type": "execute_result"
    }
   ],
   "source": [
    "applicants.dtypes"
   ]
  },
  {
   "cell_type": "markdown",
   "metadata": {},
   "source": [
    "Having cleaned up the data, the final thing left to do is convert any remaining categorical variables to numerical ones! Although we converted each feature to numerical as we cleaned, it seems from above like the object type has still been retained. This can easily be changed with the following:"
   ]
  },
  {
   "cell_type": "code",
   "execution_count": 614,
   "metadata": {},
   "outputs": [
    {
     "data": {
      "text/plain": [
       "loan_amnt                        int64\n",
       "term                             int64\n",
       "int_rate                         int64\n",
       "emp_length                       int64\n",
       "home_ownership                   int64\n",
       "annual_inc                     float64\n",
       "loan_status                      int64\n",
       "purpose                          int64\n",
       "percent_bc_gt_75               float64\n",
       "bc_util                        float64\n",
       "dti                            float64\n",
       "inq_last_6mths                 float64\n",
       "mths_since_recent_inq          float64\n",
       "revol_util                       int64\n",
       "total_bc_limit                 float64\n",
       "total_pymnt                    float64\n",
       "mths_since_last_major_derog    float64\n",
       "tot_hi_cred_lim                float64\n",
       "tot_cur_bal                    float64\n",
       "dtype: object"
      ]
     },
     "execution_count": 614,
     "metadata": {},
     "output_type": "execute_result"
    }
   ],
   "source": [
    "# Convert remaining cleaned categorical variables to numerical\n",
    "from sklearn.preprocessing import LabelEncoder\n",
    "\n",
    "var_mod = [\"term\", \"int_rate\", \"emp_length\", \"home_ownership\", \"loan_status\", \"purpose\", \"revol_util\"]\n",
    "le = LabelEncoder()\n",
    "for i in var_mod:\n",
    "    applicants[i] = le.fit_transform(applicants[i])\n",
    "applicants.dtypes"
   ]
  },
  {
   "cell_type": "code",
   "execution_count": 615,
   "metadata": {},
   "outputs": [
    {
     "data": {
      "text/html": [
       "<div>\n",
       "<table border=\"1\" class=\"dataframe\">\n",
       "  <thead>\n",
       "    <tr style=\"text-align: right;\">\n",
       "      <th></th>\n",
       "      <th>loan_amnt</th>\n",
       "      <th>term</th>\n",
       "      <th>int_rate</th>\n",
       "      <th>emp_length</th>\n",
       "      <th>home_ownership</th>\n",
       "      <th>annual_inc</th>\n",
       "      <th>loan_status</th>\n",
       "      <th>purpose</th>\n",
       "      <th>percent_bc_gt_75</th>\n",
       "      <th>bc_util</th>\n",
       "      <th>dti</th>\n",
       "      <th>inq_last_6mths</th>\n",
       "      <th>mths_since_recent_inq</th>\n",
       "      <th>revol_util</th>\n",
       "      <th>total_bc_limit</th>\n",
       "      <th>total_pymnt</th>\n",
       "      <th>mths_since_last_major_derog</th>\n",
       "      <th>tot_hi_cred_lim</th>\n",
       "      <th>tot_cur_bal</th>\n",
       "    </tr>\n",
       "  </thead>\n",
       "  <tbody>\n",
       "    <tr>\n",
       "      <th>count</th>\n",
       "      <td>197787.000000</td>\n",
       "      <td>197787.000000</td>\n",
       "      <td>197787.000000</td>\n",
       "      <td>197787.000000</td>\n",
       "      <td>197787.000000</td>\n",
       "      <td>1.977870e+05</td>\n",
       "      <td>197787.000000</td>\n",
       "      <td>197787.000000</td>\n",
       "      <td>197787.000000</td>\n",
       "      <td>197787.000000</td>\n",
       "      <td>197787.000000</td>\n",
       "      <td>197787.000000</td>\n",
       "      <td>197787.000000</td>\n",
       "      <td>197787.000000</td>\n",
       "      <td>197787.000000</td>\n",
       "      <td>197787.000000</td>\n",
       "      <td>197787.000000</td>\n",
       "      <td>197787.000000</td>\n",
       "      <td>1.977870e+05</td>\n",
       "    </tr>\n",
       "    <tr>\n",
       "      <th>mean</th>\n",
       "      <td>14070.907213</td>\n",
       "      <td>0.223842</td>\n",
       "      <td>9480.411180</td>\n",
       "      <td>6.811499</td>\n",
       "      <td>3.433436</td>\n",
       "      <td>7.173844e+04</td>\n",
       "      <td>5.637823</td>\n",
       "      <td>11.072745</td>\n",
       "      <td>53.557030</td>\n",
       "      <td>66.829415</td>\n",
       "      <td>17.058663</td>\n",
       "      <td>0.883091</td>\n",
       "      <td>6.072421</td>\n",
       "      <td>10140.810938</td>\n",
       "      <td>20240.250448</td>\n",
       "      <td>8038.539610</td>\n",
       "      <td>6.030932</td>\n",
       "      <td>20239.458973</td>\n",
       "      <td>1.266328e+05</td>\n",
       "    </tr>\n",
       "    <tr>\n",
       "      <th>std</th>\n",
       "      <td>8069.585694</td>\n",
       "      <td>0.416818</td>\n",
       "      <td>1221.702329</td>\n",
       "      <td>3.767105</td>\n",
       "      <td>0.642882</td>\n",
       "      <td>5.059556e+04</td>\n",
       "      <td>0.778068</td>\n",
       "      <td>1.841984</td>\n",
       "      <td>32.494894</td>\n",
       "      <td>24.840618</td>\n",
       "      <td>7.409055</td>\n",
       "      <td>1.083958</td>\n",
       "      <td>5.667828</td>\n",
       "      <td>1372.772979</td>\n",
       "      <td>18047.452055</td>\n",
       "      <td>6363.563680</td>\n",
       "      <td>17.996604</td>\n",
       "      <td>18106.573248</td>\n",
       "      <td>1.375520e+05</td>\n",
       "    </tr>\n",
       "    <tr>\n",
       "      <th>min</th>\n",
       "      <td>1000.000000</td>\n",
       "      <td>0.000000</td>\n",
       "      <td>0.000000</td>\n",
       "      <td>0.000000</td>\n",
       "      <td>0.000000</td>\n",
       "      <td>4.800000e+03</td>\n",
       "      <td>0.000000</td>\n",
       "      <td>0.000000</td>\n",
       "      <td>0.000000</td>\n",
       "      <td>0.000000</td>\n",
       "      <td>0.000000</td>\n",
       "      <td>0.000000</td>\n",
       "      <td>0.000000</td>\n",
       "      <td>0.000000</td>\n",
       "      <td>0.000000</td>\n",
       "      <td>0.000000</td>\n",
       "      <td>-1.000000</td>\n",
       "      <td>0.000000</td>\n",
       "      <td>0.000000e+00</td>\n",
       "    </tr>\n",
       "    <tr>\n",
       "      <th>25%</th>\n",
       "      <td>8000.000000</td>\n",
       "      <td>0.000000</td>\n",
       "      <td>9679.000000</td>\n",
       "      <td>3.000000</td>\n",
       "      <td>3.000000</td>\n",
       "      <td>4.550000e+04</td>\n",
       "      <td>6.000000</td>\n",
       "      <td>11.000000</td>\n",
       "      <td>33.300000</td>\n",
       "      <td>52.400000</td>\n",
       "      <td>11.650000</td>\n",
       "      <td>0.000000</td>\n",
       "      <td>2.000000</td>\n",
       "      <td>10209.000000</td>\n",
       "      <td>8400.000000</td>\n",
       "      <td>3741.760000</td>\n",
       "      <td>-1.000000</td>\n",
       "      <td>8377.459703</td>\n",
       "      <td>3.377400e+04</td>\n",
       "    </tr>\n",
       "    <tr>\n",
       "      <th>50%</th>\n",
       "      <td>12000.000000</td>\n",
       "      <td>0.000000</td>\n",
       "      <td>9701.000000</td>\n",
       "      <td>7.000000</td>\n",
       "      <td>4.000000</td>\n",
       "      <td>6.200000e+04</td>\n",
       "      <td>6.000000</td>\n",
       "      <td>12.000000</td>\n",
       "      <td>53.557030</td>\n",
       "      <td>68.100000</td>\n",
       "      <td>17.058663</td>\n",
       "      <td>1.000000</td>\n",
       "      <td>4.000000</td>\n",
       "      <td>10411.000000</td>\n",
       "      <td>16300.000000</td>\n",
       "      <td>6484.680000</td>\n",
       "      <td>-1.000000</td>\n",
       "      <td>16290.323570</td>\n",
       "      <td>8.076400e+04</td>\n",
       "    </tr>\n",
       "    <tr>\n",
       "      <th>75%</th>\n",
       "      <td>19600.000000</td>\n",
       "      <td>0.000000</td>\n",
       "      <td>9742.000000</td>\n",
       "      <td>11.000000</td>\n",
       "      <td>4.000000</td>\n",
       "      <td>8.500000e+04</td>\n",
       "      <td>6.000000</td>\n",
       "      <td>12.000000</td>\n",
       "      <td>80.000000</td>\n",
       "      <td>87.400000</td>\n",
       "      <td>22.230000</td>\n",
       "      <td>1.000000</td>\n",
       "      <td>9.000000</td>\n",
       "      <td>10597.000000</td>\n",
       "      <td>24900.000000</td>\n",
       "      <td>10026.360000</td>\n",
       "      <td>-1.000000</td>\n",
       "      <td>24868.156809</td>\n",
       "      <td>1.780020e+05</td>\n",
       "    </tr>\n",
       "    <tr>\n",
       "      <th>max</th>\n",
       "      <td>35000.000000</td>\n",
       "      <td>1.000000</td>\n",
       "      <td>9808.000000</td>\n",
       "      <td>11.000000</td>\n",
       "      <td>4.000000</td>\n",
       "      <td>7.141778e+06</td>\n",
       "      <td>6.000000</td>\n",
       "      <td>12.000000</td>\n",
       "      <td>100.000000</td>\n",
       "      <td>339.600000</td>\n",
       "      <td>34.990000</td>\n",
       "      <td>8.000000</td>\n",
       "      <td>24.000000</td>\n",
       "      <td>10856.000000</td>\n",
       "      <td>522210.000000</td>\n",
       "      <td>50914.591249</td>\n",
       "      <td>165.000000</td>\n",
       "      <td>520643.298178</td>\n",
       "      <td>8.000078e+06</td>\n",
       "    </tr>\n",
       "  </tbody>\n",
       "</table>\n",
       "</div>"
      ],
      "text/plain": [
       "           loan_amnt           term       int_rate     emp_length  \\\n",
       "count  197787.000000  197787.000000  197787.000000  197787.000000   \n",
       "mean    14070.907213       0.223842    9480.411180       6.811499   \n",
       "std      8069.585694       0.416818    1221.702329       3.767105   \n",
       "min      1000.000000       0.000000       0.000000       0.000000   \n",
       "25%      8000.000000       0.000000    9679.000000       3.000000   \n",
       "50%     12000.000000       0.000000    9701.000000       7.000000   \n",
       "75%     19600.000000       0.000000    9742.000000      11.000000   \n",
       "max     35000.000000       1.000000    9808.000000      11.000000   \n",
       "\n",
       "       home_ownership    annual_inc    loan_status        purpose  \\\n",
       "count   197787.000000  1.977870e+05  197787.000000  197787.000000   \n",
       "mean         3.433436  7.173844e+04       5.637823      11.072745   \n",
       "std          0.642882  5.059556e+04       0.778068       1.841984   \n",
       "min          0.000000  4.800000e+03       0.000000       0.000000   \n",
       "25%          3.000000  4.550000e+04       6.000000      11.000000   \n",
       "50%          4.000000  6.200000e+04       6.000000      12.000000   \n",
       "75%          4.000000  8.500000e+04       6.000000      12.000000   \n",
       "max          4.000000  7.141778e+06       6.000000      12.000000   \n",
       "\n",
       "       percent_bc_gt_75        bc_util            dti  inq_last_6mths  \\\n",
       "count     197787.000000  197787.000000  197787.000000   197787.000000   \n",
       "mean          53.557030      66.829415      17.058663        0.883091   \n",
       "std           32.494894      24.840618       7.409055        1.083958   \n",
       "min            0.000000       0.000000       0.000000        0.000000   \n",
       "25%           33.300000      52.400000      11.650000        0.000000   \n",
       "50%           53.557030      68.100000      17.058663        1.000000   \n",
       "75%           80.000000      87.400000      22.230000        1.000000   \n",
       "max          100.000000     339.600000      34.990000        8.000000   \n",
       "\n",
       "       mths_since_recent_inq     revol_util  total_bc_limit    total_pymnt  \\\n",
       "count          197787.000000  197787.000000   197787.000000  197787.000000   \n",
       "mean                6.072421   10140.810938    20240.250448    8038.539610   \n",
       "std                 5.667828    1372.772979    18047.452055    6363.563680   \n",
       "min                 0.000000       0.000000        0.000000       0.000000   \n",
       "25%                 2.000000   10209.000000     8400.000000    3741.760000   \n",
       "50%                 4.000000   10411.000000    16300.000000    6484.680000   \n",
       "75%                 9.000000   10597.000000    24900.000000   10026.360000   \n",
       "max                24.000000   10856.000000   522210.000000   50914.591249   \n",
       "\n",
       "       mths_since_last_major_derog  tot_hi_cred_lim   tot_cur_bal  \n",
       "count                197787.000000    197787.000000  1.977870e+05  \n",
       "mean                      6.030932     20239.458973  1.266328e+05  \n",
       "std                      17.996604     18106.573248  1.375520e+05  \n",
       "min                      -1.000000         0.000000  0.000000e+00  \n",
       "25%                      -1.000000      8377.459703  3.377400e+04  \n",
       "50%                      -1.000000     16290.323570  8.076400e+04  \n",
       "75%                      -1.000000     24868.156809  1.780020e+05  \n",
       "max                     165.000000    520643.298178  8.000078e+06  "
      ]
     },
     "execution_count": 615,
     "metadata": {},
     "output_type": "execute_result"
    }
   ],
   "source": [
    "applicants.describe()"
   ]
  },
  {
   "cell_type": "markdown",
   "metadata": {},
   "source": [
    "We've cleaned up the data, and are now ready to do some exploratory analysis!"
   ]
  },
  {
   "cell_type": "markdown",
   "metadata": {},
   "source": [
    "## Exploratory Data Analysis"
   ]
  },
  {
   "cell_type": "code",
   "execution_count": null,
   "metadata": {},
   "outputs": [],
   "source": []
  },
  {
   "cell_type": "code",
   "execution_count": null,
   "metadata": {},
   "outputs": [],
   "source": []
  },
  {
   "cell_type": "code",
   "execution_count": null,
   "metadata": {},
   "outputs": [],
   "source": []
  },
  {
   "cell_type": "code",
   "execution_count": null,
   "metadata": {},
   "outputs": [],
   "source": []
  }
 ],
 "metadata": {
  "kernelspec": {
   "display_name": "Python 2",
   "language": "python",
   "name": "python2"
  },
  "language_info": {
   "codemirror_mode": {
    "name": "ipython",
    "version": 2
   },
   "file_extension": ".py",
   "mimetype": "text/x-python",
   "name": "python",
   "nbconvert_exporter": "python",
   "pygments_lexer": "ipython2",
   "version": "2.7.13"
  }
 },
 "nbformat": 4,
 "nbformat_minor": 2
}
