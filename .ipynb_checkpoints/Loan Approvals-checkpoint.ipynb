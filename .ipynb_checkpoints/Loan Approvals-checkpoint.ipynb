{
 "cells": [
  {
   "cell_type": "markdown",
   "metadata": {},
   "source": [
    "# LendUp Data Challenge - Loan Approvals\n",
    "\n",
    "The goal of this data challenge is to utilize the given dataset, sample applicant data from the LendingClub portfolio, and utilize that data to create a model that can assess whether LendingClub should issue a loan to the applicant. The dataset includes a wide variety of information on the applicant, some of which is personal and other information that is more situational/operational in nature.\n",
    "\n",
    "Let's go through a typical data science process (Clean -> Explore -> Analyse -> Model -> Evaluate) with this dataset!"
   ]
  },
  {
   "cell_type": "markdown",
   "metadata": {},
   "source": [
    "## Import Data + First Look\n",
    "\n",
    "Let's first import any modules we need + the actual data, and take a look at all the different features that are present in the dataset:"
   ]
  },
  {
   "cell_type": "code",
   "execution_count": 749,
   "metadata": {},
   "outputs": [],
   "source": [
    "# Import any necessary modules\n",
    "%matplotlib inline\n",
    "import numpy as np\n",
    "import pandas as pd\n",
    "import matplotlib.pyplot as plt"
   ]
  },
  {
   "cell_type": "code",
   "execution_count": 750,
   "metadata": {},
   "outputs": [
    {
     "data": {
      "text/html": [
       "<div>\n",
       "<table border=\"1\" class=\"dataframe\">\n",
       "  <thead>\n",
       "    <tr style=\"text-align: right;\">\n",
       "      <th></th>\n",
       "      <th></th>\n",
       "      <th></th>\n",
       "      <th></th>\n",
       "      <th></th>\n",
       "      <th></th>\n",
       "      <th></th>\n",
       "      <th></th>\n",
       "      <th></th>\n",
       "      <th></th>\n",
       "      <th></th>\n",
       "      <th></th>\n",
       "      <th></th>\n",
       "      <th></th>\n",
       "      <th></th>\n",
       "      <th></th>\n",
       "      <th></th>\n",
       "      <th></th>\n",
       "      <th></th>\n",
       "      <th></th>\n",
       "      <th></th>\n",
       "      <th>Data derived from LendingClub Prospectus (https://www.lendingclub.com/info/prospectus.action)</th>\n",
       "    </tr>\n",
       "  </thead>\n",
       "  <tbody>\n",
       "    <tr>\n",
       "      <th>id</th>\n",
       "      <th>member_id</th>\n",
       "      <th>loan_amnt</th>\n",
       "      <th>term</th>\n",
       "      <th>int_rate</th>\n",
       "      <th>emp_length</th>\n",
       "      <th>home_ownership</th>\n",
       "      <th>annual_inc</th>\n",
       "      <th>loan_status</th>\n",
       "      <th>desc</th>\n",
       "      <th>purpose</th>\n",
       "      <th>percent_bc_gt_75</th>\n",
       "      <th>bc_util</th>\n",
       "      <th>dti</th>\n",
       "      <th>inq_last_6mths</th>\n",
       "      <th>mths_since_recent_inq</th>\n",
       "      <th>revol_util</th>\n",
       "      <th>total_bc_limit</th>\n",
       "      <th>total_pymnt</th>\n",
       "      <th>mths_since_last_major_derog</th>\n",
       "      <th>tot_hi_cred_lim</th>\n",
       "      <td>tot_cur_bal</td>\n",
       "    </tr>\n",
       "    <tr>\n",
       "      <th>10129403</th>\n",
       "      <th>11981032.0</th>\n",
       "      <th>7550</th>\n",
       "      <th>36 months</th>\n",
       "      <th>16.24%</th>\n",
       "      <th>3 years</th>\n",
       "      <th>RENT</th>\n",
       "      <th>28000.0</th>\n",
       "      <th>Current</th>\n",
       "      <th>NaN</th>\n",
       "      <th>debt_consolidation</th>\n",
       "      <th>100.0</th>\n",
       "      <th>96.0</th>\n",
       "      <th>8.4</th>\n",
       "      <th>0.0</th>\n",
       "      <th>17.0</th>\n",
       "      <th>72%</th>\n",
       "      <th>4000.0</th>\n",
       "      <th>1864.38</th>\n",
       "      <th>NaN</th>\n",
       "      <th>3828.95380081</th>\n",
       "      <td>5759.0</td>\n",
       "    </tr>\n",
       "    <tr>\n",
       "      <th>10149342</th>\n",
       "      <th>12000897.0</th>\n",
       "      <th>27050</th>\n",
       "      <th>36 months</th>\n",
       "      <th>10.99%</th>\n",
       "      <th>10+ years</th>\n",
       "      <th>OWN</th>\n",
       "      <th>55000.0</th>\n",
       "      <th>Current</th>\n",
       "      <th>Borrower added on 12/31/13 &gt; Combining high interest credit cards to lower interest rate.&lt;br&gt;</th>\n",
       "      <th>debt_consolidation</th>\n",
       "      <th>25.0</th>\n",
       "      <th>53.9</th>\n",
       "      <th>22.87</th>\n",
       "      <th>0.0</th>\n",
       "      <th>8.0</th>\n",
       "      <th>61.2%</th>\n",
       "      <th>35700.0</th>\n",
       "      <th>6198.22</th>\n",
       "      <th>NaN</th>\n",
       "      <th>34359.9407269</th>\n",
       "      <td>114834.0</td>\n",
       "    </tr>\n",
       "    <tr>\n",
       "      <th>10129454</th>\n",
       "      <th>11981072.0</th>\n",
       "      <th>12000</th>\n",
       "      <th>36 months</th>\n",
       "      <th>10.99%</th>\n",
       "      <th>4 years</th>\n",
       "      <th>RENT</th>\n",
       "      <th>60000.0</th>\n",
       "      <th>Current</th>\n",
       "      <th>Borrower added on 12/31/13 &gt; I would like to use this money to payoff existing credit card debt and use the remaining about to purchase a used car that is fuel efficient.&lt;br&gt;</th>\n",
       "      <th>debt_consolidation</th>\n",
       "      <th>0.0</th>\n",
       "      <th>15.9</th>\n",
       "      <th>4.62</th>\n",
       "      <th>1.0</th>\n",
       "      <th>3.0</th>\n",
       "      <th>24%</th>\n",
       "      <th>18100.0</th>\n",
       "      <th>2748.84</th>\n",
       "      <th>NaN</th>\n",
       "      <th>16416.6177583</th>\n",
       "      <td>7137.0</td>\n",
       "    </tr>\n",
       "    <tr>\n",
       "      <th>10149577</th>\n",
       "      <th>12001118.0</th>\n",
       "      <th>28000</th>\n",
       "      <th>36 months</th>\n",
       "      <th>7.62%</th>\n",
       "      <th>5 years</th>\n",
       "      <th>MORTGAGE</th>\n",
       "      <th>325000.0</th>\n",
       "      <th>Fully Paid</th>\n",
       "      <th>NaN</th>\n",
       "      <th>debt_consolidation</th>\n",
       "      <th>16.7</th>\n",
       "      <th>67.1</th>\n",
       "      <th>18.55</th>\n",
       "      <th>1.0</th>\n",
       "      <th>3.0</th>\n",
       "      <th>54.6%</th>\n",
       "      <th>42200.0</th>\n",
       "      <th>29150.98</th>\n",
       "      <th>NaN</th>\n",
       "      <th>38014.1497567</th>\n",
       "      <td>799592.0</td>\n",
       "    </tr>\n",
       "  </tbody>\n",
       "</table>\n",
       "</div>"
      ],
      "text/plain": [
       "                                                                                                                                                                                                                                                                                                                               Data derived from LendingClub Prospectus (https://www.lendingclub.com/info/prospectus.action)\n",
       "id       member_id  loan_amnt term       int_rate emp_length home_ownership annual_inc loan_status desc                                               purpose            percent_bc_gt_75 bc_util dti   inq_last_6mths mths_since_recent_inq revol_util total_bc_limit total_pymnt mths_since_last_major_derog tot_hi_cred_lim                                        tot_cur_bal                                           \n",
       "10129403 11981032.0 7550       36 months  16.24%  3 years    RENT           28000.0    Current     NaN                                                debt_consolidation 100.0            96.0    8.4   0.0            17.0                  72%        4000.0         1864.38     NaN                         3828.95380081                                               5759.0                                           \n",
       "10149342 12000897.0 27050      36 months  10.99%  10+ years  OWN            55000.0    Current       Borrower added on 12/31/13 > Combining high i... debt_consolidation 25.0             53.9    22.87 0.0            8.0                   61.2%      35700.0        6198.22     NaN                         34359.9407269                                             114834.0                                           \n",
       "10129454 11981072.0 12000      36 months  10.99%  4 years    RENT           60000.0    Current       Borrower added on 12/31/13 > I would like to ... debt_consolidation 0.0              15.9    4.62  1.0            3.0                   24%        18100.0        2748.84     NaN                         16416.6177583                                               7137.0                                           \n",
       "10149577 12001118.0 28000      36 months   7.62%  5 years    MORTGAGE       325000.0   Fully Paid  NaN                                                debt_consolidation 16.7             67.1    18.55 1.0            3.0                   54.6%      42200.0        29150.98    NaN                         38014.1497567                                             799592.0                                           "
      ]
     },
     "execution_count": 750,
     "metadata": {},
     "output_type": "execute_result"
    }
   ],
   "source": [
    "# Import data + Read\n",
    "data = pd.read_csv(\"lending_club_data.csv\", low_memory = False)\n",
    "data.head(5)"
   ]
  },
  {
   "cell_type": "code",
   "execution_count": 751,
   "metadata": {},
   "outputs": [
    {
     "data": {
      "text/html": [
       "<div>\n",
       "<table border=\"1\" class=\"dataframe\">\n",
       "  <thead>\n",
       "    <tr style=\"text-align: right;\">\n",
       "      <th></th>\n",
       "      <th>Data derived from LendingClub Prospectus (https://www.lendingclub.com/info/prospectus.action)</th>\n",
       "    </tr>\n",
       "  </thead>\n",
       "  <tbody>\n",
       "    <tr>\n",
       "      <th>count</th>\n",
       "      <td>160383</td>\n",
       "    </tr>\n",
       "    <tr>\n",
       "      <th>unique</th>\n",
       "      <td>118423</td>\n",
       "    </tr>\n",
       "    <tr>\n",
       "      <th>top</th>\n",
       "      <td>0.0</td>\n",
       "    </tr>\n",
       "    <tr>\n",
       "      <th>freq</th>\n",
       "      <td>32</td>\n",
       "    </tr>\n",
       "  </tbody>\n",
       "</table>\n",
       "</div>"
      ],
      "text/plain": [
       "       Data derived from LendingClub Prospectus (https://www.lendingclub.com/info/prospectus.action)\n",
       "count                                              160383                                           \n",
       "unique                                             118423                                           \n",
       "top                                                   0.0                                           \n",
       "freq                                                   32                                           "
      ]
     },
     "execution_count": 751,
     "metadata": {},
     "output_type": "execute_result"
    }
   ],
   "source": [
    "data.describe()"
   ]
  },
  {
   "cell_type": "markdown",
   "metadata": {},
   "source": [
    "Immediately, we can notice that the dataframe is actually stored completely stored under one column (as shown above). This discrepency needs to be resolved so we can properly read the data coming in:"
   ]
  },
  {
   "cell_type": "code",
   "execution_count": 752,
   "metadata": {},
   "outputs": [
    {
     "data": {
      "text/plain": [
       "Index([u'id', u'member_id', u'loan_amnt', u'term', u'int_rate', u'emp_length',\n",
       "       u'home_ownership', u'annual_inc', u'loan_status', u'desc', u'purpose',\n",
       "       u'percent_bc_gt_75', u'bc_util', u'dti', u'inq_last_6mths',\n",
       "       u'mths_since_recent_inq', u'revol_util', u'total_bc_limit',\n",
       "       u'total_pymnt', u'mths_since_last_major_derog', u'tot_hi_cred_lim',\n",
       "       u'tot_cur_bal'],\n",
       "      dtype='object')"
      ]
     },
     "execution_count": 752,
     "metadata": {},
     "output_type": "execute_result"
    }
   ],
   "source": [
    "# Fix dataframe issue - set header parameter\n",
    "applicants = pd.read_csv(\"lending_club_data.csv\", low_memory = True, header = 1)\n",
    "applicants.columns"
   ]
  },
  {
   "cell_type": "code",
   "execution_count": 753,
   "metadata": {},
   "outputs": [
    {
     "data": {
      "text/html": [
       "<div>\n",
       "<table border=\"1\" class=\"dataframe\">\n",
       "  <thead>\n",
       "    <tr style=\"text-align: right;\">\n",
       "      <th></th>\n",
       "      <th>id</th>\n",
       "      <th>member_id</th>\n",
       "      <th>loan_amnt</th>\n",
       "      <th>term</th>\n",
       "      <th>int_rate</th>\n",
       "      <th>emp_length</th>\n",
       "      <th>home_ownership</th>\n",
       "      <th>annual_inc</th>\n",
       "      <th>loan_status</th>\n",
       "      <th>desc</th>\n",
       "      <th>...</th>\n",
       "      <th>bc_util</th>\n",
       "      <th>dti</th>\n",
       "      <th>inq_last_6mths</th>\n",
       "      <th>mths_since_recent_inq</th>\n",
       "      <th>revol_util</th>\n",
       "      <th>total_bc_limit</th>\n",
       "      <th>total_pymnt</th>\n",
       "      <th>mths_since_last_major_derog</th>\n",
       "      <th>tot_hi_cred_lim</th>\n",
       "      <th>tot_cur_bal</th>\n",
       "    </tr>\n",
       "  </thead>\n",
       "  <tbody>\n",
       "    <tr>\n",
       "      <th>0</th>\n",
       "      <td>10129403</td>\n",
       "      <td>11981032.0</td>\n",
       "      <td>7550</td>\n",
       "      <td>36 months</td>\n",
       "      <td>16.24%</td>\n",
       "      <td>3 years</td>\n",
       "      <td>RENT</td>\n",
       "      <td>28000.0</td>\n",
       "      <td>Current</td>\n",
       "      <td>NaN</td>\n",
       "      <td>...</td>\n",
       "      <td>96.0</td>\n",
       "      <td>8.40</td>\n",
       "      <td>0.0</td>\n",
       "      <td>17.0</td>\n",
       "      <td>72%</td>\n",
       "      <td>4000.0</td>\n",
       "      <td>1864.38</td>\n",
       "      <td>NaN</td>\n",
       "      <td>3828.953801</td>\n",
       "      <td>5759.0</td>\n",
       "    </tr>\n",
       "    <tr>\n",
       "      <th>1</th>\n",
       "      <td>10149342</td>\n",
       "      <td>12000897.0</td>\n",
       "      <td>27050</td>\n",
       "      <td>36 months</td>\n",
       "      <td>10.99%</td>\n",
       "      <td>10+ years</td>\n",
       "      <td>OWN</td>\n",
       "      <td>55000.0</td>\n",
       "      <td>Current</td>\n",
       "      <td>Borrower added on 12/31/13 &gt; Combining high ...</td>\n",
       "      <td>...</td>\n",
       "      <td>53.9</td>\n",
       "      <td>22.87</td>\n",
       "      <td>0.0</td>\n",
       "      <td>8.0</td>\n",
       "      <td>61.2%</td>\n",
       "      <td>35700.0</td>\n",
       "      <td>6198.22</td>\n",
       "      <td>NaN</td>\n",
       "      <td>34359.940727</td>\n",
       "      <td>114834.0</td>\n",
       "    </tr>\n",
       "    <tr>\n",
       "      <th>2</th>\n",
       "      <td>10129454</td>\n",
       "      <td>11981072.0</td>\n",
       "      <td>12000</td>\n",
       "      <td>36 months</td>\n",
       "      <td>10.99%</td>\n",
       "      <td>4 years</td>\n",
       "      <td>RENT</td>\n",
       "      <td>60000.0</td>\n",
       "      <td>Current</td>\n",
       "      <td>Borrower added on 12/31/13 &gt; I would like to...</td>\n",
       "      <td>...</td>\n",
       "      <td>15.9</td>\n",
       "      <td>4.62</td>\n",
       "      <td>1.0</td>\n",
       "      <td>3.0</td>\n",
       "      <td>24%</td>\n",
       "      <td>18100.0</td>\n",
       "      <td>2748.84</td>\n",
       "      <td>NaN</td>\n",
       "      <td>16416.617758</td>\n",
       "      <td>7137.0</td>\n",
       "    </tr>\n",
       "    <tr>\n",
       "      <th>3</th>\n",
       "      <td>10149577</td>\n",
       "      <td>12001118.0</td>\n",
       "      <td>28000</td>\n",
       "      <td>36 months</td>\n",
       "      <td>7.62%</td>\n",
       "      <td>5 years</td>\n",
       "      <td>MORTGAGE</td>\n",
       "      <td>325000.0</td>\n",
       "      <td>Fully Paid</td>\n",
       "      <td>NaN</td>\n",
       "      <td>...</td>\n",
       "      <td>67.1</td>\n",
       "      <td>18.55</td>\n",
       "      <td>1.0</td>\n",
       "      <td>3.0</td>\n",
       "      <td>54.6%</td>\n",
       "      <td>42200.0</td>\n",
       "      <td>29150.98</td>\n",
       "      <td>NaN</td>\n",
       "      <td>38014.149757</td>\n",
       "      <td>799592.0</td>\n",
       "    </tr>\n",
       "    <tr>\n",
       "      <th>4</th>\n",
       "      <td>10139658</td>\n",
       "      <td>11991209.0</td>\n",
       "      <td>12000</td>\n",
       "      <td>36 months</td>\n",
       "      <td>13.53%</td>\n",
       "      <td>10+ years</td>\n",
       "      <td>RENT</td>\n",
       "      <td>40000.0</td>\n",
       "      <td>Current</td>\n",
       "      <td>NaN</td>\n",
       "      <td>...</td>\n",
       "      <td>79.6</td>\n",
       "      <td>16.94</td>\n",
       "      <td>0.0</td>\n",
       "      <td>17.0</td>\n",
       "      <td>68.8%</td>\n",
       "      <td>7000.0</td>\n",
       "      <td>2851.80</td>\n",
       "      <td>53.0</td>\n",
       "      <td>6471.462236</td>\n",
       "      <td>13605.0</td>\n",
       "    </tr>\n",
       "  </tbody>\n",
       "</table>\n",
       "<p>5 rows × 22 columns</p>\n",
       "</div>"
      ],
      "text/plain": [
       "         id   member_id  loan_amnt        term int_rate emp_length  \\\n",
       "0  10129403  11981032.0       7550   36 months   16.24%    3 years   \n",
       "1  10149342  12000897.0      27050   36 months   10.99%  10+ years   \n",
       "2  10129454  11981072.0      12000   36 months   10.99%    4 years   \n",
       "3  10149577  12001118.0      28000   36 months    7.62%    5 years   \n",
       "4  10139658  11991209.0      12000   36 months   13.53%  10+ years   \n",
       "\n",
       "  home_ownership  annual_inc loan_status  \\\n",
       "0           RENT     28000.0     Current   \n",
       "1            OWN     55000.0     Current   \n",
       "2           RENT     60000.0     Current   \n",
       "3       MORTGAGE    325000.0  Fully Paid   \n",
       "4           RENT     40000.0     Current   \n",
       "\n",
       "                                                desc     ...      bc_util  \\\n",
       "0                                                NaN     ...         96.0   \n",
       "1    Borrower added on 12/31/13 > Combining high ...     ...         53.9   \n",
       "2    Borrower added on 12/31/13 > I would like to...     ...         15.9   \n",
       "3                                                NaN     ...         67.1   \n",
       "4                                                NaN     ...         79.6   \n",
       "\n",
       "     dti  inq_last_6mths  mths_since_recent_inq  revol_util  total_bc_limit  \\\n",
       "0   8.40             0.0                   17.0         72%          4000.0   \n",
       "1  22.87             0.0                    8.0       61.2%         35700.0   \n",
       "2   4.62             1.0                    3.0         24%         18100.0   \n",
       "3  18.55             1.0                    3.0       54.6%         42200.0   \n",
       "4  16.94             0.0                   17.0       68.8%          7000.0   \n",
       "\n",
       "  total_pymnt  mths_since_last_major_derog  tot_hi_cred_lim  tot_cur_bal  \n",
       "0     1864.38                          NaN      3828.953801       5759.0  \n",
       "1     6198.22                          NaN     34359.940727     114834.0  \n",
       "2     2748.84                          NaN     16416.617758       7137.0  \n",
       "3    29150.98                          NaN     38014.149757     799592.0  \n",
       "4     2851.80                         53.0      6471.462236      13605.0  \n",
       "\n",
       "[5 rows x 22 columns]"
      ]
     },
     "execution_count": 753,
     "metadata": {},
     "output_type": "execute_result"
    }
   ],
   "source": [
    "# Check out the values\n",
    "applicants.head(5)"
   ]
  },
  {
   "cell_type": "code",
   "execution_count": 754,
   "metadata": {},
   "outputs": [
    {
     "data": {
      "text/html": [
       "<div>\n",
       "<table border=\"1\" class=\"dataframe\">\n",
       "  <thead>\n",
       "    <tr style=\"text-align: right;\">\n",
       "      <th></th>\n",
       "      <th>id</th>\n",
       "      <th>member_id</th>\n",
       "      <th>loan_amnt</th>\n",
       "      <th>annual_inc</th>\n",
       "      <th>percent_bc_gt_75</th>\n",
       "      <th>bc_util</th>\n",
       "      <th>dti</th>\n",
       "      <th>inq_last_6mths</th>\n",
       "      <th>mths_since_recent_inq</th>\n",
       "      <th>total_bc_limit</th>\n",
       "      <th>total_pymnt</th>\n",
       "      <th>mths_since_last_major_derog</th>\n",
       "      <th>tot_hi_cred_lim</th>\n",
       "      <th>tot_cur_bal</th>\n",
       "    </tr>\n",
       "  </thead>\n",
       "  <tbody>\n",
       "    <tr>\n",
       "      <th>count</th>\n",
       "      <td>1.977870e+05</td>\n",
       "      <td>1.881230e+05</td>\n",
       "      <td>197787.000000</td>\n",
       "      <td>1.881230e+05</td>\n",
       "      <td>179096.000000</td>\n",
       "      <td>179012.000000</td>\n",
       "      <td>188123.000000</td>\n",
       "      <td>188123.000000</td>\n",
       "      <td>160263.000000</td>\n",
       "      <td>180628.000000</td>\n",
       "      <td>188123.000000</td>\n",
       "      <td>32497.000000</td>\n",
       "      <td>180628.000000</td>\n",
       "      <td>1.603820e+05</td>\n",
       "    </tr>\n",
       "    <tr>\n",
       "      <th>mean</th>\n",
       "      <td>5.090397e+06</td>\n",
       "      <td>5.910758e+06</td>\n",
       "      <td>14070.907213</td>\n",
       "      <td>7.223871e+04</td>\n",
       "      <td>53.557030</td>\n",
       "      <td>66.829415</td>\n",
       "      <td>17.058663</td>\n",
       "      <td>0.803581</td>\n",
       "      <td>6.991770</td>\n",
       "      <td>20240.250448</td>\n",
       "      <td>8038.539610</td>\n",
       "      <td>41.792473</td>\n",
       "      <td>20239.458973</td>\n",
       "      <td>1.373305e+05</td>\n",
       "    </tr>\n",
       "    <tr>\n",
       "      <th>std</th>\n",
       "      <td>2.800545e+06</td>\n",
       "      <td>3.343605e+06</td>\n",
       "      <td>8069.585694</td>\n",
       "      <td>5.182946e+04</td>\n",
       "      <td>34.148464</td>\n",
       "      <td>26.110808</td>\n",
       "      <td>7.596977</td>\n",
       "      <td>1.032841</td>\n",
       "      <td>5.880568</td>\n",
       "      <td>18885.232505</td>\n",
       "      <td>6524.967826</td>\n",
       "      <td>20.997645</td>\n",
       "      <td>18947.098163</td>\n",
       "      <td>1.507587e+05</td>\n",
       "    </tr>\n",
       "    <tr>\n",
       "      <th>min</th>\n",
       "      <td>5.852400e+04</td>\n",
       "      <td>1.495120e+05</td>\n",
       "      <td>1000.000000</td>\n",
       "      <td>4.800000e+03</td>\n",
       "      <td>0.000000</td>\n",
       "      <td>0.000000</td>\n",
       "      <td>0.000000</td>\n",
       "      <td>0.000000</td>\n",
       "      <td>0.000000</td>\n",
       "      <td>0.000000</td>\n",
       "      <td>0.000000</td>\n",
       "      <td>0.000000</td>\n",
       "      <td>0.000000</td>\n",
       "      <td>0.000000e+00</td>\n",
       "    </tr>\n",
       "    <tr>\n",
       "      <th>25%</th>\n",
       "      <td>2.295346e+06</td>\n",
       "      <td>2.169516e+06</td>\n",
       "      <td>8000.000000</td>\n",
       "      <td>4.500000e+04</td>\n",
       "      <td>25.000000</td>\n",
       "      <td>49.500000</td>\n",
       "      <td>11.340000</td>\n",
       "      <td>0.000000</td>\n",
       "      <td>2.000000</td>\n",
       "      <td>7800.000000</td>\n",
       "      <td>3624.630000</td>\n",
       "      <td>25.000000</td>\n",
       "      <td>7834.304802</td>\n",
       "      <td>2.747125e+04</td>\n",
       "    </tr>\n",
       "    <tr>\n",
       "      <th>50%</th>\n",
       "      <td>5.445986e+06</td>\n",
       "      <td>6.047542e+06</td>\n",
       "      <td>12000.000000</td>\n",
       "      <td>6.200000e+04</td>\n",
       "      <td>50.000000</td>\n",
       "      <td>72.200000</td>\n",
       "      <td>16.780000</td>\n",
       "      <td>0.000000</td>\n",
       "      <td>6.000000</td>\n",
       "      <td>14700.000000</td>\n",
       "      <td>6166.050000</td>\n",
       "      <td>41.000000</td>\n",
       "      <td>14635.958701</td>\n",
       "      <td>8.076400e+04</td>\n",
       "    </tr>\n",
       "    <tr>\n",
       "      <th>75%</th>\n",
       "      <td>7.371872e+06</td>\n",
       "      <td>8.721086e+06</td>\n",
       "      <td>19600.000000</td>\n",
       "      <td>8.700000e+04</td>\n",
       "      <td>80.000000</td>\n",
       "      <td>89.000000</td>\n",
       "      <td>22.580000</td>\n",
       "      <td>1.000000</td>\n",
       "      <td>11.000000</td>\n",
       "      <td>26500.000000</td>\n",
       "      <td>10323.805000</td>\n",
       "      <td>58.000000</td>\n",
       "      <td>26395.960437</td>\n",
       "      <td>2.081852e+05</td>\n",
       "    </tr>\n",
       "    <tr>\n",
       "      <th>max</th>\n",
       "      <td>1.023483e+07</td>\n",
       "      <td>1.209697e+07</td>\n",
       "      <td>35000.000000</td>\n",
       "      <td>7.141778e+06</td>\n",
       "      <td>100.000000</td>\n",
       "      <td>339.600000</td>\n",
       "      <td>34.990000</td>\n",
       "      <td>8.000000</td>\n",
       "      <td>24.000000</td>\n",
       "      <td>522210.000000</td>\n",
       "      <td>50914.591249</td>\n",
       "      <td>165.000000</td>\n",
       "      <td>520643.298178</td>\n",
       "      <td>8.000078e+06</td>\n",
       "    </tr>\n",
       "  </tbody>\n",
       "</table>\n",
       "</div>"
      ],
      "text/plain": [
       "                 id     member_id      loan_amnt    annual_inc  \\\n",
       "count  1.977870e+05  1.881230e+05  197787.000000  1.881230e+05   \n",
       "mean   5.090397e+06  5.910758e+06   14070.907213  7.223871e+04   \n",
       "std    2.800545e+06  3.343605e+06    8069.585694  5.182946e+04   \n",
       "min    5.852400e+04  1.495120e+05    1000.000000  4.800000e+03   \n",
       "25%    2.295346e+06  2.169516e+06    8000.000000  4.500000e+04   \n",
       "50%    5.445986e+06  6.047542e+06   12000.000000  6.200000e+04   \n",
       "75%    7.371872e+06  8.721086e+06   19600.000000  8.700000e+04   \n",
       "max    1.023483e+07  1.209697e+07   35000.000000  7.141778e+06   \n",
       "\n",
       "       percent_bc_gt_75        bc_util            dti  inq_last_6mths  \\\n",
       "count     179096.000000  179012.000000  188123.000000   188123.000000   \n",
       "mean          53.557030      66.829415      17.058663        0.803581   \n",
       "std           34.148464      26.110808       7.596977        1.032841   \n",
       "min            0.000000       0.000000       0.000000        0.000000   \n",
       "25%           25.000000      49.500000      11.340000        0.000000   \n",
       "50%           50.000000      72.200000      16.780000        0.000000   \n",
       "75%           80.000000      89.000000      22.580000        1.000000   \n",
       "max          100.000000     339.600000      34.990000        8.000000   \n",
       "\n",
       "       mths_since_recent_inq  total_bc_limit    total_pymnt  \\\n",
       "count          160263.000000   180628.000000  188123.000000   \n",
       "mean                6.991770    20240.250448    8038.539610   \n",
       "std                 5.880568    18885.232505    6524.967826   \n",
       "min                 0.000000        0.000000       0.000000   \n",
       "25%                 2.000000     7800.000000    3624.630000   \n",
       "50%                 6.000000    14700.000000    6166.050000   \n",
       "75%                11.000000    26500.000000   10323.805000   \n",
       "max                24.000000   522210.000000   50914.591249   \n",
       "\n",
       "       mths_since_last_major_derog  tot_hi_cred_lim   tot_cur_bal  \n",
       "count                 32497.000000    180628.000000  1.603820e+05  \n",
       "mean                     41.792473     20239.458973  1.373305e+05  \n",
       "std                      20.997645     18947.098163  1.507587e+05  \n",
       "min                       0.000000         0.000000  0.000000e+00  \n",
       "25%                      25.000000      7834.304802  2.747125e+04  \n",
       "50%                      41.000000     14635.958701  8.076400e+04  \n",
       "75%                      58.000000     26395.960437  2.081852e+05  \n",
       "max                     165.000000    520643.298178  8.000078e+06  "
      ]
     },
     "execution_count": 754,
     "metadata": {},
     "output_type": "execute_result"
    }
   ],
   "source": [
    "# First look at some basic numerical statistics\n",
    "applicants.describe()"
   ]
  },
  {
   "cell_type": "markdown",
   "metadata": {},
   "source": [
    "Having successfully read the applicant information into a DataFrame, we can take a look at some basic statistics above, and notice a few things immediately!\n",
    "\n",
    "**Problem Type**\n",
    "\n",
    "Noting that *Loan Status* is a given column in the dataset, and the goal is to predict/assess whether a loan should be issued or not (classification problem), this problem can go two ways.\n",
    "\n",
    "Let's take a look at all the different values *Loan_Status* can be:"
   ]
  },
  {
   "cell_type": "code",
   "execution_count": 755,
   "metadata": {},
   "outputs": [
    {
     "data": {
      "text/plain": [
       "Current               140116\n",
       "Fully Paid             33309\n",
       "Charged Off             9178\n",
       "Late (31-120 days)      3077\n",
       "In Grace Period         1570\n",
       "Late (16-30 days)        780\n",
       "Default                   93\n",
       "Name: loan_status, dtype: int64"
      ]
     },
     "execution_count": 755,
     "metadata": {},
     "output_type": "execute_result"
    }
   ],
   "source": [
    "applicants[\"loan_status\"].value_counts()"
   ]
  },
  {
   "cell_type": "markdown",
   "metadata": {},
   "source": [
    "Clearly, it's not a simple target variable that is typically given in a supervised classification problem (i.e. Approve: 1/0). There's two methods with which we can process this incoming data:\n",
    "\n",
    "**1. Group the Data & Convert it into A Labelled Target Feature (Supervised)**\n",
    "\n",
    "In this approach, we can make certain assumptions about the company's risk tolerance policy, and then group the different loan statues into a net \"Approve/Don't Approve\" bucket. This allows us to develop a labelled dataset, essentially turning this into a **supervised learning classification problem.**\n",
    "\n",
    "**2. Use *Loan_Status* as another feature, and try Clustering (Unsupervised)**\n",
    "\n",
    "The Loan_Status feature is left as is, and kept as an additional feature in the dataset. We then use unsupervised clustering algorithms (like KMeans) to derive some sort of structure from the data, and make loan apporval predictions based on that!\n",
    "\n",
    "Given that supervised learning approaches are generally more accuate, quicker to implement/analyze (given the timeframe of this challenge), and allow for creative freedom with underlying assumptions, **we will choose Method 1 for this challenge!**\n",
    "\n",
    "**Other Inferences: Missing Values**\n",
    "\n",
    "Based on the ids the total count of values/entries seems to be 197787, whereas almost all other features are missing values (the range of missing values varies quite a bit, some features are missing afew whereas others are missing a lot of values -> mths_since_last_major_derog only has 32497 values!). This will have to be dealt with during the cleaning process. The number of missing values can be seen below:"
   ]
  },
  {
   "cell_type": "code",
   "execution_count": 756,
   "metadata": {},
   "outputs": [
    {
     "data": {
      "text/plain": [
       "id                                  0\n",
       "member_id                        9664\n",
       "loan_amnt                           0\n",
       "term                             9664\n",
       "int_rate                         9664\n",
       "emp_length                       9664\n",
       "home_ownership                   9664\n",
       "annual_inc                       9664\n",
       "loan_status                      9664\n",
       "desc                           116326\n",
       "purpose                          9664\n",
       "percent_bc_gt_75                18691\n",
       "bc_util                         18775\n",
       "dti                              9664\n",
       "inq_last_6mths                   9664\n",
       "mths_since_recent_inq           37524\n",
       "revol_util                       9789\n",
       "total_bc_limit                  17159\n",
       "total_pymnt                      9664\n",
       "mths_since_last_major_derog    165290\n",
       "tot_hi_cred_lim                 17159\n",
       "tot_cur_bal                     37405\n",
       "dtype: int64"
      ]
     },
     "execution_count": 756,
     "metadata": {},
     "output_type": "execute_result"
    }
   ],
   "source": [
    "# Missing values\n",
    "applicants.apply(lambda x: sum(x.isnull()), axis=0)"
   ]
  },
  {
   "cell_type": "markdown",
   "metadata": {},
   "source": [
    "**Total Features**\n",
    "\n",
    "There are a total of 22 columns in the dataset, each adding a different dimension to the applicant knowledge base. Note that this includes the ids, as well as the target variable (Loan Status). From the remaining columns, as we clean/process the data, we will learn which features to keep/modify and which ones to get rid of!\n",
    "\n",
    "**Balanced Dataset**\n",
    "\n",
    "Looking at the means/averages for each feature, and it's respective 50% value / median, we can gauge the amount of skew that's present in the dataset. Judging from the relatively small difference in values, it implies that the dataset is fairly balanced, which is great!\n",
    "\n",
    "Having made a few initial observations, we're now ready to start cleaning the data!"
   ]
  },
  {
   "cell_type": "markdown",
   "metadata": {},
   "source": [
    "## Data Cleaning/Munging\n",
    "\n",
    "Often the most time-consuming part of the process, data cleaning is also likely the most important. Models can only be as good as their input, so it's vital that the data is cleaned in a way that relevant information retains statistical significant. Let's start with the target/output variable (*LoanStatus*), and move our way through the remaining feature vectors."
   ]
  },
  {
   "cell_type": "markdown",
   "metadata": {},
   "source": [
    "### Target Variable\n",
    "\n",
    "Taking a look at the target variable, which is *Loan_Status*:"
   ]
  },
  {
   "cell_type": "code",
   "execution_count": 757,
   "metadata": {},
   "outputs": [
    {
     "data": {
      "text/plain": [
       "Current               140116\n",
       "Fully Paid             33309\n",
       "Charged Off             9178\n",
       "Late (31-120 days)      3077\n",
       "In Grace Period         1570\n",
       "Late (16-30 days)        780\n",
       "Default                   93\n",
       "Name: loan_status, dtype: int64"
      ]
     },
     "execution_count": 757,
     "metadata": {},
     "output_type": "execute_result"
    }
   ],
   "source": [
    "loanStatus = applicants[\"loan_status\"]\n",
    "loanStatus.value_counts()"
   ]
  },
  {
   "cell_type": "code",
   "execution_count": 758,
   "metadata": {},
   "outputs": [
    {
     "data": {
      "text/plain": [
       "count      188123\n",
       "unique          7\n",
       "top       Current\n",
       "freq       140116\n",
       "Name: loan_status, dtype: object"
      ]
     },
     "execution_count": 758,
     "metadata": {},
     "output_type": "execute_result"
    }
   ],
   "source": [
    "loanStatus.describe()"
   ]
  },
  {
   "cell_type": "markdown",
   "metadata": {},
   "source": [
    "As mentioned during the introduction, to allow for this analysis to be a supervised learning problem, we need to group/convert this multi-class feature into a binary target feature (ie. Approve/Don't Approve). This can be done with a few underlying assumptions, regarding the risk profile of the company!\n",
    "\n",
    "Let's consider two options:\n",
    "\n",
    "**1. Low Risk Model**\n",
    "\n",
    "Here, we assume that a low risk model would be one where the loans that are approved are generally guaranteed to be paid off (and on time). This implies that late loans or loans that are in their \"grace period\" aren't identifiers of good approvals! Loans that are currently in process also need to be **removed from the dataset** since their eventual outcome (whether they were paid off or not) is unkown. Thus, we get the following mapping:\n",
    "\n",
    "Remove:\n",
    "- \"Current\" Loans\n",
    "\n",
    "Target Variable - Approve:\n",
    "\n",
    "Positive/Yes/1:\n",
    "- Fully Paid\n",
    "\n",
    "Negative/No/0:\n",
    "- In Grace Period\n",
    "- Late (16 - 30 days)\n",
    "- Late (31 - 120 days)\n",
    "- Charged Off (implies that LendingClub has no hope of recovering money from the applicant)\n",
    "- Default\n",
    "\n",
    "We will implement this mapping, and store it as a seperate column/target vector for a low-risk model!\n",
    "\n",
    "**2. Medium Risk Model**\n",
    "\n",
    "Here, we assume flexiblity for loans that are likely going to be late or in their grace period. Loans that are late beyond 30 days will be considered \"poor approvals\", and similar to the previous instance, current loans will **not be considered**. Thus, the mapping is:\n",
    "\n",
    "Remove:\n",
    "- \"Current\" Loans\n",
    "\n",
    "Target Variable - Approve:\n",
    "\n",
    "Positive/Yes/1:\n",
    "- Fully Paid\n",
    "- In Grace Period\n",
    "- Late (16 - 30 days)\n",
    "\n",
    "Negative/No/0:\n",
    "- Late (31 - 120 days)\n",
    "- Charged Off (implies that LendingClub has no hope of recovering money from the applicant)\n",
    "- Default\n",
    "\n",
    "The above possible options have been given just as information/insight into how this problem can be structured. For the purpose of this analysis, we will **assume and implement a low risk model**"
   ]
  },
  {
   "cell_type": "code",
   "execution_count": 759,
   "metadata": {},
   "outputs": [
    {
     "name": "stdout",
     "output_type": "stream",
     "text": [
      "1    33309\n",
      "0    24362\n",
      "Name: lowRiskApprove, dtype: int64\n"
     ]
    }
   ],
   "source": [
    "# Implement classification mappings\n",
    "\n",
    "# Remove current loans & related data\n",
    "applicants.drop(applicants[applicants[\"loan_status\"] == \"Current\"].index, inplace = True)\n",
    "\n",
    "# Low Risk Model - Target Vector\n",
    "applicants[\"lowRiskApprove\"] = 0\n",
    "applicants[\"lowRiskApprove\"][applicants[\"loan_status\"] == \"Fully Paid\"] = 1\n",
    "print applicants[\"lowRiskApprove\"].value_counts()\n",
    "\n",
    "# Remove loan_status feature\n",
    "applicants.drop(\"loan_status\", axis = 1, inplace = True)"
   ]
  },
  {
   "cell_type": "markdown",
   "metadata": {},
   "source": [
    "Apart from the advantages related to supervised learning mentioned earlier, we can also notice that the datset is much more **balanced now (the number of 1's is roughly equal to the number of 0's)**. This means that the resulting model won't be just memorizing instances of a specific target class, and the final predictions will not be skewed.\n",
    "\n",
    "The clear disadvantage to the above approach is that the dataset is much smaller (fewer examples to train on), and thus the accuracy of the model may suffer. However, the resulting model accuracy and ease of implementation that we gain from a supervised implementation exceeds these disadvatanges."
   ]
  },
  {
   "cell_type": "code",
   "execution_count": 760,
   "metadata": {},
   "outputs": [
    {
     "data": {
      "text/html": [
       "<div>\n",
       "<table border=\"1\" class=\"dataframe\">\n",
       "  <thead>\n",
       "    <tr style=\"text-align: right;\">\n",
       "      <th></th>\n",
       "      <th>id</th>\n",
       "      <th>member_id</th>\n",
       "      <th>loan_amnt</th>\n",
       "      <th>term</th>\n",
       "      <th>int_rate</th>\n",
       "      <th>emp_length</th>\n",
       "      <th>home_ownership</th>\n",
       "      <th>annual_inc</th>\n",
       "      <th>desc</th>\n",
       "      <th>purpose</th>\n",
       "      <th>...</th>\n",
       "      <th>dti</th>\n",
       "      <th>inq_last_6mths</th>\n",
       "      <th>mths_since_recent_inq</th>\n",
       "      <th>revol_util</th>\n",
       "      <th>total_bc_limit</th>\n",
       "      <th>total_pymnt</th>\n",
       "      <th>mths_since_last_major_derog</th>\n",
       "      <th>tot_hi_cred_lim</th>\n",
       "      <th>tot_cur_bal</th>\n",
       "      <th>lowRiskApprove</th>\n",
       "    </tr>\n",
       "  </thead>\n",
       "  <tbody>\n",
       "    <tr>\n",
       "      <th>3</th>\n",
       "      <td>10149577</td>\n",
       "      <td>12001118.0</td>\n",
       "      <td>28000</td>\n",
       "      <td>36 months</td>\n",
       "      <td>7.62%</td>\n",
       "      <td>5 years</td>\n",
       "      <td>MORTGAGE</td>\n",
       "      <td>325000.0</td>\n",
       "      <td>NaN</td>\n",
       "      <td>debt_consolidation</td>\n",
       "      <td>...</td>\n",
       "      <td>18.55</td>\n",
       "      <td>1.0</td>\n",
       "      <td>3.0</td>\n",
       "      <td>54.6%</td>\n",
       "      <td>42200.0</td>\n",
       "      <td>29150.980000</td>\n",
       "      <td>NaN</td>\n",
       "      <td>38014.149757</td>\n",
       "      <td>799592.0</td>\n",
       "      <td>1</td>\n",
       "    </tr>\n",
       "    <tr>\n",
       "      <th>10</th>\n",
       "      <td>10148818</td>\n",
       "      <td>12000415.0</td>\n",
       "      <td>15000</td>\n",
       "      <td>36 months</td>\n",
       "      <td>14.47%</td>\n",
       "      <td>10+ years</td>\n",
       "      <td>RENT</td>\n",
       "      <td>98000.0</td>\n",
       "      <td>Borrower added on 12/31/13 &gt; just to have on...</td>\n",
       "      <td>debt_consolidation</td>\n",
       "      <td>...</td>\n",
       "      <td>6.15</td>\n",
       "      <td>2.0</td>\n",
       "      <td>2.0</td>\n",
       "      <td>22.3%</td>\n",
       "      <td>20800.0</td>\n",
       "      <td>15699.030000</td>\n",
       "      <td>NaN</td>\n",
       "      <td>19643.159526</td>\n",
       "      <td>13038.0</td>\n",
       "      <td>1</td>\n",
       "    </tr>\n",
       "    <tr>\n",
       "      <th>15</th>\n",
       "      <td>10179520</td>\n",
       "      <td>12031088.0</td>\n",
       "      <td>3000</td>\n",
       "      <td>36 months</td>\n",
       "      <td>12.85%</td>\n",
       "      <td>10+ years</td>\n",
       "      <td>RENT</td>\n",
       "      <td>25000.0</td>\n",
       "      <td>NaN</td>\n",
       "      <td>debt_consolidation</td>\n",
       "      <td>...</td>\n",
       "      <td>24.68</td>\n",
       "      <td>0.0</td>\n",
       "      <td>8.0</td>\n",
       "      <td>54.2%</td>\n",
       "      <td>4300.0</td>\n",
       "      <td>3181.532981</td>\n",
       "      <td>69.0</td>\n",
       "      <td>4490.698410</td>\n",
       "      <td>19530.0</td>\n",
       "      <td>1</td>\n",
       "    </tr>\n",
       "  </tbody>\n",
       "</table>\n",
       "<p>3 rows × 22 columns</p>\n",
       "</div>"
      ],
      "text/plain": [
       "          id   member_id  loan_amnt        term int_rate emp_length  \\\n",
       "3   10149577  12001118.0      28000   36 months    7.62%    5 years   \n",
       "10  10148818  12000415.0      15000   36 months   14.47%  10+ years   \n",
       "15  10179520  12031088.0       3000   36 months   12.85%  10+ years   \n",
       "\n",
       "   home_ownership  annual_inc  \\\n",
       "3        MORTGAGE    325000.0   \n",
       "10           RENT     98000.0   \n",
       "15           RENT     25000.0   \n",
       "\n",
       "                                                 desc             purpose  \\\n",
       "3                                                 NaN  debt_consolidation   \n",
       "10    Borrower added on 12/31/13 > just to have on...  debt_consolidation   \n",
       "15                                                NaN  debt_consolidation   \n",
       "\n",
       "         ...          dti  inq_last_6mths  mths_since_recent_inq  revol_util  \\\n",
       "3        ...        18.55             1.0                    3.0       54.6%   \n",
       "10       ...         6.15             2.0                    2.0       22.3%   \n",
       "15       ...        24.68             0.0                    8.0       54.2%   \n",
       "\n",
       "    total_bc_limit   total_pymnt  mths_since_last_major_derog  \\\n",
       "3          42200.0  29150.980000                          NaN   \n",
       "10         20800.0  15699.030000                          NaN   \n",
       "15          4300.0   3181.532981                         69.0   \n",
       "\n",
       "    tot_hi_cred_lim  tot_cur_bal  lowRiskApprove  \n",
       "3      38014.149757     799592.0               1  \n",
       "10     19643.159526      13038.0               1  \n",
       "15      4490.698410      19530.0               1  \n",
       "\n",
       "[3 rows x 22 columns]"
      ]
     },
     "execution_count": 760,
     "metadata": {},
     "output_type": "execute_result"
    }
   ],
   "source": [
    "# Look at remaining frame - verify changes\n",
    "applicants.head(3)"
   ]
  },
  {
   "cell_type": "code",
   "execution_count": 761,
   "metadata": {},
   "outputs": [
    {
     "data": {
      "text/plain": [
       "count    57671.000000\n",
       "mean         0.577569\n",
       "std          0.493951\n",
       "min          0.000000\n",
       "25%          0.000000\n",
       "50%          1.000000\n",
       "75%          1.000000\n",
       "max          1.000000\n",
       "Name: lowRiskApprove, dtype: float64"
      ]
     },
     "execution_count": 761,
     "metadata": {},
     "output_type": "execute_result"
    }
   ],
   "source": [
    "applicants[\"lowRiskApprove\"].describe()"
   ]
  },
  {
   "cell_type": "markdown",
   "metadata": {},
   "source": [
    "As seen above, having removed the \"Current\" category and restructured the target variable, we also no longer have any missing values in the feature vectors! This is great, we can now move on to clean the remaining features!"
   ]
  },
  {
   "cell_type": "markdown",
   "metadata": {},
   "source": [
    "## Feature Variables\n",
    "\n",
    "Having cleaned the target variable, we can now move on and clean the feature vectors! Let's start from the *id*, and move across the remaining features in order.\n",
    "\n",
    "### ID"
   ]
  },
  {
   "cell_type": "code",
   "execution_count": 762,
   "metadata": {},
   "outputs": [
    {
     "data": {
      "text/plain": [
       "count    5.767100e+04\n",
       "mean     4.458525e+06\n",
       "std      2.862500e+06\n",
       "min      5.852400e+04\n",
       "25%      1.514169e+06\n",
       "50%      3.811610e+06\n",
       "75%      6.936191e+06\n",
       "max      1.023483e+07\n",
       "Name: id, dtype: float64"
      ]
     },
     "execution_count": 762,
     "metadata": {},
     "output_type": "execute_result"
    }
   ],
   "source": [
    "ids = applicants[\"id\"]\n",
    "ids.describe()"
   ]
  },
  {
   "cell_type": "markdown",
   "metadata": {},
   "source": [
    "There are no missing values here, and the feature is already numerical! However, realizing that the goal is to classify whether we should approve the applicant's loan, it seems unlikely that the id (which based on the definition, is just a \"*unique LendingClub assigned ID for the loan listing*) has *any* correlation to the final prediction. Thus, we can **remove this feature altogether**\n",
    "\n",
    "It's a good idea to remove any unnecessary feature from the data, so that we can avoid **overfitting our model**, and having it memorize the training data (rather than being able to generalize well to real world conditions)."
   ]
  },
  {
   "cell_type": "code",
   "execution_count": 763,
   "metadata": {},
   "outputs": [
    {
     "data": {
      "text/html": [
       "<div>\n",
       "<table border=\"1\" class=\"dataframe\">\n",
       "  <thead>\n",
       "    <tr style=\"text-align: right;\">\n",
       "      <th></th>\n",
       "      <th>member_id</th>\n",
       "      <th>loan_amnt</th>\n",
       "      <th>term</th>\n",
       "      <th>int_rate</th>\n",
       "      <th>emp_length</th>\n",
       "      <th>home_ownership</th>\n",
       "      <th>annual_inc</th>\n",
       "      <th>desc</th>\n",
       "      <th>purpose</th>\n",
       "      <th>percent_bc_gt_75</th>\n",
       "      <th>...</th>\n",
       "      <th>dti</th>\n",
       "      <th>inq_last_6mths</th>\n",
       "      <th>mths_since_recent_inq</th>\n",
       "      <th>revol_util</th>\n",
       "      <th>total_bc_limit</th>\n",
       "      <th>total_pymnt</th>\n",
       "      <th>mths_since_last_major_derog</th>\n",
       "      <th>tot_hi_cred_lim</th>\n",
       "      <th>tot_cur_bal</th>\n",
       "      <th>lowRiskApprove</th>\n",
       "    </tr>\n",
       "  </thead>\n",
       "  <tbody>\n",
       "    <tr>\n",
       "      <th>3</th>\n",
       "      <td>12001118.0</td>\n",
       "      <td>28000</td>\n",
       "      <td>36 months</td>\n",
       "      <td>7.62%</td>\n",
       "      <td>5 years</td>\n",
       "      <td>MORTGAGE</td>\n",
       "      <td>325000.0</td>\n",
       "      <td>NaN</td>\n",
       "      <td>debt_consolidation</td>\n",
       "      <td>16.7</td>\n",
       "      <td>...</td>\n",
       "      <td>18.55</td>\n",
       "      <td>1.0</td>\n",
       "      <td>3.0</td>\n",
       "      <td>54.6%</td>\n",
       "      <td>42200.0</td>\n",
       "      <td>29150.980000</td>\n",
       "      <td>NaN</td>\n",
       "      <td>38014.149757</td>\n",
       "      <td>799592.0</td>\n",
       "      <td>1</td>\n",
       "    </tr>\n",
       "    <tr>\n",
       "      <th>10</th>\n",
       "      <td>12000415.0</td>\n",
       "      <td>15000</td>\n",
       "      <td>36 months</td>\n",
       "      <td>14.47%</td>\n",
       "      <td>10+ years</td>\n",
       "      <td>RENT</td>\n",
       "      <td>98000.0</td>\n",
       "      <td>Borrower added on 12/31/13 &gt; just to have on...</td>\n",
       "      <td>debt_consolidation</td>\n",
       "      <td>7.7</td>\n",
       "      <td>...</td>\n",
       "      <td>6.15</td>\n",
       "      <td>2.0</td>\n",
       "      <td>2.0</td>\n",
       "      <td>22.3%</td>\n",
       "      <td>20800.0</td>\n",
       "      <td>15699.030000</td>\n",
       "      <td>NaN</td>\n",
       "      <td>19643.159526</td>\n",
       "      <td>13038.0</td>\n",
       "      <td>1</td>\n",
       "    </tr>\n",
       "    <tr>\n",
       "      <th>15</th>\n",
       "      <td>12031088.0</td>\n",
       "      <td>3000</td>\n",
       "      <td>36 months</td>\n",
       "      <td>12.85%</td>\n",
       "      <td>10+ years</td>\n",
       "      <td>RENT</td>\n",
       "      <td>25000.0</td>\n",
       "      <td>NaN</td>\n",
       "      <td>debt_consolidation</td>\n",
       "      <td>66.7</td>\n",
       "      <td>...</td>\n",
       "      <td>24.68</td>\n",
       "      <td>0.0</td>\n",
       "      <td>8.0</td>\n",
       "      <td>54.2%</td>\n",
       "      <td>4300.0</td>\n",
       "      <td>3181.532981</td>\n",
       "      <td>69.0</td>\n",
       "      <td>4490.698410</td>\n",
       "      <td>19530.0</td>\n",
       "      <td>1</td>\n",
       "    </tr>\n",
       "  </tbody>\n",
       "</table>\n",
       "<p>3 rows × 21 columns</p>\n",
       "</div>"
      ],
      "text/plain": [
       "     member_id  loan_amnt        term int_rate emp_length home_ownership  \\\n",
       "3   12001118.0      28000   36 months    7.62%    5 years       MORTGAGE   \n",
       "10  12000415.0      15000   36 months   14.47%  10+ years           RENT   \n",
       "15  12031088.0       3000   36 months   12.85%  10+ years           RENT   \n",
       "\n",
       "    annual_inc                                               desc  \\\n",
       "3     325000.0                                                NaN   \n",
       "10     98000.0    Borrower added on 12/31/13 > just to have on...   \n",
       "15     25000.0                                                NaN   \n",
       "\n",
       "               purpose  percent_bc_gt_75       ...          dti  \\\n",
       "3   debt_consolidation              16.7       ...        18.55   \n",
       "10  debt_consolidation               7.7       ...         6.15   \n",
       "15  debt_consolidation              66.7       ...        24.68   \n",
       "\n",
       "    inq_last_6mths  mths_since_recent_inq  revol_util total_bc_limit  \\\n",
       "3              1.0                    3.0       54.6%        42200.0   \n",
       "10             2.0                    2.0       22.3%        20800.0   \n",
       "15             0.0                    8.0       54.2%         4300.0   \n",
       "\n",
       "     total_pymnt  mths_since_last_major_derog  tot_hi_cred_lim  tot_cur_bal  \\\n",
       "3   29150.980000                          NaN     38014.149757     799592.0   \n",
       "10  15699.030000                          NaN     19643.159526      13038.0   \n",
       "15   3181.532981                         69.0      4490.698410      19530.0   \n",
       "\n",
       "    lowRiskApprove  \n",
       "3                1  \n",
       "10               1  \n",
       "15               1  \n",
       "\n",
       "[3 rows x 21 columns]"
      ]
     },
     "execution_count": 763,
     "metadata": {},
     "output_type": "execute_result"
    }
   ],
   "source": [
    "# Remove id\n",
    "applicants.drop(\"id\", axis = 1, inplace = True)\n",
    "applicants.head(3)"
   ]
  },
  {
   "cell_type": "markdown",
   "metadata": {},
   "source": [
    "### Member ID\n"
   ]
  },
  {
   "cell_type": "code",
   "execution_count": 764,
   "metadata": {},
   "outputs": [
    {
     "data": {
      "text/plain": [
       "48007"
      ]
     },
     "execution_count": 764,
     "metadata": {},
     "output_type": "execute_result"
    }
   ],
   "source": [
    "memberID = applicants[\"member_id\"]\n",
    "len(memberID.value_counts())"
   ]
  },
  {
   "cell_type": "code",
   "execution_count": 765,
   "metadata": {},
   "outputs": [
    {
     "data": {
      "text/plain": [
       "count    4.800700e+04\n",
       "mean     4.492970e+06\n",
       "std      3.085760e+06\n",
       "min      1.495120e+05\n",
       "25%      1.691652e+06\n",
       "50%      3.778507e+06\n",
       "75%      7.128873e+06\n",
       "max      1.209696e+07\n",
       "Name: member_id, dtype: float64"
      ]
     },
     "execution_count": 765,
     "metadata": {},
     "output_type": "execute_result"
    }
   ],
   "source": [
    "memberID.describe()"
   ]
  },
  {
   "cell_type": "markdown",
   "metadata": {},
   "source": [
    "Similar to the initial id column, member_id is defined to be *A unique LendingClub assigned id for the borrower member*. Thus, the difference between this column and the previous id is that the previous column corresponded to the specific loan, whereas this id corresponds to the borrowing member (a borrower could potentially request multiple loans in the future).\n",
    "\n",
    "Judging from the above statistics, it seems like every single entry is unique (implying no repeat members/customers). Since there are missing values in this feature, there would be some method necessary to fill/generate the missing ids. Imputing repeat indexes would be difficult since the ids are not sequential, and we don't have any information regarding repeat applicants.\n",
    "\n",
    "Based on the above information, and the fact that even the member_id largely doesn't correlate with the target classification, we can also **remove this feature**!"
   ]
  },
  {
   "cell_type": "code",
   "execution_count": 766,
   "metadata": {},
   "outputs": [
    {
     "data": {
      "text/html": [
       "<div>\n",
       "<table border=\"1\" class=\"dataframe\">\n",
       "  <thead>\n",
       "    <tr style=\"text-align: right;\">\n",
       "      <th></th>\n",
       "      <th>loan_amnt</th>\n",
       "      <th>term</th>\n",
       "      <th>int_rate</th>\n",
       "      <th>emp_length</th>\n",
       "      <th>home_ownership</th>\n",
       "      <th>annual_inc</th>\n",
       "      <th>desc</th>\n",
       "      <th>purpose</th>\n",
       "      <th>percent_bc_gt_75</th>\n",
       "      <th>bc_util</th>\n",
       "      <th>dti</th>\n",
       "      <th>inq_last_6mths</th>\n",
       "      <th>mths_since_recent_inq</th>\n",
       "      <th>revol_util</th>\n",
       "      <th>total_bc_limit</th>\n",
       "      <th>total_pymnt</th>\n",
       "      <th>mths_since_last_major_derog</th>\n",
       "      <th>tot_hi_cred_lim</th>\n",
       "      <th>tot_cur_bal</th>\n",
       "      <th>lowRiskApprove</th>\n",
       "    </tr>\n",
       "  </thead>\n",
       "  <tbody>\n",
       "    <tr>\n",
       "      <th>3</th>\n",
       "      <td>28000</td>\n",
       "      <td>36 months</td>\n",
       "      <td>7.62%</td>\n",
       "      <td>5 years</td>\n",
       "      <td>MORTGAGE</td>\n",
       "      <td>325000.0</td>\n",
       "      <td>NaN</td>\n",
       "      <td>debt_consolidation</td>\n",
       "      <td>16.7</td>\n",
       "      <td>67.1</td>\n",
       "      <td>18.55</td>\n",
       "      <td>1.0</td>\n",
       "      <td>3.0</td>\n",
       "      <td>54.6%</td>\n",
       "      <td>42200.0</td>\n",
       "      <td>29150.980000</td>\n",
       "      <td>NaN</td>\n",
       "      <td>38014.149757</td>\n",
       "      <td>799592.0</td>\n",
       "      <td>1</td>\n",
       "    </tr>\n",
       "    <tr>\n",
       "      <th>10</th>\n",
       "      <td>15000</td>\n",
       "      <td>36 months</td>\n",
       "      <td>14.47%</td>\n",
       "      <td>10+ years</td>\n",
       "      <td>RENT</td>\n",
       "      <td>98000.0</td>\n",
       "      <td>Borrower added on 12/31/13 &gt; just to have on...</td>\n",
       "      <td>debt_consolidation</td>\n",
       "      <td>7.7</td>\n",
       "      <td>27.6</td>\n",
       "      <td>6.15</td>\n",
       "      <td>2.0</td>\n",
       "      <td>2.0</td>\n",
       "      <td>22.3%</td>\n",
       "      <td>20800.0</td>\n",
       "      <td>15699.030000</td>\n",
       "      <td>NaN</td>\n",
       "      <td>19643.159526</td>\n",
       "      <td>13038.0</td>\n",
       "      <td>1</td>\n",
       "    </tr>\n",
       "    <tr>\n",
       "      <th>15</th>\n",
       "      <td>3000</td>\n",
       "      <td>36 months</td>\n",
       "      <td>12.85%</td>\n",
       "      <td>10+ years</td>\n",
       "      <td>RENT</td>\n",
       "      <td>25000.0</td>\n",
       "      <td>NaN</td>\n",
       "      <td>debt_consolidation</td>\n",
       "      <td>66.7</td>\n",
       "      <td>52.3</td>\n",
       "      <td>24.68</td>\n",
       "      <td>0.0</td>\n",
       "      <td>8.0</td>\n",
       "      <td>54.2%</td>\n",
       "      <td>4300.0</td>\n",
       "      <td>3181.532981</td>\n",
       "      <td>69.0</td>\n",
       "      <td>4490.698410</td>\n",
       "      <td>19530.0</td>\n",
       "      <td>1</td>\n",
       "    </tr>\n",
       "  </tbody>\n",
       "</table>\n",
       "</div>"
      ],
      "text/plain": [
       "    loan_amnt        term int_rate emp_length home_ownership  annual_inc  \\\n",
       "3       28000   36 months    7.62%    5 years       MORTGAGE    325000.0   \n",
       "10      15000   36 months   14.47%  10+ years           RENT     98000.0   \n",
       "15       3000   36 months   12.85%  10+ years           RENT     25000.0   \n",
       "\n",
       "                                                 desc             purpose  \\\n",
       "3                                                 NaN  debt_consolidation   \n",
       "10    Borrower added on 12/31/13 > just to have on...  debt_consolidation   \n",
       "15                                                NaN  debt_consolidation   \n",
       "\n",
       "    percent_bc_gt_75  bc_util    dti  inq_last_6mths  mths_since_recent_inq  \\\n",
       "3               16.7     67.1  18.55             1.0                    3.0   \n",
       "10               7.7     27.6   6.15             2.0                    2.0   \n",
       "15              66.7     52.3  24.68             0.0                    8.0   \n",
       "\n",
       "   revol_util  total_bc_limit   total_pymnt  mths_since_last_major_derog  \\\n",
       "3       54.6%         42200.0  29150.980000                          NaN   \n",
       "10      22.3%         20800.0  15699.030000                          NaN   \n",
       "15      54.2%          4300.0   3181.532981                         69.0   \n",
       "\n",
       "    tot_hi_cred_lim  tot_cur_bal  lowRiskApprove  \n",
       "3      38014.149757     799592.0               1  \n",
       "10     19643.159526      13038.0               1  \n",
       "15      4490.698410      19530.0               1  "
      ]
     },
     "execution_count": 766,
     "metadata": {},
     "output_type": "execute_result"
    }
   ],
   "source": [
    "# Remove member ID\n",
    "applicants.drop(\"member_id\", axis = 1, inplace = True)\n",
    "applicants.head(3)"
   ]
  },
  {
   "cell_type": "markdown",
   "metadata": {},
   "source": [
    "### Loan Amount"
   ]
  },
  {
   "cell_type": "code",
   "execution_count": 767,
   "metadata": {},
   "outputs": [
    {
     "data": {
      "text/plain": [
       "10000    3960\n",
       "15000    3769\n",
       "12000    3133\n",
       "8000     2118\n",
       "20000    2094\n",
       "6000     1965\n",
       "5000     1736\n",
       "35000    1552\n",
       "16000    1343\n",
       "18000    1195\n",
       "7000      974\n",
       "9000      961\n",
       "4000      960\n",
       "24000     916\n",
       "3000      896\n",
       "25000     871\n",
       "14000     853\n",
       "30000     793\n",
       "21000     609\n",
       "7200      571\n",
       "9600      571\n",
       "28000     551\n",
       "2000      441\n",
       "13000     424\n",
       "4800      414\n",
       "11000     381\n",
       "7500      378\n",
       "11500     338\n",
       "5500      323\n",
       "17000     313\n",
       "         ... \n",
       "7225        1\n",
       "31550       1\n",
       "23825       1\n",
       "30700       1\n",
       "25950       1\n",
       "15925       1\n",
       "27925       1\n",
       "27700       1\n",
       "32075       1\n",
       "19825       1\n",
       "15775       1\n",
       "25800       1\n",
       "13525       1\n",
       "21550       1\n",
       "7175        1\n",
       "32375       1\n",
       "24275       1\n",
       "1075        1\n",
       "22450       1\n",
       "19450       1\n",
       "27550       1\n",
       "7275        1\n",
       "34200       1\n",
       "34850       1\n",
       "26825       1\n",
       "12450       1\n",
       "22575       1\n",
       "26575       1\n",
       "1650        1\n",
       "25850       1\n",
       "Name: loan_amnt, dtype: int64"
      ]
     },
     "execution_count": 767,
     "metadata": {},
     "output_type": "execute_result"
    }
   ],
   "source": [
    "loanAmount = applicants[\"loan_amnt\"]\n",
    "loanAmount.value_counts()"
   ]
  },
  {
   "cell_type": "code",
   "execution_count": 768,
   "metadata": {},
   "outputs": [
    {
     "data": {
      "text/plain": [
       "count    57671.000000\n",
       "mean     13013.503321\n",
       "std       7891.930407\n",
       "min       1000.000000\n",
       "25%       7000.000000\n",
       "50%      11500.000000\n",
       "75%      17500.000000\n",
       "max      35000.000000\n",
       "Name: loan_amnt, dtype: float64"
      ]
     },
     "execution_count": 768,
     "metadata": {},
     "output_type": "execute_result"
    }
   ],
   "source": [
    "loanAmount.describe()"
   ]
  },
  {
   "cell_type": "markdown",
   "metadata": {},
   "source": [
    "This feature seems to be pretty clean, having the full set of entries + a numerical set of values! Some interesting obvservations can be made however:\n",
    "\n",
    "**Common Loan Amounts**\n",
    "\n",
    "There are certain amounts that seem to be very frequently requested, and they're generally well rounded, larger numbers (i.e. 10000, 12000, 15000 etc.). This makes intuitive sense, since generally people tend to estimate a given financial need to a specific, rounded target and then request the final amount. \n",
    "\n",
    "It's interesting to note however that 10000 seems to be the most common amount, 14000 is the average/mean amount requested, and 35000 is the maximum amount! This gives us an idea of the type of loans requested (and the resulting demographic of applicants + their needs), as well as the range of loans that LendingClub willingly approves!"
   ]
  },
  {
   "cell_type": "markdown",
   "metadata": {},
   "source": [
    "### Term"
   ]
  },
  {
   "cell_type": "code",
   "execution_count": 769,
   "metadata": {},
   "outputs": [
    {
     "data": {
      "text/plain": [
       " 36 months    37637\n",
       " 60 months    10370\n",
       "Name: term, dtype: int64"
      ]
     },
     "execution_count": 769,
     "metadata": {},
     "output_type": "execute_result"
    }
   ],
   "source": [
    "term = applicants[\"term\"]\n",
    "term.value_counts()"
   ]
  },
  {
   "cell_type": "code",
   "execution_count": 770,
   "metadata": {},
   "outputs": [
    {
     "data": {
      "text/plain": [
       "count          48007\n",
       "unique             2\n",
       "top        36 months\n",
       "freq           37637\n",
       "Name: term, dtype: object"
      ]
     },
     "execution_count": 770,
     "metadata": {},
     "output_type": "execute_result"
    }
   ],
   "source": [
    "term.describe()"
   ]
  },
  {
   "cell_type": "markdown",
   "metadata": {},
   "source": [
    "Similar to the target variable, the term feature contains two things necessary to cleanup:\n",
    "\n",
    "**Missing Values**\n",
    "\n",
    "With an overwhelming majority in term (36 months is over 72% of total entries), and a small number of missing values (9664 values again!), it's a safe assumption to assign the missing values to a term of \"36 months\".\n",
    "\n",
    "**Categorical Variable**\n",
    "\n",
    "Given that the variable is categorical, it needs to be converted to a numerical output in order to be useful in our model. Since there's only two possible categories, this can be done with a simple Boolean mapping:\n",
    "\n",
    "0 - 36 months\n",
    "\n",
    "1 - 60 months\n",
    "\n",
    "Let's perform the above two steps:"
   ]
  },
  {
   "cell_type": "code",
   "execution_count": 771,
   "metadata": {},
   "outputs": [
    {
     "data": {
      "text/plain": [
       "count          57671\n",
       "unique             2\n",
       "top        36 months\n",
       "freq           47301\n",
       "Name: term, dtype: object"
      ]
     },
     "execution_count": 771,
     "metadata": {},
     "output_type": "execute_result"
    }
   ],
   "source": [
    "# Fill in missing values\n",
    "term.fillna(\" 36 months\", inplace = True)\n",
    "term.describe()"
   ]
  },
  {
   "cell_type": "code",
   "execution_count": 772,
   "metadata": {},
   "outputs": [
    {
     "data": {
      "text/plain": [
       " 36 months    47301\n",
       " 60 months    10370\n",
       "Name: term, dtype: int64"
      ]
     },
     "execution_count": 772,
     "metadata": {},
     "output_type": "execute_result"
    }
   ],
   "source": [
    "term.value_counts()"
   ]
  },
  {
   "cell_type": "code",
   "execution_count": 773,
   "metadata": {},
   "outputs": [
    {
     "data": {
      "text/plain": [
       "0    47301\n",
       "1    10370\n",
       "Name: term, dtype: int64"
      ]
     },
     "execution_count": 773,
     "metadata": {},
     "output_type": "execute_result"
    }
   ],
   "source": [
    "# Suppress SettingWithCopyWarning (occurs when you set a value on a slice of a DataFrame as done below)\n",
    "pd.options.mode.chained_assignment = None\n",
    "\n",
    "# Convert to numerical values\n",
    "term[term == \" 36 months\"] = 0\n",
    "term[term == \" 60 months\"] = 1\n",
    "term.value_counts()"
   ]
  },
  {
   "cell_type": "markdown",
   "metadata": {},
   "source": [
    "### Interest Rate\n"
   ]
  },
  {
   "cell_type": "code",
   "execution_count": 774,
   "metadata": {},
   "outputs": [
    {
     "data": {
      "text/plain": [
       " 12.12%    2806\n",
       " 13.11%    2528\n",
       " 14.33%    1980\n",
       " 15.31%    1763\n",
       "  8.90%    1730\n",
       " 11.14%    1722\n",
       "  7.90%    1670\n",
       " 16.29%    1582\n",
       " 17.27%    1535\n",
       " 15.80%    1355\n",
       " 14.09%    1342\n",
       " 10.16%    1212\n",
       " 17.77%    1148\n",
       "  7.62%    1072\n",
       "  6.03%    1056\n",
       "  6.62%    1002\n",
       " 18.49%     965\n",
       " 19.05%     847\n",
       " 18.75%     789\n",
       " 19.72%     705\n",
       " 13.67%     669\n",
       " 21.00%     568\n",
       " 18.25%     543\n",
       " 14.65%     504\n",
       " 13.99%     485\n",
       " 12.35%     464\n",
       " 21.49%     411\n",
       " 10.74%     388\n",
       " 21.98%     381\n",
       " 19.52%     378\n",
       "           ... \n",
       " 25.57%      43\n",
       " 24.83%      43\n",
       " 18.64%      42\n",
       " 25.83%      34\n",
       " 23.13%      32\n",
       " 19.03%      30\n",
       " 19.91%      30\n",
       " 23.26%      29\n",
       " 25.89%      27\n",
       " 19.97%      26\n",
       " 19.42%      24\n",
       " 20.30%      23\n",
       " 20.89%      21\n",
       " 24.20%      20\n",
       " 21.28%      19\n",
       " 26.06%      19\n",
       " 25.99%      19\n",
       " 23.33%      18\n",
       " 22.90%      16\n",
       " 21.67%      13\n",
       " 24.33%      11\n",
       " 22.74%      11\n",
       "  6.00%       8\n",
       " 22.06%       7\n",
       " 22.35%       6\n",
       " 24.76%       5\n",
       " 24.11%       5\n",
       " 24.52%       3\n",
       " 23.91%       3\n",
       " 23.52%       2\n",
       "Name: int_rate, dtype: int64"
      ]
     },
     "execution_count": 774,
     "metadata": {},
     "output_type": "execute_result"
    }
   ],
   "source": [
    "intRate = applicants[\"int_rate\"]\n",
    "intRate.value_counts()"
   ]
  },
  {
   "cell_type": "code",
   "execution_count": 775,
   "metadata": {},
   "outputs": [
    {
     "data": {
      "text/plain": [
       "count       48007\n",
       "unique        144\n",
       "top        12.12%\n",
       "freq         2806\n",
       "Name: int_rate, dtype: object"
      ]
     },
     "execution_count": 775,
     "metadata": {},
     "output_type": "execute_result"
    }
   ],
   "source": [
    "intRate.describe()"
   ]
  },
  {
   "cell_type": "markdown",
   "metadata": {},
   "source": [
    "As seen above, there are 9664 missing values, however there is no clear majority in terms of common interest rate issued. Thus, we cannot simply impute the missing values with the most frequently occuring interest rate. A more intelligent method needs to be utilized!\n",
    "\n",
    "Also, it's important to notice that the presence of the percentage in the column implies that it's of string type. We need to make sure that the values are numeric! Let's do this first, and then we can potentially utilize things like a median/mean."
   ]
  },
  {
   "cell_type": "code",
   "execution_count": 776,
   "metadata": {},
   "outputs": [],
   "source": [
    "# Convert to numerical values\n",
    "intRate[intRate.str.contains(\"%\").fillna(False)] = intRate.str.replace(\"%\", \"\")\n",
    "intRate[intRate.str.contains(\" \").fillna(False)] = intRate.str.replace(\" \", \"\")\n",
    "intRate = intRate.astype(float)"
   ]
  },
  {
   "cell_type": "code",
   "execution_count": 777,
   "metadata": {},
   "outputs": [
    {
     "data": {
      "text/plain": [
       "count    48007.000000\n",
       "mean        14.659813\n",
       "std          4.520052\n",
       "min          6.000000\n",
       "25%         11.550000\n",
       "50%         14.330000\n",
       "75%         17.770000\n",
       "max         26.060000\n",
       "Name: int_rate, dtype: float64"
      ]
     },
     "execution_count": 777,
     "metadata": {},
     "output_type": "execute_result"
    }
   ],
   "source": [
    "intRate.describe()"
   ]
  },
  {
   "cell_type": "markdown",
   "metadata": {},
   "source": [
    "Having performed the conversion, we can now observe basic feature statistics and make a decision on how to impute the missing values.\n",
    "\n",
    "Remember, the goal with the imputation is to **minimize the disturbance to the data distribution**. The given set of interest rates is distributed in a specific distribution, and depending on how we add the missing values, the resulting distribution will be scaled/shifted/transposed version of the original. The goal is to preserve the underlying information in the data, and thus minimize the impact that imputed values have (which is why previously, when there's a majority present, we just use that!)\n",
    "\n",
    "In this case, since there is no underlying majority, we can use other statistics. Notice that both the mean and median are essentially the same (approx. 14%), implying that the feature is **well-balanced (no skew)**. Using this, we can chose to replace the missing values with the mean of the distribution, thereby minimizing impact (if you imagine a normal distribution, the spike at the mean will just move slightly up!).\n",
    "\n",
    "Let's do this:"
   ]
  },
  {
   "cell_type": "code",
   "execution_count": 778,
   "metadata": {},
   "outputs": [
    {
     "data": {
      "text/plain": [
       "count    57671.000000\n",
       "mean        14.659813\n",
       "std          4.123977\n",
       "min          6.000000\n",
       "25%         12.120000\n",
       "50%         14.659813\n",
       "75%         17.270000\n",
       "max         26.060000\n",
       "Name: int_rate, dtype: float64"
      ]
     },
     "execution_count": 778,
     "metadata": {},
     "output_type": "execute_result"
    }
   ],
   "source": [
    "# Fill in missing values with mean\n",
    "intRate.fillna(intRate.mean(), inplace = True)\n",
    "intRate.describe()"
   ]
  },
  {
   "cell_type": "markdown",
   "metadata": {},
   "source": [
    "### Employment Length"
   ]
  },
  {
   "cell_type": "code",
   "execution_count": 779,
   "metadata": {},
   "outputs": [
    {
     "data": {
      "text/plain": [
       "10+ years    14222\n",
       "2 years       4446\n",
       "5 years       3943\n",
       "< 1 year      3724\n",
       "3 years       3603\n",
       "6 years       3308\n",
       "4 years       3163\n",
       "1 year        3103\n",
       "7 years       2879\n",
       "8 years       2185\n",
       "9 years       1779\n",
       "n/a           1652\n",
       "Name: emp_length, dtype: int64"
      ]
     },
     "execution_count": 779,
     "metadata": {},
     "output_type": "execute_result"
    }
   ],
   "source": [
    "empLength = applicants[\"emp_length\"]\n",
    "empLength.value_counts()"
   ]
  },
  {
   "cell_type": "code",
   "execution_count": 780,
   "metadata": {},
   "outputs": [
    {
     "data": {
      "text/plain": [
       "count         48007\n",
       "unique           12\n",
       "top       10+ years\n",
       "freq          14222\n",
       "Name: emp_length, dtype: object"
      ]
     },
     "execution_count": 780,
     "metadata": {},
     "output_type": "execute_result"
    }
   ],
   "source": [
    "empLength.describe()"
   ]
  },
  {
   "cell_type": "code",
   "execution_count": 781,
   "metadata": {},
   "outputs": [
    {
     "data": {
      "text/plain": [
       "9664"
      ]
     },
     "execution_count": 781,
     "metadata": {},
     "output_type": "execute_result"
    }
   ],
   "source": [
    "len(empLength[empLength.isnull()])"
   ]
  },
  {
   "cell_type": "markdown",
   "metadata": {},
   "source": [
    "The employment length feature, characterizing the applicant's length of employment, is similar to some of the previous features in the sense that it contains **9664 missing values**, and is **categorical in nature**. \n",
    "\n",
    "**Missing Values**\n",
    "Notice that the number of missing values (9664) is almost at par to the frequency of common employment lengths (approximately 11/12000). The majority class, 10+ years, comprises of almost 30% of the total values. However, this is not as overwhelming as previous features, and thus, simply filling in the missing values with the majority class is **not the best course of option**.\n",
    "\n",
    "In an attempt to minimize the impact on the existing distribution, we can notice that the frequency of the majority class is roughly 6x the frequency of all the other classes. Utilizing this to our advantage, we can fill in missing values in a similar fashion into each category.\n",
    "\n",
    "This means that if we fill each category with 650 values, the majority class will have 9664 - (650 * 9) = 3814 values added to it (where 650 x 6 = 3900, which is approx. 3814)!"
   ]
  },
  {
   "cell_type": "code",
   "execution_count": 782,
   "metadata": {},
   "outputs": [
    {
     "data": {
      "text/plain": [
       "10+ years    17386\n",
       "2 years       5096\n",
       "5 years       4593\n",
       "< 1 year      4374\n",
       "3 years       4253\n",
       "6 years       3958\n",
       "4 years       3813\n",
       "7 years       3529\n",
       "1 year        3103\n",
       "8 years       2835\n",
       "9 years       2429\n",
       "n/a           2302\n",
       "Name: emp_length, dtype: int64"
      ]
     },
     "execution_count": 782,
     "metadata": {},
     "output_type": "execute_result"
    }
   ],
   "source": [
    "# Fill in missing values\n",
    "empLength.fillna(\"n/a\", limit = 650, inplace = True)\n",
    "empLength.fillna(\"< 1 year\", limit = 650, inplace = True)\n",
    "empLength.fillna(\"2 years\", limit = 650, inplace = True)\n",
    "empLength.fillna(\"3 years\", limit = 650, inplace = True)\n",
    "empLength.fillna(\"4 years\", limit = 650, inplace = True)\n",
    "empLength.fillna(\"5 years\", limit = 650, inplace = True)\n",
    "empLength.fillna(\"6 years\", limit = 650, inplace = True)\n",
    "empLength.fillna(\"7 years\", limit = 650, inplace = True)\n",
    "empLength.fillna(\"8 years\", limit = 650, inplace = True)\n",
    "empLength.fillna(\"9 years\", limit = 650, inplace = True)\n",
    "empLength.fillna(\"10+ years\", inplace = True) # remaining values\n",
    "\n",
    "empLength.value_counts()"
   ]
  },
  {
   "cell_type": "code",
   "execution_count": 783,
   "metadata": {},
   "outputs": [
    {
     "data": {
      "text/plain": [
       "count         57671\n",
       "unique           12\n",
       "top       10+ years\n",
       "freq          17386\n",
       "Name: emp_length, dtype: object"
      ]
     },
     "execution_count": 783,
     "metadata": {},
     "output_type": "execute_result"
    }
   ],
   "source": [
    "empLength.describe()"
   ]
  },
  {
   "cell_type": "markdown",
   "metadata": {},
   "source": [
    "Clearly from above, the distribution of values has roughly stayed the same! This method of imputation was successful!\n",
    "\n",
    "We now need to convert this categorical feature to a numerical one, with the following simple mapping:\n",
    "\n",
    "0 - n/a\n",
    "\n",
    "1 - < 1 year\n",
    "\n",
    "2 - 1 year\n",
    "\n",
    "3 - 2 years\n",
    "\n",
    "4 - 3 years\n",
    "\n",
    "5 - 4 years\n",
    "\n",
    "6 - 5 years\n",
    "\n",
    "7 - 6 years\n",
    "\n",
    "8 - 7 years\n",
    "\n",
    "9 - 8 years\n",
    "\n",
    "10 - 9 years\n",
    "\n",
    "11 - 10+ years\n",
    "\n",
    "Let's implement this:"
   ]
  },
  {
   "cell_type": "code",
   "execution_count": 784,
   "metadata": {},
   "outputs": [
    {
     "data": {
      "text/plain": [
       "11    17386\n",
       "3      5096\n",
       "6      4593\n",
       "1      4374\n",
       "4      4253\n",
       "7      3958\n",
       "5      3813\n",
       "8      3529\n",
       "2      3103\n",
       "9      2835\n",
       "10     2429\n",
       "0      2302\n",
       "Name: emp_length, dtype: int64"
      ]
     },
     "execution_count": 784,
     "metadata": {},
     "output_type": "execute_result"
    }
   ],
   "source": [
    "# Convert to numerical values\n",
    "empLength[empLength == \"n/a\"] = 0\n",
    "empLength[empLength == \"< 1 year\"] = 1\n",
    "empLength[empLength == \"1 year\"] = 2\n",
    "empLength[empLength == \"2 years\"] = 3\n",
    "empLength[empLength == \"3 years\"] = 4\n",
    "empLength[empLength == \"4 years\"] = 5\n",
    "empLength[empLength == \"5 years\"] = 6\n",
    "empLength[empLength == \"6 years\"] = 7\n",
    "empLength[empLength == \"7 years\"] = 8\n",
    "empLength[empLength == \"8 years\"] = 9\n",
    "empLength[empLength == \"9 years\"] = 10\n",
    "empLength[empLength == \"10+ years\"] = 11\n",
    "\n",
    "empLength.value_counts()"
   ]
  },
  {
   "cell_type": "markdown",
   "metadata": {},
   "source": [
    "### Home Ownership"
   ]
  },
  {
   "cell_type": "code",
   "execution_count": 785,
   "metadata": {},
   "outputs": [
    {
     "data": {
      "text/plain": [
       "MORTGAGE    23745\n",
       "RENT        20442\n",
       "OWN          3792\n",
       "NONE           15\n",
       "OTHER          13\n",
       "Name: home_ownership, dtype: int64"
      ]
     },
     "execution_count": 785,
     "metadata": {},
     "output_type": "execute_result"
    }
   ],
   "source": [
    "home = applicants[\"home_ownership\"]\n",
    "home.value_counts()"
   ]
  },
  {
   "cell_type": "code",
   "execution_count": 786,
   "metadata": {},
   "outputs": [
    {
     "data": {
      "text/plain": [
       "count        48007\n",
       "unique           5\n",
       "top       MORTGAGE\n",
       "freq         23745\n",
       "Name: home_ownership, dtype: object"
      ]
     },
     "execution_count": 786,
     "metadata": {},
     "output_type": "execute_result"
    }
   ],
   "source": [
    "home.describe()"
   ]
  },
  {
   "cell_type": "markdown",
   "metadata": {},
   "source": [
    "Similar to previous cases, we can fill in the missing values using the most common classes and then convert the feature to numerical values (as opposed to it's current, categorical nature).\n",
    "\n",
    "Since there's three predominant classes (out of which MORTGAGE and RENT are roughly 5/6 times the frequency of OWN), we can fill the missing values according to the same distribution! This means:\n",
    "\n",
    "OWN - 750 values\n",
    "\n",
    "RENT - 3750 values (5x OWN)\n",
    "\n",
    "MORTGAGE - 4500 values (6x OWN)\n",
    "\n",
    "Total = 9000 (approx equal to 9664, remaining values will go to MORTGAGE)"
   ]
  },
  {
   "cell_type": "code",
   "execution_count": 787,
   "metadata": {},
   "outputs": [
    {
     "data": {
      "text/plain": [
       "MORTGAGE    28909\n",
       "RENT        24192\n",
       "OWN          4542\n",
       "NONE           15\n",
       "OTHER          13\n",
       "Name: home_ownership, dtype: int64"
      ]
     },
     "execution_count": 787,
     "metadata": {},
     "output_type": "execute_result"
    }
   ],
   "source": [
    "# Fill in missing values\n",
    "home.fillna(\"OWN\", limit = 750, inplace = True)\n",
    "home.fillna(\"RENT\", limit = 3750, inplace = True)\n",
    "home.fillna(\"MORTGAGE\", inplace = True)\n",
    "\n",
    "home.value_counts()"
   ]
  },
  {
   "cell_type": "markdown",
   "metadata": {},
   "source": [
    "Maintaining the original distribution, we can now convert the categorical values to numerical ones! This will be done via a simple mapping:\n",
    "\n",
    "0 - NONE\n",
    "\n",
    "1 - OTHER\n",
    "\n",
    "2 - OWN\n",
    "\n",
    "3 - RENT\n",
    "\n",
    "4 - MORTGAGE"
   ]
  },
  {
   "cell_type": "code",
   "execution_count": 788,
   "metadata": {},
   "outputs": [
    {
     "data": {
      "text/plain": [
       "4    28909\n",
       "3    24192\n",
       "2     4542\n",
       "0       15\n",
       "1       13\n",
       "Name: home_ownership, dtype: int64"
      ]
     },
     "execution_count": 788,
     "metadata": {},
     "output_type": "execute_result"
    }
   ],
   "source": [
    "# Convert to numerical\n",
    "home[home == \"NONE\"] = 0\n",
    "home[home == \"OTHER\"] = 1\n",
    "home[home == \"OWN\"] = 2\n",
    "home[home == \"RENT\"] = 3\n",
    "home[home == \"MORTGAGE\"] = 4\n",
    "\n",
    "home.value_counts()"
   ]
  },
  {
   "cell_type": "code",
   "execution_count": 789,
   "metadata": {},
   "outputs": [
    {
     "data": {
      "text/plain": [
       "count     57671\n",
       "unique        5\n",
       "top           4\n",
       "freq      28909\n",
       "Name: home_ownership, dtype: int64"
      ]
     },
     "execution_count": 789,
     "metadata": {},
     "output_type": "execute_result"
    }
   ],
   "source": [
    "home.describe()"
   ]
  },
  {
   "cell_type": "markdown",
   "metadata": {},
   "source": [
    "### Annual Income"
   ]
  },
  {
   "cell_type": "code",
   "execution_count": 790,
   "metadata": {},
   "outputs": [
    {
     "data": {
      "text/plain": [
       "60000.00      1880\n",
       "50000.00      1677\n",
       "65000.00      1440\n",
       "40000.00      1380\n",
       "45000.00      1342\n",
       "70000.00      1312\n",
       "55000.00      1210\n",
       "75000.00      1203\n",
       "80000.00      1196\n",
       "90000.00       906\n",
       "85000.00       859\n",
       "100000.00      857\n",
       "35000.00       810\n",
       "30000.00       760\n",
       "52000.00       701\n",
       "42000.00       662\n",
       "48000.00       643\n",
       "120000.00      628\n",
       "72000.00       578\n",
       "110000.00      552\n",
       "95000.00       474\n",
       "36000.00       451\n",
       "62000.00       423\n",
       "38000.00       421\n",
       "32000.00       399\n",
       "54000.00       387\n",
       "58000.00       380\n",
       "56000.00       367\n",
       "43000.00       367\n",
       "125000.00      356\n",
       "              ... \n",
       "23962.00         1\n",
       "33048.00         1\n",
       "100500.00        1\n",
       "84598.08         1\n",
       "25600.00         1\n",
       "178200.00        1\n",
       "55809.00         1\n",
       "51714.00         1\n",
       "78853.00         1\n",
       "47619.00         1\n",
       "47620.00         1\n",
       "35333.00         1\n",
       "35318.00         1\n",
       "7141778.00       1\n",
       "78822.00         1\n",
       "36717.00         1\n",
       "51956.00         1\n",
       "70224.00         1\n",
       "70628.00         1\n",
       "95202.00         1\n",
       "141250.00        1\n",
       "43150.00         1\n",
       "24540.00         1\n",
       "55790.00         1\n",
       "46176.00         1\n",
       "69229.21         1\n",
       "56528.00         1\n",
       "51690.00         1\n",
       "47592.00         1\n",
       "13920.00         1\n",
       "Name: annual_inc, dtype: int64"
      ]
     },
     "execution_count": 790,
     "metadata": {},
     "output_type": "execute_result"
    }
   ],
   "source": [
    "income = applicants[\"annual_inc\"]\n",
    "income.value_counts()"
   ]
  },
  {
   "cell_type": "code",
   "execution_count": 791,
   "metadata": {},
   "outputs": [
    {
     "data": {
      "text/plain": [
       "count    4.800700e+04\n",
       "mean     7.197305e+04\n",
       "std      6.301178e+04\n",
       "min      4.800000e+03\n",
       "25%      4.500000e+04\n",
       "50%      6.200000e+04\n",
       "75%      8.500000e+04\n",
       "max      7.141778e+06\n",
       "Name: annual_inc, dtype: float64"
      ]
     },
     "execution_count": 791,
     "metadata": {},
     "output_type": "execute_result"
    }
   ],
   "source": [
    "income.describe()"
   ]
  },
  {
   "cell_type": "markdown",
   "metadata": {},
   "source": [
    "Similar to the interest rate feature, although there are a few common/recurring income categories (i.e. 60000, 50000 etc.), there is no overwhelming majority that we can use to fill missing values. Noticing that the mean and median are relatively similar, we can use them to fill in the missing values!\n",
    "\n",
    "Since the median is closer to the most frequent income, we'll use the median to fill in the missing values (this will pull the mean back, and reduce the little skew that exists!)"
   ]
  },
  {
   "cell_type": "code",
   "execution_count": 792,
   "metadata": {},
   "outputs": [
    {
     "data": {
      "text/plain": [
       "count    5.767100e+04\n",
       "mean     7.030186e+04\n",
       "std      5.761083e+04\n",
       "min      4.800000e+03\n",
       "25%      4.900000e+04\n",
       "50%      6.200000e+04\n",
       "75%      8.000000e+04\n",
       "max      7.141778e+06\n",
       "Name: annual_inc, dtype: float64"
      ]
     },
     "execution_count": 792,
     "metadata": {},
     "output_type": "execute_result"
    }
   ],
   "source": [
    "# Fill in missing values using median\n",
    "income.fillna(income.median(), inplace = True)\n",
    "income.describe()"
   ]
  },
  {
   "cell_type": "markdown",
   "metadata": {},
   "source": [
    "### Description"
   ]
  },
  {
   "cell_type": "code",
   "execution_count": 793,
   "metadata": {},
   "outputs": [
    {
     "data": {
      "text/plain": [
       "  Borrower added on 05/13/13 > Debt consolidation<br>                                                                                                                                                                                                                                                                                                                                                                                                                                                                                                                                                                                                                                                                                                                                                                                                                                                                                                                                          3\n",
       "  Borrower added on 03/28/13 > Debt consolidation<br>                                                                                                                                                                                                                                                                                                                                                                                                                                                                                                                                                                                                                                                                                                                                                                                                                                                                                                                                          3\n",
       "  Borrower added on 01/14/13 > Debt consolidation<br>                                                                                                                                                                                                                                                                                                                                                                                                                                                                                                                                                                                                                                                                                                                                                                                                                                                                                                                                          3\n",
       "  Borrower added on 11/25/12 > Debt consolidation<br>                                                                                                                                                                                                                                                                                                                                                                                                                                                                                                                                                                                                                                                                                                                                                                                                                                                                                                                                          3\n",
       "  Borrower added on 02/27/13 > Debt consolidation<br>                                                                                                                                                                                                                                                                                                                                                                                                                                                                                                                                                                                                                                                                                                                                                                                                                                                                                                                                          3\n",
       "                                                                                                                                                                                                                                                                                                                                                                                                                                                                                                                                                                                                                                                                                                                                                                                                                                                                                                                                                                                               2\n",
       "  Borrower added on 10/02/13 > Debt consolidation.<br>                                                                                                                                                                                                                                                                                                                                                                                                                                                                                                                                                                                                                                                                                                                                                                                                                                                                                                                                         2\n",
       "  Borrower added on 11/06/12 > debt consolidation<br>                                                                                                                                                                                                                                                                                                                                                                                                                                                                                                                                                                                                                                                                                                                                                                                                                                                                                                                                          2\n",
       "  Borrower added on 03/27/13 > Debt consolidation<br>                                                                                                                                                                                                                                                                                                                                                                                                                                                                                                                                                                                                                                                                                                                                                                                                                                                                                                                                          2\n",
       "  Borrower added on 09/04/13 > Debt consolidation<br>                                                                                                                                                                                                                                                                                                                                                                                                                                                                                                                                                                                                                                                                                                                                                                                                                                                                                                                                          2\n",
       "  Borrower added on 09/26/13 > Credit card consolidation<br>                                                                                                                                                                                                                                                                                                                                                                                                                                                                                                                                                                                                                                                                                                                                                                                                                                                                                                                                   2\n",
       "  Borrower added on 07/06/12 > debt consolidation<br>                                                                                                                                                                                                                                                                                                                                                                                                                                                                                                                                                                                                                                                                                                                                                                                                                                                                                                                                          2\n",
       "  Borrower added on 05/28/13 > Debt consolidation<br>                                                                                                                                                                                                                                                                                                                                                                                                                                                                                                                                                                                                                                                                                                                                                                                                                                                                                                                                          2\n",
       "  Borrower added on 08/13/12 > Debt consolidation<br>                                                                                                                                                                                                                                                                                                                                                                                                                                                                                                                                                                                                                                                                                                                                                                                                                                                                                                                                          2\n",
       "  Borrower added on 10/23/12 > Debt Consolidation<br>                                                                                                                                                                                                                                                                                                                                                                                                                                                                                                                                                                                                                                                                                                                                                                                                                                                                                                                                          2\n",
       "  Borrower added on 12/29/12 > Debt consolidation<br>                                                                                                                                                                                                                                                                                                                                                                                                                                                                                                                                                                                                                                                                                                                                                                                                                                                                                                                                          2\n",
       "  Borrower added on 10/21/13 > Debt consolidation<br>                                                                                                                                                                                                                                                                                                                                                                                                                                                                                                                                                                                                                                                                                                                                                                                                                                                                                                                                          2\n",
       "  Borrower added on 05/01/13 > Credit card debt consolidation.<br>                                                                                                                                                                                                                                                                                                                                                                                                                                                                                                                                                                                                                                                                                                                                                                                                                                                                                                                             2\n",
       "  Borrower added on 09/19/13 > Debt consolidation<br>                                                                                                                                                                                                                                                                                                                                                                                                                                                                                                                                                                                                                                                                                                                                                                                                                                                                                                                                          2\n",
       "  Borrower added on 09/16/13 > Debt Consolidation<br>                                                                                                                                                                                                                                                                                                                                                                                                                                                                                                                                                                                                                                                                                                                                                                                                                                                                                                                                          2\n",
       "  Borrower added on 03/22/13 > credit card refinancing<br>                                                                                                                                                                                                                                                                                                                                                                                                                                                                                                                                                                                                                                                                                                                                                                                                                                                                                                                                     2\n",
       "  Borrower added on 05/08/13 > Debt consolidation<br>                                                                                                                                                                                                                                                                                                                                                                                                                                                                                                                                                                                                                                                                                                                                                                                                                                                                                                                                          2\n",
       "  Borrower added on 07/19/13 > bill consolidation<br>                                                                                                                                                                                                                                                                                                                                                                                                                                                                                                                                                                                                                                                                                                                                                                                                                                                                                                                                          2\n",
       "  Borrower added on 09/09/13 > Consolidate credit cards<br>                                                                                                                                                                                                                                                                                                                                                                                                                                                                                                                                                                                                                                                                                                                                                                                                                                                                                                                                    2\n",
       "  Borrower added on 01/23/13 > debt consolidation<br>                                                                                                                                                                                                                                                                                                                                                                                                                                                                                                                                                                                                                                                                                                                                                                                                                                                                                                                                          2\n",
       "  Borrower added on 02/10/13 > debt consolidation<br>                                                                                                                                                                                                                                                                                                                                                                                                                                                                                                                                                                                                                                                                                                                                                                                                                                                                                                                                          2\n",
       "  Borrower added on 01/15/13 > Debt consolidation<br>                                                                                                                                                                                                                                                                                                                                                                                                                                                                                                                                                                                                                                                                                                                                                                                                                                                                                                                                          2\n",
       "  Borrower added on 01/22/13 > Debt consolidation<br>                                                                                                                                                                                                                                                                                                                                                                                                                                                                                                                                                                                                                                                                                                                                                                                                                                                                                                                                          2\n",
       "  Borrower added on 01/29/13 > Debt consolidation<br>                                                                                                                                                                                                                                                                                                                                                                                                                                                                                                                                                                                                                                                                                                                                                                                                                                                                                                                                          2\n",
       "  Borrower added on 09/04/13 > Debt Consolidation<br>                                                                                                                                                                                                                                                                                                                                                                                                                                                                                                                                                                                                                                                                                                                                                                                                                                                                                                                                          2\n",
       "                                                                                                                                                                                                                                                                                                                                                                                                                                                                                                                                                                                                                                                                                                                                                                                                                                                                                                                                                                                              ..\n",
       "  Borrower added on 09/10/13 > Loan is for debt consolidation. Got in debt after helping a family memeber pay off his debt, then the credit card bills started stacking and stacking. Want to consolidate my debt and make 1 monthly payment each month and rebuild my credit.<br>                                                                                                                                                                                                                                                                                                                                                                                                                                                                                                                                                                                                                                                                                                             1\n",
       "  Borrower added on 12/08/12 > Pay down high-interest rate credit cards. Citibank at 21%, Wells Fargo at 18.5%<br>                                                                                                                                                                                                                                                                                                                                                                                                                                                                                                                                                                                                                                                                                                                                                                                                                                                                             1\n",
       "  Borrower added on 11/20/13 > 2012 was a very long year.  2013 I splurged a little on myself, and on those around me.  2014 I am going to make steps to become debt free.<br>                                                                                                                                                                                                                                                                                                                                                                                                                                                                                                                                                                                                                                                                                                                                                                                                                 1\n",
       "  Borrower added on 07/20/12 > My creadit cards have almost hit their limit. With this loan I will have the oppurtunity of paying  them all off and only worry about one payment insted of 6.<br>                                                                                                                                                                                                                                                                                                                                                                                                                                                                                                                                                                                                                                                                                                                                                                                              1\n",
       "  Borrower added on 07/30/12 > I will be traveling internationally with my family, and would like to purchase the tickets for the flight and have some money left over to cover expenses and in case of emergency (returning sooner than anticipated.)<br>                                                                                                                                                                                                                                                                                                                                                                                                                                                                                                                                                                                                                                                                                                                                     1\n",
       "  Borrower added on 09/12/12 > Pay off my credits<br>                                                                                                                                                                                                                                                                                                                                                                                                                                                                                                                                                                                                                                                                                                                                                                                                                                                                                                                                          1\n",
       "  Borrower added on 06/22/13 > Intend to consolidate my credit card debt &amp; make some home repairs.<br>                                                                                                                                                                                                                                                                                                                                                                                                                                                                                                                                                                                                                                                                                                                                                                                                                                                                                     1\n",
       "  Borrower added on 04/30/13 > I am looking to consolidate debt and gain financial security.  I am a solid professional with a great job and trying to make right some financial missteps over the past few years.<br>                                                                                                                                                                                                                                                                                                                                                                                                                                                                                                                                                                                                                                                                                                                                                                         1\n",
       "  Borrower added on 07/18/13 > Looking to consolidate some consumer loans used to purchase furniture and other apartment furnishings into one place with a lower rate.<br>                                                                                                                                                                                                                                                                                                                                                                                                                                                                                                                                                                                                                                                                                                                                                                                                                     1\n",
       "  Borrower added on 11/07/12 > Converting loans of 27% APR<br>                                                                                                                                                                                                                                                                                                                                                                                                                                                                                                                                                                                                                                                                                                                                                                                                                                                                                                                                 1\n",
       "  Borrower added on 11/15/12 > Debt consolidtion of credit cards.<br>                                                                                                                                                                                                                                                                                                                                                                                                                                                                                                                                                                                                                                                                                                                                                                                                                                                                                                                          1\n",
       "  Borrower added on 06/06/12 > combining some high interest rate cards to this nice lower rate<br>                                                                                                                                                                                                                                                                                                                                                                                                                                                                                                                                                                                                                                                                                                                                                                                                                                                                                             1\n",
       "  Borrower added on 02/12/13 > I am using this to consolidate credit card debt<br>                                                                                                                                                                                                                                                                                                                                                                                                                                                                                                                                                                                                                                                                                                                                                                                                                                                                                                             1\n",
       "  Borrower added on 11/29/12 > This loan would allow me to pay less interest on my current credit card balances.  It also allows me to pay almost double the minimum payment which pays the loan off even faster.<br><br>I greatly appreciate your help and trust in funding my loan.  Thank you<br>                                                                                                                                                                                                                                                                                                                                                                                                                                                                                                                                                                                                                                                                                           1\n",
       "  Borrower added on 07/31/12 > I would like to lower my interest rate so that I can pay off my debt faster.  I work in a company that is hiring and growing.  I was recruited away from my last job while still working. 1 year in current job, but 8 years continuous employment in my profession.  Excellent prospects-stable income.<br>                                                                                                                                                                                                                                                                                                                                                                                                                                                                                                                                                                                                                                                    1\n",
       "  Borrower added on 12/13/12 > Debt consolidation to get a fresh start for the new year. The 36 month timeframe is so enticing. The thought of being debt free in 3 years is an exciting feeling and just what we want for Christmas!<br>                                                                                                                                                                                                                                                                                                                                                                                                                                                                                                                                                                                                                                                                                                                                                      1\n",
       "  Borrower added on 08/31/12 > Loan is to consolidate credit cards into one payment so that I can cancel my credit cards.<br>                                                                                                                                                                                                                                                                                                                                                                                                                                                                                                                                                                                                                                                                                                                                                                                                                                                                  1\n",
       "  Borrower added on 01/02/13 > I would like to consolidate all my bills in one place<br>                                                                                                                                                                                                                                                                                                                                                                                                                                                                                                                                                                                                                                                                                                                                                                                                                                                                                                       1\n",
       "  Borrower added on 10/30/12 > I am planning to consolidate existing personal loans, and credit card loans.  In addition, I would also like to free up some cash as well.<br>                                                                                                                                                                                                                                                                                                                                                                                                                                                                                                                                                                                                                                                                                                                                                                                                                  1\n",
       "  Borrower added on 06/06/12 > We are installing an in-ground pool for our family to enjoy.  The pool will be installed by a licensed contractor with a strong reputation for quality work.<br>                                                                                                                                                                                                                                                                                                                                                                                                                                                                                                                                                                                                                                                                                                                                                                                                1\n",
       "  Borrower added on 11/01/12 > I am trying to pay off my high rate credit cards into one low monthly payment to continue to improve my credit. I was in the hospital in2008 and had a tough time paying my bills. Now I am paying on time, building my credit score and this would be so helpful<br><br>  Borrower added on 11/03/12 > I had a large amount of hospital bills in 2008 that caused me to get in financial trouble and I was unable to pay Bc u was laid off while I was in the hospital Bc I was unable to work. This loan would allow me to pay off the high apr cc balances and save money to pay off the loan faster<br><br> Borrower added on 11/03/12 > With help from this loan, I will be able to pay off the cards instead of just the minimum due each month.  I have a steady income and I never miss a payment on my credit cards.  My medical bills are paid off, all I need now is to pay off my cards that no longer use. Thank you for your consideration<br>    1\n",
       "  Borrower added on 08/13/13 > This loan will be used to pay off a few credit cards that were used to renovate the house and to complete a few more renovations.  With this money I will be able to fully finish my house.<br>                                                                                                                                                                                                                                                                                                                                                                                                                                                                                                                                                                                                                                                                                                                                                                 1\n",
       "  Borrower added on 03/14/12 > Purchase a reasonable car that can handle the Boston winters (Subaru, Jeep, or similar) as I have a car on its last legs w/ only rear wheel. Use the residual for new furniture in my apartment specifically new bedroom furniture, couch, and other small apartment upgrades.<br><br> Borrower added on 03/15/12 > To Add: I just graduated from business school in May and although my current employment period is less than a year, I have returned to the same firm from pre-mba for which my tenure was 4 years.  Therefore I am nearly 5 years with the same company in total employment.<br>                                                                                                                                                                                                                                                                                                                                                            1\n",
       "  Borrower added on 02/22/13 > I would like to consolidate my existing student and auto loans into one, lower APR one to simplify my monthly payments.<br>                                                                                                                                                                                                                                                                                                                                                                                                                                                                                                                                                                                                                                                                                                                                                                                                                                     1\n",
       "  Borrower added on 03/29/13 > I plan to use the funds to pay off high interest credit card and have some funds for emergencies.  I have worked at the same position for over 9 years.<br>                                                                                                                                                                                                                                                                                                                                                                                                                                                                                                                                                                                                                                                                                                                                                                                                     1\n",
       "  Borrower added on 06/16/13 > to pay off all credit cards <br>to get them to 1 monthly payment so we can pay off sooner and get out of debt.<br> also have work done to my truck<br>and finish some small landscaping project to improve home value<br><br> Borrower added on 06/16/13 > 1.to pay off all charge account credit cards<br>2. to have work done on my truck<br>3. to have some small landscaping projects finished to improve the value of our home<br>                                                                                                                                                                                                                                                                                                                                                                                                                                                                                                                         1\n",
       "  Borrower added on 01/10/13 > I would like to start the new year off and pay my bills<br>                                                                                                                                                                                                                                                                                                                                                                                                                                                                                                                                                                                                                                                                                                                                                                                                                                                                                                     1\n",
       "  Borrower added on 10/16/12 > I am a real estate investor. I have just recently purchased a property and I need money to do the repairs to the home.<br>                                                                                                                                                                                                                                                                                                                                                                                                                                                                                                                                                                                                                                                                                                                                                                                                                                      1\n",
       "  Borrower added on 01/18/13 > I want to see the finidh line for my debt<br>                                                                                                                                                                                                                                                                                                                                                                                                                                                                                                                                                                                                                                                                                                                                                                                                                                                                                                                   1\n",
       "  Borrower added on 09/21/12 > Refinance a high interest credit card and get it on a scheduled payment plan to help pay it off in a timely manner<br>                                                                                                                                                                                                                                                                                                                                                                                                                                                                                                                                                                                                                                                                                                                                                                                                                                          1\n",
       "Name: desc, dtype: int64"
      ]
     },
     "execution_count": 793,
     "metadata": {},
     "output_type": "execute_result"
    }
   ],
   "source": [
    "desc = applicants[\"desc\"]\n",
    "desc.value_counts()"
   ]
  },
  {
   "cell_type": "code",
   "execution_count": 794,
   "metadata": {},
   "outputs": [
    {
     "data": {
      "text/plain": [
       "count                                                 23380\n",
       "unique                                                23322\n",
       "top         Borrower added on 05/13/13 > Debt consolidat...\n",
       "freq                                                      3\n",
       "Name: desc, dtype: object"
      ]
     },
     "execution_count": 794,
     "metadata": {},
     "output_type": "execute_result"
    }
   ],
   "source": [
    "desc.describe()"
   ]
  },
  {
   "cell_type": "markdown",
   "metadata": {},
   "source": [
    "The description is defined to be a *loan description provided by the borrower*. Since it is a **text based description**, that informs the *purpose* of the loan, and essentially can take on an **infinite range of possible values**, and has a **large number of missing values** (over 116000 values are missing!), we can chose to **remove this feature from the dataset**.\n",
    "\n",
    "Although the description would be useful, the feature's correlation to the final classification is minimal in comparison to the issues that exist with it, as seen above."
   ]
  },
  {
   "cell_type": "code",
   "execution_count": 795,
   "metadata": {},
   "outputs": [
    {
     "data": {
      "text/html": [
       "<div>\n",
       "<table border=\"1\" class=\"dataframe\">\n",
       "  <thead>\n",
       "    <tr style=\"text-align: right;\">\n",
       "      <th></th>\n",
       "      <th>loan_amnt</th>\n",
       "      <th>term</th>\n",
       "      <th>int_rate</th>\n",
       "      <th>emp_length</th>\n",
       "      <th>home_ownership</th>\n",
       "      <th>annual_inc</th>\n",
       "      <th>purpose</th>\n",
       "      <th>percent_bc_gt_75</th>\n",
       "      <th>bc_util</th>\n",
       "      <th>dti</th>\n",
       "      <th>inq_last_6mths</th>\n",
       "      <th>mths_since_recent_inq</th>\n",
       "      <th>revol_util</th>\n",
       "      <th>total_bc_limit</th>\n",
       "      <th>total_pymnt</th>\n",
       "      <th>mths_since_last_major_derog</th>\n",
       "      <th>tot_hi_cred_lim</th>\n",
       "      <th>tot_cur_bal</th>\n",
       "      <th>lowRiskApprove</th>\n",
       "    </tr>\n",
       "  </thead>\n",
       "  <tbody>\n",
       "    <tr>\n",
       "      <th>3</th>\n",
       "      <td>28000</td>\n",
       "      <td>0</td>\n",
       "      <td>7.62</td>\n",
       "      <td>6</td>\n",
       "      <td>4</td>\n",
       "      <td>325000.0</td>\n",
       "      <td>debt_consolidation</td>\n",
       "      <td>16.7</td>\n",
       "      <td>67.1</td>\n",
       "      <td>18.55</td>\n",
       "      <td>1.0</td>\n",
       "      <td>3.0</td>\n",
       "      <td>54.6%</td>\n",
       "      <td>42200.0</td>\n",
       "      <td>29150.980000</td>\n",
       "      <td>NaN</td>\n",
       "      <td>38014.149757</td>\n",
       "      <td>799592.0</td>\n",
       "      <td>1</td>\n",
       "    </tr>\n",
       "    <tr>\n",
       "      <th>10</th>\n",
       "      <td>15000</td>\n",
       "      <td>0</td>\n",
       "      <td>14.47</td>\n",
       "      <td>11</td>\n",
       "      <td>3</td>\n",
       "      <td>98000.0</td>\n",
       "      <td>debt_consolidation</td>\n",
       "      <td>7.7</td>\n",
       "      <td>27.6</td>\n",
       "      <td>6.15</td>\n",
       "      <td>2.0</td>\n",
       "      <td>2.0</td>\n",
       "      <td>22.3%</td>\n",
       "      <td>20800.0</td>\n",
       "      <td>15699.030000</td>\n",
       "      <td>NaN</td>\n",
       "      <td>19643.159526</td>\n",
       "      <td>13038.0</td>\n",
       "      <td>1</td>\n",
       "    </tr>\n",
       "    <tr>\n",
       "      <th>15</th>\n",
       "      <td>3000</td>\n",
       "      <td>0</td>\n",
       "      <td>12.85</td>\n",
       "      <td>11</td>\n",
       "      <td>3</td>\n",
       "      <td>25000.0</td>\n",
       "      <td>debt_consolidation</td>\n",
       "      <td>66.7</td>\n",
       "      <td>52.3</td>\n",
       "      <td>24.68</td>\n",
       "      <td>0.0</td>\n",
       "      <td>8.0</td>\n",
       "      <td>54.2%</td>\n",
       "      <td>4300.0</td>\n",
       "      <td>3181.532981</td>\n",
       "      <td>69.0</td>\n",
       "      <td>4490.698410</td>\n",
       "      <td>19530.0</td>\n",
       "      <td>1</td>\n",
       "    </tr>\n",
       "  </tbody>\n",
       "</table>\n",
       "</div>"
      ],
      "text/plain": [
       "    loan_amnt term int_rate emp_length home_ownership  annual_inc  \\\n",
       "3       28000    0     7.62          6              4    325000.0   \n",
       "10      15000    0    14.47         11              3     98000.0   \n",
       "15       3000    0    12.85         11              3     25000.0   \n",
       "\n",
       "               purpose  percent_bc_gt_75  bc_util    dti  inq_last_6mths  \\\n",
       "3   debt_consolidation              16.7     67.1  18.55             1.0   \n",
       "10  debt_consolidation               7.7     27.6   6.15             2.0   \n",
       "15  debt_consolidation              66.7     52.3  24.68             0.0   \n",
       "\n",
       "    mths_since_recent_inq revol_util  total_bc_limit   total_pymnt  \\\n",
       "3                     3.0      54.6%         42200.0  29150.980000   \n",
       "10                    2.0      22.3%         20800.0  15699.030000   \n",
       "15                    8.0      54.2%          4300.0   3181.532981   \n",
       "\n",
       "    mths_since_last_major_derog  tot_hi_cred_lim  tot_cur_bal  lowRiskApprove  \n",
       "3                           NaN     38014.149757     799592.0               1  \n",
       "10                          NaN     19643.159526      13038.0               1  \n",
       "15                         69.0      4490.698410      19530.0               1  "
      ]
     },
     "execution_count": 795,
     "metadata": {},
     "output_type": "execute_result"
    }
   ],
   "source": [
    "applicants.drop(\"desc\", axis = 1, inplace = True)\n",
    "applicants.head(3)"
   ]
  },
  {
   "cell_type": "markdown",
   "metadata": {},
   "source": [
    "### Purpose\n"
   ]
  },
  {
   "cell_type": "code",
   "execution_count": 796,
   "metadata": {},
   "outputs": [
    {
     "data": {
      "text/plain": [
       "debt_consolidation    28724\n",
       "credit_card            9178\n",
       "other                  2710\n",
       "home_improvement       2683\n",
       "major_purchase         1030\n",
       "small_business         1025\n",
       "car                     613\n",
       "medical                 499\n",
       "wedding                 456\n",
       "house                   414\n",
       "moving                  350\n",
       "vacation                284\n",
       "renewable_energy         41\n",
       "Name: purpose, dtype: int64"
      ]
     },
     "execution_count": 796,
     "metadata": {},
     "output_type": "execute_result"
    }
   ],
   "source": [
    "purpose = applicants[\"purpose\"]\n",
    "purpose.value_counts()"
   ]
  },
  {
   "cell_type": "code",
   "execution_count": 797,
   "metadata": {},
   "outputs": [
    {
     "data": {
      "text/plain": [
       "count                  48007\n",
       "unique                    13\n",
       "top       debt_consolidation\n",
       "freq                   28724\n",
       "Name: purpose, dtype: object"
      ]
     },
     "execution_count": 797,
     "metadata": {},
     "output_type": "execute_result"
    }
   ],
   "source": [
    "purpose.describe()"
   ]
  },
  {
   "cell_type": "markdown",
   "metadata": {},
   "source": [
    "With a clear majority in terms of loan purpose (debt consolidation consists of over 55% of values), and a small number of missing values (9664), we can easily impute the values with the mode category.\n",
    "\n",
    "Noticing that the values are categorical, we can then convert them to numerical features using a simple mapping shown below:\n",
    "\n",
    "0 - renewable_energy\n",
    "\n",
    "1 - vacation\n",
    "\n",
    "2 - moving\n",
    "\n",
    "3 - house\n",
    "\n",
    "4 - wedding\n",
    "\n",
    "5 - medical\n",
    "\n",
    "6 - car\n",
    "\n",
    "7 - small_business\n",
    "\n",
    "8 - major_purchase\n",
    "\n",
    "9 - other\n",
    "\n",
    "10 - home_improvement\n",
    "\n",
    "11 - credit_card\n",
    "\n",
    "12 - debt_consolidation\n",
    "\n",
    "This is definitely a large number of categories (can lead/make the eventual model more prone to overfitting), so we can further group them into larger buckets (i.e. Other, Personal Purchases, Health, Energy, Business etc.) if necessary! We'll come back to this after having cleaned up the remaining data."
   ]
  },
  {
   "cell_type": "code",
   "execution_count": 798,
   "metadata": {},
   "outputs": [
    {
     "data": {
      "text/plain": [
       "count                  57671\n",
       "unique                    13\n",
       "top       debt_consolidation\n",
       "freq                   38388\n",
       "Name: purpose, dtype: object"
      ]
     },
     "execution_count": 798,
     "metadata": {},
     "output_type": "execute_result"
    }
   ],
   "source": [
    "# Fill in missing values\n",
    "purpose.fillna(\"debt_consolidation\", inplace = True)\n",
    "purpose.describe()"
   ]
  },
  {
   "cell_type": "code",
   "execution_count": 799,
   "metadata": {},
   "outputs": [
    {
     "data": {
      "text/plain": [
       "12    38388\n",
       "11     9178\n",
       "9      2710\n",
       "10     2683\n",
       "8      1030\n",
       "7      1025\n",
       "6       613\n",
       "5       499\n",
       "4       456\n",
       "3       414\n",
       "2       350\n",
       "1       284\n",
       "0        41\n",
       "Name: purpose, dtype: int64"
      ]
     },
     "execution_count": 799,
     "metadata": {},
     "output_type": "execute_result"
    }
   ],
   "source": [
    "# Conver to numerical\n",
    "purpose[purpose == \"renewable_energy\"] = 0\n",
    "purpose[purpose == \"vacation\"] = 1\n",
    "purpose[purpose == \"moving\"] = 2\n",
    "purpose[purpose == \"house\"] = 3\n",
    "purpose[purpose == \"wedding\"] = 4\n",
    "purpose[purpose == \"medical\"] = 5\n",
    "purpose[purpose == \"car\"] = 6\n",
    "purpose[purpose == \"small_business\"] = 7\n",
    "purpose[purpose == \"major_purchase\"] = 8\n",
    "purpose[purpose == \"other\"] = 9\n",
    "purpose[purpose == \"home_improvement\"] = 10\n",
    "purpose[purpose == \"credit_card\"] = 11\n",
    "purpose[purpose == \"debt_consolidation\"] = 12\n",
    "\n",
    "purpose.value_counts()"
   ]
  },
  {
   "cell_type": "markdown",
   "metadata": {},
   "source": [
    "### Percentage of Bank Card Accounts > 75% of Limit\n",
    "\n",
    "Definition - Percentage of all bankcard accounts > 75% of limit."
   ]
  },
  {
   "cell_type": "code",
   "execution_count": 800,
   "metadata": {},
   "outputs": [
    {
     "data": {
      "text/plain": [
       "100.00    9473\n",
       "0.00      7313\n",
       "50.00     5238\n",
       "66.70     3599\n",
       "33.30     2857\n",
       "75.00     2343\n",
       "25.00     1752\n",
       "60.00     1362\n",
       "80.00     1357\n",
       "40.00     1354\n",
       "20.00     1048\n",
       "83.30      656\n",
       "16.70      640\n",
       "42.90      477\n",
       "28.60      407\n",
       "14.30      401\n",
       "57.10      399\n",
       "85.70      354\n",
       "71.40      346\n",
       "37.50      247\n",
       "12.50      245\n",
       "62.50      211\n",
       "11.10      151\n",
       "87.50      136\n",
       "44.40      132\n",
       "22.20      121\n",
       "55.60      105\n",
       "10.00       94\n",
       "88.90       74\n",
       "30.00       71\n",
       "          ... \n",
       "6.20         3\n",
       "0.67         3\n",
       "93.30        3\n",
       "0.50         3\n",
       "43.70        3\n",
       "46.70        2\n",
       "92.90        2\n",
       "11.80        2\n",
       "17.60        2\n",
       "78.60        2\n",
       "5.60         2\n",
       "84.20        1\n",
       "31.20        1\n",
       "52.90        1\n",
       "73.70        1\n",
       "5.00         1\n",
       "0.38         1\n",
       "31.60        1\n",
       "0.33         1\n",
       "94.10        1\n",
       "21.10        1\n",
       "53.30        1\n",
       "9.50         1\n",
       "36.80        1\n",
       "56.20        1\n",
       "5.30         1\n",
       "10.50        1\n",
       "68.70        1\n",
       "0.60         1\n",
       "93.70        1\n",
       "Name: percent_bc_gt_75, dtype: int64"
      ]
     },
     "execution_count": 800,
     "metadata": {},
     "output_type": "execute_result"
    }
   ],
   "source": [
    "percentGreaterThanLimit = applicants[\"percent_bc_gt_75\"]\n",
    "percentGreaterThanLimit.value_counts()"
   ]
  },
  {
   "cell_type": "code",
   "execution_count": 801,
   "metadata": {},
   "outputs": [
    {
     "data": {
      "text/plain": [
       "count    43669.000000\n",
       "mean        52.813449\n",
       "std         34.855753\n",
       "min          0.000000\n",
       "25%         25.000000\n",
       "50%         50.000000\n",
       "75%         80.000000\n",
       "max        100.000000\n",
       "Name: percent_bc_gt_75, dtype: float64"
      ]
     },
     "execution_count": 801,
     "metadata": {},
     "output_type": "execute_result"
    }
   ],
   "source": [
    "percentGreaterThanLimit.describe()"
   ]
  },
  {
   "cell_type": "markdown",
   "metadata": {},
   "source": [
    "Since there's a continuous distribution of re-occuring values (no clear majority), and the mean/median are relatively close to each other (minimal skew), we can impute the missing values using the mean! Let's do this:"
   ]
  },
  {
   "cell_type": "code",
   "execution_count": 802,
   "metadata": {},
   "outputs": [
    {
     "data": {
      "text/plain": [
       "count    57671.000000\n",
       "mean        52.813449\n",
       "std         30.330610\n",
       "min          0.000000\n",
       "25%         33.300000\n",
       "50%         52.813449\n",
       "75%         75.000000\n",
       "max        100.000000\n",
       "Name: percent_bc_gt_75, dtype: float64"
      ]
     },
     "execution_count": 802,
     "metadata": {},
     "output_type": "execute_result"
    }
   ],
   "source": [
    "# Fill in missing values\n",
    "percentGreaterThanLimit.fillna(percentGreaterThanLimit.mean(), inplace = True)\n",
    "percentGreaterThanLimit.describe()"
   ]
  },
  {
   "cell_type": "markdown",
   "metadata": {},
   "source": [
    "### Current Balance Ratio\n",
    "\n",
    "Definition - Ratio of total current balance to high credit/credit limit for all bankcard accounts."
   ]
  },
  {
   "cell_type": "code",
   "execution_count": 803,
   "metadata": {},
   "outputs": [
    {
     "data": {
      "text/plain": [
       "0.0      524\n",
       "98.2     129\n",
       "97.9     125\n",
       "98.6     125\n",
       "95.8     124\n",
       "98.0     123\n",
       "97.0     120\n",
       "97.7     119\n",
       "97.4     119\n",
       "98.8     116\n",
       "98.3     115\n",
       "97.5     114\n",
       "94.2     112\n",
       "99.0     112\n",
       "94.8     112\n",
       "93.7     110\n",
       "97.2     110\n",
       "97.1     110\n",
       "95.9     109\n",
       "96.7     109\n",
       "97.3     109\n",
       "96.5     108\n",
       "96.8     108\n",
       "96.1     108\n",
       "95.6     106\n",
       "98.7     106\n",
       "97.6     105\n",
       "94.4     105\n",
       "98.9     104\n",
       "97.8     104\n",
       "        ... \n",
       "114.0      1\n",
       "108.8      1\n",
       "126.8      1\n",
       "108.3      1\n",
       "111.0      1\n",
       "107.5      1\n",
       "112.6      1\n",
       "112.0      1\n",
       "110.5      1\n",
       "117.6      1\n",
       "117.0      1\n",
       "339.6      1\n",
       "107.6      1\n",
       "105.0      1\n",
       "165.7      1\n",
       "119.4      1\n",
       "120.4      1\n",
       "116.3      1\n",
       "113.0      1\n",
       "113.9      1\n",
       "103.9      1\n",
       "113.6      1\n",
       "113.1      1\n",
       "105.5      1\n",
       "106.0      1\n",
       "114.6      1\n",
       "112.5      1\n",
       "115.5      1\n",
       "119.1      1\n",
       "116.4      1\n",
       "Name: bc_util, dtype: int64"
      ]
     },
     "execution_count": 803,
     "metadata": {},
     "output_type": "execute_result"
    }
   ],
   "source": [
    "ratioBal = applicants[\"bc_util\"]\n",
    "ratioBal.value_counts()"
   ]
  },
  {
   "cell_type": "code",
   "execution_count": 804,
   "metadata": {},
   "outputs": [
    {
     "data": {
      "text/plain": [
       "count    43634.000000\n",
       "mean        65.529200\n",
       "std         27.761493\n",
       "min          0.000000\n",
       "25%         46.800000\n",
       "50%         71.400000\n",
       "75%         89.500000\n",
       "max        339.600000\n",
       "Name: bc_util, dtype: float64"
      ]
     },
     "execution_count": 804,
     "metadata": {},
     "output_type": "execute_result"
    }
   ],
   "source": [
    "ratioBal.describe()"
   ]
  },
  {
   "cell_type": "markdown",
   "metadata": {},
   "source": [
    "Applying the same philosophy as above, we can impute the missing values in the following manner:"
   ]
  },
  {
   "cell_type": "code",
   "execution_count": 805,
   "metadata": {},
   "outputs": [
    {
     "data": {
      "text/plain": [
       "count    57671.000000\n",
       "mean        65.529200\n",
       "std         24.147679\n",
       "min          0.000000\n",
       "25%         55.800000\n",
       "50%         65.529200\n",
       "75%         84.300000\n",
       "max        339.600000\n",
       "Name: bc_util, dtype: float64"
      ]
     },
     "execution_count": 805,
     "metadata": {},
     "output_type": "execute_result"
    }
   ],
   "source": [
    "# Fill in missing values\n",
    "ratioBal.fillna(ratioBal.mean(), inplace = True)\n",
    "ratioBal.describe()"
   ]
  },
  {
   "cell_type": "markdown",
   "metadata": {},
   "source": [
    "### Debt Obligation Ratio\n",
    "\n",
    "Definition - A ratio calculated using the borrower's total monthly debt payments on the total debt obligations, excluding mortgage and the requested LC loan, divided by the borrower's self-reported monthly income."
   ]
  },
  {
   "cell_type": "code",
   "execution_count": 806,
   "metadata": {},
   "outputs": [
    {
     "data": {
      "text/plain": [
       "14.40    55\n",
       "16.80    42\n",
       "15.60    37\n",
       "20.40    37\n",
       "15.87    36\n",
       "15.79    36\n",
       "13.89    36\n",
       "21.60    36\n",
       "18.00    35\n",
       "11.18    35\n",
       "15.12    35\n",
       "17.33    35\n",
       "17.04    35\n",
       "14.64    35\n",
       "16.22    35\n",
       "15.26    35\n",
       "24.00    34\n",
       "12.72    34\n",
       "10.80    34\n",
       "17.22    34\n",
       "13.40    34\n",
       "14.80    34\n",
       "13.95    34\n",
       "18.93    34\n",
       "11.04    33\n",
       "17.72    33\n",
       "15.33    33\n",
       "14.11    33\n",
       "11.76    33\n",
       "18.60    33\n",
       "         ..\n",
       "33.58     1\n",
       "33.98     1\n",
       "31.73     1\n",
       "30.01     1\n",
       "32.42     1\n",
       "0.79      1\n",
       "0.05      1\n",
       "0.41      1\n",
       "33.87     1\n",
       "33.13     1\n",
       "0.51      1\n",
       "0.35      1\n",
       "0.18      1\n",
       "34.04     1\n",
       "31.97     1\n",
       "0.23      1\n",
       "0.29      1\n",
       "32.27     1\n",
       "34.14     1\n",
       "34.91     1\n",
       "33.94     1\n",
       "33.61     1\n",
       "29.99     1\n",
       "34.81     1\n",
       "33.25     1\n",
       "34.66     1\n",
       "33.44     1\n",
       "28.79     1\n",
       "0.34      1\n",
       "34.63     1\n",
       "Name: dti, dtype: int64"
      ]
     },
     "execution_count": 806,
     "metadata": {},
     "output_type": "execute_result"
    }
   ],
   "source": [
    "debtObgRatio = applicants[\"dti\"]\n",
    "debtObgRatio.value_counts()"
   ]
  },
  {
   "cell_type": "code",
   "execution_count": 807,
   "metadata": {},
   "outputs": [
    {
     "data": {
      "text/plain": [
       "count    48007.000000\n",
       "mean        16.527195\n",
       "std          7.621150\n",
       "min          0.000000\n",
       "25%         10.820000\n",
       "50%         16.250000\n",
       "75%         22.010000\n",
       "max         34.990000\n",
       "Name: dti, dtype: float64"
      ]
     },
     "execution_count": 807,
     "metadata": {},
     "output_type": "execute_result"
    }
   ],
   "source": [
    "debtObgRatio.describe()"
   ]
  },
  {
   "cell_type": "markdown",
   "metadata": {},
   "source": [
    "Repeating the process of how we deal with purely numerical features that are missing values:"
   ]
  },
  {
   "cell_type": "code",
   "execution_count": 808,
   "metadata": {},
   "outputs": [
    {
     "data": {
      "text/plain": [
       "count    57671.000000\n",
       "mean        16.527195\n",
       "std          6.953338\n",
       "min          0.000000\n",
       "25%         11.980000\n",
       "50%         16.527195\n",
       "75%         20.720000\n",
       "max         34.990000\n",
       "Name: dti, dtype: float64"
      ]
     },
     "execution_count": 808,
     "metadata": {},
     "output_type": "execute_result"
    }
   ],
   "source": [
    "debtObgRatio.fillna(debtObgRatio.mean(), inplace = True)\n",
    "debtObgRatio.describe()"
   ]
  },
  {
   "cell_type": "markdown",
   "metadata": {},
   "source": [
    "### Inquiries in Past 6 Months"
   ]
  },
  {
   "cell_type": "code",
   "execution_count": 809,
   "metadata": {},
   "outputs": [
    {
     "data": {
      "text/plain": [
       "0.0    21382\n",
       "1.0    14313\n",
       "2.0     7547\n",
       "3.0     3687\n",
       "4.0      685\n",
       "5.0      263\n",
       "6.0      116\n",
       "7.0        8\n",
       "8.0        6\n",
       "Name: inq_last_6mths, dtype: int64"
      ]
     },
     "execution_count": 809,
     "metadata": {},
     "output_type": "execute_result"
    }
   ],
   "source": [
    "inq6Months = applicants[\"inq_last_6mths\"]\n",
    "inq6Months.value_counts()"
   ]
  },
  {
   "cell_type": "code",
   "execution_count": 810,
   "metadata": {},
   "outputs": [
    {
     "data": {
      "text/plain": [
       "count    48007.000000\n",
       "mean         0.944091\n",
       "std          1.093301\n",
       "min          0.000000\n",
       "25%          0.000000\n",
       "50%          1.000000\n",
       "75%          2.000000\n",
       "max          8.000000\n",
       "Name: inq_last_6mths, dtype: float64"
      ]
     },
     "execution_count": 810,
     "metadata": {},
     "output_type": "execute_result"
    }
   ],
   "source": [
    "inq6Months.describe()"
   ]
  },
  {
   "cell_type": "markdown",
   "metadata": {},
   "source": [
    "Having a fixed set of categories, we can replace the missing values by following the distribution in data. Notice that 0, 1, 2 and 3 tend to be the most common answers, with each one almost twice as present/frequent as the previous category. We can impute the 9664 missing values using a similar distribution:\n",
    "\n",
    "0 - 500 missing values\n",
    "\n",
    "1 - 1000 missing values\n",
    "\n",
    "2 - 2000 missing values\n",
    "\n",
    "3 - 6164 remaining values"
   ]
  },
  {
   "cell_type": "code",
   "execution_count": 811,
   "metadata": {},
   "outputs": [
    {
     "data": {
      "text/plain": [
       "0.0    21882\n",
       "1.0    15313\n",
       "3.0     9851\n",
       "2.0     9547\n",
       "4.0      685\n",
       "5.0      263\n",
       "6.0      116\n",
       "7.0        8\n",
       "8.0        6\n",
       "Name: inq_last_6mths, dtype: int64"
      ]
     },
     "execution_count": 811,
     "metadata": {},
     "output_type": "execute_result"
    }
   ],
   "source": [
    "# Fill in missing values\n",
    "inq6Months.fillna(0, limit = 500, inplace = True)\n",
    "inq6Months.fillna(1, limit = 1000, inplace = True)\n",
    "inq6Months.fillna(2, limit = 2000, inplace = True)\n",
    "inq6Months.fillna(3, inplace = True)\n",
    "\n",
    "inq6Months.value_counts()"
   ]
  },
  {
   "cell_type": "code",
   "execution_count": 812,
   "metadata": {},
   "outputs": [
    {
     "data": {
      "text/plain": [
       "count    57671.000000\n",
       "mean         1.193234\n",
       "std          1.196308\n",
       "min          0.000000\n",
       "25%          0.000000\n",
       "50%          1.000000\n",
       "75%          2.000000\n",
       "max          8.000000\n",
       "Name: inq_last_6mths, dtype: float64"
      ]
     },
     "execution_count": 812,
     "metadata": {},
     "output_type": "execute_result"
    }
   ],
   "source": [
    "inq6Months.describe()"
   ]
  },
  {
   "cell_type": "markdown",
   "metadata": {},
   "source": [
    "### Months Since Most Recent Inquiry"
   ]
  },
  {
   "cell_type": "code",
   "execution_count": 813,
   "metadata": {},
   "outputs": [
    {
     "data": {
      "text/plain": [
       "1.0     5078\n",
       "0.0     4281\n",
       "2.0     3860\n",
       "3.0     3341\n",
       "4.0     2971\n",
       "5.0     2657\n",
       "6.0     2376\n",
       "7.0     2219\n",
       "8.0     1975\n",
       "9.0     1680\n",
       "10.0    1443\n",
       "11.0    1252\n",
       "12.0    1138\n",
       "13.0     928\n",
       "14.0     849\n",
       "15.0     724\n",
       "16.0     567\n",
       "17.0     520\n",
       "18.0     517\n",
       "19.0     404\n",
       "20.0     372\n",
       "21.0     322\n",
       "22.0     322\n",
       "23.0     274\n",
       "24.0     143\n",
       "Name: mths_since_recent_inq, dtype: int64"
      ]
     },
     "execution_count": 813,
     "metadata": {},
     "output_type": "execute_result"
    }
   ],
   "source": [
    "mostRecInq = applicants[\"mths_since_recent_inq\"]\n",
    "mostRecInq.value_counts()"
   ]
  },
  {
   "cell_type": "code",
   "execution_count": 814,
   "metadata": {},
   "outputs": [
    {
     "data": {
      "text/plain": [
       "count    40213.000000\n",
       "mean         6.248750\n",
       "std          5.641153\n",
       "min          0.000000\n",
       "25%          2.000000\n",
       "50%          5.000000\n",
       "75%          9.000000\n",
       "max         24.000000\n",
       "Name: mths_since_recent_inq, dtype: float64"
      ]
     },
     "execution_count": 814,
     "metadata": {},
     "output_type": "execute_result"
    }
   ],
   "source": [
    "mostRecInq.describe()"
   ]
  },
  {
   "cell_type": "markdown",
   "metadata": {},
   "source": [
    "There are roughly 37,524 missing values in this category, which is sizeably more than previous features. These can be filled out in a similar way to what's been done before, by following the existing distribution in the data. Notice that the first 6 categories dominate in terms of frequency. We can fill out the missing values using the same distirbution:\n",
    "\n",
    "5 - 4000 missing values\n",
    "\n",
    "4 - 5000 missing values\n",
    "\n",
    "3 - 6000 missing values\n",
    "\n",
    "2 - 7000 missing values\n",
    "\n",
    "0 - 7000 missing values\n",
    "\n",
    "1 - remaining 8524 missing values\n",
    "\n",
    "Let's do this:"
   ]
  },
  {
   "cell_type": "code",
   "execution_count": 815,
   "metadata": {},
   "outputs": [
    {
     "data": {
      "text/plain": [
       "3.0     9341\n",
       "4.0     7971\n",
       "5.0     6657\n",
       "2.0     6318\n",
       "1.0     5078\n",
       "0.0     4281\n",
       "6.0     2376\n",
       "7.0     2219\n",
       "8.0     1975\n",
       "9.0     1680\n",
       "10.0    1443\n",
       "11.0    1252\n",
       "12.0    1138\n",
       "13.0     928\n",
       "14.0     849\n",
       "15.0     724\n",
       "16.0     567\n",
       "17.0     520\n",
       "18.0     517\n",
       "19.0     404\n",
       "20.0     372\n",
       "21.0     322\n",
       "22.0     322\n",
       "23.0     274\n",
       "24.0     143\n",
       "Name: mths_since_recent_inq, dtype: int64"
      ]
     },
     "execution_count": 815,
     "metadata": {},
     "output_type": "execute_result"
    }
   ],
   "source": [
    "# Fill in missing values\n",
    "mostRecInq.fillna(5, limit = 4000, inplace = True)\n",
    "mostRecInq.fillna(4, limit = 5000, inplace = True)\n",
    "mostRecInq.fillna(3, limit = 6000, inplace = True)\n",
    "mostRecInq.fillna(2, limit = 7000, inplace = True)\n",
    "mostRecInq.fillna(0, limit = 7000, inplace = True)\n",
    "mostRecInq.fillna(1, inplace = True)\n",
    "\n",
    "mostRecInq.value_counts()"
   ]
  },
  {
   "cell_type": "code",
   "execution_count": 816,
   "metadata": {},
   "outputs": [
    {
     "data": {
      "text/plain": [
       "count    57671.000000\n",
       "mean         5.448093\n",
       "std          4.895121\n",
       "min          0.000000\n",
       "25%          2.000000\n",
       "50%          4.000000\n",
       "75%          7.000000\n",
       "max         24.000000\n",
       "Name: mths_since_recent_inq, dtype: float64"
      ]
     },
     "execution_count": 816,
     "metadata": {},
     "output_type": "execute_result"
    }
   ],
   "source": [
    "mostRecInq.describe()"
   ]
  },
  {
   "cell_type": "markdown",
   "metadata": {},
   "source": [
    "### Revolving Line Utilization Rate\n",
    "\n",
    "Definition - The amount of credit the borrower is using relative to all available revolving credit."
   ]
  },
  {
   "cell_type": "code",
   "execution_count": 817,
   "metadata": {},
   "outputs": [
    {
     "data": {
      "text/plain": [
       "0%        256\n",
       "70.8%      98\n",
       "68.2%      95\n",
       "67.9%      94\n",
       "55.5%      93\n",
       "63.7%      92\n",
       "62.6%      89\n",
       "58%        89\n",
       "66.5%      88\n",
       "59.5%      87\n",
       "67.4%      87\n",
       "76.9%      87\n",
       "67.5%      86\n",
       "75.2%      86\n",
       "67.1%      86\n",
       "57.5%      85\n",
       "68.9%      84\n",
       "61.6%      84\n",
       "61.3%      84\n",
       "62.7%      83\n",
       "62.9%      83\n",
       "64.5%      83\n",
       "61.5%      83\n",
       "68.7%      83\n",
       "71.8%      81\n",
       "63.9%      81\n",
       "78.6%      81\n",
       "64.7%      81\n",
       "64%        81\n",
       "55.7%      81\n",
       "         ... \n",
       "101.1%      2\n",
       "103.3%      2\n",
       "102%        2\n",
       "102.4%      1\n",
       "120.2%      1\n",
       "103.7%      1\n",
       "104.4%      1\n",
       "102.5%      1\n",
       "100.4%      1\n",
       "106.1%      1\n",
       "101.3%      1\n",
       "103.1%      1\n",
       "101.7%      1\n",
       "103.5%      1\n",
       "109.1%      1\n",
       "103.4%      1\n",
       "101.4%      1\n",
       "102.2%      1\n",
       "112.7%      1\n",
       "102.7%      1\n",
       "115.3%      1\n",
       "100.3%      1\n",
       "104.5%      1\n",
       "102.6%      1\n",
       "107.7%      1\n",
       "107%        1\n",
       "112.9%      1\n",
       "101.6%      1\n",
       "104.9%      1\n",
       "128.1%      1\n",
       "Name: revol_util, dtype: int64"
      ]
     },
     "execution_count": 817,
     "metadata": {},
     "output_type": "execute_result"
    }
   ],
   "source": [
    "revolUtil = applicants[\"revol_util\"]\n",
    "revolUtil.value_counts()"
   ]
  },
  {
   "cell_type": "code",
   "execution_count": 818,
   "metadata": {},
   "outputs": [
    {
     "data": {
      "text/plain": [
       "count     47952\n",
       "unique     1040\n",
       "top          0%\n",
       "freq        256\n",
       "Name: revol_util, dtype: object"
      ]
     },
     "execution_count": 818,
     "metadata": {},
     "output_type": "execute_result"
    }
   ],
   "source": [
    "revolUtil.describe()"
   ]
  },
  {
   "cell_type": "markdown",
   "metadata": {},
   "source": [
    "Applying the same set of steps that we did during the Interest Rate feature, we first need to remove the percentage symbols, and ensure the feature is numerical. Then, utilize the mean (since there's no defining, common utilization rate) and fill in the missing values."
   ]
  },
  {
   "cell_type": "code",
   "execution_count": 819,
   "metadata": {},
   "outputs": [],
   "source": [
    "# Convert to numerical values\n",
    "revolUtil[revolUtil.str.contains(\"%\").fillna(False)] = revolUtil.str.replace(\"%\", \"\")\n",
    "revolUtil[revolUtil.str.contains(\" \").fillna(False)] = revolUtil.str.replace(\" \", \"\")\n",
    "revolUtil = revolUtil.astype(float)"
   ]
  },
  {
   "cell_type": "code",
   "execution_count": 820,
   "metadata": {},
   "outputs": [
    {
     "data": {
      "text/plain": [
       "count    47952.000000\n",
       "mean        57.049064\n",
       "std         24.222142\n",
       "min          0.000000\n",
       "25%         40.300000\n",
       "50%         59.500000\n",
       "75%         76.300000\n",
       "max        128.100000\n",
       "Name: revol_util, dtype: float64"
      ]
     },
     "execution_count": 820,
     "metadata": {},
     "output_type": "execute_result"
    }
   ],
   "source": [
    "revolUtil.describe()"
   ]
  },
  {
   "cell_type": "code",
   "execution_count": 821,
   "metadata": {},
   "outputs": [
    {
     "data": {
      "text/plain": [
       "count    57671.000000\n",
       "mean        57.049064\n",
       "std         22.086984\n",
       "min          0.000000\n",
       "25%         44.700000\n",
       "50%         57.049064\n",
       "75%         72.700000\n",
       "max        128.100000\n",
       "Name: revol_util, dtype: float64"
      ]
     },
     "execution_count": 821,
     "metadata": {},
     "output_type": "execute_result"
    }
   ],
   "source": [
    "# Fill in missing values with mean\n",
    "revolUtil.fillna(revolUtil.mean(), inplace = True)\n",
    "revolUtil.describe()"
   ]
  },
  {
   "cell_type": "code",
   "execution_count": 822,
   "metadata": {},
   "outputs": [
    {
     "data": {
      "text/html": [
       "<div>\n",
       "<table border=\"1\" class=\"dataframe\">\n",
       "  <thead>\n",
       "    <tr style=\"text-align: right;\">\n",
       "      <th></th>\n",
       "      <th>loan_amnt</th>\n",
       "      <th>term</th>\n",
       "      <th>int_rate</th>\n",
       "      <th>emp_length</th>\n",
       "      <th>home_ownership</th>\n",
       "      <th>annual_inc</th>\n",
       "      <th>purpose</th>\n",
       "      <th>percent_bc_gt_75</th>\n",
       "      <th>bc_util</th>\n",
       "      <th>dti</th>\n",
       "      <th>inq_last_6mths</th>\n",
       "      <th>mths_since_recent_inq</th>\n",
       "      <th>revol_util</th>\n",
       "      <th>total_bc_limit</th>\n",
       "      <th>total_pymnt</th>\n",
       "      <th>mths_since_last_major_derog</th>\n",
       "      <th>tot_hi_cred_lim</th>\n",
       "      <th>tot_cur_bal</th>\n",
       "      <th>lowRiskApprove</th>\n",
       "    </tr>\n",
       "  </thead>\n",
       "  <tbody>\n",
       "    <tr>\n",
       "      <th>3</th>\n",
       "      <td>28000</td>\n",
       "      <td>0</td>\n",
       "      <td>7.62</td>\n",
       "      <td>6</td>\n",
       "      <td>4</td>\n",
       "      <td>325000.0</td>\n",
       "      <td>12</td>\n",
       "      <td>16.7</td>\n",
       "      <td>67.1</td>\n",
       "      <td>18.55</td>\n",
       "      <td>1.0</td>\n",
       "      <td>3.0</td>\n",
       "      <td>54.6</td>\n",
       "      <td>42200.0</td>\n",
       "      <td>29150.980000</td>\n",
       "      <td>NaN</td>\n",
       "      <td>38014.149757</td>\n",
       "      <td>799592.0</td>\n",
       "      <td>1</td>\n",
       "    </tr>\n",
       "    <tr>\n",
       "      <th>10</th>\n",
       "      <td>15000</td>\n",
       "      <td>0</td>\n",
       "      <td>14.47</td>\n",
       "      <td>11</td>\n",
       "      <td>3</td>\n",
       "      <td>98000.0</td>\n",
       "      <td>12</td>\n",
       "      <td>7.7</td>\n",
       "      <td>27.6</td>\n",
       "      <td>6.15</td>\n",
       "      <td>2.0</td>\n",
       "      <td>2.0</td>\n",
       "      <td>22.3</td>\n",
       "      <td>20800.0</td>\n",
       "      <td>15699.030000</td>\n",
       "      <td>NaN</td>\n",
       "      <td>19643.159526</td>\n",
       "      <td>13038.0</td>\n",
       "      <td>1</td>\n",
       "    </tr>\n",
       "    <tr>\n",
       "      <th>15</th>\n",
       "      <td>3000</td>\n",
       "      <td>0</td>\n",
       "      <td>12.85</td>\n",
       "      <td>11</td>\n",
       "      <td>3</td>\n",
       "      <td>25000.0</td>\n",
       "      <td>12</td>\n",
       "      <td>66.7</td>\n",
       "      <td>52.3</td>\n",
       "      <td>24.68</td>\n",
       "      <td>0.0</td>\n",
       "      <td>8.0</td>\n",
       "      <td>54.2</td>\n",
       "      <td>4300.0</td>\n",
       "      <td>3181.532981</td>\n",
       "      <td>69.0</td>\n",
       "      <td>4490.698410</td>\n",
       "      <td>19530.0</td>\n",
       "      <td>1</td>\n",
       "    </tr>\n",
       "  </tbody>\n",
       "</table>\n",
       "</div>"
      ],
      "text/plain": [
       "    loan_amnt term int_rate emp_length home_ownership  annual_inc purpose  \\\n",
       "3       28000    0     7.62          6              4    325000.0      12   \n",
       "10      15000    0    14.47         11              3     98000.0      12   \n",
       "15       3000    0    12.85         11              3     25000.0      12   \n",
       "\n",
       "    percent_bc_gt_75  bc_util    dti  inq_last_6mths  mths_since_recent_inq  \\\n",
       "3               16.7     67.1  18.55             1.0                    3.0   \n",
       "10               7.7     27.6   6.15             2.0                    2.0   \n",
       "15              66.7     52.3  24.68             0.0                    8.0   \n",
       "\n",
       "   revol_util  total_bc_limit   total_pymnt  mths_since_last_major_derog  \\\n",
       "3        54.6         42200.0  29150.980000                          NaN   \n",
       "10       22.3         20800.0  15699.030000                          NaN   \n",
       "15       54.2          4300.0   3181.532981                         69.0   \n",
       "\n",
       "    tot_hi_cred_lim  tot_cur_bal  lowRiskApprove  \n",
       "3      38014.149757     799592.0               1  \n",
       "10     19643.159526      13038.0               1  \n",
       "15      4490.698410      19530.0               1  "
      ]
     },
     "execution_count": 822,
     "metadata": {},
     "output_type": "execute_result"
    }
   ],
   "source": [
    "# Check how many features left\n",
    "applicants.head(3)"
   ]
  },
  {
   "cell_type": "markdown",
   "metadata": {},
   "source": [
    "### Total Bank Card Credit Limit"
   ]
  },
  {
   "cell_type": "code",
   "execution_count": 823,
   "metadata": {},
   "outputs": [
    {
     "data": {
      "text/plain": [
       "0.0         497\n",
       "5000.0      358\n",
       "7000.0      320\n",
       "6000.0      314\n",
       "7500.0      308\n",
       "4000.0      304\n",
       "6500.0      297\n",
       "3000.0      297\n",
       "8000.0      288\n",
       "10000.0     280\n",
       "4500.0      269\n",
       "9000.0      263\n",
       "8500.0      254\n",
       "5500.0      253\n",
       "3500.0      244\n",
       "11000.0     242\n",
       "2500.0      233\n",
       "2000.0      233\n",
       "6800.0      220\n",
       "10500.0     220\n",
       "9500.0      217\n",
       "12000.0     213\n",
       "12500.0     207\n",
       "4800.0      204\n",
       "7800.0      204\n",
       "8800.0      202\n",
       "8300.0      196\n",
       "7300.0      195\n",
       "11500.0     193\n",
       "15000.0     191\n",
       "           ... \n",
       "23099.0       1\n",
       "51636.0       1\n",
       "25515.0       1\n",
       "28422.0       1\n",
       "35287.0       1\n",
       "39384.0       1\n",
       "11824.0       1\n",
       "4355.0        1\n",
       "6656.0        1\n",
       "35326.0       1\n",
       "10787.0       1\n",
       "8652.0        1\n",
       "119799.0      1\n",
       "22808.0       1\n",
       "21755.0       1\n",
       "43509.0       1\n",
       "35314.0       1\n",
       "97600.0       1\n",
       "112400.0      1\n",
       "21749.0       1\n",
       "55785.0       1\n",
       "33053.0       1\n",
       "25753.0       1\n",
       "14551.0       1\n",
       "31690.0       1\n",
       "23795.0       1\n",
       "34420.0       1\n",
       "73440.0       1\n",
       "59868.0       1\n",
       "28005.0       1\n",
       "Name: total_bc_limit, dtype: int64"
      ]
     },
     "execution_count": 823,
     "metadata": {},
     "output_type": "execute_result"
    }
   ],
   "source": [
    "bankCredLimit = applicants[\"total_bc_limit\"]\n",
    "bankCredLimit.value_counts()"
   ]
  },
  {
   "cell_type": "code",
   "execution_count": 824,
   "metadata": {},
   "outputs": [
    {
     "data": {
      "text/plain": [
       "count     44166.000000\n",
       "mean      19307.550310\n",
       "std       18413.419211\n",
       "min           0.000000\n",
       "25%        7400.000000\n",
       "50%       14000.000000\n",
       "75%       25100.000000\n",
       "max      301720.000000\n",
       "Name: total_bc_limit, dtype: float64"
      ]
     },
     "execution_count": 824,
     "metadata": {},
     "output_type": "execute_result"
    }
   ],
   "source": [
    "bankCredLimit.describe()"
   ]
  },
  {
   "cell_type": "markdown",
   "metadata": {},
   "source": [
    "With a similar continuous range of values, let's fill in the missing values with the average credit limit. Note that this can be done in many ways, including looking at other features (i.e utilization and income), and creating a resulting **pivot table** to determine limit values. Since the percentage of values missing is relatively small however, the current method should suffice!"
   ]
  },
  {
   "cell_type": "code",
   "execution_count": 825,
   "metadata": {},
   "outputs": [
    {
     "data": {
      "text/plain": [
       "count     57671.000000\n",
       "mean      19307.550310\n",
       "std       16113.822758\n",
       "min           0.000000\n",
       "25%        9100.000000\n",
       "50%       19307.550310\n",
       "75%       20849.000000\n",
       "max      301720.000000\n",
       "Name: total_bc_limit, dtype: float64"
      ]
     },
     "execution_count": 825,
     "metadata": {},
     "output_type": "execute_result"
    }
   ],
   "source": [
    "# Fill in missing values\n",
    "bankCredLimit.fillna(bankCredLimit.mean(), inplace = True)\n",
    "bankCredLimit.describe()"
   ]
  },
  {
   "cell_type": "markdown",
   "metadata": {},
   "source": [
    "### Total Payment\n",
    "\n",
    "Definition - Payments received to date for total amount funded"
   ]
  },
  {
   "cell_type": "code",
   "execution_count": 826,
   "metadata": {},
   "outputs": [
    {
     "data": {
      "text/plain": [
       "0.000000        45\n",
       "13158.390000     4\n",
       "21084.080000     4\n",
       "12355.180000     4\n",
       "10216.000000     4\n",
       "13272.030000     3\n",
       "10827.600000     3\n",
       "2902.240000      3\n",
       "4657.170000      3\n",
       "10819.480000     3\n",
       "3125.420000      3\n",
       "4150.240000      3\n",
       "12530.560000     3\n",
       "4807.460000      3\n",
       "16530.520000     3\n",
       "3029.400000      3\n",
       "15082.750000     3\n",
       "19581.740000     3\n",
       "8835.130000      3\n",
       "1081.200000      3\n",
       "6836.440000      3\n",
       "7041.590000      3\n",
       "8146.790000      3\n",
       "11060.030000     3\n",
       "11030.580000     3\n",
       "13170.890000     3\n",
       "14294.680000     3\n",
       "6342.260000      3\n",
       "12482.400000     3\n",
       "15863.820000     3\n",
       "                ..\n",
       "6873.852813      1\n",
       "8570.973786      1\n",
       "25933.000000     1\n",
       "12373.036762     1\n",
       "4655.140000      1\n",
       "5960.970000      1\n",
       "6080.100000      1\n",
       "7475.760000      1\n",
       "9465.950000      1\n",
       "6761.620573      1\n",
       "15087.220000     1\n",
       "9250.110000      1\n",
       "11348.920000     1\n",
       "20477.350000     1\n",
       "18976.490000     1\n",
       "2405.430000      1\n",
       "17230.901194     1\n",
       "18071.543744     1\n",
       "22792.000000     1\n",
       "8464.120000      1\n",
       "16256.700000     1\n",
       "19245.770000     1\n",
       "5558.280000      1\n",
       "15289.495874     1\n",
       "10063.173208     1\n",
       "20853.710000     1\n",
       "4629.390000      1\n",
       "1856.180000      1\n",
       "20424.610000     1\n",
       "20596.471816     1\n",
       "Name: total_pymnt, dtype: int64"
      ]
     },
     "execution_count": 826,
     "metadata": {},
     "output_type": "execute_result"
    }
   ],
   "source": [
    "totalPayment = applicants[\"total_pymnt\"]\n",
    "totalPayment.value_counts()"
   ]
  },
  {
   "cell_type": "code",
   "execution_count": 827,
   "metadata": {},
   "outputs": [
    {
     "data": {
      "text/plain": [
       "count    48007.000000\n",
       "mean     12095.277216\n",
       "std       9111.939465\n",
       "min          0.000000\n",
       "25%       5141.750000\n",
       "50%      10090.739622\n",
       "75%      16870.268150\n",
       "max      50914.591249\n",
       "Name: total_pymnt, dtype: float64"
      ]
     },
     "execution_count": 827,
     "metadata": {},
     "output_type": "execute_result"
    }
   ],
   "source": [
    "totalPayment.describe()"
   ]
  },
  {
   "cell_type": "code",
   "execution_count": 828,
   "metadata": {},
   "outputs": [
    {
     "data": {
      "text/plain": [
       "count    57671.000000\n",
       "mean     12095.277216\n",
       "std       8313.494438\n",
       "min          0.000000\n",
       "25%       5958.834888\n",
       "50%      12095.277216\n",
       "75%      15172.297118\n",
       "max      50914.591249\n",
       "Name: total_pymnt, dtype: float64"
      ]
     },
     "execution_count": 828,
     "metadata": {},
     "output_type": "execute_result"
    }
   ],
   "source": [
    "# Fill in missing values with mean\n",
    "totalPayment.fillna(totalPayment.mean(), inplace = True)\n",
    "totalPayment.describe()"
   ]
  },
  {
   "cell_type": "markdown",
   "metadata": {},
   "source": [
    "### Months Since Last Major 90-Day or Worse Rating"
   ]
  },
  {
   "cell_type": "code",
   "execution_count": 829,
   "metadata": {},
   "outputs": [
    {
     "data": {
      "text/plain": [
       "38.0     140\n",
       "29.0     140\n",
       "40.0     138\n",
       "43.0     134\n",
       "31.0     126\n",
       "37.0     124\n",
       "41.0     123\n",
       "36.0     122\n",
       "20.0     121\n",
       "48.0     117\n",
       "18.0     116\n",
       "23.0     116\n",
       "44.0     115\n",
       "42.0     115\n",
       "32.0     114\n",
       "27.0     114\n",
       "35.0     113\n",
       "47.0     113\n",
       "30.0     113\n",
       "33.0     112\n",
       "24.0     109\n",
       "26.0     109\n",
       "46.0     107\n",
       "57.0     106\n",
       "28.0     105\n",
       "34.0     103\n",
       "45.0     102\n",
       "22.0     102\n",
       "17.0     102\n",
       "65.0      98\n",
       "        ... \n",
       "81.0      55\n",
       "78.0      50\n",
       "80.0      48\n",
       "6.0       45\n",
       "5.0       38\n",
       "82.0      32\n",
       "4.0       25\n",
       "2.0       16\n",
       "3.0       16\n",
       "1.0       14\n",
       "0.0        9\n",
       "83.0       8\n",
       "91.0       3\n",
       "94.0       2\n",
       "87.0       2\n",
       "101.0      2\n",
       "86.0       2\n",
       "109.0      1\n",
       "90.0       1\n",
       "113.0      1\n",
       "139.0      1\n",
       "99.0       1\n",
       "88.0       1\n",
       "102.0      1\n",
       "100.0      1\n",
       "96.0       1\n",
       "89.0       1\n",
       "148.0      1\n",
       "92.0       1\n",
       "152.0      1\n",
       "Name: mths_since_last_major_derog, dtype: int64"
      ]
     },
     "execution_count": 829,
     "metadata": {},
     "output_type": "execute_result"
    }
   ],
   "source": [
    "lastMajorWorstRating = applicants[\"mths_since_last_major_derog\"]\n",
    "lastMajorWorstRating.value_counts()"
   ]
  },
  {
   "cell_type": "code",
   "execution_count": 830,
   "metadata": {},
   "outputs": [
    {
     "data": {
      "text/plain": [
       "count    7269.000000\n",
       "mean       41.732013\n",
       "std        21.084082\n",
       "min         0.000000\n",
       "25%        25.000000\n",
       "50%        40.000000\n",
       "75%        59.000000\n",
       "max       152.000000\n",
       "Name: mths_since_last_major_derog, dtype: float64"
      ]
     },
     "execution_count": 830,
     "metadata": {},
     "output_type": "execute_result"
    }
   ],
   "source": [
    "lastMajorWorstRating.describe()"
   ]
  },
  {
   "cell_type": "markdown",
   "metadata": {},
   "source": [
    "**Huge number of missing values**\n",
    "\n",
    "There are over 150,000 missing values in this dataset. Before attributing/assuming it's random noise, let's think about what this feature represents.\n",
    "\n",
    "The data in this column refers the the **number of months since the applican't *last* 90-day or worse rating**. The question that can immediately be raised is:\n",
    "\n",
    "**What if the applicant has never had such a 90-day or worse rating?**\n",
    "\n",
    "My **assumption** is that the NaN (null values) in the dataset represent those applicants, people who've *never* received this type of rating. Using a value of 0 here wouldn't work, since a distance of 0 months implies that they had a rating applied to them *this month.*\n",
    "\n",
    "We can validate this assumption (to some extent) by looking at whether applicant's with these missing values had their loans apporved or not! If they have approved loans, it's fair to assume that they've likely never had a 90-day or worse rating given to them!"
   ]
  },
  {
   "cell_type": "code",
   "execution_count": 831,
   "metadata": {},
   "outputs": [
    {
     "data": {
      "text/plain": [
       "1    28296\n",
       "0    22106\n",
       "Name: lowRiskApprove, dtype: int64"
      ]
     },
     "execution_count": 831,
     "metadata": {},
     "output_type": "execute_result"
    }
   ],
   "source": [
    "# Validate assumption by looking at the Loan Status\n",
    "applicants[\"lowRiskApprove\"][lastMajorWorstRating[lastMajorWorstRating.isnull()].index].value_counts()"
   ]
  },
  {
   "cell_type": "markdown",
   "metadata": {},
   "source": [
    "Looking at the above breakdown, there's clearly a huge majority of people (corresponding to the missing values) who either have current loans (6), or have completely paid them off (5). Thus, our assumption is valid!\n",
    "\n",
    "Since having a missing value here is essentially a *good* thing for the applicant (means they've never received a poor rating), we need to ensure that this data isn't simply lost, as it may be significant during the modelling phase. Let's replace the missing values with -1 (since it isn't possible to have a rational negative number of months)!"
   ]
  },
  {
   "cell_type": "code",
   "execution_count": 832,
   "metadata": {},
   "outputs": [
    {
     "data": {
      "text/plain": [
       "-1.0      50402\n",
       " 29.0       140\n",
       " 38.0       140\n",
       " 40.0       138\n",
       " 43.0       134\n",
       " 31.0       126\n",
       " 37.0       124\n",
       " 41.0       123\n",
       " 36.0       122\n",
       " 20.0       121\n",
       " 48.0       117\n",
       " 23.0       116\n",
       " 18.0       116\n",
       " 44.0       115\n",
       " 42.0       115\n",
       " 32.0       114\n",
       " 27.0       114\n",
       " 30.0       113\n",
       " 35.0       113\n",
       " 47.0       113\n",
       " 33.0       112\n",
       " 26.0       109\n",
       " 24.0       109\n",
       " 46.0       107\n",
       " 57.0       106\n",
       " 28.0       105\n",
       " 34.0       103\n",
       " 45.0       102\n",
       " 22.0       102\n",
       " 17.0       102\n",
       "          ...  \n",
       " 81.0        55\n",
       " 78.0        50\n",
       " 80.0        48\n",
       " 6.0         45\n",
       " 5.0         38\n",
       " 82.0        32\n",
       " 4.0         25\n",
       " 3.0         16\n",
       " 2.0         16\n",
       " 1.0         14\n",
       " 0.0          9\n",
       " 83.0         8\n",
       " 91.0         3\n",
       " 94.0         2\n",
       " 87.0         2\n",
       " 86.0         2\n",
       " 101.0        2\n",
       " 109.0        1\n",
       " 113.0        1\n",
       " 152.0        1\n",
       " 96.0         1\n",
       " 92.0         1\n",
       " 89.0         1\n",
       " 139.0        1\n",
       " 88.0         1\n",
       " 100.0        1\n",
       " 90.0         1\n",
       " 148.0        1\n",
       " 102.0        1\n",
       " 99.0         1\n",
       "Name: mths_since_last_major_derog, dtype: int64"
      ]
     },
     "execution_count": 832,
     "metadata": {},
     "output_type": "execute_result"
    }
   ],
   "source": [
    "# Fill in missing values with -1 (assuming that it means they've never received a 90-day or worse rating)\n",
    "lastMajorWorstRating.fillna(-1, inplace = True)\n",
    "lastMajorWorstRating.value_counts()"
   ]
  },
  {
   "cell_type": "code",
   "execution_count": 833,
   "metadata": {},
   "outputs": [
    {
     "data": {
      "text/plain": [
       "count    57671.000000\n",
       "mean         4.386052\n",
       "std         16.036671\n",
       "min         -1.000000\n",
       "25%         -1.000000\n",
       "50%         -1.000000\n",
       "75%         -1.000000\n",
       "max        152.000000\n",
       "Name: mths_since_last_major_derog, dtype: float64"
      ]
     },
     "execution_count": 833,
     "metadata": {},
     "output_type": "execute_result"
    }
   ],
   "source": [
    "lastMajorWorstRating.describe()"
   ]
  },
  {
   "cell_type": "markdown",
   "metadata": {},
   "source": [
    "### Total High Credit Limit"
   ]
  },
  {
   "cell_type": "code",
   "execution_count": 834,
   "metadata": {},
   "outputs": [
    {
     "data": {
      "text/plain": [
       "0.000000        497\n",
       "6682.969229       1\n",
       "15903.125154      1\n",
       "16627.499794      1\n",
       "26150.335790      1\n",
       "12929.148937      1\n",
       "4964.796562       1\n",
       "8879.119413       1\n",
       "3894.963918       1\n",
       "11005.374502      1\n",
       "33828.237915      1\n",
       "97988.639602      1\n",
       "29110.092545      1\n",
       "18731.032098      1\n",
       "23230.543605      1\n",
       "3110.463219       1\n",
       "14030.904053      1\n",
       "6490.458590       1\n",
       "12025.960274      1\n",
       "29287.700667      1\n",
       "22585.885231      1\n",
       "17341.483769      1\n",
       "17558.673359      1\n",
       "26459.155738      1\n",
       "1390.443554       1\n",
       "79155.338306      1\n",
       "29298.364843      1\n",
       "3926.834216       1\n",
       "51817.367688      1\n",
       "17331.693185      1\n",
       "               ... \n",
       "5428.719324       1\n",
       "13366.229843      1\n",
       "25543.584806      1\n",
       "4496.334863       1\n",
       "16216.547078      1\n",
       "21979.884574      1\n",
       "20687.101082      1\n",
       "3814.329998       1\n",
       "14584.728468      1\n",
       "1029.147394       1\n",
       "7658.029861       1\n",
       "24797.779156      1\n",
       "23157.504141      1\n",
       "18818.573270      1\n",
       "5882.674412       1\n",
       "15686.099206      1\n",
       "19105.472733      1\n",
       "27450.708762      1\n",
       "7710.792355       1\n",
       "43320.175860      1\n",
       "27266.568634      1\n",
       "4917.454389       1\n",
       "19948.858591      1\n",
       "3604.197654       1\n",
       "12525.276115      1\n",
       "24298.288448      1\n",
       "25914.171847      1\n",
       "20971.177296      1\n",
       "2870.613736       1\n",
       "6656.809296       1\n",
       "Name: tot_hi_cred_lim, dtype: int64"
      ]
     },
     "execution_count": 834,
     "metadata": {},
     "output_type": "execute_result"
    }
   ],
   "source": [
    "totCredLimit = applicants[\"tot_hi_cred_lim\"]\n",
    "totCredLimit.value_counts()"
   ]
  },
  {
   "cell_type": "code",
   "execution_count": 835,
   "metadata": {},
   "outputs": [
    {
     "data": {
      "text/plain": [
       "count     44166.000000\n",
       "mean      19306.265294\n",
       "std       18459.526681\n",
       "min           0.000000\n",
       "25%        7348.839502\n",
       "50%       13922.067216\n",
       "75%       25160.880920\n",
       "max      304742.866641\n",
       "Name: tot_hi_cred_lim, dtype: float64"
      ]
     },
     "execution_count": 835,
     "metadata": {},
     "output_type": "execute_result"
    }
   ],
   "source": [
    "totCredLimit.describe()"
   ]
  },
  {
   "cell_type": "markdown",
   "metadata": {},
   "source": [
    "Even though a particular category stands out (0 - occurs 1532 times), this is **not a majority** relative to the total number of entries. Since the remaining credit limits vary so much, we can use the mean to fill the missing values!"
   ]
  },
  {
   "cell_type": "code",
   "execution_count": 836,
   "metadata": {},
   "outputs": [
    {
     "data": {
      "text/plain": [
       "count     57671.000000\n",
       "mean      19306.265294\n",
       "std       16154.172005\n",
       "min           0.000000\n",
       "25%        9119.805413\n",
       "50%       19306.265294\n",
       "75%       20832.775498\n",
       "max      304742.866641\n",
       "Name: tot_hi_cred_lim, dtype: float64"
      ]
     },
     "execution_count": 836,
     "metadata": {},
     "output_type": "execute_result"
    }
   ],
   "source": [
    "# Fill in missing values\n",
    "totCredLimit.fillna(totCredLimit.mean(), inplace = True)\n",
    "totCredLimit.describe()"
   ]
  },
  {
   "cell_type": "markdown",
   "metadata": {},
   "source": [
    "### Total Current Balance\n"
   ]
  },
  {
   "cell_type": "code",
   "execution_count": 837,
   "metadata": {},
   "outputs": [
    {
     "data": {
      "text/plain": [
       "0.0         15\n",
       "34271.0      6\n",
       "11409.0      4\n",
       "8988.0       4\n",
       "27101.0      4\n",
       "20406.0      4\n",
       "6530.0       4\n",
       "25844.0      4\n",
       "22910.0      4\n",
       "26481.0      4\n",
       "16637.0      4\n",
       "24153.0      4\n",
       "30220.0      4\n",
       "10439.0      3\n",
       "6392.0       3\n",
       "9469.0       3\n",
       "22498.0      3\n",
       "17571.0      3\n",
       "14419.0      3\n",
       "15844.0      3\n",
       "21995.0      3\n",
       "8443.0       3\n",
       "29592.0      3\n",
       "23575.0      3\n",
       "30814.0      3\n",
       "8004.0       3\n",
       "31552.0      3\n",
       "105005.0     3\n",
       "9336.0       3\n",
       "13762.0      3\n",
       "            ..\n",
       "120022.0     1\n",
       "141722.0     1\n",
       "35433.0      1\n",
       "54164.0      1\n",
       "50573.0      1\n",
       "447287.0     1\n",
       "174492.0     1\n",
       "184765.0     1\n",
       "120015.0     1\n",
       "566906.0     1\n",
       "95440.0      1\n",
       "256417.0     1\n",
       "348997.0     1\n",
       "141731.0     1\n",
       "283463.0     1\n",
       "25732.0      1\n",
       "172654.0     1\n",
       "240037.0     1\n",
       "20221.0      1\n",
       "17103.0      1\n",
       "316236.0     1\n",
       "25071.0      1\n",
       "96942.0      1\n",
       "349009.0     1\n",
       "196886.0     1\n",
       "120021.0     1\n",
       "256427.0     1\n",
       "98124.0      1\n",
       "447319.0     1\n",
       "14336.0      1\n",
       "Name: tot_cur_bal, dtype: int64"
      ]
     },
     "execution_count": 837,
     "metadata": {},
     "output_type": "execute_result"
    }
   ],
   "source": [
    "totCurrBalance = applicants[\"tot_cur_bal\"]\n",
    "totCurrBalance.value_counts()"
   ]
  },
  {
   "cell_type": "code",
   "execution_count": 838,
   "metadata": {},
   "outputs": [
    {
     "data": {
      "text/plain": [
       "count    3.516000e+04\n",
       "mean     1.349595e+05\n",
       "std      1.474276e+05\n",
       "min      0.000000e+00\n",
       "25%      2.737425e+04\n",
       "50%      7.857250e+04\n",
       "75%      2.055152e+05\n",
       "max      3.471522e+06\n",
       "Name: tot_cur_bal, dtype: float64"
      ]
     },
     "execution_count": 838,
     "metadata": {},
     "output_type": "execute_result"
    }
   ],
   "source": [
    "totCurrBalance.describe()"
   ]
  },
  {
   "cell_type": "markdown",
   "metadata": {},
   "source": [
    "**Lot of Skew**\n",
    "\n",
    "Looking at the difference between the mean and the median in this case, it seems like the data is heavily skewed. Let's take a look at the boxplot, it's possible that there's **outliers pulling the data**."
   ]
  },
  {
   "cell_type": "code",
   "execution_count": 839,
   "metadata": {},
   "outputs": [
    {
     "data": {
      "text/plain": [
       "<matplotlib.axes._subplots.AxesSubplot at 0x1ec323390>"
      ]
     },
     "execution_count": 839,
     "metadata": {},
     "output_type": "execute_result"
    },
    {
     "data": {
      "image/png": "[encoded data removed]",
      "text/plain": [
       "<matplotlib.figure.Figure at 0x1e4b02410>"
      ]
     },
     "metadata": {},
     "output_type": "display_data"
    }
   ],
   "source": [
    "# Boxplot\n",
    "applicants.boxplot(column=\"tot_cur_bal\")"
   ]
  },
  {
   "cell_type": "markdown",
   "metadata": {},
   "source": [
    "**Inference**\n",
    "\n",
    "As result of that one outlier, the mean is being pulled quite a bit (it's an *order of magnitude greater* than the median). Thus, in this case, the **median is a better value to fill the missing data with!**"
   ]
  },
  {
   "cell_type": "code",
   "execution_count": 840,
   "metadata": {},
   "outputs": [
    {
     "data": {
      "text/plain": [
       "count    5.767100e+04\n",
       "mean     1.129497e+05\n",
       "std      1.183533e+05\n",
       "min      0.000000e+00\n",
       "25%      4.951450e+04\n",
       "50%      7.857250e+04\n",
       "75%      1.253875e+05\n",
       "max      3.471522e+06\n",
       "Name: tot_cur_bal, dtype: float64"
      ]
     },
     "execution_count": 840,
     "metadata": {},
     "output_type": "execute_result"
    }
   ],
   "source": [
    "# Fill in missing values using the median\n",
    "totCurrBalance.fillna(totCurrBalance.median(), inplace = True)\n",
    "totCurrBalance.describe()"
   ]
  },
  {
   "cell_type": "code",
   "execution_count": 841,
   "metadata": {},
   "outputs": [
    {
     "data": {
      "text/html": [
       "<div>\n",
       "<table border=\"1\" class=\"dataframe\">\n",
       "  <thead>\n",
       "    <tr style=\"text-align: right;\">\n",
       "      <th></th>\n",
       "      <th>loan_amnt</th>\n",
       "      <th>term</th>\n",
       "      <th>int_rate</th>\n",
       "      <th>emp_length</th>\n",
       "      <th>home_ownership</th>\n",
       "      <th>annual_inc</th>\n",
       "      <th>purpose</th>\n",
       "      <th>percent_bc_gt_75</th>\n",
       "      <th>bc_util</th>\n",
       "      <th>dti</th>\n",
       "      <th>inq_last_6mths</th>\n",
       "      <th>mths_since_recent_inq</th>\n",
       "      <th>revol_util</th>\n",
       "      <th>total_bc_limit</th>\n",
       "      <th>total_pymnt</th>\n",
       "      <th>mths_since_last_major_derog</th>\n",
       "      <th>tot_hi_cred_lim</th>\n",
       "      <th>tot_cur_bal</th>\n",
       "      <th>lowRiskApprove</th>\n",
       "    </tr>\n",
       "  </thead>\n",
       "  <tbody>\n",
       "    <tr>\n",
       "      <th>3</th>\n",
       "      <td>28000</td>\n",
       "      <td>0</td>\n",
       "      <td>7.62</td>\n",
       "      <td>6</td>\n",
       "      <td>4</td>\n",
       "      <td>325000.0</td>\n",
       "      <td>12</td>\n",
       "      <td>16.7</td>\n",
       "      <td>67.1</td>\n",
       "      <td>18.55</td>\n",
       "      <td>1.0</td>\n",
       "      <td>3.0</td>\n",
       "      <td>54.6</td>\n",
       "      <td>42200.0</td>\n",
       "      <td>29150.980000</td>\n",
       "      <td>-1.0</td>\n",
       "      <td>38014.149757</td>\n",
       "      <td>799592.0</td>\n",
       "      <td>1</td>\n",
       "    </tr>\n",
       "    <tr>\n",
       "      <th>10</th>\n",
       "      <td>15000</td>\n",
       "      <td>0</td>\n",
       "      <td>14.47</td>\n",
       "      <td>11</td>\n",
       "      <td>3</td>\n",
       "      <td>98000.0</td>\n",
       "      <td>12</td>\n",
       "      <td>7.7</td>\n",
       "      <td>27.6</td>\n",
       "      <td>6.15</td>\n",
       "      <td>2.0</td>\n",
       "      <td>2.0</td>\n",
       "      <td>22.3</td>\n",
       "      <td>20800.0</td>\n",
       "      <td>15699.030000</td>\n",
       "      <td>-1.0</td>\n",
       "      <td>19643.159526</td>\n",
       "      <td>13038.0</td>\n",
       "      <td>1</td>\n",
       "    </tr>\n",
       "    <tr>\n",
       "      <th>15</th>\n",
       "      <td>3000</td>\n",
       "      <td>0</td>\n",
       "      <td>12.85</td>\n",
       "      <td>11</td>\n",
       "      <td>3</td>\n",
       "      <td>25000.0</td>\n",
       "      <td>12</td>\n",
       "      <td>66.7</td>\n",
       "      <td>52.3</td>\n",
       "      <td>24.68</td>\n",
       "      <td>0.0</td>\n",
       "      <td>8.0</td>\n",
       "      <td>54.2</td>\n",
       "      <td>4300.0</td>\n",
       "      <td>3181.532981</td>\n",
       "      <td>69.0</td>\n",
       "      <td>4490.698410</td>\n",
       "      <td>19530.0</td>\n",
       "      <td>1</td>\n",
       "    </tr>\n",
       "  </tbody>\n",
       "</table>\n",
       "</div>"
      ],
      "text/plain": [
       "    loan_amnt term int_rate emp_length home_ownership  annual_inc purpose  \\\n",
       "3       28000    0     7.62          6              4    325000.0      12   \n",
       "10      15000    0    14.47         11              3     98000.0      12   \n",
       "15       3000    0    12.85         11              3     25000.0      12   \n",
       "\n",
       "    percent_bc_gt_75  bc_util    dti  inq_last_6mths  mths_since_recent_inq  \\\n",
       "3               16.7     67.1  18.55             1.0                    3.0   \n",
       "10               7.7     27.6   6.15             2.0                    2.0   \n",
       "15              66.7     52.3  24.68             0.0                    8.0   \n",
       "\n",
       "   revol_util  total_bc_limit   total_pymnt  mths_since_last_major_derog  \\\n",
       "3        54.6         42200.0  29150.980000                         -1.0   \n",
       "10       22.3         20800.0  15699.030000                         -1.0   \n",
       "15       54.2          4300.0   3181.532981                         69.0   \n",
       "\n",
       "    tot_hi_cred_lim  tot_cur_bal  lowRiskApprove  \n",
       "3      38014.149757     799592.0               1  \n",
       "10     19643.159526      13038.0               1  \n",
       "15      4490.698410      19530.0               1  "
      ]
     },
     "execution_count": 841,
     "metadata": {},
     "output_type": "execute_result"
    }
   ],
   "source": [
    "applicants.head(3)"
   ]
  },
  {
   "cell_type": "code",
   "execution_count": 842,
   "metadata": {},
   "outputs": [
    {
     "data": {
      "text/html": [
       "<div>\n",
       "<table border=\"1\" class=\"dataframe\">\n",
       "  <thead>\n",
       "    <tr style=\"text-align: right;\">\n",
       "      <th></th>\n",
       "      <th>loan_amnt</th>\n",
       "      <th>annual_inc</th>\n",
       "      <th>percent_bc_gt_75</th>\n",
       "      <th>bc_util</th>\n",
       "      <th>dti</th>\n",
       "      <th>inq_last_6mths</th>\n",
       "      <th>mths_since_recent_inq</th>\n",
       "      <th>total_bc_limit</th>\n",
       "      <th>total_pymnt</th>\n",
       "      <th>mths_since_last_major_derog</th>\n",
       "      <th>tot_hi_cred_lim</th>\n",
       "      <th>tot_cur_bal</th>\n",
       "      <th>lowRiskApprove</th>\n",
       "    </tr>\n",
       "  </thead>\n",
       "  <tbody>\n",
       "    <tr>\n",
       "      <th>count</th>\n",
       "      <td>57671.000000</td>\n",
       "      <td>5.767100e+04</td>\n",
       "      <td>57671.000000</td>\n",
       "      <td>57671.000000</td>\n",
       "      <td>57671.000000</td>\n",
       "      <td>57671.000000</td>\n",
       "      <td>57671.000000</td>\n",
       "      <td>57671.000000</td>\n",
       "      <td>57671.000000</td>\n",
       "      <td>57671.000000</td>\n",
       "      <td>57671.000000</td>\n",
       "      <td>5.767100e+04</td>\n",
       "      <td>57671.000000</td>\n",
       "    </tr>\n",
       "    <tr>\n",
       "      <th>mean</th>\n",
       "      <td>13013.503321</td>\n",
       "      <td>7.030186e+04</td>\n",
       "      <td>52.813449</td>\n",
       "      <td>65.529200</td>\n",
       "      <td>16.527195</td>\n",
       "      <td>1.193234</td>\n",
       "      <td>5.448093</td>\n",
       "      <td>19307.550310</td>\n",
       "      <td>12095.277216</td>\n",
       "      <td>4.386052</td>\n",
       "      <td>19306.265294</td>\n",
       "      <td>1.129497e+05</td>\n",
       "      <td>0.577569</td>\n",
       "    </tr>\n",
       "    <tr>\n",
       "      <th>std</th>\n",
       "      <td>7891.930407</td>\n",
       "      <td>5.761083e+04</td>\n",
       "      <td>30.330610</td>\n",
       "      <td>24.147679</td>\n",
       "      <td>6.953338</td>\n",
       "      <td>1.196308</td>\n",
       "      <td>4.895121</td>\n",
       "      <td>16113.822758</td>\n",
       "      <td>8313.494438</td>\n",
       "      <td>16.036671</td>\n",
       "      <td>16154.172005</td>\n",
       "      <td>1.183533e+05</td>\n",
       "      <td>0.493951</td>\n",
       "    </tr>\n",
       "    <tr>\n",
       "      <th>min</th>\n",
       "      <td>1000.000000</td>\n",
       "      <td>4.800000e+03</td>\n",
       "      <td>0.000000</td>\n",
       "      <td>0.000000</td>\n",
       "      <td>0.000000</td>\n",
       "      <td>0.000000</td>\n",
       "      <td>0.000000</td>\n",
       "      <td>0.000000</td>\n",
       "      <td>0.000000</td>\n",
       "      <td>-1.000000</td>\n",
       "      <td>0.000000</td>\n",
       "      <td>0.000000e+00</td>\n",
       "      <td>0.000000</td>\n",
       "    </tr>\n",
       "    <tr>\n",
       "      <th>25%</th>\n",
       "      <td>7000.000000</td>\n",
       "      <td>4.900000e+04</td>\n",
       "      <td>33.300000</td>\n",
       "      <td>55.800000</td>\n",
       "      <td>11.980000</td>\n",
       "      <td>0.000000</td>\n",
       "      <td>2.000000</td>\n",
       "      <td>9100.000000</td>\n",
       "      <td>5958.834888</td>\n",
       "      <td>-1.000000</td>\n",
       "      <td>9119.805413</td>\n",
       "      <td>4.951450e+04</td>\n",
       "      <td>0.000000</td>\n",
       "    </tr>\n",
       "    <tr>\n",
       "      <th>50%</th>\n",
       "      <td>11500.000000</td>\n",
       "      <td>6.200000e+04</td>\n",
       "      <td>52.813449</td>\n",
       "      <td>65.529200</td>\n",
       "      <td>16.527195</td>\n",
       "      <td>1.000000</td>\n",
       "      <td>4.000000</td>\n",
       "      <td>19307.550310</td>\n",
       "      <td>12095.277216</td>\n",
       "      <td>-1.000000</td>\n",
       "      <td>19306.265294</td>\n",
       "      <td>7.857250e+04</td>\n",
       "      <td>1.000000</td>\n",
       "    </tr>\n",
       "    <tr>\n",
       "      <th>75%</th>\n",
       "      <td>17500.000000</td>\n",
       "      <td>8.000000e+04</td>\n",
       "      <td>75.000000</td>\n",
       "      <td>84.300000</td>\n",
       "      <td>20.720000</td>\n",
       "      <td>2.000000</td>\n",
       "      <td>7.000000</td>\n",
       "      <td>20849.000000</td>\n",
       "      <td>15172.297118</td>\n",
       "      <td>-1.000000</td>\n",
       "      <td>20832.775498</td>\n",
       "      <td>1.253875e+05</td>\n",
       "      <td>1.000000</td>\n",
       "    </tr>\n",
       "    <tr>\n",
       "      <th>max</th>\n",
       "      <td>35000.000000</td>\n",
       "      <td>7.141778e+06</td>\n",
       "      <td>100.000000</td>\n",
       "      <td>339.600000</td>\n",
       "      <td>34.990000</td>\n",
       "      <td>8.000000</td>\n",
       "      <td>24.000000</td>\n",
       "      <td>301720.000000</td>\n",
       "      <td>50914.591249</td>\n",
       "      <td>152.000000</td>\n",
       "      <td>304742.866641</td>\n",
       "      <td>3.471522e+06</td>\n",
       "      <td>1.000000</td>\n",
       "    </tr>\n",
       "  </tbody>\n",
       "</table>\n",
       "</div>"
      ],
      "text/plain": [
       "          loan_amnt    annual_inc  percent_bc_gt_75       bc_util  \\\n",
       "count  57671.000000  5.767100e+04      57671.000000  57671.000000   \n",
       "mean   13013.503321  7.030186e+04         52.813449     65.529200   \n",
       "std     7891.930407  5.761083e+04         30.330610     24.147679   \n",
       "min     1000.000000  4.800000e+03          0.000000      0.000000   \n",
       "25%     7000.000000  4.900000e+04         33.300000     55.800000   \n",
       "50%    11500.000000  6.200000e+04         52.813449     65.529200   \n",
       "75%    17500.000000  8.000000e+04         75.000000     84.300000   \n",
       "max    35000.000000  7.141778e+06        100.000000    339.600000   \n",
       "\n",
       "                dti  inq_last_6mths  mths_since_recent_inq  total_bc_limit  \\\n",
       "count  57671.000000    57671.000000           57671.000000    57671.000000   \n",
       "mean      16.527195        1.193234               5.448093    19307.550310   \n",
       "std        6.953338        1.196308               4.895121    16113.822758   \n",
       "min        0.000000        0.000000               0.000000        0.000000   \n",
       "25%       11.980000        0.000000               2.000000     9100.000000   \n",
       "50%       16.527195        1.000000               4.000000    19307.550310   \n",
       "75%       20.720000        2.000000               7.000000    20849.000000   \n",
       "max       34.990000        8.000000              24.000000   301720.000000   \n",
       "\n",
       "        total_pymnt  mths_since_last_major_derog  tot_hi_cred_lim  \\\n",
       "count  57671.000000                 57671.000000     57671.000000   \n",
       "mean   12095.277216                     4.386052     19306.265294   \n",
       "std     8313.494438                    16.036671     16154.172005   \n",
       "min        0.000000                    -1.000000         0.000000   \n",
       "25%     5958.834888                    -1.000000      9119.805413   \n",
       "50%    12095.277216                    -1.000000     19306.265294   \n",
       "75%    15172.297118                    -1.000000     20832.775498   \n",
       "max    50914.591249                   152.000000    304742.866641   \n",
       "\n",
       "        tot_cur_bal  lowRiskApprove  \n",
       "count  5.767100e+04    57671.000000  \n",
       "mean   1.129497e+05        0.577569  \n",
       "std    1.183533e+05        0.493951  \n",
       "min    0.000000e+00        0.000000  \n",
       "25%    4.951450e+04        0.000000  \n",
       "50%    7.857250e+04        1.000000  \n",
       "75%    1.253875e+05        1.000000  \n",
       "max    3.471522e+06        1.000000  "
      ]
     },
     "execution_count": 842,
     "metadata": {},
     "output_type": "execute_result"
    }
   ],
   "source": [
    "applicants.describe()"
   ]
  },
  {
   "cell_type": "code",
   "execution_count": 843,
   "metadata": {},
   "outputs": [
    {
     "data": {
      "text/plain": [
       "loan_amnt                        int64\n",
       "term                            object\n",
       "int_rate                        object\n",
       "emp_length                      object\n",
       "home_ownership                  object\n",
       "annual_inc                     float64\n",
       "purpose                         object\n",
       "percent_bc_gt_75               float64\n",
       "bc_util                        float64\n",
       "dti                            float64\n",
       "inq_last_6mths                 float64\n",
       "mths_since_recent_inq          float64\n",
       "revol_util                      object\n",
       "total_bc_limit                 float64\n",
       "total_pymnt                    float64\n",
       "mths_since_last_major_derog    float64\n",
       "tot_hi_cred_lim                float64\n",
       "tot_cur_bal                    float64\n",
       "lowRiskApprove                   int64\n",
       "dtype: object"
      ]
     },
     "execution_count": 843,
     "metadata": {},
     "output_type": "execute_result"
    }
   ],
   "source": [
    "applicants.dtypes"
   ]
  },
  {
   "cell_type": "markdown",
   "metadata": {},
   "source": [
    "Having cleaned up the data, the final thing left to do is convert any remaining categorical variables to numerical ones! Although we converted each feature to numerical as we cleaned, it seems from above like the object type has still been retained. This can easily be changed with the following:"
   ]
  },
  {
   "cell_type": "code",
   "execution_count": 845,
   "metadata": {},
   "outputs": [
    {
     "data": {
      "text/plain": [
       "loan_amnt                        int64\n",
       "term                             int64\n",
       "int_rate                         int64\n",
       "emp_length                       int64\n",
       "home_ownership                   int64\n",
       "annual_inc                     float64\n",
       "purpose                          int64\n",
       "percent_bc_gt_75               float64\n",
       "bc_util                        float64\n",
       "dti                            float64\n",
       "inq_last_6mths                 float64\n",
       "mths_since_recent_inq          float64\n",
       "revol_util                       int64\n",
       "total_bc_limit                 float64\n",
       "total_pymnt                    float64\n",
       "mths_since_last_major_derog    float64\n",
       "tot_hi_cred_lim                float64\n",
       "tot_cur_bal                    float64\n",
       "lowRiskApprove                   int64\n",
       "dtype: object"
      ]
     },
     "execution_count": 845,
     "metadata": {},
     "output_type": "execute_result"
    }
   ],
   "source": [
    "# Convert remaining cleaned categorical variables to numerical\n",
    "from sklearn.preprocessing import LabelEncoder\n",
    "\n",
    "var_mod = [\"term\", \"int_rate\", \"emp_length\", \"home_ownership\", \"purpose\", \"revol_util\"]\n",
    "le = LabelEncoder()\n",
    "for i in var_mod:\n",
    "    applicants[i] = le.fit_transform(applicants[i])\n",
    "applicants.dtypes"
   ]
  },
  {
   "cell_type": "code",
   "execution_count": 846,
   "metadata": {},
   "outputs": [
    {
     "data": {
      "text/html": [
       "<div>\n",
       "<table border=\"1\" class=\"dataframe\">\n",
       "  <thead>\n",
       "    <tr style=\"text-align: right;\">\n",
       "      <th></th>\n",
       "      <th>loan_amnt</th>\n",
       "      <th>term</th>\n",
       "      <th>int_rate</th>\n",
       "      <th>emp_length</th>\n",
       "      <th>home_ownership</th>\n",
       "      <th>annual_inc</th>\n",
       "      <th>purpose</th>\n",
       "      <th>percent_bc_gt_75</th>\n",
       "      <th>bc_util</th>\n",
       "      <th>dti</th>\n",
       "      <th>inq_last_6mths</th>\n",
       "      <th>mths_since_recent_inq</th>\n",
       "      <th>revol_util</th>\n",
       "      <th>total_bc_limit</th>\n",
       "      <th>total_pymnt</th>\n",
       "      <th>mths_since_last_major_derog</th>\n",
       "      <th>tot_hi_cred_lim</th>\n",
       "      <th>tot_cur_bal</th>\n",
       "      <th>lowRiskApprove</th>\n",
       "    </tr>\n",
       "  </thead>\n",
       "  <tbody>\n",
       "    <tr>\n",
       "      <th>count</th>\n",
       "      <td>57671.000000</td>\n",
       "      <td>57671.000000</td>\n",
       "      <td>57671.000000</td>\n",
       "      <td>57671.000000</td>\n",
       "      <td>57671.000000</td>\n",
       "      <td>5.767100e+04</td>\n",
       "      <td>57671.000000</td>\n",
       "      <td>57671.000000</td>\n",
       "      <td>57671.000000</td>\n",
       "      <td>57671.000000</td>\n",
       "      <td>57671.000000</td>\n",
       "      <td>57671.000000</td>\n",
       "      <td>57671.000000</td>\n",
       "      <td>57671.000000</td>\n",
       "      <td>57671.000000</td>\n",
       "      <td>57671.000000</td>\n",
       "      <td>57671.000000</td>\n",
       "      <td>5.767100e+04</td>\n",
       "      <td>57671.000000</td>\n",
       "    </tr>\n",
       "    <tr>\n",
       "      <th>mean</th>\n",
       "      <td>13013.503321</td>\n",
       "      <td>0.179813</td>\n",
       "      <td>8899.397670</td>\n",
       "      <td>6.701670</td>\n",
       "      <td>3.421286</td>\n",
       "      <td>7.030186e+04</td>\n",
       "      <td>11.070937</td>\n",
       "      <td>52.813449</td>\n",
       "      <td>65.529200</td>\n",
       "      <td>16.527195</td>\n",
       "      <td>1.193234</td>\n",
       "      <td>5.448093</td>\n",
       "      <td>9388.262454</td>\n",
       "      <td>19307.550310</td>\n",
       "      <td>12095.277216</td>\n",
       "      <td>4.386052</td>\n",
       "      <td>19306.265294</td>\n",
       "      <td>1.129497e+05</td>\n",
       "      <td>0.577569</td>\n",
       "    </tr>\n",
       "    <tr>\n",
       "      <th>std</th>\n",
       "      <td>7891.930407</td>\n",
       "      <td>0.384035</td>\n",
       "      <td>2153.371235</td>\n",
       "      <td>3.718153</td>\n",
       "      <td>0.637024</td>\n",
       "      <td>5.761083e+04</td>\n",
       "      <td>1.958167</td>\n",
       "      <td>30.330610</td>\n",
       "      <td>24.147679</td>\n",
       "      <td>6.953338</td>\n",
       "      <td>1.196308</td>\n",
       "      <td>4.895121</td>\n",
       "      <td>2353.087419</td>\n",
       "      <td>16113.822758</td>\n",
       "      <td>8313.494438</td>\n",
       "      <td>16.036671</td>\n",
       "      <td>16154.172005</td>\n",
       "      <td>1.183533e+05</td>\n",
       "      <td>0.493951</td>\n",
       "    </tr>\n",
       "    <tr>\n",
       "      <th>min</th>\n",
       "      <td>1000.000000</td>\n",
       "      <td>0.000000</td>\n",
       "      <td>0.000000</td>\n",
       "      <td>0.000000</td>\n",
       "      <td>0.000000</td>\n",
       "      <td>4.800000e+03</td>\n",
       "      <td>0.000000</td>\n",
       "      <td>0.000000</td>\n",
       "      <td>0.000000</td>\n",
       "      <td>0.000000</td>\n",
       "      <td>0.000000</td>\n",
       "      <td>0.000000</td>\n",
       "      <td>0.000000</td>\n",
       "      <td>0.000000</td>\n",
       "      <td>0.000000</td>\n",
       "      <td>-1.000000</td>\n",
       "      <td>0.000000</td>\n",
       "      <td>0.000000e+00</td>\n",
       "      <td>0.000000</td>\n",
       "    </tr>\n",
       "    <tr>\n",
       "      <th>25%</th>\n",
       "      <td>7000.000000</td>\n",
       "      <td>0.000000</td>\n",
       "      <td>9672.000000</td>\n",
       "      <td>3.000000</td>\n",
       "      <td>3.000000</td>\n",
       "      <td>4.900000e+04</td>\n",
       "      <td>11.000000</td>\n",
       "      <td>33.300000</td>\n",
       "      <td>55.800000</td>\n",
       "      <td>11.980000</td>\n",
       "      <td>0.000000</td>\n",
       "      <td>2.000000</td>\n",
       "      <td>9943.000000</td>\n",
       "      <td>9100.000000</td>\n",
       "      <td>5958.834888</td>\n",
       "      <td>-1.000000</td>\n",
       "      <td>9119.805413</td>\n",
       "      <td>4.951450e+04</td>\n",
       "      <td>0.000000</td>\n",
       "    </tr>\n",
       "    <tr>\n",
       "      <th>50%</th>\n",
       "      <td>11500.000000</td>\n",
       "      <td>0.000000</td>\n",
       "      <td>9697.000000</td>\n",
       "      <td>7.000000</td>\n",
       "      <td>4.000000</td>\n",
       "      <td>6.200000e+04</td>\n",
       "      <td>12.000000</td>\n",
       "      <td>52.813449</td>\n",
       "      <td>65.529200</td>\n",
       "      <td>16.527195</td>\n",
       "      <td>1.000000</td>\n",
       "      <td>4.000000</td>\n",
       "      <td>10252.000000</td>\n",
       "      <td>19307.550310</td>\n",
       "      <td>12095.277216</td>\n",
       "      <td>-1.000000</td>\n",
       "      <td>19306.265294</td>\n",
       "      <td>7.857250e+04</td>\n",
       "      <td>1.000000</td>\n",
       "    </tr>\n",
       "    <tr>\n",
       "      <th>75%</th>\n",
       "      <td>17500.000000</td>\n",
       "      <td>0.000000</td>\n",
       "      <td>9729.000000</td>\n",
       "      <td>11.000000</td>\n",
       "      <td>4.000000</td>\n",
       "      <td>8.000000e+04</td>\n",
       "      <td>12.000000</td>\n",
       "      <td>75.000000</td>\n",
       "      <td>84.300000</td>\n",
       "      <td>20.720000</td>\n",
       "      <td>2.000000</td>\n",
       "      <td>7.000000</td>\n",
       "      <td>10471.000000</td>\n",
       "      <td>20849.000000</td>\n",
       "      <td>15172.297118</td>\n",
       "      <td>-1.000000</td>\n",
       "      <td>20832.775498</td>\n",
       "      <td>1.253875e+05</td>\n",
       "      <td>1.000000</td>\n",
       "    </tr>\n",
       "    <tr>\n",
       "      <th>max</th>\n",
       "      <td>35000.000000</td>\n",
       "      <td>1.000000</td>\n",
       "      <td>9807.000000</td>\n",
       "      <td>11.000000</td>\n",
       "      <td>4.000000</td>\n",
       "      <td>7.141778e+06</td>\n",
       "      <td>12.000000</td>\n",
       "      <td>100.000000</td>\n",
       "      <td>339.600000</td>\n",
       "      <td>34.990000</td>\n",
       "      <td>8.000000</td>\n",
       "      <td>24.000000</td>\n",
       "      <td>10758.000000</td>\n",
       "      <td>301720.000000</td>\n",
       "      <td>50914.591249</td>\n",
       "      <td>152.000000</td>\n",
       "      <td>304742.866641</td>\n",
       "      <td>3.471522e+06</td>\n",
       "      <td>1.000000</td>\n",
       "    </tr>\n",
       "  </tbody>\n",
       "</table>\n",
       "</div>"
      ],
      "text/plain": [
       "          loan_amnt          term      int_rate    emp_length  home_ownership  \\\n",
       "count  57671.000000  57671.000000  57671.000000  57671.000000    57671.000000   \n",
       "mean   13013.503321      0.179813   8899.397670      6.701670        3.421286   \n",
       "std     7891.930407      0.384035   2153.371235      3.718153        0.637024   \n",
       "min     1000.000000      0.000000      0.000000      0.000000        0.000000   \n",
       "25%     7000.000000      0.000000   9672.000000      3.000000        3.000000   \n",
       "50%    11500.000000      0.000000   9697.000000      7.000000        4.000000   \n",
       "75%    17500.000000      0.000000   9729.000000     11.000000        4.000000   \n",
       "max    35000.000000      1.000000   9807.000000     11.000000        4.000000   \n",
       "\n",
       "         annual_inc       purpose  percent_bc_gt_75       bc_util  \\\n",
       "count  5.767100e+04  57671.000000      57671.000000  57671.000000   \n",
       "mean   7.030186e+04     11.070937         52.813449     65.529200   \n",
       "std    5.761083e+04      1.958167         30.330610     24.147679   \n",
       "min    4.800000e+03      0.000000          0.000000      0.000000   \n",
       "25%    4.900000e+04     11.000000         33.300000     55.800000   \n",
       "50%    6.200000e+04     12.000000         52.813449     65.529200   \n",
       "75%    8.000000e+04     12.000000         75.000000     84.300000   \n",
       "max    7.141778e+06     12.000000        100.000000    339.600000   \n",
       "\n",
       "                dti  inq_last_6mths  mths_since_recent_inq    revol_util  \\\n",
       "count  57671.000000    57671.000000           57671.000000  57671.000000   \n",
       "mean      16.527195        1.193234               5.448093   9388.262454   \n",
       "std        6.953338        1.196308               4.895121   2353.087419   \n",
       "min        0.000000        0.000000               0.000000      0.000000   \n",
       "25%       11.980000        0.000000               2.000000   9943.000000   \n",
       "50%       16.527195        1.000000               4.000000  10252.000000   \n",
       "75%       20.720000        2.000000               7.000000  10471.000000   \n",
       "max       34.990000        8.000000              24.000000  10758.000000   \n",
       "\n",
       "       total_bc_limit   total_pymnt  mths_since_last_major_derog  \\\n",
       "count    57671.000000  57671.000000                 57671.000000   \n",
       "mean     19307.550310  12095.277216                     4.386052   \n",
       "std      16113.822758   8313.494438                    16.036671   \n",
       "min          0.000000      0.000000                    -1.000000   \n",
       "25%       9100.000000   5958.834888                    -1.000000   \n",
       "50%      19307.550310  12095.277216                    -1.000000   \n",
       "75%      20849.000000  15172.297118                    -1.000000   \n",
       "max     301720.000000  50914.591249                   152.000000   \n",
       "\n",
       "       tot_hi_cred_lim   tot_cur_bal  lowRiskApprove  \n",
       "count     57671.000000  5.767100e+04    57671.000000  \n",
       "mean      19306.265294  1.129497e+05        0.577569  \n",
       "std       16154.172005  1.183533e+05        0.493951  \n",
       "min           0.000000  0.000000e+00        0.000000  \n",
       "25%        9119.805413  4.951450e+04        0.000000  \n",
       "50%       19306.265294  7.857250e+04        1.000000  \n",
       "75%       20832.775498  1.253875e+05        1.000000  \n",
       "max      304742.866641  3.471522e+06        1.000000  "
      ]
     },
     "execution_count": 846,
     "metadata": {},
     "output_type": "execute_result"
    }
   ],
   "source": [
    "applicants.describe()"
   ]
  },
  {
   "cell_type": "markdown",
   "metadata": {},
   "source": [
    "We've cleaned up the data, and are now ready to do some exploratory analysis!"
   ]
  },
  {
   "cell_type": "markdown",
   "metadata": {},
   "source": [
    "## Exploratory Data Analysis"
   ]
  },
  {
   "cell_type": "code",
   "execution_count": null,
   "metadata": {},
   "outputs": [],
   "source": []
  },
  {
   "cell_type": "code",
   "execution_count": null,
   "metadata": {},
   "outputs": [],
   "source": []
  },
  {
   "cell_type": "code",
   "execution_count": null,
   "metadata": {},
   "outputs": [],
   "source": []
  },
  {
   "cell_type": "markdown",
   "metadata": {},
   "source": [
    "## Modelling & Prediction"
   ]
  },
  {
   "cell_type": "markdown",
   "metadata": {},
   "source": [
    "Having explored the dataset, and obvserved some of it's biases and relationships, we are now ready to use a machine learning model to fit the data! Considering that this is a supervised learning (labelled dataset) classification task (picking between access/no access), several categorical models come to mind, such as:\n",
    "\n",
    "1. Logistic Regression\n",
    "2. Decision Trees\n",
    "3. Random Forests\n",
    "4. SVM\n",
    "5. Artificial Neural Nets (ANN)\n",
    "\n",
    "It's important to remember that as the model becomes increasingly complex, so does the risk of overfitting and abstraction from results (making our model less interpretable). Remember: Occam's Razor!"
   ]
  },
  {
   "cell_type": "markdown",
   "metadata": {},
   "source": [
    "### Logistic Regression\n",
    "\n",
    "To avoid possible overfitting, let's implement a simple Logistic Regression model. To increase the variability with our dataset and further reduce overfitting risk, we will use K-Fold Cross Validation."
   ]
  },
  {
   "cell_type": "code",
   "execution_count": 857,
   "metadata": {},
   "outputs": [
    {
     "name": "stdout",
     "output_type": "stream",
     "text": [
      "Cross Validation Score:  90.494%\n"
     ]
    }
   ],
   "source": [
    "# Import necessary ML models from scikit-learn\n",
    "from sklearn.linear_model import LogisticRegression\n",
    "from sklearn.model_selection import KFold\n",
    "from sklearn import metrics\n",
    "\n",
    "# Create data split\n",
    "X = np.array(applicants.drop(\"lowRiskApprove\", axis = 1))\n",
    "Y = np.array(applicants[\"lowRiskApprove\"])\n",
    "\n",
    "# Instantiate model\n",
    "model = LogisticRegression()\n",
    "\n",
    "# Perform K-Fold cross validation with 5 folds\n",
    "error = []\n",
    "kf = KFold(n_splits = 5)\n",
    "\n",
    "# K-Fold cross validation\n",
    "for train_index, test_index in kf.split(X):\n",
    "    \n",
    "    # Create training data\n",
    "    X_train = X[train_index]\n",
    "    Y_train = Y[train_index]\n",
    "    \n",
    "    # Create testing data\n",
    "    X_test = X[test_index]\n",
    "    Y_test = Y[test_index]\n",
    "\n",
    "    # Train the algorithm using the data and the targets\n",
    "    model.fit(X_train, Y_train)\n",
    "\n",
    "    # Errors\n",
    "    error.append(model.score(X_train, Y_train))\n",
    "    \n",
    "print \"Cross Validation Score: %s\" % \"{0: .3%}\".format(np.mean(error))"
   ]
  },
  {
   "cell_type": "markdown",
   "metadata": {},
   "source": [
    "**Analysis/Evaluation**\n",
    "\n",
    "Having implemented a simple LogisticRegression model above, we can analyze it's performance. With the complete set of features as input, the model performs with a net cross validation score (corresponding to the F1 score) of 90.494%! This is a really solid start in terms of performance, and there are a variety of steps that can be taken to further improve the model's performance. This includes:\n",
    "\n",
    "**1. Hyperparameter Tuning**\n",
    "\n",
    "With LogisticRegression, there's actually only a few key hyperparameters (regularization strength, threshold etc.) that can be tuned in order to manipulate performance. However, a small number of hyperparameters is beneficial since it greatly speedens up this stage of the optimization process. Small changes here can often lead to large benefits/returns in terms of performance.\n",
    "\n",
    "**2. Feature Design/Selection**\n",
    "\n",
    "With smarter feature selection, the input to the model can be improved greatly. This can mean a variety of things, including removing highly correlated features, manipulating/combining certain features to reduce the number of dimensions in the dataset (i.e. combining the credit related statistics into the user's credit score), using only the most significant features as input (this can be done through domain knowledge, or often a feature importance matrix that a RandomForest model can generate). Remember, models are often only as good as their input, so this step is an essential part of performance optimization.\n",
    "\n",
    "**3. Model Selection**\n",
    "\n",
    "Given more time for the challenge, I would definitely consider moving towards a RandomForest classifier. There are a variety of reasons for this, some are provided below:\n",
    "\n",
    "- Ensemble methods are generally less prone to overfitting than traditional models\n",
    "- Model is easy to implement, and interpret\n",
    "- RF Models have the additional advantage of the Feature Importance Matrix, which can be helpful for feature selection (provides an order of significance/correlation for the input features)\n",
    "\n",
    "These aspects, plus a lot more regarding design decisions, future improvements/things to be done with more time, other sources of data / features, additional improvements and interpretable components will be covered in the **secondary set of deliverables for this challenge!**"
   ]
  },
  {
   "cell_type": "markdown",
   "metadata": {},
   "source": [
    "# Conclusion\n",
    "\n",
    "I really enjoyed going through this problem! I'm excited to get feedback on my work here, learn how about how I can contribute towards the work at LendUp! Thanks so much for the opportunity!"
   ]
  }
 ],
 "metadata": {
  "kernelspec": {
   "display_name": "Python 2",
   "language": "python",
   "name": "python2"
  },
  "language_info": {
   "codemirror_mode": {
    "name": "ipython",
    "version": 2
   },
   "file_extension": ".py",
   "mimetype": "text/x-python",
   "name": "python",
   "nbconvert_exporter": "python",
   "pygments_lexer": "ipython2",
   "version": "2.7.13"
  }
 },
 "nbformat": 4,
 "nbformat_minor": 2
}
